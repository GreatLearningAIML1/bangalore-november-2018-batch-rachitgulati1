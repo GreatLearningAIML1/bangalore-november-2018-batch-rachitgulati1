{
 "cells": [
  {
   "cell_type": "markdown",
   "metadata": {},
   "source": [
    "## Lab Brief - Statistical Learning with Python"
   ]
  },
  {
   "cell_type": "markdown",
   "metadata": {},
   "source": [
    "### Part-1"
   ]
  },
  {
   "cell_type": "markdown",
   "metadata": {},
   "source": [
    "## Measures of Data"
   ]
  },
  {
   "cell_type": "markdown",
   "metadata": {},
   "source": [
    "Descriptive Statistcs are measures that summarize important features of data. Producing these descriptive statistics is a common first step to take after cleaning and preparing a dataset for further analysis. Examples are like calculating Mean or Median. In this lab, we will be looking into some of these functions and explore several new ones."
   ]
  },
  {
   "cell_type": "markdown",
   "metadata": {},
   "source": [
    "#### Measures of Central Tendency"
   ]
  },
  {
   "cell_type": "markdown",
   "metadata": {},
   "source": [
    "Whenever you measure things of the same kind, a fairly large number of such measurements will tend to cluster around the middle value. Such a value is called a measure of \"Central Tendency\". The other terms that are used synonymously are \"Measures of Location\", or \"Statistical Averages\". "
   ]
  },
  {
   "cell_type": "code",
   "execution_count": 1,
   "metadata": {},
   "outputs": [],
   "source": [
    "import numpy as np\n",
    "import pandas as pd\n",
    "import matplotlib.pyplot as plt\n",
    "\n",
    "mtcars = pd.read_csv('mtcars.csv')"
   ]
  },
  {
   "cell_type": "markdown",
   "metadata": {},
   "source": [
    "##### Using the mtcars dataset.\n",
    "\n",
    "For the below set of questions, we will be using the cars data from [Motor Trend Car Road Tests](http://stat.ethz.ch/R-manual/R-devel/library/datasets/html/mtcars.html)\n",
    "\n",
    "The data was extracted from the 1974 Motor Trend US magazine, and comprises fuel consumption and 10 aspects of automobile design and performance for 32 automobiles (1973–74 models). \n",
    "\n",
    "\n",
    "Details :\n",
    "    \n",
    "A data frame with 32 observations on 11 (numeric) variables.\n",
    "\n",
    "[, 1] \tmpg \tMiles/(US) gallon\n",
    "\n",
    "[, 2] \tcyl \tNumber of cylinders\n",
    "\n",
    "[, 3] \tdisp \tDisplacement (cu.in.)\n",
    "\n",
    "[, 4] \thp \tGross horsepower\n",
    "\n",
    "[, 5] \tdrat \tRear axle ratio\n",
    "\n",
    "[, 6] \twt \tWeight (1000 lbs)\n",
    "\n",
    "[, 7] \tqsec \t1/4 mile time\n",
    "\n",
    "[, 8] \tvs \tEngine (0 = V-shaped, 1 = straight)\n",
    "\n",
    "[, 9] \tam \tTransmission (0 = automatic, 1 = manual)\n",
    "\n",
    "[,10] \tgear \tNumber of forward gears\n",
    "\n",
    "[,11] \tcarb \tNumber of carburetors "
   ]
  },
  {
   "cell_type": "markdown",
   "metadata": {},
   "source": [
    "#### Explore the data - Setting the index"
   ]
  },
  {
   "cell_type": "code",
   "execution_count": 2,
   "metadata": {},
   "outputs": [
    {
     "data": {
      "text/html": [
       "<div>\n",
       "<style scoped>\n",
       "    .dataframe tbody tr th:only-of-type {\n",
       "        vertical-align: middle;\n",
       "    }\n",
       "\n",
       "    .dataframe tbody tr th {\n",
       "        vertical-align: top;\n",
       "    }\n",
       "\n",
       "    .dataframe thead th {\n",
       "        text-align: right;\n",
       "    }\n",
       "</style>\n",
       "<table border=\"1\" class=\"dataframe\">\n",
       "  <thead>\n",
       "    <tr style=\"text-align: right;\">\n",
       "      <th></th>\n",
       "      <th>name</th>\n",
       "      <th>mpg</th>\n",
       "      <th>cyl</th>\n",
       "      <th>disp</th>\n",
       "      <th>hp</th>\n",
       "      <th>drat</th>\n",
       "      <th>wt</th>\n",
       "      <th>qsec</th>\n",
       "      <th>vs</th>\n",
       "      <th>am</th>\n",
       "      <th>gear</th>\n",
       "      <th>carb</th>\n",
       "    </tr>\n",
       "    <tr>\n",
       "      <th>name</th>\n",
       "      <th></th>\n",
       "      <th></th>\n",
       "      <th></th>\n",
       "      <th></th>\n",
       "      <th></th>\n",
       "      <th></th>\n",
       "      <th></th>\n",
       "      <th></th>\n",
       "      <th></th>\n",
       "      <th></th>\n",
       "      <th></th>\n",
       "      <th></th>\n",
       "    </tr>\n",
       "  </thead>\n",
       "  <tbody>\n",
       "    <tr>\n",
       "      <th>Mazda RX4</th>\n",
       "      <td>Mazda RX4</td>\n",
       "      <td>21.0</td>\n",
       "      <td>6</td>\n",
       "      <td>160.0</td>\n",
       "      <td>110</td>\n",
       "      <td>3.90</td>\n",
       "      <td>2.620</td>\n",
       "      <td>16.46</td>\n",
       "      <td>0</td>\n",
       "      <td>1</td>\n",
       "      <td>4</td>\n",
       "      <td>4</td>\n",
       "    </tr>\n",
       "    <tr>\n",
       "      <th>Mazda RX4 Wag</th>\n",
       "      <td>Mazda RX4 Wag</td>\n",
       "      <td>21.0</td>\n",
       "      <td>6</td>\n",
       "      <td>160.0</td>\n",
       "      <td>110</td>\n",
       "      <td>3.90</td>\n",
       "      <td>2.875</td>\n",
       "      <td>17.02</td>\n",
       "      <td>0</td>\n",
       "      <td>1</td>\n",
       "      <td>4</td>\n",
       "      <td>4</td>\n",
       "    </tr>\n",
       "    <tr>\n",
       "      <th>Datsun 710</th>\n",
       "      <td>Datsun 710</td>\n",
       "      <td>22.8</td>\n",
       "      <td>4</td>\n",
       "      <td>108.0</td>\n",
       "      <td>93</td>\n",
       "      <td>3.85</td>\n",
       "      <td>2.320</td>\n",
       "      <td>18.61</td>\n",
       "      <td>1</td>\n",
       "      <td>1</td>\n",
       "      <td>4</td>\n",
       "      <td>1</td>\n",
       "    </tr>\n",
       "    <tr>\n",
       "      <th>Hornet 4 Drive</th>\n",
       "      <td>Hornet 4 Drive</td>\n",
       "      <td>21.4</td>\n",
       "      <td>6</td>\n",
       "      <td>258.0</td>\n",
       "      <td>110</td>\n",
       "      <td>3.08</td>\n",
       "      <td>3.215</td>\n",
       "      <td>19.44</td>\n",
       "      <td>1</td>\n",
       "      <td>0</td>\n",
       "      <td>3</td>\n",
       "      <td>1</td>\n",
       "    </tr>\n",
       "    <tr>\n",
       "      <th>Hornet Sportabout</th>\n",
       "      <td>Hornet Sportabout</td>\n",
       "      <td>18.7</td>\n",
       "      <td>8</td>\n",
       "      <td>360.0</td>\n",
       "      <td>175</td>\n",
       "      <td>3.15</td>\n",
       "      <td>3.440</td>\n",
       "      <td>17.02</td>\n",
       "      <td>0</td>\n",
       "      <td>0</td>\n",
       "      <td>3</td>\n",
       "      <td>2</td>\n",
       "    </tr>\n",
       "  </tbody>\n",
       "</table>\n",
       "</div>"
      ],
      "text/plain": [
       "                                name   mpg  cyl   disp   hp  drat     wt  \\\n",
       "name                                                                       \n",
       "Mazda RX4                  Mazda RX4  21.0    6  160.0  110  3.90  2.620   \n",
       "Mazda RX4 Wag          Mazda RX4 Wag  21.0    6  160.0  110  3.90  2.875   \n",
       "Datsun 710                Datsun 710  22.8    4  108.0   93  3.85  2.320   \n",
       "Hornet 4 Drive        Hornet 4 Drive  21.4    6  258.0  110  3.08  3.215   \n",
       "Hornet Sportabout  Hornet Sportabout  18.7    8  360.0  175  3.15  3.440   \n",
       "\n",
       "                    qsec  vs  am  gear  carb  \n",
       "name                                          \n",
       "Mazda RX4          16.46   0   1     4     4  \n",
       "Mazda RX4 Wag      17.02   0   1     4     4  \n",
       "Datsun 710         18.61   1   1     4     1  \n",
       "Hornet 4 Drive     19.44   1   0     3     1  \n",
       "Hornet Sportabout  17.02   0   0     3     2  "
      ]
     },
     "execution_count": 2,
     "metadata": {},
     "output_type": "execute_result"
    }
   ],
   "source": [
    "mtcars.index = mtcars[\"name\"]\n",
    "mtcars.head()\n",
    "# mtcars.mean() #By default this will give the mean of each column"
   ]
  },
  {
   "cell_type": "markdown",
   "metadata": {},
   "source": [
    "### Question 1\n",
    "\n",
    "What is the first car name given in mtcars?\n",
    "\n",
    "** Make use of index which has been set previously **\n",
    "\n",
    "**Hint**: Use .loc function\n"
   ]
  },
  {
   "cell_type": "code",
   "execution_count": 7,
   "metadata": {
    "scrolled": true
   },
   "outputs": [
    {
     "data": {
      "text/plain": [
       "'Mazda RX4'"
      ]
     },
     "execution_count": 7,
     "metadata": {},
     "output_type": "execute_result"
    }
   ],
   "source": [
    "mtcars.index[0]"
   ]
  },
  {
   "cell_type": "markdown",
   "metadata": {},
   "source": [
    "### Question 2\n",
    "What is the highest difference between the hp and cyl?\n",
    "\n",
    "**Hint:** You can use **max()** function to find the difference"
   ]
  },
  {
   "cell_type": "code",
   "execution_count": 10,
   "metadata": {},
   "outputs": [
    {
     "data": {
      "text/plain": [
       "327"
      ]
     },
     "execution_count": 10,
     "metadata": {},
     "output_type": "execute_result"
    }
   ],
   "source": [
    "np.max(mtcars[\"hp\"])-np.max(mtcars[\"cyl\"])"
   ]
  },
  {
   "cell_type": "markdown",
   "metadata": {},
   "source": [
    "### Question 3\n",
    "What are the cars having highest weight(wt) and lowest weight(wt)?\n",
    "\n",
    "**Hint:** Use idxmax() and idxmin() to locate the row\n",
    "\n",
    "Use **.iloc** function to print the  row\n",
    "\n",
    "**Note:** Both idxmax and idxmin belong to pandas"
   ]
  },
  {
   "cell_type": "code",
   "execution_count": 12,
   "metadata": {},
   "outputs": [
    {
     "data": {
      "text/plain": [
       "array([1.513, 1.615, 1.835, 1.935, 2.14 , 2.2  , 2.32 , 2.465, 2.62 ,\n",
       "       2.77 , 2.78 , 2.875, 3.15 , 3.17 , 3.19 , 3.215, 3.435, 3.44 ,\n",
       "       3.44 , 3.44 , 3.46 , 3.52 , 3.57 , 3.57 , 3.73 , 3.78 , 3.84 ,\n",
       "       3.845, 4.07 , 5.25 , 5.345, 5.424])"
      ]
     },
     "execution_count": 12,
     "metadata": {},
     "output_type": "execute_result"
    }
   ],
   "source": [
    "np.sort(mtcars[\"wt\"])"
   ]
  },
  {
   "cell_type": "code",
   "execution_count": 21,
   "metadata": {},
   "outputs": [
    {
     "data": {
      "text/html": [
       "<div>\n",
       "<style scoped>\n",
       "    .dataframe tbody tr th:only-of-type {\n",
       "        vertical-align: middle;\n",
       "    }\n",
       "\n",
       "    .dataframe tbody tr th {\n",
       "        vertical-align: top;\n",
       "    }\n",
       "\n",
       "    .dataframe thead th {\n",
       "        text-align: right;\n",
       "    }\n",
       "</style>\n",
       "<table border=\"1\" class=\"dataframe\">\n",
       "  <thead>\n",
       "    <tr style=\"text-align: right;\">\n",
       "      <th></th>\n",
       "      <th>name</th>\n",
       "      <th>mpg</th>\n",
       "      <th>cyl</th>\n",
       "      <th>disp</th>\n",
       "      <th>hp</th>\n",
       "      <th>drat</th>\n",
       "      <th>wt</th>\n",
       "      <th>qsec</th>\n",
       "      <th>vs</th>\n",
       "      <th>am</th>\n",
       "      <th>gear</th>\n",
       "      <th>carb</th>\n",
       "    </tr>\n",
       "    <tr>\n",
       "      <th>name</th>\n",
       "      <th></th>\n",
       "      <th></th>\n",
       "      <th></th>\n",
       "      <th></th>\n",
       "      <th></th>\n",
       "      <th></th>\n",
       "      <th></th>\n",
       "      <th></th>\n",
       "      <th></th>\n",
       "      <th></th>\n",
       "      <th></th>\n",
       "      <th></th>\n",
       "    </tr>\n",
       "  </thead>\n",
       "  <tbody>\n",
       "    <tr>\n",
       "      <th>Lincoln Continental</th>\n",
       "      <td>Lincoln Continental</td>\n",
       "      <td>10.4</td>\n",
       "      <td>8</td>\n",
       "      <td>460.0</td>\n",
       "      <td>215</td>\n",
       "      <td>3.00</td>\n",
       "      <td>5.424</td>\n",
       "      <td>17.82</td>\n",
       "      <td>0</td>\n",
       "      <td>0</td>\n",
       "      <td>3</td>\n",
       "      <td>4</td>\n",
       "    </tr>\n",
       "    <tr>\n",
       "      <th>Chrysler Imperial</th>\n",
       "      <td>Chrysler Imperial</td>\n",
       "      <td>14.7</td>\n",
       "      <td>8</td>\n",
       "      <td>440.0</td>\n",
       "      <td>230</td>\n",
       "      <td>3.23</td>\n",
       "      <td>5.345</td>\n",
       "      <td>17.42</td>\n",
       "      <td>0</td>\n",
       "      <td>0</td>\n",
       "      <td>3</td>\n",
       "      <td>4</td>\n",
       "    </tr>\n",
       "    <tr>\n",
       "      <th>Cadillac Fleetwood</th>\n",
       "      <td>Cadillac Fleetwood</td>\n",
       "      <td>10.4</td>\n",
       "      <td>8</td>\n",
       "      <td>472.0</td>\n",
       "      <td>205</td>\n",
       "      <td>2.93</td>\n",
       "      <td>5.250</td>\n",
       "      <td>17.98</td>\n",
       "      <td>0</td>\n",
       "      <td>0</td>\n",
       "      <td>3</td>\n",
       "      <td>4</td>\n",
       "    </tr>\n",
       "    <tr>\n",
       "      <th>Merc 450SE</th>\n",
       "      <td>Merc 450SE</td>\n",
       "      <td>16.4</td>\n",
       "      <td>8</td>\n",
       "      <td>275.8</td>\n",
       "      <td>180</td>\n",
       "      <td>3.07</td>\n",
       "      <td>4.070</td>\n",
       "      <td>17.40</td>\n",
       "      <td>0</td>\n",
       "      <td>0</td>\n",
       "      <td>3</td>\n",
       "      <td>3</td>\n",
       "    </tr>\n",
       "    <tr>\n",
       "      <th>Pontiac Firebird</th>\n",
       "      <td>Pontiac Firebird</td>\n",
       "      <td>19.2</td>\n",
       "      <td>8</td>\n",
       "      <td>400.0</td>\n",
       "      <td>175</td>\n",
       "      <td>3.08</td>\n",
       "      <td>3.845</td>\n",
       "      <td>17.05</td>\n",
       "      <td>0</td>\n",
       "      <td>0</td>\n",
       "      <td>3</td>\n",
       "      <td>2</td>\n",
       "    </tr>\n",
       "  </tbody>\n",
       "</table>\n",
       "</div>"
      ],
      "text/plain": [
       "                                    name   mpg  cyl   disp   hp  drat     wt  \\\n",
       "name                                                                           \n",
       "Lincoln Continental  Lincoln Continental  10.4    8  460.0  215  3.00  5.424   \n",
       "Chrysler Imperial      Chrysler Imperial  14.7    8  440.0  230  3.23  5.345   \n",
       "Cadillac Fleetwood    Cadillac Fleetwood  10.4    8  472.0  205  2.93  5.250   \n",
       "Merc 450SE                    Merc 450SE  16.4    8  275.8  180  3.07  4.070   \n",
       "Pontiac Firebird        Pontiac Firebird  19.2    8  400.0  175  3.08  3.845   \n",
       "\n",
       "                      qsec  vs  am  gear  carb  \n",
       "name                                            \n",
       "Lincoln Continental  17.82   0   0     3     4  \n",
       "Chrysler Imperial    17.42   0   0     3     4  \n",
       "Cadillac Fleetwood   17.98   0   0     3     4  \n",
       "Merc 450SE           17.40   0   0     3     3  \n",
       "Pontiac Firebird     17.05   0   0     3     2  "
      ]
     },
     "execution_count": 21,
     "metadata": {},
     "output_type": "execute_result"
    }
   ],
   "source": [
    "mtcars.sort_values(by=[\"wt\"],ascending=False).head(5)"
   ]
  },
  {
   "cell_type": "markdown",
   "metadata": {},
   "source": [
    "### Question 4\n",
    "\n",
    "Find the mean of each row and each column in the given dataset.\n",
    "\n",
    "**Hint:** Use .mean() function. To operate on rows use **axis=0**, on columns use **axis=1**"
   ]
  },
  {
   "cell_type": "code",
   "execution_count": 23,
   "metadata": {},
   "outputs": [
    {
     "data": {
      "text/plain": [
       "name\n",
       "Mazda RX4              29.907273\n",
       "Mazda RX4 Wag          29.981364\n",
       "Datsun 710             23.598182\n",
       "Hornet 4 Drive         38.739545\n",
       "Hornet Sportabout      53.664545\n",
       "Valiant                35.049091\n",
       "Duster 360             59.720000\n",
       "Merc 240D              24.634545\n",
       "Merc 230               27.233636\n",
       "Merc 280               31.860000\n",
       "Merc 280C              31.787273\n",
       "Merc 450SE             46.430909\n",
       "Merc 450SL             46.500000\n",
       "Merc 450SLC            46.350000\n",
       "Cadillac Fleetwood     66.232727\n",
       "Lincoln Continental    66.058545\n",
       "Chrysler Imperial      65.972273\n",
       "Fiat 128               19.440909\n",
       "Honda Civic            17.742273\n",
       "Toyota Corolla         18.814091\n",
       "Toyota Corona          24.888636\n",
       "Dodge Challenger       47.240909\n",
       "AMC Javelin            46.007727\n",
       "Camaro Z28             58.752727\n",
       "Pontiac Firebird       57.379545\n",
       "Fiat X1-9              18.928636\n",
       "Porsche 914-2          24.779091\n",
       "Lotus Europa           24.880273\n",
       "Ford Pantera L         60.971818\n",
       "Ferrari Dino           34.508182\n",
       "Maserati Bora          63.155455\n",
       "Volvo 142E             26.262727\n",
       "dtype: float64"
      ]
     },
     "execution_count": 23,
     "metadata": {},
     "output_type": "execute_result"
    }
   ],
   "source": [
    "mtcars.mean(axis=1)"
   ]
  },
  {
   "cell_type": "code",
   "execution_count": 24,
   "metadata": {},
   "outputs": [
    {
     "data": {
      "text/plain": [
       "mpg      20.090625\n",
       "cyl       6.187500\n",
       "disp    230.721875\n",
       "hp      146.687500\n",
       "drat      3.596563\n",
       "wt        3.217250\n",
       "qsec     17.848750\n",
       "vs        0.437500\n",
       "am        0.406250\n",
       "gear      3.687500\n",
       "carb      2.812500\n",
       "dtype: float64"
      ]
     },
     "execution_count": 24,
     "metadata": {},
     "output_type": "execute_result"
    }
   ],
   "source": [
    "mtcars.mean(axis=0)"
   ]
  },
  {
   "cell_type": "markdown",
   "metadata": {},
   "source": [
    "### Question 5\n",
    "\n",
    "Plot mpg values of mtcards dataframe using matplotlib.\n",
    "\n",
    "**Hint: Use plt.plot function**"
   ]
  },
  {
   "cell_type": "code",
   "execution_count": 34,
   "metadata": {},
   "outputs": [
    {
     "data": {
      "text/plain": [
       "[<matplotlib.lines.Line2D at 0x20300c39780>]"
      ]
     },
     "execution_count": 34,
     "metadata": {},
     "output_type": "execute_result"
    },
    {
     "data": {
      "image/png": "[encoded data removed]",
      "text/plain": [
       "<Figure size 432x288 with 1 Axes>"
      ]
     },
     "metadata": {
      "needs_background": "light"
     },
     "output_type": "display_data"
    }
   ],
   "source": [
    "mtcars.head()\n",
    "import matplotlib.pyplot as plt\n",
    "plt.plot(mtcars[\"mpg\"])"
   ]
  },
  {
   "cell_type": "markdown",
   "metadata": {},
   "source": [
    "## Part 2"
   ]
  },
  {
   "cell_type": "markdown",
   "metadata": {},
   "source": [
    "## Measures of Dispersion"
   ]
  },
  {
   "cell_type": "markdown",
   "metadata": {},
   "source": [
    "Measures of Dispersion (Spread) are statistics that describe how data varies. Measure of dispersion gives us the sense of how much the data tends to diverge from the central tendency."
   ]
  },
  {
   "cell_type": "markdown",
   "metadata": {},
   "source": [
    "### Question 6\n",
    "\n",
    "What the range of `mpg` in the given dataset?\n",
    "\n",
    "**Hint:** Range = max-min"
   ]
  },
  {
   "cell_type": "code",
   "execution_count": 36,
   "metadata": {},
   "outputs": [
    {
     "data": {
      "text/plain": [
       "23.5"
      ]
     },
     "execution_count": 36,
     "metadata": {},
     "output_type": "execute_result"
    }
   ],
   "source": [
    "np.max(mtcars[\"mpg\"])-np.min(mtcars[\"mpg\"])"
   ]
  },
  {
   "cell_type": "markdown",
   "metadata": {},
   "source": [
    "### Question 7\n",
    "\n",
    "Calculate the 25th quantile (lower quantile)for `mpg` in the given dataset.\n",
    "\n",
    "**Hint:** Use **.quantile()**"
   ]
  },
  {
   "cell_type": "code",
   "execution_count": 38,
   "metadata": {},
   "outputs": [
    {
     "data": {
      "text/plain": [
       "15.425"
      ]
     },
     "execution_count": 38,
     "metadata": {},
     "output_type": "execute_result"
    }
   ],
   "source": [
    "mtcars[\"mpg\"].quantile(q=0.25)"
   ]
  },
  {
   "cell_type": "markdown",
   "metadata": {},
   "source": [
    "### Question 8\n",
    "\n",
    "Calculate the Inter-Quartile Range(IQR) for `mpg` in the given dataset."
   ]
  },
  {
   "cell_type": "markdown",
   "metadata": {},
   "source": [
    "Interquartile range (IQR) is another common measure of spread. IQR is the distance between the 3rd quartile and the 1st quartile.\n",
    "\n",
    "**Hint:** IQR = Q3 - Q1"
   ]
  },
  {
   "cell_type": "code",
   "execution_count": 39,
   "metadata": {},
   "outputs": [
    {
     "data": {
      "text/plain": [
       "7.375"
      ]
     },
     "execution_count": 39,
     "metadata": {},
     "output_type": "execute_result"
    }
   ],
   "source": [
    "mtcars[\"mpg\"].quantile(q=.75)-mtcars[\"mpg\"].quantile(q=0.25)"
   ]
  },
  {
   "cell_type": "markdown",
   "metadata": {},
   "source": [
    "### Question 9\n",
    "\n",
    "Calculate the Variance, Standard Deviation and Median Absolute Deviation for `mpg`."
   ]
  },
  {
   "cell_type": "markdown",
   "metadata": {},
   "source": [
    "Variance and Standard Deviation are two other common measure of dispersion.\n",
    "\n",
    "**Hint:** Use .var() and .std()"
   ]
  },
  {
   "cell_type": "markdown",
   "metadata": {},
   "source": [
    "**Hint:** Median Absolute Deviation - alternative measure of spread based on the median. It is the median of the absolute value of the deviations from the median. "
   ]
  },
  {
   "cell_type": "code",
   "execution_count": 40,
   "metadata": {},
   "outputs": [
    {
     "data": {
      "text/plain": [
       "36.32410282258065"
      ]
     },
     "execution_count": 40,
     "metadata": {},
     "output_type": "execute_result"
    }
   ],
   "source": [
    "mtcars[\"mpg\"].var()"
   ]
  },
  {
   "cell_type": "code",
   "execution_count": 41,
   "metadata": {},
   "outputs": [
    {
     "data": {
      "text/plain": [
       "6.026948052089105"
      ]
     },
     "execution_count": 41,
     "metadata": {},
     "output_type": "execute_result"
    }
   ],
   "source": [
    "mtcars[\"mpg\"].std()"
   ]
  },
  {
   "cell_type": "code",
   "execution_count": 70,
   "metadata": {},
   "outputs": [
    {
     "data": {
      "text/plain": [
       "4.714453125"
      ]
     },
     "execution_count": 70,
     "metadata": {},
     "output_type": "execute_result"
    }
   ],
   "source": [
    "mtcars[\"mpg\"].mad()"
   ]
  },
  {
   "cell_type": "markdown",
   "metadata": {},
   "source": [
    "## Part 3"
   ]
  },
  {
   "cell_type": "markdown",
   "metadata": {},
   "source": [
    "## Probability Distributions"
   ]
  },
  {
   "cell_type": "markdown",
   "metadata": {},
   "source": [
    "The probability distribution describes how a random variable is distributed. It tells us which values a variable is most likely to take on and which values are less likely to take on. "
   ]
  },
  {
   "cell_type": "markdown",
   "metadata": {},
   "source": [
    "Each value in the given range is equally likely to occur. "
   ]
  },
  {
   "cell_type": "code",
   "execution_count": 138,
   "metadata": {},
   "outputs": [],
   "source": [
    "import scipy.stats as stats # Many functions for probability distributions in python are in scipy.stats"
   ]
  },
  {
   "cell_type": "markdown",
   "metadata": {},
   "source": [
    "### Question 10\n",
    "\n",
    "Generate 1000 datapoints with standard normal distribution with mean 0 and standard deviation 1. "
   ]
  },
  {
   "cell_type": "markdown",
   "metadata": {},
   "source": [
    "#### Normal Distribution"
   ]
  },
  {
   "cell_type": "markdown",
   "metadata": {},
   "source": [
    "The normal or Gaussian Distribution is a continuos probability distribution given by a symmetric bell shaped curve. It is defined its center(mean) and spread(std)."
   ]
  },
  {
   "cell_type": "markdown",
   "metadata": {},
   "source": [
    "The bulk of the observations generated from a normal distribution lie near the mean which lies at the center. About 68% of the data lies within 1 std, 95% lies within 2 stds and 99.7% lies within 3 stds.\n",
    "\n",
    "**Hint:** You can use **np.random.normal()** function to generate normal distribution"
   ]
  },
  {
   "cell_type": "code",
   "execution_count": 137,
   "metadata": {},
   "outputs": [
    {
     "data": {
      "text/plain": [
       "array([-3.42345442e-01, -5.52059308e-01,  1.48530483e-01, -5.44151408e-02,\n",
       "       -7.22065053e-01, -3.60371679e-01, -2.71273221e-01,  8.89296676e-01,\n",
       "       -1.24755712e+00, -1.23676858e+00, -1.38172294e+00,  8.02572456e-01,\n",
       "       -9.86467647e-01, -5.16335476e-01,  2.33692370e-01, -8.98328765e-01,\n",
       "        1.93361893e-01,  2.33972624e+00, -6.74007001e-01,  4.36693153e-01,\n",
       "       -7.48732779e-01, -2.41069769e-01, -4.96135673e-01, -8.96728179e-01,\n",
       "        2.66187435e-01,  4.34441704e-01, -1.06109069e+00,  5.41294693e-01,\n",
       "        1.16234593e+00, -3.56673472e-01,  1.27298085e+00,  6.80240310e-01,\n",
       "       -1.49666551e+00, -1.81498287e+00, -5.42253000e-01,  7.28596920e-01,\n",
       "       -1.21444368e+00,  1.05647855e+00, -2.77551177e-02, -4.28429796e-01,\n",
       "       -2.66799508e-01, -7.04800206e-01,  9.08824355e-01,  2.04531162e+00,\n",
       "       -2.97238423e-01, -6.34410143e-01, -2.03503475e+00, -1.32237285e+00,\n",
       "        7.74513651e-01,  5.30740159e-01,  1.48184126e+00,  3.49159165e-01,\n",
       "        2.26131113e+00,  1.10354431e+00, -2.03025870e+00,  4.79703835e-01,\n",
       "       -1.34637110e+00,  5.48287229e-01,  3.59869476e-02, -4.41624831e-01,\n",
       "        5.38901510e-02,  7.60707060e-02,  1.22873038e+00,  9.19314664e-01,\n",
       "       -9.57830450e-01,  4.37014818e-01, -4.12172796e-01, -1.06190084e+00,\n",
       "       -3.49699429e-01,  3.12096097e-01,  8.33964450e-01, -9.66123708e-01,\n",
       "       -3.49370505e-01,  4.02770832e-02,  1.09126795e-01, -9.15182845e-01,\n",
       "       -1.27079907e-01,  3.55358230e-01,  7.31758394e-01,  8.42118018e-01,\n",
       "        9.38566993e-01,  5.79939882e-01,  1.10586392e+00,  3.31188211e-01,\n",
       "       -2.84148000e-01,  1.01929103e+00,  1.00756981e+00, -1.36972584e+00,\n",
       "       -7.77902015e-01, -2.25699810e+00, -5.65143932e-01, -1.56548023e+00,\n",
       "        1.36691807e-01,  1.44855360e+00,  1.61206230e+00,  1.11864850e+00,\n",
       "        2.26520846e+00,  7.89442236e-01,  6.12741934e-01, -3.26031607e-01,\n",
       "       -1.95683219e+00, -6.62430841e-01,  2.92478110e-01,  4.78938996e-02,\n",
       "        1.40837879e+00,  4.66489135e-01,  6.74850025e-01, -4.43086893e-01,\n",
       "       -6.15471024e-01,  8.48775857e-01,  1.06606949e-01,  1.45459006e+00,\n",
       "        9.80583309e-01,  8.48621250e-01,  1.79549803e+00, -9.82226158e-01,\n",
       "        4.07481865e-01, -6.80598642e-01,  1.14421956e+00, -3.07429255e-01,\n",
       "       -3.93305592e-01, -1.86229175e+00,  5.71313448e-01,  7.28601843e-01,\n",
       "       -1.85662646e+00, -1.54598592e+00, -7.90184525e-01,  1.20648539e+00,\n",
       "       -9.64949813e-01,  3.68361980e-01, -1.49607081e+00, -6.64774826e-01,\n",
       "        2.85681705e+00,  1.52465146e+00, -1.50522722e+00,  6.61059835e-01,\n",
       "       -2.00049842e+00, -1.31195259e+00, -2.51180801e+00, -2.39665794e-01,\n",
       "       -1.91464541e+00, -3.42450119e-02,  8.18749135e-01, -1.84386366e+00,\n",
       "        5.95629841e-01, -1.58916840e+00,  1.71595652e+00,  1.47302257e+00,\n",
       "        6.88938281e-01,  1.37934425e+00, -5.73700658e-01,  3.87182505e-01,\n",
       "        1.81938244e-01, -1.55181464e+00, -7.66127144e-01,  5.35913450e-01,\n",
       "       -4.64363139e-01, -1.59671486e+00,  5.11084185e-01,  3.32346286e-01,\n",
       "        9.50061030e-01,  3.14430941e-01, -2.95010794e-01,  5.02607977e-01,\n",
       "       -2.53308666e+00,  2.81727941e-01,  1.37883880e-01, -4.63486222e-01,\n",
       "       -2.36271033e-01,  9.75972687e-01, -3.28252728e-01,  4.35289901e-01,\n",
       "        7.59973988e-01, -9.20909196e-01,  4.17214239e-01,  4.66856169e-01,\n",
       "       -1.03378311e+00, -1.25361850e+00, -3.55003548e-01,  1.75678093e-01,\n",
       "        1.15280253e-01,  1.14776565e+00,  4.55985931e-01, -1.01302320e+00,\n",
       "       -4.95521624e-01, -8.92164592e-01,  9.10014975e-01, -2.16475514e-01,\n",
       "       -1.04212790e+00, -1.24350629e+00, -1.41676292e-01, -1.02935928e+00,\n",
       "       -3.53462671e-01, -1.18623506e+00,  4.38757375e-01,  7.63758334e-01,\n",
       "        2.42631106e-01, -1.78577305e-01,  1.08198409e-01,  2.82192420e-01,\n",
       "        1.03770032e+00,  2.59159345e-01, -6.65778773e-02,  2.00136672e+00,\n",
       "        2.57399048e-01, -1.93123928e-01,  1.53793061e-03,  7.22924947e-01,\n",
       "       -3.38121296e-01,  3.55404637e-01,  7.01506083e-02,  1.46376676e+00,\n",
       "        1.47465068e+00,  3.63287003e-01, -1.18746196e-01, -7.43127373e-01,\n",
       "        9.21355998e-01,  4.18831155e-01, -1.29766500e+00, -1.10603984e+00,\n",
       "       -1.94626491e-01,  3.52656261e-01,  9.99576201e-01,  6.03344262e-01,\n",
       "       -1.24126540e+00,  8.25349595e-01, -1.02186724e-01,  6.83893914e-01,\n",
       "        6.19433427e-01, -7.47645921e-01,  4.30116451e-01, -6.98353252e-01,\n",
       "        1.24581446e+00,  1.13340201e+00, -2.86014899e-01, -1.28162912e+00,\n",
       "        1.10371758e+00, -1.10643603e+00, -1.12980113e-01, -1.66422491e-01,\n",
       "       -3.02593944e-01, -3.74012808e-01, -1.31760593e-02,  6.99918521e-01,\n",
       "       -5.31111829e-03,  2.76004177e-01, -1.69936052e+00,  1.85342851e+00,\n",
       "        6.91859223e-01, -3.87928394e-01,  1.07421808e+00,  9.39346545e-01,\n",
       "        9.00440419e-02, -6.14733283e-01,  1.19313110e+00, -9.76532663e-02,\n",
       "       -1.25135985e+00, -1.58566602e+00, -1.52346561e+00, -1.51885676e+00,\n",
       "       -1.82301065e-01, -6.25213967e-01, -1.54660870e-02,  4.16599213e-01,\n",
       "       -4.44400724e-02, -5.21317951e-01, -5.87733992e-01, -1.10777461e-01,\n",
       "        1.00236701e+00, -1.14860914e+00, -1.92212000e-01, -3.87924980e-01,\n",
       "       -4.76377146e-01,  4.47942785e-01,  5.90840078e-01,  4.88922481e-01,\n",
       "       -1.32080452e+00, -1.96199448e+00,  1.06848025e+00, -3.64642824e-01,\n",
       "       -2.21723141e-01, -1.08260888e+00,  3.77224057e-01,  1.72729202e-01,\n",
       "       -1.89962092e+00,  1.86085383e+00, -2.62243255e-02, -3.17767192e-01,\n",
       "       -1.63298387e+00, -4.50052026e-01, -9.26728347e-01,  2.64150495e-02,\n",
       "        2.47285226e-01, -1.42550270e-01, -1.29186601e-01,  1.78059433e+00,\n",
       "       -3.02594124e-01,  1.20236643e+00,  1.09338244e+00,  5.51479886e-01,\n",
       "       -6.58746371e-01, -8.35609605e-01,  2.24558121e-01, -5.89204109e-01,\n",
       "       -1.17125357e+00,  4.70408303e-01, -1.27195431e-01, -1.13088010e+00,\n",
       "       -1.29289839e+00,  1.57724003e+00, -3.41656862e-01,  8.87635696e-01,\n",
       "       -1.47595033e+00, -8.66238916e-01, -1.77606951e-01,  7.22591626e-01,\n",
       "       -2.73962213e-01,  3.54993640e-01,  1.06447803e-01, -4.45848023e-01,\n",
       "        1.53720951e-01,  1.54767357e-01,  4.04760359e-01,  2.01601598e+00,\n",
       "       -3.39232969e-01, -1.78842530e+00,  1.97342954e-01,  1.88188942e+00,\n",
       "       -6.21459358e-01,  2.13610541e+00,  1.70747234e-01,  1.27672026e-01,\n",
       "       -5.93891335e-01, -2.59050420e-01, -3.85136460e-01,  2.54628912e-01,\n",
       "        4.49136709e-01, -1.00295902e+00,  4.15997668e-01,  7.92592523e-01,\n",
       "        1.23386316e+00,  1.03816783e+00, -5.88311674e-01, -7.04571732e-01,\n",
       "       -6.91597675e-01,  1.33632684e+00, -1.40298151e-02, -1.46156574e+00,\n",
       "       -2.29753627e-01,  3.36867979e-01, -1.37939504e+00, -1.01729662e+00,\n",
       "        9.52870400e-01,  7.80758014e-01,  1.91182213e+00,  1.71677116e+00,\n",
       "       -1.24595486e+00, -1.19701664e+00,  9.93809434e-01,  5.83753825e-01,\n",
       "       -9.74520355e-02,  7.17561738e-01,  8.35738091e-01, -1.82742623e-02,\n",
       "       -5.68186321e-01,  6.31302156e-01, -5.33230142e-01, -1.65259625e+00,\n",
       "       -8.65414412e-02,  7.10029075e-01, -6.17816271e-01, -1.52552892e-01,\n",
       "        1.10324530e+00, -5.80546894e-01, -1.09218486e+00, -4.44999646e-01,\n",
       "        1.41975759e+00,  2.38581110e+00, -2.72184775e-01,  5.73474773e-01,\n",
       "        1.82333516e+00, -6.37051713e-01, -6.67890664e-02,  3.29720301e-01,\n",
       "       -1.06505734e+00,  5.33712156e-01,  2.14668169e-01, -1.20011537e+00,\n",
       "        8.09984069e-03,  1.67629943e+00,  4.68574162e-01, -1.16681934e+00,\n",
       "       -1.31068521e+00,  1.65986578e-01,  7.93801715e-01,  4.52975042e-01,\n",
       "        1.37618599e-01,  6.57382622e-01, -1.56241429e+00,  4.78644081e-01,\n",
       "       -4.36469051e-01, -2.21670552e-01, -1.68544971e-01,  5.40367345e-01,\n",
       "       -1.59367765e-02, -1.40442164e+00,  1.22699366e+00,  2.17716270e+00,\n",
       "       -1.12783148e+00, -9.77445668e-01,  5.62423522e-01,  2.10258186e+00,\n",
       "       -2.15607566e+00,  1.13419572e-01,  6.21606406e-01,  1.28686157e-01,\n",
       "        6.60611001e-01, -7.10433781e-01,  7.76459450e-01,  9.20401384e-01,\n",
       "        8.88399982e-02, -9.47775723e-02, -9.05298926e-02,  1.14355543e+00,\n",
       "       -3.81244732e-01,  5.82824905e-01, -5.00321418e-01,  8.78750276e-01,\n",
       "        1.62651822e+00, -2.00027882e+00, -1.03068203e+00,  3.82384219e-01,\n",
       "        2.69935856e-01,  3.24058715e-01, -3.28217107e-01, -1.15153001e+00,\n",
       "       -1.23253198e+00, -9.85291925e-01,  3.95251041e-01, -1.79771213e-01,\n",
       "       -8.75053877e-02,  7.20925559e-01, -5.17657033e-01, -2.26893571e+00,\n",
       "       -7.04842541e-01,  1.28592432e+00, -1.17975743e+00,  1.35727440e+00,\n",
       "       -1.40270397e+00,  3.52874313e-01, -1.06048323e+00,  1.64246451e+00,\n",
       "        1.39035859e+00,  2.12170459e+00, -1.54504007e+00,  1.18803601e+00,\n",
       "       -1.09195576e-01,  1.56342086e+00, -1.37758945e+00,  5.35477790e-01,\n",
       "        3.64504945e-01, -3.43143602e-01, -3.80287711e-01,  5.07862038e-01,\n",
       "       -1.32458619e+00,  1.51971379e+00, -7.59197190e-01,  1.43733440e+00,\n",
       "        2.41761637e+00, -3.26785347e-01,  5.48748065e-01, -4.97818984e-01,\n",
       "        1.04008860e+00, -3.96522415e-01,  6.72428066e-01,  1.53791756e-01,\n",
       "       -2.22639965e-02,  1.47572443e+00, -7.49793713e-01,  4.96257506e-02,\n",
       "       -8.20528433e-01, -7.20796195e-01, -1.03679504e-01, -8.14088373e-01,\n",
       "       -6.96065061e-02,  1.54806567e+00, -1.13592557e+00, -1.73924938e+00,\n",
       "       -6.24524053e-01,  1.01607664e+00, -6.99142512e-01, -2.04624779e-01,\n",
       "       -1.91566109e+00, -2.22660733e+00, -7.57575251e-02,  1.90680111e-01,\n",
       "        8.25900147e-01,  1.43656773e+00, -5.88482918e-01,  1.39682491e-01,\n",
       "        7.07902550e-01,  9.86114252e-01,  6.81415122e-01,  3.13119047e-01,\n",
       "       -1.44076290e+00, -5.34963834e-01, -6.27270748e-01,  1.97310170e+00,\n",
       "        7.60608405e-03,  1.74082465e+00, -7.01459949e-01,  8.00384633e-01,\n",
       "       -6.43231724e-01,  7.85915930e-01,  1.12781292e+00, -6.53748862e-01,\n",
       "        1.87450994e+00,  1.33539856e+00, -1.70940213e+00, -5.30052263e-01,\n",
       "       -2.01496472e-01, -6.26379218e-01, -2.86860981e-01, -4.18882846e-02,\n",
       "        1.26652693e+00,  3.75510289e-01, -1.51953631e+00,  5.81744242e-01,\n",
       "       -9.98107817e-01,  9.76898223e-01, -1.32357571e-01,  1.11816230e+00,\n",
       "        1.34057355e-01, -9.14649012e-01, -6.22012471e-01,  2.74553831e+00,\n",
       "       -1.10109215e+00,  1.47851866e+00,  1.08017961e+00,  8.95339656e-01,\n",
       "        1.16233314e+00, -1.19067871e+00, -7.06271249e-01,  2.93227972e-03,\n",
       "        1.87852035e+00,  7.65224317e-02, -2.04236486e+00, -1.80771437e-01,\n",
       "        1.23992822e+00, -4.31670574e-01,  1.40808998e+00,  7.46036952e-01,\n",
       "       -3.54208654e-01, -8.01116964e-01, -2.00674490e-01,  3.85035072e-01,\n",
       "       -1.48025100e+00, -3.28427585e-01, -2.72578510e-01,  5.24671309e-01,\n",
       "       -5.66276604e-01,  8.59726671e-01, -7.91300607e-01, -1.22502655e+00,\n",
       "       -6.29485674e-01, -2.63494622e-01, -4.94504868e-02, -8.63033317e-01,\n",
       "        2.37377855e-01,  5.99378600e-01, -3.94958369e-01, -1.73896268e-01,\n",
       "       -4.50948958e-01, -1.48511744e+00,  1.10163757e+00, -2.67357597e+00,\n",
       "       -8.78503912e-01,  5.91676462e-01, -1.43596541e+00,  4.04789647e-01,\n",
       "       -1.68187150e+00,  8.22003503e-01,  1.46855137e-01, -9.78090916e-01,\n",
       "       -1.22983969e+00,  1.37489270e+00, -1.85711855e+00, -9.42280423e-01,\n",
       "        1.44598803e+00, -2.43824676e-01, -1.40498684e+00,  6.84718460e-02,\n",
       "        3.24136782e-01,  9.17387972e-01, -7.91169037e-01,  1.66275173e+00,\n",
       "       -8.30482916e-01, -1.10114551e+00,  1.05297041e+00, -9.59206645e-01,\n",
       "        4.28003419e-01,  2.87521316e-01,  7.05052007e-01,  1.80736967e-01,\n",
       "        3.77915880e-01, -6.28608695e-01,  6.03489345e-01, -2.25053526e+00,\n",
       "        1.17448276e+00,  8.26656192e-01, -2.78680976e-01,  1.58155635e-01,\n",
       "        1.48826468e+00,  4.42293292e-02,  3.78502701e-01,  5.55306319e-01,\n",
       "        3.54709203e-01, -9.66119728e-01,  1.86487213e+00,  1.39505694e+00,\n",
       "       -3.76312701e-01, -4.30699215e-01, -1.83298280e-01, -7.74408105e-01,\n",
       "        3.20427556e-01, -7.38980180e-01, -3.06149586e-01, -5.10756246e-01,\n",
       "       -5.13664444e-01, -5.58721314e-01, -1.15798519e+00, -6.18285865e-02,\n",
       "       -1.55779150e+00,  3.13812247e-01, -1.00422109e+00,  1.35015087e+00,\n",
       "       -2.71920628e+00, -2.30735206e+00,  1.78777221e+00, -1.14179129e-01,\n",
       "       -3.20717988e-01,  1.04477431e+00,  2.05606151e-02,  1.19546533e+00,\n",
       "       -2.85413635e-01, -1.09638519e+00,  5.06959393e-01, -7.25245659e-01,\n",
       "       -1.38215720e+00, -5.53099664e-01,  1.43619533e+00,  1.07566275e+00,\n",
       "        1.36497216e+00, -1.94592306e+00,  1.25383947e-01, -1.16628386e+00,\n",
       "       -3.30270738e-01,  2.86909450e+00, -1.15552984e+00,  9.01422768e-01,\n",
       "       -3.24596707e-01, -1.35849406e-01, -8.56430574e-01, -3.46655061e-01,\n",
       "        2.34715867e+00, -9.28784899e-01, -4.23812123e-01, -1.01994396e-01,\n",
       "       -2.50242880e+00, -1.99041041e-01,  5.89127957e-02, -1.90577467e+00,\n",
       "        4.44979493e-01,  5.39715543e-01,  3.25188200e-01, -2.50189251e-01,\n",
       "        2.35392850e-02, -1.28350312e+00, -3.87761173e-01,  7.10258832e-01,\n",
       "       -2.09753493e+00, -9.14648678e-01,  2.96010330e-01,  5.12884111e-01,\n",
       "        2.62442309e+00, -6.82654797e-01, -1.22168262e+00, -8.94888584e-01,\n",
       "       -3.11613274e+00, -1.91479919e+00, -5.45830682e-01, -1.52643549e+00,\n",
       "        2.00929975e-01,  3.18800842e-02, -1.75131767e+00,  1.13372817e-01,\n",
       "        1.27688939e+00,  9.11435066e-01,  6.43095003e-01,  4.12927230e-01,\n",
       "        2.31044271e+00, -7.84808389e-01,  2.22714195e-01, -1.13262726e+00,\n",
       "        1.19135718e+00,  1.62676276e+00, -3.43331511e-01, -3.42017338e-01,\n",
       "       -9.33669776e-01, -6.17629150e-01,  9.50137687e-02,  1.38646912e-01,\n",
       "       -9.76418603e-02,  2.48718246e-03,  7.45246455e-01,  1.71677947e+00,\n",
       "        7.98563099e-01,  7.53232075e-01, -8.36273524e-01, -5.01036679e-01,\n",
       "       -1.19492032e+00, -8.79674019e-01, -9.33758018e-01, -1.53362169e+00,\n",
       "        4.36398443e-01,  1.79109929e+00, -1.50211478e+00,  2.72359150e-01,\n",
       "        3.98462321e-01, -3.66077776e-01, -3.85639616e-01, -8.47971290e-01,\n",
       "       -1.43394758e+00,  1.19492120e+00,  2.40090199e+00,  1.62218247e+00,\n",
       "        1.15052726e+00, -9.90953865e-01, -2.67839154e-01,  6.58593247e-03,\n",
       "        8.23595908e-01,  1.13227960e+00, -2.23511282e+00,  1.46742849e-04,\n",
       "        1.09791485e+00, -1.37323196e+00, -2.80887154e-01, -1.29538587e+00,\n",
       "       -2.88021237e-01, -1.25594462e+00,  1.17508513e+00,  1.02491243e-02,\n",
       "        1.22166022e+00, -8.06961281e-01,  2.24316854e-01,  1.15766617e+00,\n",
       "        3.74627316e-01, -1.11060573e+00, -5.82591278e-01, -5.09233363e-01,\n",
       "        4.25938444e-01,  3.05193552e-02,  1.40464332e-01, -1.88666988e+00,\n",
       "       -1.42665660e+00,  9.57402584e-03,  5.60021860e-01,  4.56590731e-01,\n",
       "       -1.13282404e+00,  5.53214690e-01,  3.09992177e-01,  5.02803428e-01,\n",
       "        8.72006858e-01,  1.34633239e-01, -9.76167452e-01, -4.93065742e-01,\n",
       "        5.89323418e-01, -1.18148487e+00, -3.68151612e-02,  5.08666616e-01,\n",
       "       -1.03429761e+00, -2.44816344e+00, -2.63990192e+00,  3.31791292e-01,\n",
       "        1.34370004e-02, -3.87549009e-01,  1.95022726e-01,  4.35009915e-02,\n",
       "       -9.80569552e-01,  9.73175982e-01,  2.22207570e+00, -7.44911684e-01,\n",
       "        1.32359856e+00, -1.22498757e+00, -1.29903652e+00,  7.71573543e-01,\n",
       "        7.01409927e-01, -1.42115283e+00, -1.19417778e+00, -7.46740568e-01,\n",
       "       -2.77163687e-02, -3.13553030e-01, -1.10413389e+00,  2.45439125e-02,\n",
       "        1.00247604e+00, -1.78523650e+00, -1.41643662e-01, -8.27229053e-01,\n",
       "       -5.05682307e-01, -4.53620558e-01, -8.50292473e-01, -1.63540165e+00,\n",
       "       -1.12250321e+00, -4.36651889e-01,  3.95238592e-01,  4.52343930e-01,\n",
       "        9.14147305e-01,  8.29711956e-01,  1.62231108e+00,  5.86581920e-02,\n",
       "        7.76266283e-01, -1.86692696e-01,  4.49833522e-01,  6.79480537e-01,\n",
       "       -2.48344240e-01, -1.78311506e+00,  6.42656504e-01,  1.15737680e-01,\n",
       "       -7.63431201e-01,  9.11986068e-01,  1.69271966e+00, -5.08862688e-01,\n",
       "        1.03507076e+00, -1.17911651e+00, -5.51288296e-01,  2.62850198e-01,\n",
       "       -3.28267062e-01,  1.36775590e+00, -1.16192230e+00,  4.94430922e-01,\n",
       "        2.22631209e-01, -6.81760866e-01,  9.15753378e-01, -1.59092620e+00,\n",
       "       -7.14197045e-02,  2.07084726e+00, -7.66379643e-01, -1.73979477e+00,\n",
       "        5.78582667e-01,  1.78709523e-01,  1.20193721e-01, -1.03644983e-01,\n",
       "       -2.61068984e-01,  4.71180846e-01, -9.26365005e-01, -1.26499128e+00,\n",
       "       -2.16119379e-01, -4.79749765e-01, -1.14216068e+00,  1.07129846e-01,\n",
       "        7.11245788e-01, -9.00726452e-01,  2.31057972e-01,  1.15238606e+00,\n",
       "       -4.55041458e-01,  3.86889591e-01,  1.26249790e-01,  1.93466631e-01,\n",
       "        4.23667994e-01,  5.02696282e-01,  1.68544455e+00, -2.22155592e+00,\n",
       "        1.82246211e+00,  2.09369752e+00,  5.86841402e-02,  1.23055754e-01,\n",
       "        9.19059912e-01, -5.98723645e-01, -1.16200784e+00, -7.39171818e-02,\n",
       "       -8.18824851e-01, -1.31426239e+00,  2.81844281e-01,  1.41140435e+00,\n",
       "       -2.17812743e+00, -2.10372324e-01,  8.35824213e-01, -5.64333404e-01,\n",
       "       -7.56401586e-03,  1.39176476e+00, -6.28575244e-01,  9.68412970e-01,\n",
       "       -2.16853030e+00,  9.84495263e-01, -1.22005225e-01, -1.46280970e+00,\n",
       "        1.82189568e+00, -2.27867699e-01, -1.94588404e+00, -6.49039468e-01,\n",
       "       -6.77060762e-01, -1.48525013e+00,  6.88442113e-01, -2.49686420e-01,\n",
       "        8.13078682e-01,  5.37057413e-01, -8.10325430e-01, -1.94399710e+00,\n",
       "       -8.05877340e-01, -9.51546994e-01,  3.87889906e-01, -1.23735906e+00,\n",
       "       -7.35328873e-01,  8.55415501e-01,  3.51348378e-01, -1.29079045e+00,\n",
       "       -1.03018554e-01,  6.89980953e-01,  1.85424318e-02,  3.05194924e-01,\n",
       "       -3.84231421e-02, -3.83915216e-01, -5.19760672e-01,  3.43016247e-01,\n",
       "        8.99910778e-01,  5.79874151e-01, -1.26403874e+00,  9.07954157e-01,\n",
       "       -1.55513204e+00,  9.36007518e-01, -7.87161400e-01, -4.61497759e-02,\n",
       "       -3.67424207e-01,  1.21208971e-02, -8.50404769e-01, -1.69831553e+00,\n",
       "        8.24935462e-02, -3.91932993e-01, -1.63359316e+00, -9.36457243e-01,\n",
       "        8.60320264e-01,  2.28905332e-01, -8.85376780e-01,  5.10512795e-01,\n",
       "       -1.27588930e+00, -1.78713850e+00,  5.56016506e-01,  1.40727891e+00,\n",
       "        1.33166329e+00, -6.68923527e-01, -6.85375162e-01, -1.60601483e+00,\n",
       "       -1.11225608e-01, -5.36340797e-02,  2.31757570e-01,  1.16713895e+00,\n",
       "       -6.55933280e-01, -8.77464411e-01,  1.03639474e+00, -2.79076697e+00,\n",
       "        6.67359298e-01,  8.45099866e-01, -4.55636535e-01,  1.47555524e-01,\n",
       "        6.64229055e-01,  1.20514418e+00,  2.40919070e-01, -8.83846741e-01,\n",
       "       -3.06473357e-01,  5.81607126e-01, -1.89561187e+00,  3.29778223e-01,\n",
       "        1.10469930e+00, -9.81148434e-01,  1.58981097e+00, -3.85785000e-02,\n",
       "       -2.23664130e+00, -6.63586555e-01,  2.53237259e-01, -8.62178175e-01,\n",
       "       -7.43984153e-01,  4.79283396e-01, -6.30166169e-02, -1.34353860e+00,\n",
       "        3.67319551e-01,  8.42839057e-01,  1.02276618e+00, -1.14553883e+00,\n",
       "       -2.09143763e-01,  8.14513571e-01,  7.53551925e-02,  1.23000511e+00,\n",
       "        1.19150224e+00,  7.87957672e-01,  1.18115423e+00, -9.35249331e-01,\n",
       "       -1.41857129e+00,  3.18228849e-01, -5.25480940e-01,  1.09633532e+00])"
      ]
     },
     "execution_count": 137,
     "metadata": {},
     "output_type": "execute_result"
    }
   ],
   "source": [
    "x=np.random.normal(0,1,1000)\n",
    "x"
   ]
  },
  {
   "cell_type": "markdown",
   "metadata": {},
   "source": [
    "## Question 11\n",
    "\n",
    "Generate binomial distribution data for fair coin flipping of size 100. Assume `0` for head and `1` for tail.\n",
    "\n",
    "[ **Hint:** For fair coin flip `p=0.5` ]"
   ]
  },
  {
   "cell_type": "markdown",
   "metadata": {},
   "source": [
    "#### Binomial Distribution"
   ]
  },
  {
   "cell_type": "markdown",
   "metadata": {},
   "source": [
    "It is defined by 2 parameters: the probability of success and the number of trails. It tells about how likely it is possible to get a given number of successes in n trails."
   ]
  },
  {
   "cell_type": "code",
   "execution_count": 146,
   "metadata": {},
   "outputs": [
    {
     "data": {
      "text/plain": [
       "array([57, 50, 54, 52, 46, 55, 57, 52, 53, 51, 51, 49, 56, 56, 51, 54, 56,\n",
       "       57, 52, 47, 52, 46, 51, 47, 52, 49, 49, 49, 44, 43, 49, 49, 45, 49,\n",
       "       38, 46, 55, 55, 46, 44, 44, 58, 37, 51, 45, 50, 46, 46, 43, 48, 57,\n",
       "       50, 54, 47, 46, 50, 56, 53, 47, 54, 57, 52, 46, 41, 46, 56, 42, 46,\n",
       "       43, 48, 49, 49, 48, 67, 56, 55, 49, 49, 51, 47, 50, 47, 51, 52, 46,\n",
       "       50, 53, 62, 52, 50, 50, 52, 47, 58, 60, 58, 53, 57, 60, 51])"
      ]
     },
     "execution_count": 146,
     "metadata": {},
     "output_type": "execute_result"
    }
   ],
   "source": [
    "\n",
    "np.random.binomial(100, 0.5,100)\n",
    "\n"
   ]
  },
  {
   "cell_type": "markdown",
   "metadata": {},
   "source": [
    "#### Visualizing Poisson Distribution"
   ]
  },
  {
   "cell_type": "markdown",
   "metadata": {},
   "source": [
    "It models the probability of seeing certain number of successes within a time interval."
   ]
  },
  {
   "cell_type": "code",
   "execution_count": 147,
   "metadata": {},
   "outputs": [
    {
     "data": {
      "image/png": "[encoded data removed]",
      "text/plain": [
       "<Figure size 432x288 with 1 Axes>"
      ]
     },
     "metadata": {
      "needs_background": "light"
     },
     "output_type": "display_data"
    }
   ],
   "source": [
    "poisson_data = stats.poisson.rvs(size=100,mu=10)\n",
    "\n",
    "pd.DataFrame(poisson_data).hist()\n",
    "\n",
    "plt.show()"
   ]
  },
  {
   "cell_type": "code",
   "execution_count": null,
   "metadata": {},
   "outputs": [],
   "source": []
  }
 ],
 "metadata": {
  "kernelspec": {
   "display_name": "Python 3",
   "language": "python",
   "name": "python3"
  },
  "language_info": {
   "codemirror_mode": {
    "name": "ipython",
    "version": 3
   },
   "file_extension": ".py",
   "mimetype": "text/x-python",
   "name": "python",
   "nbconvert_exporter": "python",
   "pygments_lexer": "ipython3",
   "version": "3.7.0"
  }
 },
 "nbformat": 4,
 "nbformat_minor": 2
}
