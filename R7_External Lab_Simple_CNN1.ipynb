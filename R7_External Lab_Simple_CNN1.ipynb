{
 "cells": [
  {
   "cell_type": "code",
   "execution_count": 0,
   "metadata": {
    "colab": {},
    "colab_type": "code",
    "id": "nVp8VPBEiQJi"
   },
   "outputs": [],
   "source": [
    "import matplotlib.pyplot as plt\n",
    "import numpy as np\n",
    "from keras.models import Sequential\n",
    "from keras.layers import Dense, Activation, Dropout,Flatten,Reshape\n",
    "from keras.layers import Convolution2D, MaxPooling2D\n",
    "from keras.utils import np_utils\n",
    "import pickle\n",
    "import seaborn as sns\n",
    "plt.rcParams['figure.figsize']=(15,8)"
   ]
  },
  {
   "cell_type": "code",
   "execution_count": 0,
   "metadata": {
    "colab": {},
    "colab_type": "code",
    "id": "bVRWaW9yiq-N"
   },
   "outputs": [],
   "source": [
    "import tensorflow as tf\n",
    "import keras\n"
   ]
  },
  {
   "cell_type": "code",
   "execution_count": 26,
   "metadata": {
    "colab": {
     "base_uri": "https://localhost:8080/",
     "height": 35
    },
    "colab_type": "code",
    "id": "I8FZoV4fivF7",
    "outputId": "b6ab3252-135e-428a-e9e2-2de0bba2a528"
   },
   "outputs": [
    {
     "name": "stdout",
     "output_type": "stream",
     "text": [
      "Drive already mounted at /content/drive; to attempt to forcibly remount, call drive.mount(\"/content/drive\", force_remount=True).\n"
     ]
    }
   ],
   "source": [
    "from google.colab import drive\n",
    "drive.mount('/content/drive')"
   ]
  },
  {
   "cell_type": "code",
   "execution_count": 0,
   "metadata": {
    "colab": {},
    "colab_type": "code",
    "id": "PT__Ne2EizMr"
   },
   "outputs": [],
   "source": [
    "from keras.datasets import fashion_mnist "
   ]
  },
  {
   "cell_type": "code",
   "execution_count": 0,
   "metadata": {
    "colab": {},
    "colab_type": "code",
    "id": "pEexAfyHi4S7"
   },
   "outputs": [],
   "source": [
    "(x_train,y_train),(x_test,y_test)=fashion_mnist.load_data()"
   ]
  },
  {
   "cell_type": "code",
   "execution_count": 29,
   "metadata": {
    "colab": {
     "base_uri": "https://localhost:8080/",
     "height": 87
    },
    "colab_type": "code",
    "id": "zC87p1E6jAAb",
    "outputId": "39ab11ac-1d0e-4e46-8065-57f01254dc43"
   },
   "outputs": [
    {
     "name": "stdout",
     "output_type": "stream",
     "text": [
      "(60000, 28, 28)\n",
      "(60000,)\n",
      "(10000, 28, 28)\n",
      "(10000,)\n"
     ]
    }
   ],
   "source": [
    "#Finding the number of samples in the training and testing datsets\n",
    "print(x_train.shape)\n",
    "print(y_train.shape)\n",
    "print(x_test.shape)\n",
    "print(y_test.shape)"
   ]
  },
  {
   "cell_type": "code",
   "execution_count": 30,
   "metadata": {
    "colab": {
     "base_uri": "https://localhost:8080/",
     "height": 272
    },
    "colab_type": "code",
    "id": "ni0S8yj3jFfT",
    "outputId": "48425730-4496-4277-a5e2-d9613ba241da"
   },
   "outputs": [
    {
     "name": "stdout",
     "output_type": "stream",
     "text": [
      "label for each image: 0\n",
      "label for each image: 0\n",
      "label for each image: 0\n",
      "label for each image: 0\n",
      "label for each image: 0\n",
      "label for each image: 0\n",
      "label for each image: 0\n",
      "label for each image: 0\n",
      "label for each image: 0\n",
      "label for each image: 0\n"
     ]
    },
    {
     "data": {
      "image/png": "[encoded data removed]",
      "text/plain": [
       "<Figure size 720x72 with 10 Axes>"
      ]
     },
     "metadata": {
      "tags": []
     },
     "output_type": "display_data"
    }
   ],
   "source": [
    "#Displaying the random sample of images by using subplot to see what is there in the dataset that we are working on\n",
    "\n",
    "%matplotlib inline\n",
    "import matplotlib.pyplot as plt\n",
    "plt.figure(figsize=(10,1))\n",
    "for i in range(10):\n",
    "  plt.subplot(1,10,i+1)\n",
    "  plt.imshow(x_train[i].reshape(28,28),cmap='gray')\n",
    "  plt.axis('off')\n",
    "  print(\"label for each image: %s\" % (np.argmax(y_train[0:10][i])))\n",
    "plt.show()"
   ]
  },
  {
   "cell_type": "code",
   "execution_count": 31,
   "metadata": {
    "colab": {
     "base_uri": "https://localhost:8080/",
     "height": 35
    },
    "colab_type": "code",
    "id": "LQ1gsrXwjlVi",
    "outputId": "688531f6-8039-4cb6-efb2-75d10a30e89e"
   },
   "outputs": [
    {
     "data": {
      "text/plain": [
       "(60000, 28, 28)"
      ]
     },
     "execution_count": 31,
     "metadata": {
      "tags": []
     },
     "output_type": "execute_result"
    }
   ],
   "source": [
    "x_train.shape"
   ]
  },
  {
   "cell_type": "code",
   "execution_count": 32,
   "metadata": {
    "colab": {
     "base_uri": "https://localhost:8080/",
     "height": 35
    },
    "colab_type": "code",
    "id": "SK5PEtYwnVsb",
    "outputId": "d761fbfb-50f4-4c23-b49e-69cd6a71d6c1"
   },
   "outputs": [
    {
     "data": {
      "text/plain": [
       "(10000, 28, 28)"
      ]
     },
     "execution_count": 32,
     "metadata": {
      "tags": []
     },
     "output_type": "execute_result"
    }
   ],
   "source": [
    "x_test.shape"
   ]
  },
  {
   "cell_type": "code",
   "execution_count": 33,
   "metadata": {
    "colab": {
     "base_uri": "https://localhost:8080/",
     "height": 35
    },
    "colab_type": "code",
    "id": "PgZ33VchnW77",
    "outputId": "52a1fc1d-b424-4d0f-b534-d012ec209afa"
   },
   "outputs": [
    {
     "data": {
      "text/plain": [
       "(60000,)"
      ]
     },
     "execution_count": 33,
     "metadata": {
      "tags": []
     },
     "output_type": "execute_result"
    }
   ],
   "source": [
    "y_train.shape"
   ]
  },
  {
   "cell_type": "code",
   "execution_count": 34,
   "metadata": {
    "colab": {
     "base_uri": "https://localhost:8080/",
     "height": 35
    },
    "colab_type": "code",
    "id": "qsXkWfIgnZHL",
    "outputId": "f379906d-99c6-4338-ea82-cebffbb1be94"
   },
   "outputs": [
    {
     "data": {
      "text/plain": [
       "(10000,)"
      ]
     },
     "execution_count": 34,
     "metadata": {
      "tags": []
     },
     "output_type": "execute_result"
    }
   ],
   "source": [
    "y_test.shape"
   ]
  },
  {
   "cell_type": "code",
   "execution_count": 0,
   "metadata": {
    "colab": {},
    "colab_type": "code",
    "id": "kmRgGOThqKEK"
   },
   "outputs": [],
   "source": [
    "#The point here is that y_train and y_test would contain the labels from 0-9 which is there in this dataset \n",
    "# while the x_train and x_test are the actual images which have been converted into the matrix with the help of the numpy arrays"
   ]
  },
  {
   "cell_type": "code",
   "execution_count": 36,
   "metadata": {
    "colab": {
     "base_uri": "https://localhost:8080/",
     "height": 87
    },
    "colab_type": "code",
    "id": "xFv5Y0IonaV8",
    "outputId": "6b120c88-f6fe-493b-fee4-5efb069a074d"
   },
   "outputs": [
    {
     "name": "stdout",
     "output_type": "stream",
     "text": [
      "The Data\n",
      "x_train shape: (60000, 28, 28, 1)\n",
      "60000 train samples\n",
      "10000 test samples\n"
     ]
    }
   ],
   "source": [
    "#Doing the one hot encoding and also normalizing the x_train and x_test between 0-1 instead of 0-255 by dividing both by 255\n",
    "x_train=x_train.reshape(x_train.shape[0],28,28,1).astype('float32')\n",
    "x_test=x_test.reshape(x_test.shape[0],28,28,1).astype('float32')\n",
    "x_train/=255\n",
    "x_test/=255\n",
    "y_train=keras.utils.to_categorical(y_train,10)\n",
    "y_test=keras.utils.to_categorical(y_test,10)\n",
    "\n",
    "print(\"The Data\")\n",
    "print('x_train shape:',x_train.shape)\n",
    "print(x_train.shape[0],\"train samples\")\n",
    "print(x_test.shape[0],\"test samples\")"
   ]
  },
  {
   "cell_type": "code",
   "execution_count": 0,
   "metadata": {
    "colab": {},
    "colab_type": "code",
    "id": "ApXFo3chsog0"
   },
   "outputs": [],
   "source": [
    "TRAIN=False\n",
    "BATCH_SIZE=32\n",
    "EPOCHS=10"
   ]
  },
  {
   "cell_type": "code",
   "execution_count": 0,
   "metadata": {
    "colab": {},
    "colab_type": "code",
    "id": "EiZ_go7Jo4ay"
   },
   "outputs": [],
   "source": []
  },
  {
   "cell_type": "code",
   "execution_count": 40,
   "metadata": {
    "colab": {
     "base_uri": "https://localhost:8080/",
     "height": 488
    },
    "colab_type": "code",
    "id": "MlNi41PmFHZr",
    "outputId": "5a33cc76-1087-4df4-ba79-a8dc270cfd85"
   },
   "outputs": [
    {
     "name": "stderr",
     "output_type": "stream",
     "text": [
      "/usr/local/lib/python3.6/dist-packages/ipykernel_launcher.py:4: UserWarning: Update your `Conv2D` call to the Keras 2 API: `Conv2D(32, (3, 3), input_shape=(28, 28, 1...)`\n",
      "  after removing the cwd from sys.path.\n",
      "/usr/local/lib/python3.6/dist-packages/ipykernel_launcher.py:8: UserWarning: Update your `Conv2D` call to the Keras 2 API: `Conv2D(32, (3, 3))`\n",
      "  \n",
      "/usr/local/lib/python3.6/dist-packages/ipykernel_launcher.py:29: UserWarning: The `nb_epoch` argument in `fit` has been renamed `epochs`.\n"
     ]
    },
    {
     "name": "stdout",
     "output_type": "stream",
     "text": [
      "Train on 60000 samples, validate on 10000 samples\n",
      "Epoch 1/10\n",
      "60000/60000 [==============================] - 179s 3ms/step - loss: 0.3742 - acc: 0.8641 - val_loss: 0.2985 - val_acc: 0.8892\n",
      "Epoch 2/10\n",
      "60000/60000 [==============================] - 183s 3ms/step - loss: 0.2314 - acc: 0.9160 - val_loss: 0.2719 - val_acc: 0.9010\n",
      "Epoch 3/10\n",
      "60000/60000 [==============================] - 210s 3ms/step - loss: 0.1693 - acc: 0.9372 - val_loss: 0.2568 - val_acc: 0.9138\n",
      "Epoch 4/10\n",
      "60000/60000 [==============================] - 180s 3ms/step - loss: 0.1192 - acc: 0.9556 - val_loss: 0.2459 - val_acc: 0.9158\n",
      "Epoch 5/10\n",
      "60000/60000 [==============================] - 181s 3ms/step - loss: 0.0801 - acc: 0.9702 - val_loss: 0.3145 - val_acc: 0.9149\n",
      "Epoch 6/10\n",
      "60000/60000 [==============================] - 184s 3ms/step - loss: 0.0545 - acc: 0.9802 - val_loss: 0.3903 - val_acc: 0.9082\n",
      "Epoch 7/10\n",
      "60000/60000 [==============================] - 180s 3ms/step - loss: 0.0372 - acc: 0.9865 - val_loss: 0.3747 - val_acc: 0.9148\n",
      "Epoch 8/10\n",
      "60000/60000 [==============================] - 178s 3ms/step - loss: 0.0292 - acc: 0.9896 - val_loss: 0.4288 - val_acc: 0.9126\n",
      "Epoch 9/10\n",
      "60000/60000 [==============================] - 178s 3ms/step - loss: 0.0214 - acc: 0.9925 - val_loss: 0.5177 - val_acc: 0.9081\n",
      "Epoch 00009: early stopping\n"
     ]
    },
    {
     "data": {
      "text/plain": [
       "<keras.callbacks.History at 0x7f7fb8f6ac18>"
      ]
     },
     "execution_count": 40,
     "metadata": {
      "tags": []
     },
     "output_type": "execute_result"
    }
   ],
   "source": [
    "\n",
    "    # Define model\n",
    "model2 = Sequential()\n",
    "\n",
    "    # 1st Conv Layer\n",
    "model2.add(Convolution2D(32, 3, 3, input_shape=(28, 28, 1)))\n",
    "model2.add(Activation('relu'))\n",
    "\n",
    "    # 2nd Conv Layer\n",
    "model2.add(Convolution2D(32, 3, 3))\n",
    "model2.add(Activation('relu'))\n",
    "\n",
    "    # Fully Connected Layer\n",
    "model2.add(Flatten())\n",
    "model2.add(Dense(128))\n",
    "model2.add(Activation('relu'))\n",
    "\n",
    "    # Prediction Layer\n",
    "model2.add(Dense(10))\n",
    "model2.add(Activation('softmax'))\n",
    "\n",
    "    # Loss and Optimizer\n",
    "model2.compile(loss='categorical_crossentropy', optimizer='adam', metrics=['accuracy'])\n",
    "    \n",
    "    # Store Training Results\n",
    "early_stopping = keras.callbacks.EarlyStopping(monitor='val_acc', patience=5, verbose=1, mode='auto')\n",
    "callback_list = [early_stopping]\n",
    "\n",
    "    # Train the model2\n",
    "model2.fit(x_train, y_train, batch_size=BATCH_SIZE, nb_epoch=EPOCHS, \n",
    "validation_data=(x_test, y_test), callbacks=callback_list)\n",
    "    \n",
    "\n"
   ]
  },
  {
   "cell_type": "code",
   "execution_count": 41,
   "metadata": {
    "colab": {
     "base_uri": "https://localhost:8080/",
     "height": 451
    },
    "colab_type": "code",
    "id": "__iI38F4OAAY",
    "outputId": "76fee577-497e-4ea5-b217-0e3d559cf519"
   },
   "outputs": [
    {
     "name": "stdout",
     "output_type": "stream",
     "text": [
      "_________________________________________________________________\n",
      "Layer (type)                 Output Shape              Param #   \n",
      "=================================================================\n",
      "conv2d_6 (Conv2D)            (None, 26, 26, 32)        320       \n",
      "_________________________________________________________________\n",
      "activation_5 (Activation)    (None, 26, 26, 32)        0         \n",
      "_________________________________________________________________\n",
      "conv2d_7 (Conv2D)            (None, 24, 24, 32)        9248      \n",
      "_________________________________________________________________\n",
      "activation_6 (Activation)    (None, 24, 24, 32)        0         \n",
      "_________________________________________________________________\n",
      "flatten_2 (Flatten)          (None, 18432)             0         \n",
      "_________________________________________________________________\n",
      "dense_3 (Dense)              (None, 128)               2359424   \n",
      "_________________________________________________________________\n",
      "activation_7 (Activation)    (None, 128)               0         \n",
      "_________________________________________________________________\n",
      "dense_4 (Dense)              (None, 10)                1290      \n",
      "_________________________________________________________________\n",
      "activation_8 (Activation)    (None, 10)                0         \n",
      "=================================================================\n",
      "Total params: 2,370,282\n",
      "Trainable params: 2,370,282\n",
      "Non-trainable params: 0\n",
      "_________________________________________________________________\n"
     ]
    }
   ],
   "source": [
    "model2.summary()"
   ]
  },
  {
   "cell_type": "code",
   "execution_count": 42,
   "metadata": {
    "colab": {
     "base_uri": "https://localhost:8080/",
     "height": 52
    },
    "colab_type": "code",
    "id": "fdvIJC3DDBwv",
    "outputId": "3e7fa383-a06d-48aa-aa3b-330e8fd7fc43"
   },
   "outputs": [
    {
     "name": "stdout",
     "output_type": "stream",
     "text": [
      "10000/10000 [==============================] - 6s 602us/step\n",
      "[0.5176972859881819, 0.9081]\n"
     ]
    }
   ],
   "source": [
    "loss_and_metrics = model2.evaluate(x_test, y_test)\n",
    "print(loss_and_metrics)"
   ]
  },
  {
   "cell_type": "code",
   "execution_count": 0,
   "metadata": {
    "colab": {},
    "colab_type": "code",
    "id": "0LR6GDijDFJV"
   },
   "outputs": [],
   "source": [
    "\n",
    "BATCH_SIZE = 32\n",
    "EPOCHS = 10"
   ]
  },
  {
   "cell_type": "code",
   "execution_count": 44,
   "metadata": {
    "colab": {
     "base_uri": "https://localhost:8080/",
     "height": 557
    },
    "colab_type": "code",
    "id": "PNADafg5tnec",
    "outputId": "b89ecf1d-733c-473f-fb8d-14fcca89f87b"
   },
   "outputs": [
    {
     "name": "stdout",
     "output_type": "stream",
     "text": [
      "WARNING:tensorflow:From /usr/local/lib/python3.6/dist-packages/keras/backend/tensorflow_backend.py:3445: calling dropout (from tensorflow.python.ops.nn_ops) with keep_prob is deprecated and will be removed in a future version.\n",
      "Instructions for updating:\n",
      "Please use `rate` instead of `keep_prob`. Rate should be set to `rate = 1 - keep_prob`.\n"
     ]
    },
    {
     "name": "stderr",
     "output_type": "stream",
     "text": [
      "/usr/local/lib/python3.6/dist-packages/ipykernel_launcher.py:4: UserWarning: Update your `Conv2D` call to the Keras 2 API: `Conv2D(32, (3, 3), input_shape=(28, 28, 1...)`\n",
      "  after removing the cwd from sys.path.\n",
      "/usr/local/lib/python3.6/dist-packages/ipykernel_launcher.py:8: UserWarning: Update your `Conv2D` call to the Keras 2 API: `Conv2D(32, (3, 3))`\n",
      "  \n",
      "/usr/local/lib/python3.6/dist-packages/ipykernel_launcher.py:38: UserWarning: The `nb_epoch` argument in `fit` has been renamed `epochs`.\n"
     ]
    },
    {
     "name": "stdout",
     "output_type": "stream",
     "text": [
      "Train on 60000 samples, validate on 10000 samples\n",
      "Epoch 1/10\n",
      "60000/60000 [==============================] - 133s 2ms/step - loss: 0.5019 - acc: 0.8206 - val_loss: 0.3267 - val_acc: 0.8787\n",
      "Epoch 2/10\n",
      "60000/60000 [==============================] - 133s 2ms/step - loss: 0.3433 - acc: 0.8766 - val_loss: 0.2819 - val_acc: 0.8975\n",
      "Epoch 3/10\n",
      "60000/60000 [==============================] - 133s 2ms/step - loss: 0.2965 - acc: 0.8927 - val_loss: 0.2601 - val_acc: 0.9027\n",
      "Epoch 4/10\n",
      "60000/60000 [==============================] - 133s 2ms/step - loss: 0.2649 - acc: 0.9044 - val_loss: 0.2329 - val_acc: 0.9150\n",
      "Epoch 5/10\n",
      "60000/60000 [==============================] - 133s 2ms/step - loss: 0.2413 - acc: 0.9114 - val_loss: 0.2341 - val_acc: 0.9166\n",
      "Epoch 6/10\n",
      "60000/60000 [==============================] - 133s 2ms/step - loss: 0.2249 - acc: 0.9156 - val_loss: 0.2263 - val_acc: 0.9168\n",
      "Epoch 7/10\n",
      "60000/60000 [==============================] - 133s 2ms/step - loss: 0.2117 - acc: 0.9214 - val_loss: 0.2351 - val_acc: 0.9160\n",
      "Epoch 8/10\n",
      "60000/60000 [==============================] - 133s 2ms/step - loss: 0.2015 - acc: 0.9245 - val_loss: 0.2359 - val_acc: 0.9176\n",
      "Epoch 9/10\n",
      "60000/60000 [==============================] - 133s 2ms/step - loss: 0.1906 - acc: 0.9291 - val_loss: 0.2344 - val_acc: 0.9193\n",
      "Epoch 10/10\n",
      "60000/60000 [==============================] - 132s 2ms/step - loss: 0.1824 - acc: 0.9321 - val_loss: 0.2126 - val_acc: 0.9269\n"
     ]
    },
    {
     "data": {
      "text/plain": [
       "<keras.callbacks.History at 0x7f7fb048c6d8>"
      ]
     },
     "execution_count": 44,
     "metadata": {
      "tags": []
     },
     "output_type": "execute_result"
    }
   ],
   "source": [
    "\n",
    "    # Define Model\n",
    "    model3 = Sequential()\n",
    "\n",
    "    # 1st Conv Layer\n",
    "    model3.add(Convolution2D(32, 3, 3, input_shape=(28, 28, 1)))\n",
    "    model3.add(Activation('relu'))\n",
    "\n",
    "    # 2nd Conv Layer\n",
    "    model3.add(Convolution2D(32, 3, 3))\n",
    "    model3.add(Activation('relu'))\n",
    "\n",
    "    # Max Pooling\n",
    "    model3.add(MaxPooling2D(pool_size=(2,2)))\n",
    "    \n",
    "    # Dropout\n",
    "    model3.add(Dropout(0.25))\n",
    "\n",
    "    # Fully Connected Layer\n",
    "    model3.add(Flatten())\n",
    "    model3.add(Dense(128))\n",
    "    model3.add(Activation('relu'))\n",
    "    \n",
    "    # More Dropout\n",
    "    model3.add(Dropout(0.5))\n",
    "\n",
    "    # Prediction Layer\n",
    "    model3.add(Dense(10))\n",
    "    model3.add(Activation('softmax'))\n",
    "\n",
    "    # Loss and Optimizer\n",
    "    model3.compile(loss='categorical_crossentropy', optimizer='adam', metrics=['accuracy'])\n",
    "    \n",
    "    # Store Training Results\n",
    "    early_stopping = keras.callbacks.EarlyStopping(monitor='val_acc', patience=7, verbose=1, mode='auto')\n",
    "    callback_list = [early_stopping]\n",
    "\n",
    "    # Train the model\n",
    "    model3.fit(x_train, y_train, batch_size=BATCH_SIZE, nb_epoch=EPOCHS, \n",
    "              validation_data=(x_test, y_test), callbacks=callback_list)\n",
    "    \n"
   ]
  },
  {
   "cell_type": "code",
   "execution_count": 46,
   "metadata": {
    "colab": {
     "base_uri": "https://localhost:8080/",
     "height": 555
    },
    "colab_type": "code",
    "id": "56cq8ceWbeMO",
    "outputId": "d62fcf8f-6a2d-46e1-91ae-ee1d462500f7"
   },
   "outputs": [
    {
     "name": "stdout",
     "output_type": "stream",
     "text": [
      "_________________________________________________________________\n",
      "Layer (type)                 Output Shape              Param #   \n",
      "=================================================================\n",
      "conv2d_8 (Conv2D)            (None, 26, 26, 32)        320       \n",
      "_________________________________________________________________\n",
      "activation_9 (Activation)    (None, 26, 26, 32)        0         \n",
      "_________________________________________________________________\n",
      "conv2d_9 (Conv2D)            (None, 24, 24, 32)        9248      \n",
      "_________________________________________________________________\n",
      "activation_10 (Activation)   (None, 24, 24, 32)        0         \n",
      "_________________________________________________________________\n",
      "max_pooling2d_1 (MaxPooling2 (None, 12, 12, 32)        0         \n",
      "_________________________________________________________________\n",
      "dropout_1 (Dropout)          (None, 12, 12, 32)        0         \n",
      "_________________________________________________________________\n",
      "flatten_3 (Flatten)          (None, 4608)              0         \n",
      "_________________________________________________________________\n",
      "dense_5 (Dense)              (None, 128)               589952    \n",
      "_________________________________________________________________\n",
      "activation_11 (Activation)   (None, 128)               0         \n",
      "_________________________________________________________________\n",
      "dropout_2 (Dropout)          (None, 128)               0         \n",
      "_________________________________________________________________\n",
      "dense_6 (Dense)              (None, 10)                1290      \n",
      "_________________________________________________________________\n",
      "activation_12 (Activation)   (None, 10)                0         \n",
      "=================================================================\n",
      "Total params: 600,810\n",
      "Trainable params: 600,810\n",
      "Non-trainable params: 0\n",
      "_________________________________________________________________\n"
     ]
    }
   ],
   "source": [
    "model3.summary()"
   ]
  },
  {
   "cell_type": "code",
   "execution_count": 0,
   "metadata": {
    "colab": {},
    "colab_type": "code",
    "id": "_s3eFcSKtlN0"
   },
   "outputs": [],
   "source": [
    "model3.save(\"Model.h1\")"
   ]
  },
  {
   "cell_type": "code",
   "execution_count": 0,
   "metadata": {
    "colab": {},
    "colab_type": "code",
    "id": "2e-o79Htsx1q"
   },
   "outputs": [],
   "source": []
  }
 ],
 "metadata": {
  "colab": {
   "collapsed_sections": [],
   "name": "Project ",
   "provenance": [],
   "version": "0.3.2"
  },
  "kernelspec": {
   "display_name": "Python 3",
   "language": "python",
   "name": "python3"
  },
  "language_info": {
   "codemirror_mode": {
    "name": "ipython",
    "version": 3
   },
   "file_extension": ".py",
   "mimetype": "text/x-python",
   "name": "python",
   "nbconvert_exporter": "python",
   "pygments_lexer": "ipython3",
   "version": "3.7.0"
  }
 },
 "nbformat": 4,
 "nbformat_minor": 1
}
