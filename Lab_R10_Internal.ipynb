{
 "cells": [
  {
   "cell_type": "markdown",
   "metadata": {
    "colab_type": "text",
    "id": "ueeUkE9Pvs91"
   },
   "source": [
    "# Neural Machine Translation\n",
    "\n",
    "- Translate a given sentence in one language to another desired language.\n",
    "\n",
    "#### In this notebook, we aim to build a model which can translate German sentences to English."
   ]
  },
  {
   "cell_type": "markdown",
   "metadata": {
    "colab_type": "text",
    "id": "HphxvZ0fv_kr"
   },
   "source": [
    "## Dataset\n",
    "\n",
    "Dataset is taken from http://www.manythings.org/anki/.\n",
    "\n",
    "We are considering German – English deu-eng.zip file from the above mentioned website.\n",
    "\n",
    "In the above zip file there is a file with name **`deu.txt`** that contains **152,820** pairs of English to German phrases, one pair per line with a tab separating the phrases.\n",
    "\n",
    "\n",
    "For example,\n",
    "\n",
    "The first 5 lines in deu.txt are as given below.\n",
    "\n",
    "***\n",
    "```\n",
    "Hi.    Hallo!\n",
    "Hi.    Grüß Gott!\n",
    "Run!    Lauf!\n",
    "Wow!    Potzdonner!\n",
    "Wow!    Donnerwetter!\n",
    "```\n",
    "***\n"
   ]
  },
  {
   "cell_type": "markdown",
   "metadata": {
    "colab_type": "text",
    "id": "KzhjY_3MxlCT"
   },
   "source": [
    "## Problem\n",
    "\n",
    "### Given a sequence of words in German as input, predict the sequence of words in English."
   ]
  },
  {
   "cell_type": "markdown",
   "metadata": {
    "colab_type": "text",
    "id": "STq1sKSHywCQ"
   },
   "source": [
    "### 1. Prepare Data\n",
    "\n",
    "\n",
    "The preprocessing of the data involves:\n",
    "\n",
    "1. Removing punctuation marks from the data.\n",
    "\n",
    "2. Converting text corpus into lower case characters.\n",
    "\n",
    "3. Split into Train and Test sets.\n",
    "\n",
    "4. Shuffling the sentences.\n",
    "\n",
    "\n",
    "\n",
    "The above tasks are done  and full dataset is given as **``english-german-both.pkl``** respectively.\n",
    "\n",
    "Download dataset files from here: https://drive.google.com/open?id=1gWVk7SuuE93Cf_nT9Lb7GBCiwfAgdBiX\n",
    "\n",
    "\n"
   ]
  },
  {
   "cell_type": "markdown",
   "metadata": {
    "colab_type": "text",
    "id": "x9JDfVgWosMJ"
   },
   "source": [
    "# Character level Machine Translation"
   ]
  },
  {
   "cell_type": "markdown",
   "metadata": {
    "colab_type": "text",
    "id": "sP4P2nnAXD5G"
   },
   "source": [
    "## Initialize parameters\n",
    "Run the below code to initialize the variables required for the model."
   ]
  },
  {
   "cell_type": "code",
   "execution_count": 0,
   "metadata": {
    "colab": {},
    "colab_type": "code",
    "id": "4jRTxBQ9owHH"
   },
   "outputs": [],
   "source": [
    "batch_size = 64  # Batch size for training.\n",
    "epochs = 10  # Number of epochs to train for.\n",
    "latent_dim = 256  # Latent dimensionality of the encoding space.\n",
    "num_samples = 10000  # Number of samples to train on.\n",
    "# Path to the data txt file on disk.\n",
    "data_path = 'fra.txt'"
   ]
  },
  {
   "cell_type": "markdown",
   "metadata": {
    "colab_type": "text",
    "id": "0N1Q-zzUJtO0"
   },
   "source": [
    "### Connect to google drive"
   ]
  },
  {
   "cell_type": "code",
   "execution_count": 2,
   "metadata": {
    "colab": {
     "base_uri": "https://localhost:8080/",
     "height": 121
    },
    "colab_type": "code",
    "executionInfo": {
     "elapsed": 30565,
     "status": "ok",
     "timestamp": 1565512119882,
     "user": {
      "displayName": "Ezhirko Arulmozhi",
      "photoUrl": "https://lh4.googleusercontent.com/-477BLY1dxIY/AAAAAAAAAAI/AAAAAAAAB1o/N0VNqCcpb28/s64/photo.jpg",
      "userId": "16774972310128518178"
     },
     "user_tz": -330
    },
    "id": "SEtf-c5Fo7eF",
    "outputId": "5341ff0e-c812-48a2-ff4b-e3e82383839a"
   },
   "outputs": [
    {
     "name": "stdout",
     "output_type": "stream",
     "text": [
      "Go to this URL in a browser: https://accounts.google.com/o/oauth2/auth?client_id=947318989803-6bn6qk8qdgf4n4g3pfee6491hc0brc4i.apps.googleusercontent.com&redirect_uri=urn%3Aietf%3Awg%3Aoauth%3A2.0%3Aoob&scope=email%20https%3A%2F%2Fwww.googleapis.com%2Fauth%2Fdocs.test%20https%3A%2F%2Fwww.googleapis.com%2Fauth%2Fdrive%20https%3A%2F%2Fwww.googleapis.com%2Fauth%2Fdrive.photos.readonly%20https%3A%2F%2Fwww.googleapis.com%2Fauth%2Fpeopleapi.readonly&response_type=code\n",
      "\n",
      "Enter your authorization code:\n",
      "··········\n",
      "Mounted at /content/drive/\n"
     ]
    }
   ],
   "source": [
    "from google.colab import drive\n",
    "drive.mount('/content/drive/')"
   ]
  },
  {
   "cell_type": "markdown",
   "metadata": {
    "colab_type": "text",
    "id": "Mv0XAJSZJyOl"
   },
   "source": [
    "### Give the path for the folder in which the dataset is present in google drive"
   ]
  },
  {
   "cell_type": "code",
   "execution_count": 0,
   "metadata": {
    "colab": {},
    "colab_type": "code",
    "id": "fXQOArlSo8SX"
   },
   "outputs": [],
   "source": [
    "project_path = \"/content/drive/My Drive/SequenceModelsNLP/\""
   ]
  },
  {
   "cell_type": "markdown",
   "metadata": {
    "colab_type": "text",
    "id": "SoEhVDh3qfuj"
   },
   "source": [
    "### Change present working directory"
   ]
  },
  {
   "cell_type": "code",
   "execution_count": 0,
   "metadata": {
    "colab": {},
    "colab_type": "code",
    "id": "g-plftRTqlgB"
   },
   "outputs": [],
   "source": [
    "import os\n",
    "os.chdir(project_path)"
   ]
  },
  {
   "cell_type": "markdown",
   "metadata": {
    "colab_type": "text",
    "id": "GkAdNgJrKDvK"
   },
   "source": [
    "## Load the pickle file (`english-german-both.pkl`) into a variable with name `dataset`\n",
    "Run the below code to load the .pkl file."
   ]
  },
  {
   "cell_type": "code",
   "execution_count": 0,
   "metadata": {
    "colab": {},
    "colab_type": "code",
    "id": "a8fpd1Lxo8VH"
   },
   "outputs": [],
   "source": [
    "import pickle\n",
    "\n",
    "with open(project_path + 'english-german-both.pkl', 'rb') as f:\n",
    "  dataset = pickle.load(f)"
   ]
  },
  {
   "cell_type": "markdown",
   "metadata": {
    "colab_type": "text",
    "id": "9pkL351SKaWb"
   },
   "source": [
    "## Check the `dataset` variable at this step. It should be as given below"
   ]
  },
  {
   "cell_type": "code",
   "execution_count": 6,
   "metadata": {
    "colab": {
     "base_uri": "https://localhost:8080/",
     "height": 134
    },
    "colab_type": "code",
    "executionInfo": {
     "elapsed": 1211,
     "status": "ok",
     "timestamp": 1565512255564,
     "user": {
      "displayName": "Ezhirko Arulmozhi",
      "photoUrl": "https://lh4.googleusercontent.com/-477BLY1dxIY/AAAAAAAAAAI/AAAAAAAAB1o/N0VNqCcpb28/s64/photo.jpg",
      "userId": "16774972310128518178"
     },
     "user_tz": -330
    },
    "id": "D6kEL_65KmHe",
    "outputId": "a0eff919-e34e-4d38-e4ce-f675835b69ad"
   },
   "outputs": [
    {
     "data": {
      "text/plain": [
       "array([['stay with us', 'bleib bei uns'],\n",
       "       ['she wants him', 'sie will ihn'],\n",
       "       ['youre strong', 'du bist stark'],\n",
       "       ...,\n",
       "       ['i thought so', 'das dachte ich mir'],\n",
       "       ['keep warm', 'haltet euch warm'],\n",
       "       ['im sick', 'ich bin krank']], dtype='<U291')"
      ]
     },
     "execution_count": 6,
     "metadata": {
      "tags": []
     },
     "output_type": "execute_result"
    }
   ],
   "source": [
    "dataset"
   ]
  },
  {
   "cell_type": "markdown",
   "metadata": {
    "colab_type": "text",
    "id": "uQ270GmwK2Qt"
   },
   "source": [
    "## Feature set and target set division from the **dataset**\n",
    "\n",
    "### Run the below code to divide the dataset into feature set(input) and target set(output). \n",
    "\n",
    "1. We are creating two lists for storing input sentences and output sentences separately. \n",
    "2. We are storing each character in a list from both input and target sets separately. \n",
    "3. Print and check `input_texts` and `target_texts`.\n",
    "4. Print and check `input_characters` and `target_characters`."
   ]
  },
  {
   "cell_type": "code",
   "execution_count": 0,
   "metadata": {
    "colab": {},
    "colab_type": "code",
    "id": "fJ95hstto8Xy"
   },
   "outputs": [],
   "source": [
    "# Vectorize the data.\n",
    "input_texts = []\n",
    "target_texts = []\n",
    "input_characters = set()\n",
    "target_characters = set()\n",
    "\n",
    "for line in dataset[: min(num_samples, len(dataset) - 1)]:\n",
    "    input_text, target_text = line[0], line[1]\n",
    "    # We use \"tab\" as the \"start sequence\" character\n",
    "    # for the targets, and \"\\n\" as \"end sequence\" character.\n",
    "    target_text = '\\t' + target_text + '\\n'\n",
    "    input_texts.append(input_text)\n",
    "    target_texts.append(target_text)\n",
    "    for char in input_text:\n",
    "        if char not in input_characters:\n",
    "            input_characters.add(char)\n",
    "    for char in target_text:\n",
    "        if char not in target_characters:\n",
    "            target_characters.add(char)"
   ]
  },
  {
   "cell_type": "markdown",
   "metadata": {
    "colab_type": "text",
    "id": "wwWZMeVjlPjB"
   },
   "source": [
    "### Print input text"
   ]
  },
  {
   "cell_type": "code",
   "execution_count": 9,
   "metadata": {
    "colab": {
     "base_uri": "https://localhost:8080/",
     "height": 34
    },
    "colab_type": "code",
    "executionInfo": {
     "elapsed": 1018,
     "status": "ok",
     "timestamp": 1565512547391,
     "user": {
      "displayName": "Ezhirko Arulmozhi",
      "photoUrl": "https://lh4.googleusercontent.com/-477BLY1dxIY/AAAAAAAAAAI/AAAAAAAAB1o/N0VNqCcpb28/s64/photo.jpg",
      "userId": "16774972310128518178"
     },
     "user_tz": -330
    },
    "id": "S-1OyZSULuJY",
    "outputId": "a80d178b-ff58-4e4b-a6c7-70aaedbd4449"
   },
   "outputs": [
    {
     "name": "stdout",
     "output_type": "stream",
     "text": [
      "['stay with us', 'she wants him', 'youre strong', 'examine this', 'heres my card']\n"
     ]
    }
   ],
   "source": [
    "print(input_texts[:5]) #printing first 5"
   ]
  },
  {
   "cell_type": "markdown",
   "metadata": {
    "colab_type": "text",
    "id": "fo7Mno1JlVWP"
   },
   "source": [
    "### Print target text"
   ]
  },
  {
   "cell_type": "code",
   "execution_count": 10,
   "metadata": {
    "colab": {
     "base_uri": "https://localhost:8080/",
     "height": 34
    },
    "colab_type": "code",
    "executionInfo": {
     "elapsed": 977,
     "status": "ok",
     "timestamp": 1565512563467,
     "user": {
      "displayName": "Ezhirko Arulmozhi",
      "photoUrl": "https://lh4.googleusercontent.com/-477BLY1dxIY/AAAAAAAAAAI/AAAAAAAAB1o/N0VNqCcpb28/s64/photo.jpg",
      "userId": "16774972310128518178"
     },
     "user_tz": -330
    },
    "id": "_pnLXkk8LzBx",
    "outputId": "482b860b-9660-43ba-e908-1df1ab9809ad"
   },
   "outputs": [
    {
     "name": "stdout",
     "output_type": "stream",
     "text": [
      "['\\tbleib bei uns\\n', '\\tsie will ihn\\n', '\\tdu bist stark\\n', '\\tuntersuchen sie das\\n', '\\thier ist meine karte\\n']\n"
     ]
    }
   ],
   "source": [
    "print(target_texts[:5]) #printing first 5"
   ]
  },
  {
   "cell_type": "markdown",
   "metadata": {
    "colab_type": "text",
    "id": "u7IhmN_hlb1K"
   },
   "source": [
    "### Print input character"
   ]
  },
  {
   "cell_type": "code",
   "execution_count": 11,
   "metadata": {
    "colab": {
     "base_uri": "https://localhost:8080/",
     "height": 34
    },
    "colab_type": "code",
    "executionInfo": {
     "elapsed": 1012,
     "status": "ok",
     "timestamp": 1565512615183,
     "user": {
      "displayName": "Ezhirko Arulmozhi",
      "photoUrl": "https://lh4.googleusercontent.com/-477BLY1dxIY/AAAAAAAAAAI/AAAAAAAAB1o/N0VNqCcpb28/s64/photo.jpg",
      "userId": "16774972310128518178"
     },
     "user_tz": -330
    },
    "id": "9az5VYFjNe7I",
    "outputId": "07d66978-bb22-48e2-87e9-4408bfb5ba6e"
   },
   "outputs": [
    {
     "name": "stdout",
     "output_type": "stream",
     "text": [
      "{'i', 'y', 'o', 'j', 'x', 'a', ' ', 'r', 'n', 'v', 'q', 'e', 'k', 'w', 'u', 'h', 's', 'l', 'g', 't', 'f', 'c', 'p', 'm', 'd', 'b', 'z'}\n"
     ]
    }
   ],
   "source": [
    "print(input_characters)"
   ]
  },
  {
   "cell_type": "markdown",
   "metadata": {
    "colab_type": "text",
    "id": "CX30Y8dZlfGQ"
   },
   "source": [
    "### Print target character"
   ]
  },
  {
   "cell_type": "code",
   "execution_count": 12,
   "metadata": {
    "colab": {
     "base_uri": "https://localhost:8080/",
     "height": 34
    },
    "colab_type": "code",
    "executionInfo": {
     "elapsed": 1019,
     "status": "ok",
     "timestamp": 1565512627577,
     "user": {
      "displayName": "Ezhirko Arulmozhi",
      "photoUrl": "https://lh4.googleusercontent.com/-477BLY1dxIY/AAAAAAAAAAI/AAAAAAAAB1o/N0VNqCcpb28/s64/photo.jpg",
      "userId": "16774972310128518178"
     },
     "user_tz": -330
    },
    "id": "kxg3509lNjnU",
    "outputId": "38bf9200-2fc6-48cd-852e-22bd7e129fff"
   },
   "outputs": [
    {
     "name": "stdout",
     "output_type": "stream",
     "text": [
      "{'i', 'y', 'o', 'j', '\\t', 'x', 'a', ' ', 'r', 'n', 'v', 'q', 'e', 'k', '\\n', 'w', 'u', 'h', 's', 'l', 'g', 't', 'f', 'c', 'p', 'b', 'd', 'm', 'z'}\n"
     ]
    }
   ],
   "source": [
    "print(target_characters)"
   ]
  },
  {
   "cell_type": "markdown",
   "metadata": {
    "colab_type": "text",
    "id": "Dw10uDT3Oc1N"
   },
   "source": [
    "## Stats from the dataset\n",
    "\n",
    "### Run the below code to check the stats from the dataset"
   ]
  },
  {
   "cell_type": "code",
   "execution_count": 0,
   "metadata": {
    "colab": {},
    "colab_type": "code",
    "id": "T4stnzMpo8ci"
   },
   "outputs": [],
   "source": [
    "input_characters = sorted(list(input_characters))\n",
    "target_characters = sorted(list(target_characters))\n",
    "num_encoder_tokens = len(input_characters)\n",
    "num_decoder_tokens = len(target_characters)\n",
    "max_encoder_seq_length = max([len(txt) for txt in input_texts])\n",
    "max_decoder_seq_length = max([len(txt) for txt in target_texts])"
   ]
  },
  {
   "cell_type": "code",
   "execution_count": 14,
   "metadata": {
    "colab": {
     "base_uri": "https://localhost:8080/",
     "height": 101
    },
    "colab_type": "code",
    "executionInfo": {
     "elapsed": 1043,
     "status": "ok",
     "timestamp": 1565512646214,
     "user": {
      "displayName": "Ezhirko Arulmozhi",
      "photoUrl": "https://lh4.googleusercontent.com/-477BLY1dxIY/AAAAAAAAAAI/AAAAAAAAB1o/N0VNqCcpb28/s64/photo.jpg",
      "userId": "16774972310128518178"
     },
     "user_tz": -330
    },
    "id": "VfbreAAUo8e6",
    "outputId": "8b68be06-55e3-45ed-cbe5-21ed87aab9a9"
   },
   "outputs": [
    {
     "name": "stdout",
     "output_type": "stream",
     "text": [
      "Number of samples: 9999\n",
      "Number of unique input tokens: 27\n",
      "Number of unique output tokens: 29\n",
      "Max sequence length for inputs: 15\n",
      "Max sequence length for outputs: 51\n"
     ]
    }
   ],
   "source": [
    "print('Number of samples:', len(input_texts))\n",
    "print('Number of unique input tokens:', num_encoder_tokens)\n",
    "print('Number of unique output tokens:', num_decoder_tokens)\n",
    "print('Max sequence length for inputs:', max_encoder_seq_length)\n",
    "print('Max sequence length for outputs:', max_decoder_seq_length)"
   ]
  },
  {
   "cell_type": "markdown",
   "metadata": {
    "colab_type": "text",
    "id": "mVuwMY0UTVKD"
   },
   "source": [
    "## Build character to index dictionary names `input_token_index` and `target_token_index` for input and target sets respectively."
   ]
  },
  {
   "cell_type": "code",
   "execution_count": 0,
   "metadata": {
    "colab": {},
    "colab_type": "code",
    "id": "QYXSW9zOo8hl"
   },
   "outputs": [],
   "source": [
    "input_token_index = dict(\n",
    "    [(char, i) for i, char in enumerate(input_characters)])\n",
    "target_token_index = dict(\n",
    "    [(char, i) for i, char in enumerate(target_characters)])"
   ]
  },
  {
   "cell_type": "markdown",
   "metadata": {
    "colab_type": "text",
    "id": "9aUS5gEamGiC"
   },
   "source": [
    "### Print input_index_token"
   ]
  },
  {
   "cell_type": "code",
   "execution_count": 16,
   "metadata": {
    "colab": {
     "base_uri": "https://localhost:8080/",
     "height": 470
    },
    "colab_type": "code",
    "executionInfo": {
     "elapsed": 1208,
     "status": "ok",
     "timestamp": 1565512855504,
     "user": {
      "displayName": "Ezhirko Arulmozhi",
      "photoUrl": "https://lh4.googleusercontent.com/-477BLY1dxIY/AAAAAAAAAAI/AAAAAAAAB1o/N0VNqCcpb28/s64/photo.jpg",
      "userId": "16774972310128518178"
     },
     "user_tz": -330
    },
    "id": "__ga4KfKTijk",
    "outputId": "18b36aa1-83b2-40b9-b2e7-3137c4a2c61f"
   },
   "outputs": [
    {
     "data": {
      "text/plain": [
       "{' ': 0,\n",
       " 'a': 1,\n",
       " 'b': 2,\n",
       " 'c': 3,\n",
       " 'd': 4,\n",
       " 'e': 5,\n",
       " 'f': 6,\n",
       " 'g': 7,\n",
       " 'h': 8,\n",
       " 'i': 9,\n",
       " 'j': 10,\n",
       " 'k': 11,\n",
       " 'l': 12,\n",
       " 'm': 13,\n",
       " 'n': 14,\n",
       " 'o': 15,\n",
       " 'p': 16,\n",
       " 'q': 17,\n",
       " 'r': 18,\n",
       " 's': 19,\n",
       " 't': 20,\n",
       " 'u': 21,\n",
       " 'v': 22,\n",
       " 'w': 23,\n",
       " 'x': 24,\n",
       " 'y': 25,\n",
       " 'z': 26}"
      ]
     },
     "execution_count": 16,
     "metadata": {
      "tags": []
     },
     "output_type": "execute_result"
    }
   ],
   "source": [
    "input_token_index"
   ]
  },
  {
   "cell_type": "markdown",
   "metadata": {
    "colab_type": "text",
    "id": "zGs66ZhjmNBA"
   },
   "source": [
    "### Print target_token_index"
   ]
  },
  {
   "cell_type": "code",
   "execution_count": 17,
   "metadata": {
    "colab": {
     "base_uri": "https://localhost:8080/",
     "height": 504
    },
    "colab_type": "code",
    "executionInfo": {
     "elapsed": 1074,
     "status": "ok",
     "timestamp": 1565512861239,
     "user": {
      "displayName": "Ezhirko Arulmozhi",
      "photoUrl": "https://lh4.googleusercontent.com/-477BLY1dxIY/AAAAAAAAAAI/AAAAAAAAB1o/N0VNqCcpb28/s64/photo.jpg",
      "userId": "16774972310128518178"
     },
     "user_tz": -330
    },
    "id": "Sa3DArDrTm1z",
    "outputId": "f50d4f25-e52a-4495-ded5-ea876b982b14"
   },
   "outputs": [
    {
     "data": {
      "text/plain": [
       "{'\\t': 0,\n",
       " '\\n': 1,\n",
       " ' ': 2,\n",
       " 'a': 3,\n",
       " 'b': 4,\n",
       " 'c': 5,\n",
       " 'd': 6,\n",
       " 'e': 7,\n",
       " 'f': 8,\n",
       " 'g': 9,\n",
       " 'h': 10,\n",
       " 'i': 11,\n",
       " 'j': 12,\n",
       " 'k': 13,\n",
       " 'l': 14,\n",
       " 'm': 15,\n",
       " 'n': 16,\n",
       " 'o': 17,\n",
       " 'p': 18,\n",
       " 'q': 19,\n",
       " 'r': 20,\n",
       " 's': 21,\n",
       " 't': 22,\n",
       " 'u': 23,\n",
       " 'v': 24,\n",
       " 'w': 25,\n",
       " 'x': 26,\n",
       " 'y': 27,\n",
       " 'z': 28}"
      ]
     },
     "execution_count": 17,
     "metadata": {
      "tags": []
     },
     "output_type": "execute_result"
    }
   ],
   "source": [
    "target_token_index"
   ]
  },
  {
   "cell_type": "markdown",
   "metadata": {
    "colab_type": "text",
    "id": "UB7uI724TrlM"
   },
   "source": [
    "## Build Model\n",
    "Initialize the required layers from keras\n",
    "\n",
    "### Import libraries"
   ]
  },
  {
   "cell_type": "code",
   "execution_count": 18,
   "metadata": {
    "colab": {
     "base_uri": "https://localhost:8080/",
     "height": 34
    },
    "colab_type": "code",
    "executionInfo": {
     "elapsed": 2517,
     "status": "ok",
     "timestamp": 1565512875572,
     "user": {
      "displayName": "Ezhirko Arulmozhi",
      "photoUrl": "https://lh4.googleusercontent.com/-477BLY1dxIY/AAAAAAAAAAI/AAAAAAAAB1o/N0VNqCcpb28/s64/photo.jpg",
      "userId": "16774972310128518178"
     },
     "user_tz": -330
    },
    "id": "T1GuGnDiqOz3",
    "outputId": "451998bc-9e11-4677-aa82-27e055825574"
   },
   "outputs": [
    {
     "name": "stderr",
     "output_type": "stream",
     "text": [
      "Using TensorFlow backend.\n"
     ]
    }
   ],
   "source": [
    "from __future__ import print_function\n",
    "\n",
    "from keras.models import Model\n",
    "from keras.layers import Input, LSTM, Dense\n",
    "import numpy as np"
   ]
  },
  {
   "cell_type": "markdown",
   "metadata": {
    "colab_type": "text",
    "id": "3q9GVu-pT9UR"
   },
   "source": [
    "### Run the below code to build one-hot vectors for the characters"
   ]
  },
  {
   "cell_type": "code",
   "execution_count": 0,
   "metadata": {
    "colab": {},
    "colab_type": "code",
    "id": "uatzEBy5qIpI"
   },
   "outputs": [],
   "source": [
    "encoder_input_data = np.zeros(\n",
    "    (len(input_texts), max_encoder_seq_length, num_encoder_tokens),\n",
    "    dtype='float32')\n",
    "decoder_input_data = np.zeros(\n",
    "    (len(input_texts), max_decoder_seq_length, num_decoder_tokens),\n",
    "    dtype='float32')\n",
    "decoder_target_data = np.zeros(\n",
    "    (len(input_texts), max_decoder_seq_length, num_decoder_tokens),\n",
    "    dtype='float32')"
   ]
  },
  {
   "cell_type": "code",
   "execution_count": 0,
   "metadata": {
    "colab": {},
    "colab_type": "code",
    "id": "MDGoIZXuqLF7"
   },
   "outputs": [],
   "source": [
    "for i, (input_text, target_text) in enumerate(zip(input_texts, target_texts)):\n",
    "    for t, char in enumerate(input_text):\n",
    "        encoder_input_data[i, t, input_token_index[char]] = 1.\n",
    "    for t, char in enumerate(target_text):\n",
    "        # decoder_target_data is ahead of decoder_input_data by one timestep\n",
    "        decoder_input_data[i, t, target_token_index[char]] = 1.\n",
    "        if t > 0:\n",
    "            # decoder_target_data will be ahead by one timestep\n",
    "            # and will not include the start character.\n",
    "            decoder_target_data[i, t - 1, target_token_index[char]] = 1."
   ]
  },
  {
   "cell_type": "markdown",
   "metadata": {
    "colab_type": "text",
    "id": "i0ihyyfeW7le"
   },
   "source": [
    "### Build the encoder Model\n",
    "\n",
    "Define an input sequence and process it.\n",
    "\n",
    "Discard `encoder_outputs` and only keep the states."
   ]
  },
  {
   "cell_type": "code",
   "execution_count": 29,
   "metadata": {
    "colab": {
     "base_uri": "https://localhost:8080/",
     "height": 87
    },
    "colab_type": "code",
    "executionInfo": {
     "elapsed": 1202,
     "status": "ok",
     "timestamp": 1565515864782,
     "user": {
      "displayName": "Ezhirko Arulmozhi",
      "photoUrl": "https://lh4.googleusercontent.com/-477BLY1dxIY/AAAAAAAAAAI/AAAAAAAAB1o/N0VNqCcpb28/s64/photo.jpg",
      "userId": "16774972310128518178"
     },
     "user_tz": -330
    },
    "id": "CQU4zjxdqXnG",
    "outputId": "f99b8150-daa8-4748-f666-a5d6d537208b"
   },
   "outputs": [
    {
     "name": "stderr",
     "output_type": "stream",
     "text": [
      "W0811 09:31:06.575567 140473397479296 deprecation.py:506] From /usr/local/lib/python3.6/dist-packages/keras/backend/tensorflow_backend.py:3445: calling dropout (from tensorflow.python.ops.nn_ops) with keep_prob is deprecated and will be removed in a future version.\n",
      "Instructions for updating:\n",
      "Please use `rate` instead of `keep_prob`. Rate should be set to `rate = 1 - keep_prob`.\n"
     ]
    }
   ],
   "source": [
    "# Define an input sequence and process it.\n",
    "encoder_inputs = Input(shape=(None, num_encoder_tokens))\n",
    "encoder = LSTM(latent_dim, return_state=True,dropout=0.2,recurrent_dropout=0.4)\n",
    "encoder_outputs, state_h, state_c = encoder(encoder_inputs)\n",
    "# We discard `encoder_outputs` and only keep the states.\n",
    "encoder_states = [state_h, state_c]\n",
    "encoder_model = Model(encoder_inputs, encoder_states)"
   ]
  },
  {
   "cell_type": "markdown",
   "metadata": {
    "colab_type": "text",
    "id": "X3PzX5oBXfGW"
   },
   "source": [
    "### Build the decoder Model\n",
    "\n",
    "Set up the decoder, using `encoder_states` as initial state.\n",
    "\n",
    "We set up our decoder to return full output sequences, and to return internal states as well. We don't use the return states in the training model, but we will use them in inference."
   ]
  },
  {
   "cell_type": "code",
   "execution_count": 0,
   "metadata": {
    "colab": {},
    "colab_type": "code",
    "id": "ytn5MNCjqZuc"
   },
   "outputs": [],
   "source": [
    "# Set up the decoder, using `encoder_states` as initial state.\n",
    "decoder_inputs = Input(shape=(None, num_decoder_tokens))\n",
    "# We set up our decoder to return full output sequences,\n",
    "# and to return internal states as well. We don't use the\n",
    "# return states in the training model, but we will use them in inference.\n",
    "decoder_lstm = LSTM(latent_dim, return_sequences=True, return_state=True,dropout=0.2,recurrent_dropout=0.4)\n",
    "decoder_outputs, _, _ = decoder_lstm(decoder_inputs,\n",
    "                                     initial_state=encoder_states)\n",
    "decoder_dense = Dense(num_decoder_tokens, activation='softmax')\n",
    "decoder_outputs = decoder_dense(decoder_outputs)"
   ]
  },
  {
   "cell_type": "markdown",
   "metadata": {
    "colab_type": "text",
    "id": "XpJnlQgvn8vN"
   },
   "source": [
    "### Define Model\n",
    "\n",
    "Define the model that will turn `encoder_input_data ` & ` decoder_input_data` into `decoder_target_data`"
   ]
  },
  {
   "cell_type": "code",
   "execution_count": 0,
   "metadata": {
    "colab": {},
    "colab_type": "code",
    "id": "E24IW9wIqcYq"
   },
   "outputs": [],
   "source": [
    "model = Model([encoder_inputs, decoder_inputs], decoder_outputs)"
   ]
  },
  {
   "cell_type": "markdown",
   "metadata": {
    "colab_type": "text",
    "id": "qvawc6CfXkzG"
   },
   "source": [
    "### Compile and fit the model"
   ]
  },
  {
   "cell_type": "code",
   "execution_count": 0,
   "metadata": {
    "colab": {},
    "colab_type": "code",
    "id": "vhXLFmApqeU4"
   },
   "outputs": [],
   "source": [
    "from keras import metrics\n",
    "model.compile(optimizer='rmsprop', \n",
    "              loss='categorical_crossentropy', \n",
    "              metrics=[metrics.categorical_accuracy])"
   ]
  },
  {
   "cell_type": "code",
   "execution_count": 33,
   "metadata": {
    "colab": {
     "base_uri": "https://localhost:8080/",
     "height": 1000
    },
    "colab_type": "code",
    "executionInfo": {
     "elapsed": 1201381,
     "status": "ok",
     "timestamp": 1565517099703,
     "user": {
      "displayName": "Ezhirko Arulmozhi",
      "photoUrl": "https://lh4.googleusercontent.com/-477BLY1dxIY/AAAAAAAAAAI/AAAAAAAAB1o/N0VNqCcpb28/s64/photo.jpg",
      "userId": "16774972310128518178"
     },
     "user_tz": -330
    },
    "id": "-sPcI0Q625Bq",
    "outputId": "d95dbb59-8ae1-4a48-e976-7c1717c562ce"
   },
   "outputs": [
    {
     "name": "stdout",
     "output_type": "stream",
     "text": [
      "Train on 7999 samples, validate on 2000 samples\n",
      "Epoch 1/100\n",
      "7999/7999 [==============================] - 14s 2ms/step - loss: 0.9771 - categorical_accuracy: 0.0822 - val_loss: 0.8459 - val_categorical_accuracy: 0.1125\n",
      "Epoch 2/100\n",
      "7999/7999 [==============================] - 12s 1ms/step - loss: 0.8015 - categorical_accuracy: 0.1318 - val_loss: 0.7242 - val_categorical_accuracy: 0.1474\n",
      "Epoch 3/100\n",
      "7999/7999 [==============================] - 12s 2ms/step - loss: 0.7294 - categorical_accuracy: 0.1482 - val_loss: 0.6478 - val_categorical_accuracy: 0.1667\n",
      "Epoch 4/100\n",
      "7999/7999 [==============================] - 12s 2ms/step - loss: 0.6808 - categorical_accuracy: 0.1621 - val_loss: 0.6074 - val_categorical_accuracy: 0.1749\n",
      "Epoch 5/100\n",
      "7999/7999 [==============================] - 12s 1ms/step - loss: 0.6493 - categorical_accuracy: 0.1711 - val_loss: 0.5789 - val_categorical_accuracy: 0.1815\n",
      "Epoch 6/100\n",
      "7999/7999 [==============================] - 12s 1ms/step - loss: 0.6236 - categorical_accuracy: 0.1775 - val_loss: 0.5583 - val_categorical_accuracy: 0.1866\n",
      "Epoch 7/100\n",
      "7999/7999 [==============================] - 12s 1ms/step - loss: 0.6048 - categorical_accuracy: 0.1831 - val_loss: 0.5396 - val_categorical_accuracy: 0.1949\n",
      "Epoch 8/100\n",
      "7999/7999 [==============================] - 12s 1ms/step - loss: 0.5873 - categorical_accuracy: 0.1877 - val_loss: 0.5245 - val_categorical_accuracy: 0.1996\n",
      "Epoch 9/100\n",
      "7999/7999 [==============================] - 12s 1ms/step - loss: 0.5722 - categorical_accuracy: 0.1920 - val_loss: 0.5142 - val_categorical_accuracy: 0.2017\n",
      "Epoch 10/100\n",
      "7999/7999 [==============================] - 12s 2ms/step - loss: 0.5608 - categorical_accuracy: 0.1950 - val_loss: 0.5021 - val_categorical_accuracy: 0.2054\n",
      "Epoch 11/100\n",
      "7999/7999 [==============================] - 12s 2ms/step - loss: 0.5503 - categorical_accuracy: 0.1977 - val_loss: 0.4919 - val_categorical_accuracy: 0.2080\n",
      "Epoch 12/100\n",
      "7999/7999 [==============================] - 12s 1ms/step - loss: 0.5397 - categorical_accuracy: 0.2010 - val_loss: 0.4848 - val_categorical_accuracy: 0.2106\n",
      "Epoch 13/100\n",
      "7999/7999 [==============================] - 12s 2ms/step - loss: 0.5301 - categorical_accuracy: 0.2036 - val_loss: 0.4782 - val_categorical_accuracy: 0.2127\n",
      "Epoch 14/100\n",
      "7999/7999 [==============================] - 12s 1ms/step - loss: 0.5220 - categorical_accuracy: 0.2065 - val_loss: 0.4690 - val_categorical_accuracy: 0.2153\n",
      "Epoch 15/100\n",
      "7999/7999 [==============================] - 12s 2ms/step - loss: 0.5135 - categorical_accuracy: 0.2082 - val_loss: 0.4622 - val_categorical_accuracy: 0.2166\n",
      "Epoch 16/100\n",
      "7999/7999 [==============================] - 12s 2ms/step - loss: 0.5063 - categorical_accuracy: 0.2108 - val_loss: 0.4552 - val_categorical_accuracy: 0.2203\n",
      "Epoch 17/100\n",
      "7999/7999 [==============================] - 12s 2ms/step - loss: 0.5000 - categorical_accuracy: 0.2125 - val_loss: 0.4510 - val_categorical_accuracy: 0.2205\n",
      "Epoch 18/100\n",
      "7999/7999 [==============================] - 12s 2ms/step - loss: 0.4937 - categorical_accuracy: 0.2147 - val_loss: 0.4430 - val_categorical_accuracy: 0.2229\n",
      "Epoch 19/100\n",
      "7999/7999 [==============================] - 12s 1ms/step - loss: 0.4883 - categorical_accuracy: 0.2162 - val_loss: 0.4408 - val_categorical_accuracy: 0.2241\n",
      "Epoch 20/100\n",
      "7999/7999 [==============================] - 12s 1ms/step - loss: 0.4828 - categorical_accuracy: 0.2176 - val_loss: 0.4341 - val_categorical_accuracy: 0.2261\n",
      "Epoch 21/100\n",
      "7999/7999 [==============================] - 12s 2ms/step - loss: 0.4774 - categorical_accuracy: 0.2195 - val_loss: 0.4298 - val_categorical_accuracy: 0.2275\n",
      "Epoch 22/100\n",
      "7999/7999 [==============================] - 12s 2ms/step - loss: 0.4721 - categorical_accuracy: 0.2209 - val_loss: 0.4260 - val_categorical_accuracy: 0.2287\n",
      "Epoch 23/100\n",
      "7999/7999 [==============================] - 12s 2ms/step - loss: 0.4675 - categorical_accuracy: 0.2223 - val_loss: 0.4214 - val_categorical_accuracy: 0.2298\n",
      "Epoch 24/100\n",
      "7999/7999 [==============================] - 12s 2ms/step - loss: 0.4638 - categorical_accuracy: 0.2235 - val_loss: 0.4171 - val_categorical_accuracy: 0.2319\n",
      "Epoch 25/100\n",
      "7999/7999 [==============================] - 12s 1ms/step - loss: 0.4584 - categorical_accuracy: 0.2253 - val_loss: 0.4143 - val_categorical_accuracy: 0.2330\n",
      "Epoch 26/100\n",
      "7999/7999 [==============================] - 12s 2ms/step - loss: 0.4550 - categorical_accuracy: 0.2259 - val_loss: 0.4109 - val_categorical_accuracy: 0.2335\n",
      "Epoch 27/100\n",
      "7999/7999 [==============================] - 12s 2ms/step - loss: 0.4513 - categorical_accuracy: 0.2276 - val_loss: 0.4068 - val_categorical_accuracy: 0.2345\n",
      "Epoch 28/100\n",
      "7999/7999 [==============================] - 12s 1ms/step - loss: 0.4472 - categorical_accuracy: 0.2287 - val_loss: 0.4040 - val_categorical_accuracy: 0.2354\n",
      "Epoch 29/100\n",
      "7999/7999 [==============================] - 12s 1ms/step - loss: 0.4435 - categorical_accuracy: 0.2294 - val_loss: 0.4014 - val_categorical_accuracy: 0.2367\n",
      "Epoch 30/100\n",
      "7999/7999 [==============================] - 12s 1ms/step - loss: 0.4399 - categorical_accuracy: 0.2311 - val_loss: 0.3970 - val_categorical_accuracy: 0.2380\n",
      "Epoch 31/100\n",
      "7999/7999 [==============================] - 12s 1ms/step - loss: 0.4369 - categorical_accuracy: 0.2318 - val_loss: 0.3952 - val_categorical_accuracy: 0.2390\n",
      "Epoch 32/100\n",
      "7999/7999 [==============================] - 12s 1ms/step - loss: 0.4344 - categorical_accuracy: 0.2326 - val_loss: 0.3933 - val_categorical_accuracy: 0.2390\n",
      "Epoch 33/100\n",
      "7999/7999 [==============================] - 12s 1ms/step - loss: 0.4303 - categorical_accuracy: 0.2337 - val_loss: 0.3892 - val_categorical_accuracy: 0.2408\n",
      "Epoch 34/100\n",
      "7999/7999 [==============================] - 12s 1ms/step - loss: 0.4275 - categorical_accuracy: 0.2343 - val_loss: 0.3883 - val_categorical_accuracy: 0.2408\n",
      "Epoch 35/100\n",
      "7999/7999 [==============================] - 12s 1ms/step - loss: 0.4238 - categorical_accuracy: 0.2354 - val_loss: 0.3865 - val_categorical_accuracy: 0.2421\n",
      "Epoch 36/100\n",
      "7999/7999 [==============================] - 12s 1ms/step - loss: 0.4211 - categorical_accuracy: 0.2364 - val_loss: 0.3840 - val_categorical_accuracy: 0.2424\n",
      "Epoch 37/100\n",
      "7999/7999 [==============================] - 12s 2ms/step - loss: 0.4187 - categorical_accuracy: 0.2375 - val_loss: 0.3802 - val_categorical_accuracy: 0.2444\n",
      "Epoch 38/100\n",
      "7999/7999 [==============================] - 12s 1ms/step - loss: 0.4170 - categorical_accuracy: 0.2377 - val_loss: 0.3763 - val_categorical_accuracy: 0.2444\n",
      "Epoch 39/100\n",
      "7999/7999 [==============================] - 12s 1ms/step - loss: 0.4141 - categorical_accuracy: 0.2387 - val_loss: 0.3757 - val_categorical_accuracy: 0.2450\n",
      "Epoch 40/100\n",
      "7999/7999 [==============================] - 12s 1ms/step - loss: 0.4110 - categorical_accuracy: 0.2394 - val_loss: 0.3741 - val_categorical_accuracy: 0.2454\n",
      "Epoch 41/100\n",
      "7999/7999 [==============================] - 12s 1ms/step - loss: 0.4090 - categorical_accuracy: 0.2401 - val_loss: 0.3717 - val_categorical_accuracy: 0.2463\n",
      "Epoch 42/100\n",
      "7999/7999 [==============================] - 12s 1ms/step - loss: 0.4072 - categorical_accuracy: 0.2411 - val_loss: 0.3690 - val_categorical_accuracy: 0.2473\n",
      "Epoch 43/100\n",
      "7999/7999 [==============================] - 12s 1ms/step - loss: 0.4063 - categorical_accuracy: 0.2407 - val_loss: 0.3674 - val_categorical_accuracy: 0.2476\n",
      "Epoch 44/100\n",
      "7999/7999 [==============================] - 12s 2ms/step - loss: 0.4024 - categorical_accuracy: 0.2420 - val_loss: 0.3662 - val_categorical_accuracy: 0.2490\n",
      "Epoch 45/100\n",
      "7999/7999 [==============================] - 12s 1ms/step - loss: 0.4004 - categorical_accuracy: 0.2427 - val_loss: 0.3650 - val_categorical_accuracy: 0.2485\n",
      "Epoch 46/100\n",
      "7999/7999 [==============================] - 12s 1ms/step - loss: 0.3992 - categorical_accuracy: 0.2428 - val_loss: 0.3628 - val_categorical_accuracy: 0.2497\n",
      "Epoch 47/100\n",
      "7999/7999 [==============================] - 12s 2ms/step - loss: 0.3973 - categorical_accuracy: 0.2441 - val_loss: 0.3622 - val_categorical_accuracy: 0.2502\n",
      "Epoch 48/100\n",
      "7999/7999 [==============================] - 12s 1ms/step - loss: 0.3952 - categorical_accuracy: 0.2446 - val_loss: 0.3594 - val_categorical_accuracy: 0.2502\n",
      "Epoch 49/100\n",
      "7999/7999 [==============================] - 12s 1ms/step - loss: 0.3923 - categorical_accuracy: 0.2454 - val_loss: 0.3585 - val_categorical_accuracy: 0.2515\n",
      "Epoch 50/100\n",
      "7999/7999 [==============================] - 12s 1ms/step - loss: 0.3901 - categorical_accuracy: 0.2460 - val_loss: 0.3569 - val_categorical_accuracy: 0.2509\n",
      "Epoch 51/100\n",
      "7999/7999 [==============================] - 12s 1ms/step - loss: 0.3887 - categorical_accuracy: 0.2465 - val_loss: 0.3545 - val_categorical_accuracy: 0.2520\n",
      "Epoch 52/100\n",
      "7999/7999 [==============================] - 12s 2ms/step - loss: 0.3867 - categorical_accuracy: 0.2468 - val_loss: 0.3541 - val_categorical_accuracy: 0.2524\n",
      "Epoch 53/100\n",
      "7999/7999 [==============================] - 12s 1ms/step - loss: 0.3860 - categorical_accuracy: 0.2472 - val_loss: 0.3525 - val_categorical_accuracy: 0.2526\n",
      "Epoch 54/100\n",
      "7999/7999 [==============================] - 12s 1ms/step - loss: 0.3846 - categorical_accuracy: 0.2477 - val_loss: 0.3505 - val_categorical_accuracy: 0.2526\n",
      "Epoch 55/100\n",
      "7999/7999 [==============================] - 12s 1ms/step - loss: 0.3824 - categorical_accuracy: 0.2480 - val_loss: 0.3497 - val_categorical_accuracy: 0.2536\n",
      "Epoch 56/100\n",
      "7999/7999 [==============================] - 12s 1ms/step - loss: 0.3808 - categorical_accuracy: 0.2488 - val_loss: 0.3479 - val_categorical_accuracy: 0.2546\n",
      "Epoch 57/100\n",
      "7999/7999 [==============================] - 12s 2ms/step - loss: 0.3786 - categorical_accuracy: 0.2490 - val_loss: 0.3465 - val_categorical_accuracy: 0.2548\n",
      "Epoch 58/100\n",
      "7999/7999 [==============================] - 12s 1ms/step - loss: 0.3784 - categorical_accuracy: 0.2497 - val_loss: 0.3446 - val_categorical_accuracy: 0.2557\n",
      "Epoch 59/100\n",
      "7999/7999 [==============================] - 12s 1ms/step - loss: 0.3754 - categorical_accuracy: 0.2500 - val_loss: 0.3440 - val_categorical_accuracy: 0.2561\n",
      "Epoch 60/100\n",
      "7999/7999 [==============================] - 12s 1ms/step - loss: 0.3759 - categorical_accuracy: 0.2502 - val_loss: 0.3433 - val_categorical_accuracy: 0.2564\n",
      "Epoch 61/100\n",
      "7999/7999 [==============================] - 12s 1ms/step - loss: 0.3737 - categorical_accuracy: 0.2510 - val_loss: 0.3422 - val_categorical_accuracy: 0.2569\n",
      "Epoch 62/100\n",
      "7999/7999 [==============================] - 12s 1ms/step - loss: 0.3728 - categorical_accuracy: 0.2512 - val_loss: 0.3399 - val_categorical_accuracy: 0.2574\n",
      "Epoch 63/100\n",
      "7999/7999 [==============================] - 12s 1ms/step - loss: 0.3717 - categorical_accuracy: 0.2514 - val_loss: 0.3386 - val_categorical_accuracy: 0.2576\n",
      "Epoch 64/100\n",
      "7999/7999 [==============================] - 12s 1ms/step - loss: 0.3696 - categorical_accuracy: 0.2518 - val_loss: 0.3383 - val_categorical_accuracy: 0.2575\n",
      "Epoch 65/100\n",
      "7999/7999 [==============================] - 12s 1ms/step - loss: 0.3683 - categorical_accuracy: 0.2522 - val_loss: 0.3367 - val_categorical_accuracy: 0.2582\n",
      "Epoch 66/100\n",
      "7999/7999 [==============================] - 12s 1ms/step - loss: 0.3672 - categorical_accuracy: 0.2525 - val_loss: 0.3361 - val_categorical_accuracy: 0.2580\n",
      "Epoch 67/100\n",
      "7999/7999 [==============================] - 12s 1ms/step - loss: 0.3659 - categorical_accuracy: 0.2529 - val_loss: 0.3359 - val_categorical_accuracy: 0.2582\n",
      "Epoch 68/100\n",
      "7999/7999 [==============================] - 12s 1ms/step - loss: 0.3648 - categorical_accuracy: 0.2534 - val_loss: 0.3337 - val_categorical_accuracy: 0.2590\n",
      "Epoch 69/100\n",
      "7999/7999 [==============================] - 12s 1ms/step - loss: 0.3627 - categorical_accuracy: 0.2543 - val_loss: 0.3353 - val_categorical_accuracy: 0.2584\n",
      "Epoch 70/100\n",
      "7999/7999 [==============================] - 12s 1ms/step - loss: 0.3621 - categorical_accuracy: 0.2541 - val_loss: 0.3319 - val_categorical_accuracy: 0.2594\n",
      "Epoch 71/100\n",
      "7999/7999 [==============================] - 12s 1ms/step - loss: 0.3607 - categorical_accuracy: 0.2551 - val_loss: 0.3319 - val_categorical_accuracy: 0.2598\n",
      "Epoch 72/100\n",
      "7999/7999 [==============================] - 12s 1ms/step - loss: 0.3606 - categorical_accuracy: 0.2548 - val_loss: 0.3309 - val_categorical_accuracy: 0.2598\n",
      "Epoch 73/100\n",
      "7999/7999 [==============================] - 12s 2ms/step - loss: 0.3581 - categorical_accuracy: 0.2552 - val_loss: 0.3298 - val_categorical_accuracy: 0.2603\n",
      "Epoch 74/100\n",
      "7999/7999 [==============================] - 12s 1ms/step - loss: 0.3572 - categorical_accuracy: 0.2560 - val_loss: 0.3286 - val_categorical_accuracy: 0.2609\n",
      "Epoch 75/100\n",
      "7999/7999 [==============================] - 12s 1ms/step - loss: 0.3579 - categorical_accuracy: 0.2551 - val_loss: 0.3288 - val_categorical_accuracy: 0.2611\n",
      "Epoch 76/100\n",
      "7999/7999 [==============================] - 12s 1ms/step - loss: 0.3548 - categorical_accuracy: 0.2563 - val_loss: 0.3271 - val_categorical_accuracy: 0.2615\n",
      "Epoch 77/100\n",
      "7999/7999 [==============================] - 12s 1ms/step - loss: 0.3551 - categorical_accuracy: 0.2566 - val_loss: 0.3263 - val_categorical_accuracy: 0.2616\n",
      "Epoch 78/100\n",
      "7999/7999 [==============================] - 12s 1ms/step - loss: 0.3537 - categorical_accuracy: 0.2568 - val_loss: 0.3257 - val_categorical_accuracy: 0.2617\n",
      "Epoch 79/100\n",
      "7999/7999 [==============================] - 12s 1ms/step - loss: 0.3524 - categorical_accuracy: 0.2576 - val_loss: 0.3246 - val_categorical_accuracy: 0.2622\n",
      "Epoch 80/100\n",
      "7999/7999 [==============================] - 12s 1ms/step - loss: 0.3526 - categorical_accuracy: 0.2572 - val_loss: 0.3237 - val_categorical_accuracy: 0.2627\n",
      "Epoch 81/100\n",
      "7999/7999 [==============================] - 12s 1ms/step - loss: 0.3507 - categorical_accuracy: 0.2577 - val_loss: 0.3231 - val_categorical_accuracy: 0.2626\n",
      "Epoch 82/100\n",
      "7999/7999 [==============================] - 12s 1ms/step - loss: 0.3502 - categorical_accuracy: 0.2578 - val_loss: 0.3221 - val_categorical_accuracy: 0.2630\n",
      "Epoch 83/100\n",
      "7999/7999 [==============================] - 12s 1ms/step - loss: 0.3485 - categorical_accuracy: 0.2584 - val_loss: 0.3221 - val_categorical_accuracy: 0.2630\n",
      "Epoch 84/100\n",
      "7999/7999 [==============================] - 12s 1ms/step - loss: 0.3484 - categorical_accuracy: 0.2586 - val_loss: 0.3214 - val_categorical_accuracy: 0.2636\n",
      "Epoch 85/100\n",
      "7999/7999 [==============================] - 12s 1ms/step - loss: 0.3475 - categorical_accuracy: 0.2591 - val_loss: 0.3201 - val_categorical_accuracy: 0.2640\n",
      "Epoch 86/100\n",
      "7999/7999 [==============================] - 12s 1ms/step - loss: 0.3464 - categorical_accuracy: 0.2590 - val_loss: 0.3202 - val_categorical_accuracy: 0.2638\n",
      "Epoch 87/100\n",
      "7999/7999 [==============================] - 12s 1ms/step - loss: 0.3458 - categorical_accuracy: 0.2591 - val_loss: 0.3191 - val_categorical_accuracy: 0.2640\n",
      "Epoch 88/100\n",
      "7999/7999 [==============================] - 12s 1ms/step - loss: 0.3440 - categorical_accuracy: 0.2594 - val_loss: 0.3180 - val_categorical_accuracy: 0.2643\n",
      "Epoch 89/100\n",
      "7999/7999 [==============================] - 12s 1ms/step - loss: 0.3432 - categorical_accuracy: 0.2602 - val_loss: 0.3176 - val_categorical_accuracy: 0.2644\n",
      "Epoch 90/100\n",
      "7999/7999 [==============================] - 12s 1ms/step - loss: 0.3433 - categorical_accuracy: 0.2594 - val_loss: 0.3161 - val_categorical_accuracy: 0.2651\n",
      "Epoch 91/100\n",
      "7999/7999 [==============================] - 12s 2ms/step - loss: 0.3407 - categorical_accuracy: 0.2605 - val_loss: 0.3159 - val_categorical_accuracy: 0.2653\n",
      "Epoch 92/100\n",
      "7999/7999 [==============================] - 12s 1ms/step - loss: 0.3409 - categorical_accuracy: 0.2607 - val_loss: 0.3152 - val_categorical_accuracy: 0.2656\n",
      "Epoch 93/100\n",
      "7999/7999 [==============================] - 12s 1ms/step - loss: 0.3404 - categorical_accuracy: 0.2606 - val_loss: 0.3144 - val_categorical_accuracy: 0.2655\n",
      "Epoch 94/100\n",
      "7999/7999 [==============================] - 12s 1ms/step - loss: 0.3408 - categorical_accuracy: 0.2611 - val_loss: 0.3138 - val_categorical_accuracy: 0.2658\n",
      "Epoch 95/100\n",
      "7999/7999 [==============================] - 12s 1ms/step - loss: 0.3390 - categorical_accuracy: 0.2608 - val_loss: 0.3137 - val_categorical_accuracy: 0.2659\n",
      "Epoch 96/100\n",
      "7999/7999 [==============================] - 12s 1ms/step - loss: 0.3380 - categorical_accuracy: 0.2615 - val_loss: 0.3132 - val_categorical_accuracy: 0.2659\n",
      "Epoch 97/100\n",
      "7999/7999 [==============================] - 12s 1ms/step - loss: 0.3374 - categorical_accuracy: 0.2617 - val_loss: 0.3119 - val_categorical_accuracy: 0.2666\n",
      "Epoch 98/100\n",
      "7999/7999 [==============================] - 12s 1ms/step - loss: 0.3363 - categorical_accuracy: 0.2621 - val_loss: 0.3122 - val_categorical_accuracy: 0.2664\n",
      "Epoch 99/100\n",
      "7999/7999 [==============================] - 12s 2ms/step - loss: 0.3355 - categorical_accuracy: 0.2623 - val_loss: 0.3123 - val_categorical_accuracy: 0.2665\n",
      "Epoch 100/100\n",
      "7999/7999 [==============================] - 12s 1ms/step - loss: 0.3350 - categorical_accuracy: 0.2628 - val_loss: 0.3103 - val_categorical_accuracy: 0.2671\n"
     ]
    },
    {
     "data": {
      "text/plain": [
       "<keras.callbacks.History at 0x7fc22467d780>"
      ]
     },
     "execution_count": 33,
     "metadata": {
      "tags": []
     },
     "output_type": "execute_result"
    }
   ],
   "source": [
    "model.fit([encoder_input_data, decoder_input_data], decoder_target_data,\n",
    "          batch_size=batch_size,\n",
    "          epochs=100,\n",
    "          validation_split=0.2)"
   ]
  },
  {
   "cell_type": "markdown",
   "metadata": {
    "colab_type": "text",
    "id": "7o4khltlof6H"
   },
   "source": [
    "### Save the model"
   ]
  },
  {
   "cell_type": "code",
   "execution_count": 34,
   "metadata": {
    "colab": {
     "base_uri": "https://localhost:8080/",
     "height": 70
    },
    "colab_type": "code",
    "executionInfo": {
     "elapsed": 1143,
     "status": "ok",
     "timestamp": 1565517113264,
     "user": {
      "displayName": "Ezhirko Arulmozhi",
      "photoUrl": "https://lh4.googleusercontent.com/-477BLY1dxIY/AAAAAAAAAAI/AAAAAAAAB1o/N0VNqCcpb28/s64/photo.jpg",
      "userId": "16774972310128518178"
     },
     "user_tz": -330
    },
    "id": "nVgGMc5Lojmo",
    "outputId": "de461e06-fd88-4674-dda9-e11d4f1cbc99"
   },
   "outputs": [
    {
     "name": "stderr",
     "output_type": "stream",
     "text": [
      "/usr/local/lib/python3.6/dist-packages/keras/engine/network.py:877: UserWarning: Layer lstm_4 was passed non-serializable keyword arguments: {'initial_state': [<tf.Tensor 'lstm_3/while/Exit_2:0' shape=(?, 256) dtype=float32>, <tf.Tensor 'lstm_3/while/Exit_3:0' shape=(?, 256) dtype=float32>]}. They will not be included in the serialized model (and thus will be missing at deserialization time).\n",
      "  '. They will not be included '\n"
     ]
    }
   ],
   "source": [
    "# Save model\n",
    "model.save('s2s.h5')"
   ]
  },
  {
   "cell_type": "markdown",
   "metadata": {
    "colab_type": "text",
    "id": "zbLdraJ1XpsR"
   },
   "source": [
    "## Run the below code for inferencing the model"
   ]
  },
  {
   "cell_type": "code",
   "execution_count": 0,
   "metadata": {
    "colab": {},
    "colab_type": "code",
    "id": "4O7jtJYh29uo"
   },
   "outputs": [],
   "source": [
    "encoder_model = Model(encoder_inputs, encoder_states)\n",
    "\n",
    "decoder_state_input_h = Input(shape=(latent_dim,))\n",
    "decoder_state_input_c = Input(shape=(latent_dim,))\n",
    "decoder_states_inputs = [decoder_state_input_h, decoder_state_input_c]\n",
    "decoder_outputs, state_h, state_c = decoder_lstm(decoder_inputs, initial_state=decoder_states_inputs)\n",
    "decoder_states = [state_h, state_c]\n",
    "decoder_outputs = decoder_dense(decoder_outputs)\n",
    "\n",
    "decoder_model = Model(\n",
    "    [decoder_inputs] + decoder_states_inputs,\n",
    "    [decoder_outputs] + decoder_states)"
   ]
  },
  {
   "cell_type": "markdown",
   "metadata": {
    "colab_type": "text",
    "id": "scaoVQVapHLk"
   },
   "source": [
    "## Reverse-lookup token index to decode sequences back to something readable."
   ]
  },
  {
   "cell_type": "code",
   "execution_count": 0,
   "metadata": {
    "colab": {},
    "colab_type": "code",
    "id": "_3t_ntoTq0fP"
   },
   "outputs": [],
   "source": [
    "# Reverse-lookup token index to decode sequences back to\n",
    "# something readable.\n",
    "reverse_input_char_index = dict(\n",
    "    (i, char) for char, i in input_token_index.items())\n",
    "reverse_target_char_index = dict(\n",
    "    (i, char) for char, i in target_token_index.items())"
   ]
  },
  {
   "cell_type": "code",
   "execution_count": 37,
   "metadata": {
    "colab": {
     "base_uri": "https://localhost:8080/",
     "height": 70
    },
    "colab_type": "code",
    "executionInfo": {
     "elapsed": 1006,
     "status": "ok",
     "timestamp": 1565517124978,
     "user": {
      "displayName": "Ezhirko Arulmozhi",
      "photoUrl": "https://lh4.googleusercontent.com/-477BLY1dxIY/AAAAAAAAAAI/AAAAAAAAB1o/N0VNqCcpb28/s64/photo.jpg",
      "userId": "16774972310128518178"
     },
     "user_tz": -330
    },
    "id": "_9WAWX6ApcrG",
    "outputId": "5ee9e400-4aad-46e5-8129-b9cb417527ab"
   },
   "outputs": [
    {
     "name": "stdout",
     "output_type": "stream",
     "text": [
      "{0: ' ', 1: 'a', 2: 'b', 3: 'c', 4: 'd', 5: 'e', 6: 'f', 7: 'g', 8: 'h', 9: 'i', 10: 'j', 11: 'k', 12: 'l', 13: 'm', 14: 'n', 15: 'o', 16: 'p', 17: 'q', 18: 'r', 19: 's', 20: 't', 21: 'u', 22: 'v', 23: 'w', 24: 'x', 25: 'y', 26: 'z'}\n",
      "{0: '\\t', 1: '\\n', 2: ' ', 3: 'a', 4: 'b', 5: 'c', 6: 'd', 7: 'e', 8: 'f', 9: 'g', 10: 'h', 11: 'i', 12: 'j', 13: 'k', 14: 'l', 15: 'm', 16: 'n', 17: 'o', 18: 'p', 19: 'q', 20: 'r', 21: 's', 22: 't', 23: 'u', 24: 'v', 25: 'w', 26: 'x', 27: 'y', 28: 'z'}\n"
     ]
    }
   ],
   "source": [
    "print(reverse_input_char_index)\n",
    "print(reverse_target_char_index)"
   ]
  },
  {
   "cell_type": "code",
   "execution_count": 0,
   "metadata": {
    "colab": {},
    "colab_type": "code",
    "id": "FYJkd_AZq0iI"
   },
   "outputs": [],
   "source": [
    "def decode_sequence(input_seq):\n",
    "    # Encode the input as state vectors.\n",
    "    states_value = encoder_model.predict(input_seq)\n",
    "\n",
    "    # Generate empty target sequence of length 1.\n",
    "    target_seq = np.zeros((1, 1, num_decoder_tokens))\n",
    "    # Populate the first character of target sequence with the start character.\n",
    "    target_seq[0, 0, target_token_index['\\t']] = 1.\n",
    "\n",
    "    # Sampling loop for a batch of sequences\n",
    "    # (to simplify, here we assume a batch of size 1).\n",
    "    stop_condition = False\n",
    "    decoded_sentence = ''\n",
    "    while not stop_condition:\n",
    "        output_tokens, h, c = decoder_model.predict(\n",
    "            [target_seq] + states_value)\n",
    "\n",
    "        # Sample a token\n",
    "        sampled_token_index = np.argmax(output_tokens[0, -1, :])\n",
    "        sampled_char = reverse_target_char_index[sampled_token_index]\n",
    "        decoded_sentence += sampled_char\n",
    "\n",
    "        # Exit condition: either hit max length\n",
    "        # or find stop character.\n",
    "        if (sampled_char == '\\n' or\n",
    "           len(decoded_sentence) > max_decoder_seq_length):\n",
    "            stop_condition = True\n",
    "\n",
    "        # Update the target sequence (of length 1).\n",
    "        target_seq = np.zeros((1, 1, num_decoder_tokens))\n",
    "        target_seq[0, 0, sampled_token_index] = 1.\n",
    "\n",
    "        # Update states\n",
    "        states_value = [h, c]\n",
    "\n",
    "    return decoded_sentence"
   ]
  },
  {
   "cell_type": "markdown",
   "metadata": {
    "colab_type": "text",
    "id": "jiPl9MHkXv0z"
   },
   "source": [
    "## Run the below code for checking some outputs from the model."
   ]
  },
  {
   "cell_type": "code",
   "execution_count": 39,
   "metadata": {
    "colab": {
     "base_uri": "https://localhost:8080/",
     "height": 689
    },
    "colab_type": "code",
    "executionInfo": {
     "elapsed": 1613,
     "status": "ok",
     "timestamp": 1565517137507,
     "user": {
      "displayName": "Ezhirko Arulmozhi",
      "photoUrl": "https://lh4.googleusercontent.com/-477BLY1dxIY/AAAAAAAAAAI/AAAAAAAAB1o/N0VNqCcpb28/s64/photo.jpg",
      "userId": "16774972310128518178"
     },
     "user_tz": -330
    },
    "id": "7IFQIeCGq0nk",
    "outputId": "76f6acd5-202d-47b4-dbbe-eab540079183"
   },
   "outputs": [
    {
     "name": "stdout",
     "output_type": "stream",
     "text": [
      "-\n",
      "Input sentence: stay with us\n",
      "Decoded sentence: bleib dich auf\n",
      "\n",
      "-\n",
      "Input sentence: she wants him\n",
      "Decoded sentence: sie will es nicht sehen\n",
      "\n",
      "-\n",
      "Input sentence: youre strong\n",
      "Decoded sentence: du bist ein geld\n",
      "\n",
      "-\n",
      "Input sentence: examine this\n",
      "Decoded sentence: schlagen sie das an\n",
      "\n",
      "-\n",
      "Input sentence: heres my card\n",
      "Decoded sentence: hier ist mein auto\n",
      "\n",
      "-\n",
      "Input sentence: tom burped\n",
      "Decoded sentence: tom hat geschlafen\n",
      "\n",
      "-\n",
      "Input sentence: it is no joke\n",
      "Decoded sentence: es ist nicht gerade\n",
      "\n",
      "-\n",
      "Input sentence: tom is a spy\n",
      "Decoded sentence: tom ist ein schlussel\n",
      "\n",
      "-\n",
      "Input sentence: im a teenager\n",
      "Decoded sentence: ich bin ein buch\n",
      "\n",
      "-\n",
      "Input sentence: im not crazy\n",
      "Decoded sentence: ich bin nicht beschaftigt\n",
      "\n"
     ]
    }
   ],
   "source": [
    "for seq_index in range(10):\n",
    "    # Take one sequence (part of the training set)\n",
    "    # for trying out decoding.\n",
    "    input_seq = encoder_input_data[seq_index: seq_index + 1]\n",
    "    decoded_sentence = decode_sequence(input_seq)\n",
    "    print('-')\n",
    "    print('Input sentence:', input_texts[seq_index])\n",
    "    print('Decoded sentence:', decoded_sentence)"
   ]
  }
 ],
 "metadata": {
  "accelerator": "GPU",
  "colab": {
   "collapsed_sections": [],
   "name": "nmt_ger-eng_questions.ipynb",
   "provenance": [
    {
     "file_id": "1wuD04F1NotL8qhtZpHT0CUrC6sR7h_uy",
     "timestamp": 1558212316066
    }
   ],
   "version": "0.3.2"
  },
  "kernelspec": {
   "display_name": "Python 3",
   "language": "python",
   "name": "python3"
  },
  "language_info": {
   "codemirror_mode": {
    "name": "ipython",
    "version": 3
   },
   "file_extension": ".py",
   "mimetype": "text/x-python",
   "name": "python",
   "nbconvert_exporter": "python",
   "pygments_lexer": "ipython3",
   "version": "3.7.4"
  }
 },
 "nbformat": 4,
 "nbformat_minor": 1
}
