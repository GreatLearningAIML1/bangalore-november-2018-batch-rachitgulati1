{
 "cells": [
  {
   "cell_type": "markdown",
   "metadata": {
    "colab_type": "text",
    "id": "84Q8JfvaeZZ6"
   },
   "source": [
    "## Linear Classifier in TensorFlow \n",
    "Using Low Level API in Eager Execution mode"
   ]
  },
  {
   "cell_type": "markdown",
   "metadata": {
    "colab_type": "text",
    "id": "sb7Epo0VOB58"
   },
   "source": [
    "### Load tensorflow"
   ]
  },
  {
   "cell_type": "code",
   "execution_count": 1,
   "metadata": {
    "colab": {},
    "colab_type": "code",
    "id": "fHpCNRv1OB5-"
   },
   "outputs": [],
   "source": [
    "import tensorflow as tf"
   ]
  },
  {
   "cell_type": "code",
   "execution_count": 2,
   "metadata": {},
   "outputs": [],
   "source": [
    "tf.enable_eager_execution()"
   ]
  },
  {
   "cell_type": "code",
   "execution_count": 3,
   "metadata": {
    "colab": {},
    "colab_type": "code",
    "id": "Mjtb-EMcm5K0"
   },
   "outputs": [],
   "source": [
    "#Enable Eager Execution if using tensflow version < 2.0\n",
    "#From tensorflow v2.0 onwards, Eager Execution will be enabled by default\n"
   ]
  },
  {
   "cell_type": "markdown",
   "metadata": {
    "colab_type": "text",
    "id": "DxJDmJqqOB6K",
    "slideshow": {
     "slide_type": "slide"
    }
   },
   "source": [
    "### Collect Data"
   ]
  },
  {
   "cell_type": "code",
   "execution_count": 4,
   "metadata": {
    "colab": {},
    "colab_type": "code",
    "id": "FhllFLyKOB6N"
   },
   "outputs": [
    {
     "ename": "ModuleNotFoundError",
     "evalue": "No module named 'google.colab'",
     "output_type": "error",
     "traceback": [
      "\u001b[1;31m---------------------------------------------------------------------------\u001b[0m",
      "\u001b[1;31mModuleNotFoundError\u001b[0m                       Traceback (most recent call last)",
      "\u001b[1;32m<ipython-input-4-e5b0420cd036>\u001b[0m in \u001b[0;36m<module>\u001b[1;34m()\u001b[0m\n\u001b[1;32m----> 1\u001b[1;33m \u001b[1;32mfrom\u001b[0m \u001b[0mgoogle\u001b[0m\u001b[1;33m.\u001b[0m\u001b[0mcolab\u001b[0m \u001b[1;32mimport\u001b[0m \u001b[0mdrive\u001b[0m\u001b[1;33m\u001b[0m\u001b[0m\n\u001b[0m\u001b[0;32m      2\u001b[0m \u001b[0mdrive\u001b[0m\u001b[1;33m.\u001b[0m\u001b[0mmount\u001b[0m\u001b[1;33m(\u001b[0m\u001b[1;34m'/gdrive'\u001b[0m\u001b[1;33m)\u001b[0m\u001b[1;33m\u001b[0m\u001b[0m\n",
      "\u001b[1;31mModuleNotFoundError\u001b[0m: No module named 'google.colab'"
     ]
    }
   ],
   "source": [
    "from google.colab import drive\n",
    "drive.mount('/gdrive')"
   ]
  },
  {
   "cell_type": "code",
   "execution_count": 19,
   "metadata": {
    "colab": {},
    "colab_type": "code",
    "id": "KiObW4V4SIOz"
   },
   "outputs": [],
   "source": [
    "import pandas as pd\n",
    "import numpy as np"
   ]
  },
  {
   "cell_type": "code",
   "execution_count": 6,
   "metadata": {
    "colab": {},
    "colab_type": "code",
    "id": "B4yQKMiJOB6R"
   },
   "outputs": [],
   "source": [
    "data = pd.read_csv('prices.csv')"
   ]
  },
  {
   "cell_type": "markdown",
   "metadata": {
    "colab_type": "text",
    "id": "fgkX6SEqOB6W"
   },
   "source": [
    "### Check all columns in the dataset"
   ]
  },
  {
   "cell_type": "code",
   "execution_count": 7,
   "metadata": {
    "colab": {},
    "colab_type": "code",
    "id": "7K8pWsNQOB6X"
   },
   "outputs": [
    {
     "name": "stdout",
     "output_type": "stream",
     "text": [
      "<class 'pandas.core.frame.DataFrame'>\n",
      "RangeIndex: 851264 entries, 0 to 851263\n",
      "Data columns (total 7 columns):\n",
      "date      851264 non-null object\n",
      "symbol    851264 non-null object\n",
      "open      851264 non-null float64\n",
      "close     851264 non-null float64\n",
      "low       851264 non-null float64\n",
      "high      851264 non-null float64\n",
      "volume    851264 non-null float64\n",
      "dtypes: float64(5), object(2)\n",
      "memory usage: 45.5+ MB\n"
     ]
    }
   ],
   "source": [
    "data.info()"
   ]
  },
  {
   "cell_type": "markdown",
   "metadata": {
    "colab_type": "text",
    "id": "7dU6X7MpOB6c"
   },
   "source": [
    "### Drop columns `date` and  `symbol`"
   ]
  },
  {
   "cell_type": "code",
   "execution_count": 8,
   "metadata": {
    "colab": {},
    "colab_type": "code",
    "id": "lh_6spSKOB6e"
   },
   "outputs": [],
   "source": [
    "data.drop(['date','symbol'],axis=1,inplace=True)"
   ]
  },
  {
   "cell_type": "code",
   "execution_count": 9,
   "metadata": {
    "colab": {},
    "colab_type": "code",
    "id": "xlwbUgTwOB6i",
    "outputId": "56bad82a-f271-415a-e0d6-cbe1c4290743"
   },
   "outputs": [
    {
     "data": {
      "text/html": [
       "<div>\n",
       "<style scoped>\n",
       "    .dataframe tbody tr th:only-of-type {\n",
       "        vertical-align: middle;\n",
       "    }\n",
       "\n",
       "    .dataframe tbody tr th {\n",
       "        vertical-align: top;\n",
       "    }\n",
       "\n",
       "    .dataframe thead th {\n",
       "        text-align: right;\n",
       "    }\n",
       "</style>\n",
       "<table border=\"1\" class=\"dataframe\">\n",
       "  <thead>\n",
       "    <tr style=\"text-align: right;\">\n",
       "      <th></th>\n",
       "      <th>open</th>\n",
       "      <th>close</th>\n",
       "      <th>low</th>\n",
       "      <th>high</th>\n",
       "      <th>volume</th>\n",
       "    </tr>\n",
       "  </thead>\n",
       "  <tbody>\n",
       "    <tr>\n",
       "      <th>0</th>\n",
       "      <td>123.430000</td>\n",
       "      <td>125.839996</td>\n",
       "      <td>122.309998</td>\n",
       "      <td>126.250000</td>\n",
       "      <td>2163600.0</td>\n",
       "    </tr>\n",
       "    <tr>\n",
       "      <th>1</th>\n",
       "      <td>125.239998</td>\n",
       "      <td>119.980003</td>\n",
       "      <td>119.940002</td>\n",
       "      <td>125.540001</td>\n",
       "      <td>2386400.0</td>\n",
       "    </tr>\n",
       "    <tr>\n",
       "      <th>2</th>\n",
       "      <td>116.379997</td>\n",
       "      <td>114.949997</td>\n",
       "      <td>114.930000</td>\n",
       "      <td>119.739998</td>\n",
       "      <td>2489500.0</td>\n",
       "    </tr>\n",
       "    <tr>\n",
       "      <th>3</th>\n",
       "      <td>115.480003</td>\n",
       "      <td>116.620003</td>\n",
       "      <td>113.500000</td>\n",
       "      <td>117.440002</td>\n",
       "      <td>2006300.0</td>\n",
       "    </tr>\n",
       "    <tr>\n",
       "      <th>4</th>\n",
       "      <td>117.010002</td>\n",
       "      <td>114.970001</td>\n",
       "      <td>114.089996</td>\n",
       "      <td>117.330002</td>\n",
       "      <td>1408600.0</td>\n",
       "    </tr>\n",
       "  </tbody>\n",
       "</table>\n",
       "</div>"
      ],
      "text/plain": [
       "         open       close         low        high     volume\n",
       "0  123.430000  125.839996  122.309998  126.250000  2163600.0\n",
       "1  125.239998  119.980003  119.940002  125.540001  2386400.0\n",
       "2  116.379997  114.949997  114.930000  119.739998  2489500.0\n",
       "3  115.480003  116.620003  113.500000  117.440002  2006300.0\n",
       "4  117.010002  114.970001  114.089996  117.330002  1408600.0"
      ]
     },
     "execution_count": 9,
     "metadata": {},
     "output_type": "execute_result"
    }
   ],
   "source": [
    "data.head()"
   ]
  },
  {
   "cell_type": "markdown",
   "metadata": {
    "colab_type": "text",
    "id": "3DBv3WWYOB6q"
   },
   "source": [
    "### Consider only first 1000 rows in the dataset for building feature set and target set\n",
    "Target 'Volume' has very high values. Divide 'Volume' by 1000,000"
   ]
  },
  {
   "cell_type": "code",
   "execution_count": 10,
   "metadata": {
    "colab": {},
    "colab_type": "code",
    "id": "Z_hG9rGBOB6s"
   },
   "outputs": [],
   "source": [
    "data_trunc = data.iloc[0:1000,:]"
   ]
  },
  {
   "cell_type": "code",
   "execution_count": 11,
   "metadata": {},
   "outputs": [
    {
     "data": {
      "text/plain": [
       "(1000, 5)"
      ]
     },
     "execution_count": 11,
     "metadata": {},
     "output_type": "execute_result"
    }
   ],
   "source": [
    "data_trunc.shape"
   ]
  },
  {
   "cell_type": "code",
   "execution_count": 12,
   "metadata": {},
   "outputs": [
    {
     "name": "stderr",
     "output_type": "stream",
     "text": [
      "C:\\ProgramData\\Anaconda3\\lib\\site-packages\\ipykernel_launcher.py:1: SettingWithCopyWarning: \n",
      "A value is trying to be set on a copy of a slice from a DataFrame.\n",
      "Try using .loc[row_indexer,col_indexer] = value instead\n",
      "\n",
      "See the caveats in the documentation: http://pandas.pydata.org/pandas-docs/stable/indexing.html#indexing-view-versus-copy\n",
      "  \"\"\"Entry point for launching an IPython kernel.\n"
     ]
    }
   ],
   "source": [
    "data_trunc['volume'] = data_trunc['volume']/1000000"
   ]
  },
  {
   "cell_type": "code",
   "execution_count": 13,
   "metadata": {},
   "outputs": [
    {
     "data": {
      "text/html": [
       "<div>\n",
       "<style scoped>\n",
       "    .dataframe tbody tr th:only-of-type {\n",
       "        vertical-align: middle;\n",
       "    }\n",
       "\n",
       "    .dataframe tbody tr th {\n",
       "        vertical-align: top;\n",
       "    }\n",
       "\n",
       "    .dataframe thead th {\n",
       "        text-align: right;\n",
       "    }\n",
       "</style>\n",
       "<table border=\"1\" class=\"dataframe\">\n",
       "  <thead>\n",
       "    <tr style=\"text-align: right;\">\n",
       "      <th></th>\n",
       "      <th>open</th>\n",
       "      <th>close</th>\n",
       "      <th>low</th>\n",
       "      <th>high</th>\n",
       "      <th>volume</th>\n",
       "    </tr>\n",
       "  </thead>\n",
       "  <tbody>\n",
       "    <tr>\n",
       "      <th>0</th>\n",
       "      <td>123.430000</td>\n",
       "      <td>125.839996</td>\n",
       "      <td>122.309998</td>\n",
       "      <td>126.250000</td>\n",
       "      <td>2.1636</td>\n",
       "    </tr>\n",
       "    <tr>\n",
       "      <th>1</th>\n",
       "      <td>125.239998</td>\n",
       "      <td>119.980003</td>\n",
       "      <td>119.940002</td>\n",
       "      <td>125.540001</td>\n",
       "      <td>2.3864</td>\n",
       "    </tr>\n",
       "    <tr>\n",
       "      <th>2</th>\n",
       "      <td>116.379997</td>\n",
       "      <td>114.949997</td>\n",
       "      <td>114.930000</td>\n",
       "      <td>119.739998</td>\n",
       "      <td>2.4895</td>\n",
       "    </tr>\n",
       "    <tr>\n",
       "      <th>3</th>\n",
       "      <td>115.480003</td>\n",
       "      <td>116.620003</td>\n",
       "      <td>113.500000</td>\n",
       "      <td>117.440002</td>\n",
       "      <td>2.0063</td>\n",
       "    </tr>\n",
       "    <tr>\n",
       "      <th>4</th>\n",
       "      <td>117.010002</td>\n",
       "      <td>114.970001</td>\n",
       "      <td>114.089996</td>\n",
       "      <td>117.330002</td>\n",
       "      <td>1.4086</td>\n",
       "    </tr>\n",
       "  </tbody>\n",
       "</table>\n",
       "</div>"
      ],
      "text/plain": [
       "         open       close         low        high  volume\n",
       "0  123.430000  125.839996  122.309998  126.250000  2.1636\n",
       "1  125.239998  119.980003  119.940002  125.540001  2.3864\n",
       "2  116.379997  114.949997  114.930000  119.739998  2.4895\n",
       "3  115.480003  116.620003  113.500000  117.440002  2.0063\n",
       "4  117.010002  114.970001  114.089996  117.330002  1.4086"
      ]
     },
     "execution_count": 13,
     "metadata": {},
     "output_type": "execute_result"
    }
   ],
   "source": [
    "data_trunc.head()"
   ]
  },
  {
   "cell_type": "markdown",
   "metadata": {
    "colab_type": "text",
    "id": "M3UaApqYOB6x"
   },
   "source": [
    "### Divide the data into train and test sets"
   ]
  },
  {
   "cell_type": "code",
   "execution_count": 20,
   "metadata": {
    "colab": {},
    "colab_type": "code",
    "id": "4LE4U8lTdQJq"
   },
   "outputs": [],
   "source": [
    "from sklearn.model_selection import train_test_split"
   ]
  },
  {
   "cell_type": "code",
   "execution_count": 15,
   "metadata": {},
   "outputs": [],
   "source": [
    "X = data_trunc.drop(['volume'],axis=1)\n",
    "Y = data_trunc[['volume']]"
   ]
  },
  {
   "cell_type": "code",
   "execution_count": 16,
   "metadata": {},
   "outputs": [],
   "source": [
    "X_train, X_test, y_train, y_test = train_test_split(X, Y, test_size=0.33, random_state=7)"
   ]
  },
  {
   "cell_type": "markdown",
   "metadata": {
    "colab_type": "text",
    "id": "oYK-aUuLbrz2"
   },
   "source": [
    "#### Convert Training and Test Data to numpy float32 arrays\n"
   ]
  },
  {
   "cell_type": "code",
   "execution_count": 17,
   "metadata": {
    "colab": {},
    "colab_type": "code",
    "id": "Ao-S0tQGcncz"
   },
   "outputs": [],
   "source": [
    "X_train = X_train.astype('float32')"
   ]
  },
  {
   "cell_type": "code",
   "execution_count": 18,
   "metadata": {},
   "outputs": [],
   "source": [
    "X_test = X_test.astype('float32')"
   ]
  },
  {
   "cell_type": "code",
   "execution_count": 19,
   "metadata": {},
   "outputs": [],
   "source": [
    "y_train = y_train.astype('float32')"
   ]
  },
  {
   "cell_type": "code",
   "execution_count": 20,
   "metadata": {},
   "outputs": [],
   "source": [
    "y_test= y_test.astype('float32')"
   ]
  },
  {
   "cell_type": "code",
   "execution_count": 21,
   "metadata": {},
   "outputs": [
    {
     "name": "stdout",
     "output_type": "stream",
     "text": [
      "<class 'pandas.core.frame.DataFrame'>\n",
      "Int64Index: 670 entries, 508 to 175\n",
      "Data columns (total 4 columns):\n",
      "open     670 non-null float32\n",
      "close    670 non-null float32\n",
      "low      670 non-null float32\n",
      "high     670 non-null float32\n",
      "dtypes: float32(4)\n",
      "memory usage: 15.7 KB\n",
      "None\n"
     ]
    }
   ],
   "source": [
    "print(X_train.info())"
   ]
  },
  {
   "cell_type": "code",
   "execution_count": 22,
   "metadata": {},
   "outputs": [
    {
     "name": "stdout",
     "output_type": "stream",
     "text": [
      "<class 'pandas.core.frame.DataFrame'>\n",
      "Int64Index: 330 entries, 778 to 191\n",
      "Data columns (total 4 columns):\n",
      "open     330 non-null float32\n",
      "close    330 non-null float32\n",
      "low      330 non-null float32\n",
      "high     330 non-null float32\n",
      "dtypes: float32(4)\n",
      "memory usage: 7.7 KB\n",
      "None\n"
     ]
    }
   ],
   "source": [
    "print(X_test.info())"
   ]
  },
  {
   "cell_type": "code",
   "execution_count": 23,
   "metadata": {},
   "outputs": [
    {
     "name": "stdout",
     "output_type": "stream",
     "text": [
      "<class 'pandas.core.frame.DataFrame'>\n",
      "Int64Index: 670 entries, 508 to 175\n",
      "Data columns (total 1 columns):\n",
      "volume    670 non-null float32\n",
      "dtypes: float32(1)\n",
      "memory usage: 7.9 KB\n",
      "None\n"
     ]
    }
   ],
   "source": [
    "print(y_train.info())"
   ]
  },
  {
   "cell_type": "code",
   "execution_count": 24,
   "metadata": {},
   "outputs": [
    {
     "name": "stdout",
     "output_type": "stream",
     "text": [
      "<class 'pandas.core.frame.DataFrame'>\n",
      "Int64Index: 330 entries, 778 to 191\n",
      "Data columns (total 1 columns):\n",
      "volume    330 non-null float32\n",
      "dtypes: float32(1)\n",
      "memory usage: 3.9 KB\n",
      "None\n"
     ]
    }
   ],
   "source": [
    "print(y_test.info())"
   ]
  },
  {
   "cell_type": "markdown",
   "metadata": {
    "colab_type": "text",
    "id": "im1ZegbDdKgv"
   },
   "source": [
    "### Normalize the data\n",
    "You can use Normalizer from sklearn.preprocessing"
   ]
  },
  {
   "cell_type": "code",
   "execution_count": 25,
   "metadata": {
    "colab": {},
    "colab_type": "code",
    "id": "2EkKAy7fOB6y"
   },
   "outputs": [],
   "source": [
    "from sklearn.preprocessing import StandardScaler"
   ]
  },
  {
   "cell_type": "code",
   "execution_count": 26,
   "metadata": {},
   "outputs": [],
   "source": [
    "scaler = StandardScaler()"
   ]
  },
  {
   "cell_type": "code",
   "execution_count": 27,
   "metadata": {},
   "outputs": [],
   "source": [
    "scaler.fit(X_train)\n",
    "X_train_Scale = scaler.transform(X_train)"
   ]
  },
  {
   "cell_type": "code",
   "execution_count": 28,
   "metadata": {},
   "outputs": [],
   "source": [
    "scaler.fit(X_test)\n",
    "X_test_Scale = scaler.transform(X_test)"
   ]
  },
  {
   "cell_type": "markdown",
   "metadata": {
    "colab_type": "text",
    "id": "v6vE4eYCOB62",
    "slideshow": {
     "slide_type": "slide"
    }
   },
   "source": [
    "## Building the Model in tensorflow"
   ]
  },
  {
   "cell_type": "markdown",
   "metadata": {
    "colab_type": "text",
    "id": "297_qja4OB7A",
    "slideshow": {
     "slide_type": "slide"
    }
   },
   "source": [
    "1.Define Weights and Bias, use tf.zeros to initialize weights and Bias"
   ]
  },
  {
   "cell_type": "code",
   "execution_count": 29,
   "metadata": {
    "colab": {},
    "colab_type": "code",
    "id": "L205qPeQOB7B"
   },
   "outputs": [],
   "source": [
    "#W = tf.Variable(tf.zeros(shape=[4,1]), name=\"Weights\")\n",
    "#b = tf.Variable(tf.zeros(shape=[1]),name=\"Bias\")"
   ]
  },
  {
   "cell_type": "code",
   "execution_count": 30,
   "metadata": {},
   "outputs": [],
   "source": [
    "W = tf.random_normal(shape=[4,1])\n",
    "b = tf.random_normal(shape=[1])"
   ]
  },
  {
   "cell_type": "markdown",
   "metadata": {
    "colab_type": "text",
    "id": "HgtWA-UIOB7F",
    "slideshow": {
     "slide_type": "slide"
    }
   },
   "source": [
    "2.Define a function to calculate prediction"
   ]
  },
  {
   "cell_type": "code",
   "execution_count": 31,
   "metadata": {
    "colab": {},
    "colab_type": "code",
    "id": "JveGlx25OB7H"
   },
   "outputs": [],
   "source": [
    "def prediction(x, w, b):  \n",
    "    xw_matmul = tf.matmul(x, w)\n",
    "    y = tf.add(xw_matmul, b)\n",
    "    return y"
   ]
  },
  {
   "cell_type": "markdown",
   "metadata": {
    "colab_type": "text",
    "id": "TL1hIwf_OB7M",
    "slideshow": {
     "slide_type": "slide"
    }
   },
   "source": [
    "3.Loss (Cost) Function [Mean square error]"
   ]
  },
  {
   "cell_type": "code",
   "execution_count": 32,
   "metadata": {},
   "outputs": [],
   "source": [
    "def loss(y_actual, y_predicted):\n",
    "    diff = y_actual - y_predicted\n",
    "    sqr = tf.square(diff)\n",
    "    avg = tf.reduce_mean(sqr)  \n",
    "    return avg"
   ]
  },
  {
   "cell_type": "markdown",
   "metadata": {
    "colab_type": "text",
    "id": "jzG85FUlOB7U",
    "slideshow": {
     "slide_type": "slide"
    }
   },
   "source": [
    "4.Function to train the Model\n",
    "\n",
    "1.   Record all the mathematical steps to calculate Loss\n",
    "2.   Calculate Gradients of Loss w.r.t weights and bias\n",
    "3.   Update Weights and Bias based on gradients and learning rate to minimize loss"
   ]
  },
  {
   "cell_type": "code",
   "execution_count": 33,
   "metadata": {
    "colab": {},
    "colab_type": "code",
    "id": "cj802w-3OB7X"
   },
   "outputs": [],
   "source": [
    "def train(x, y_actual, w, b, learning_rate=0.01):\n",
    "    #Record math ops on 'tape' to calculate loss\n",
    "    with tf.GradientTape() as t:\n",
    "        t.watch([w,b])\n",
    "        current_prediction = prediction(x, w, b)\n",
    "        current_loss = loss(y_actual, current_prediction)\n",
    "    \n",
    "    #Calculate Gradients for Loss w.r.t Weights and Bias\n",
    "    dw, db = t.gradient(current_loss,[w, b])\n",
    "    \n",
    "    #Update Weights and Bias\n",
    "    w = w - learning_rate*dw\n",
    "    b = b - learning_rate*db\n",
    "    \n",
    "    return w, b"
   ]
  },
  {
   "cell_type": "markdown",
   "metadata": {
    "colab_type": "text",
    "id": "xSypb_u8OB7e",
    "slideshow": {
     "slide_type": "slide"
    }
   },
   "source": [
    "## Train the model for 100 epochs \n",
    "1. Observe the training loss at every iteration\n",
    "2. Observe Test loss at every 5th iteration"
   ]
  },
  {
   "cell_type": "code",
   "execution_count": 34,
   "metadata": {},
   "outputs": [],
   "source": [
    "X_train_Scale = X_train_Scale.astype(\"float32\")\n",
    "X_test_Scale = X_test_Scale.astype(\"float32\")"
   ]
  },
  {
   "cell_type": "code",
   "execution_count": 35,
   "metadata": {},
   "outputs": [
    {
     "name": "stdout",
     "output_type": "stream",
     "text": [
      "Current Loss on iteration 0 358.6415\n",
      "Current Loss on iteration 1 352.4795\n",
      "Current Loss on iteration 2 347.04562\n",
      "Current Loss on iteration 3 342.23666\n",
      "Current Loss on iteration 4 337.96506\n",
      "Current Loss on iteration 5 334.15616\n",
      "Current Loss on iteration 6 330.74655\n",
      "Current Loss on iteration 7 327.68228\n",
      "Current Loss on iteration 8 324.91742\n",
      "Current Loss on iteration 9 322.41263\n",
      "Current Loss on iteration 10 320.13458\n",
      "Current Loss on iteration 11 318.05475\n",
      "Current Loss on iteration 12 316.1485\n",
      "Current Loss on iteration 13 314.39523\n",
      "Current Loss on iteration 14 312.77682\n",
      "Current Loss on iteration 15 311.2779\n",
      "Current Loss on iteration 16 309.88513\n",
      "Current Loss on iteration 17 308.58728\n",
      "Current Loss on iteration 18 307.37442\n",
      "Current Loss on iteration 19 306.23798\n",
      "Current Loss on iteration 20 305.17062\n",
      "Current Loss on iteration 21 304.16595\n",
      "Current Loss on iteration 22 303.21832\n",
      "Current Loss on iteration 23 302.32266\n",
      "Current Loss on iteration 24 301.47495\n",
      "Current Loss on iteration 25 300.67123\n",
      "Current Loss on iteration 26 299.9082\n",
      "Current Loss on iteration 27 299.1828\n",
      "Current Loss on iteration 28 298.4926\n",
      "Current Loss on iteration 29 297.83508\n",
      "Current Loss on iteration 30 297.20804\n",
      "Current Loss on iteration 31 296.6097\n",
      "Current Loss on iteration 32 296.03833\n",
      "Current Loss on iteration 33 295.49234\n",
      "Current Loss on iteration 34 294.9703\n",
      "Current Loss on iteration 35 294.47098\n",
      "Current Loss on iteration 36 293.99295\n",
      "Current Loss on iteration 37 293.53534\n",
      "Current Loss on iteration 38 293.0971\n",
      "Current Loss on iteration 39 292.67715\n",
      "Current Loss on iteration 40 292.27478\n",
      "Current Loss on iteration 41 291.88895\n",
      "Current Loss on iteration 42 291.51904\n",
      "Current Loss on iteration 43 291.1643\n",
      "Current Loss on iteration 44 290.82413\n",
      "Current Loss on iteration 45 290.49774\n",
      "Current Loss on iteration 46 290.18457\n",
      "Current Loss on iteration 47 289.88416\n",
      "Current Loss on iteration 48 289.59576\n",
      "Current Loss on iteration 49 289.31897\n",
      "Current Loss on iteration 50 289.05334\n",
      "Current Loss on iteration 51 288.7984\n",
      "Current Loss on iteration 52 288.5537\n",
      "Current Loss on iteration 53 288.31873\n",
      "Current Loss on iteration 54 288.09317\n",
      "Current Loss on iteration 55 287.87656\n",
      "Current Loss on iteration 56 287.6686\n",
      "Current Loss on iteration 57 287.469\n",
      "Current Loss on iteration 58 287.27725\n",
      "Current Loss on iteration 59 287.09317\n",
      "Current Loss on iteration 60 286.91638\n",
      "Current Loss on iteration 61 286.74667\n",
      "Current Loss on iteration 62 286.5837\n",
      "Current Loss on iteration 63 286.4272\n",
      "Current Loss on iteration 64 286.27686\n",
      "Current Loss on iteration 65 286.13257\n",
      "Current Loss on iteration 66 285.99393\n",
      "Current Loss on iteration 67 285.86078\n",
      "Current Loss on iteration 68 285.73294\n",
      "Current Loss on iteration 69 285.6102\n",
      "Current Loss on iteration 70 285.49234\n",
      "Current Loss on iteration 71 285.37912\n",
      "Current Loss on iteration 72 285.2704\n",
      "Current Loss on iteration 73 285.1659\n",
      "Current Loss on iteration 74 285.0656\n",
      "Current Loss on iteration 75 284.9693\n",
      "Current Loss on iteration 76 284.87683\n",
      "Current Loss on iteration 77 284.78802\n",
      "Current Loss on iteration 78 284.70267\n",
      "Current Loss on iteration 79 284.62073\n",
      "Current Loss on iteration 80 284.54205\n",
      "Current Loss on iteration 81 284.46646\n",
      "Current Loss on iteration 82 284.39392\n",
      "Current Loss on iteration 83 284.32416\n",
      "Current Loss on iteration 84 284.25723\n",
      "Current Loss on iteration 85 284.19293\n",
      "Current Loss on iteration 86 284.1312\n",
      "Current Loss on iteration 87 284.07193\n",
      "Current Loss on iteration 88 284.01492\n",
      "Current Loss on iteration 89 283.96027\n",
      "Current Loss on iteration 90 283.9077\n",
      "Current Loss on iteration 91 283.8573\n",
      "Current Loss on iteration 92 283.80887\n",
      "Current Loss on iteration 93 283.76227\n",
      "Current Loss on iteration 94 283.71762\n",
      "Current Loss on iteration 95 283.67468\n",
      "Current Loss on iteration 96 283.63345\n",
      "Current Loss on iteration 97 283.59387\n",
      "Current Loss on iteration 98 283.55582\n",
      "Current Loss on iteration 99 283.5193\n"
     ]
    }
   ],
   "source": [
    "for i in range(100):\n",
    "    W, b = train(X_train_Scale, np.array(y_train), W, b)\n",
    "    print('Current Loss on iteration', i, loss(np.array(y_train), prediction(X_train_Scale, W, b)).numpy())"
   ]
  },
  {
   "cell_type": "markdown",
   "metadata": {
    "colab_type": "text",
    "id": "DOL2ncA1OB7q"
   },
   "source": [
    "### Get the shapes and values of W and b"
   ]
  },
  {
   "cell_type": "code",
   "execution_count": 36,
   "metadata": {
    "colab": {},
    "colab_type": "code",
    "id": "ZGvtyTeuOB7r"
   },
   "outputs": [
    {
     "name": "stdout",
     "output_type": "stream",
     "text": [
      "W tf.Tensor(\n",
      "[[-1.9768025 ]\n",
      " [-0.00859479]\n",
      " [ 1.6261301 ]\n",
      " [-1.309212  ]], shape=(4, 1), dtype=float32) b tf.Tensor([4.780836], shape=(1,), dtype=float32)\n"
     ]
    }
   ],
   "source": [
    "W, b = train(X_train_Scale, np.array(y_train), W, b)\n",
    "print ('W',W,'b',b)"
   ]
  },
  {
   "cell_type": "markdown",
   "metadata": {
    "colab_type": "text",
    "id": "ERq9GOKKciho"
   },
   "source": [
    "### Model Prediction on 1st Examples in Test Dataset"
   ]
  },
  {
   "cell_type": "code",
   "execution_count": 37,
   "metadata": {},
   "outputs": [
    {
     "name": "stdout",
     "output_type": "stream",
     "text": [
      "[[  4.9950666 ]\n",
      " [  4.8976674 ]\n",
      " [  5.8034115 ]\n",
      " [  5.6566315 ]\n",
      " [  2.965839  ]\n",
      " [  4.0135922 ]\n",
      " [  6.2328987 ]\n",
      " [  2.842577  ]\n",
      " [  4.73297   ]\n",
      " [  2.7812924 ]\n",
      " [  3.260041  ]\n",
      " [  2.9324331 ]\n",
      " [  5.582356  ]\n",
      " [  5.117134  ]\n",
      " [  5.0409684 ]\n",
      " [  4.969188  ]\n",
      " [  2.9722657 ]\n",
      " [  5.337561  ]\n",
      " [  5.7084603 ]\n",
      " [  1.3478212 ]\n",
      " [  2.844407  ]\n",
      " [  3.3973298 ]\n",
      " [  5.4924088 ]\n",
      " [  5.4241595 ]\n",
      " [  4.1532154 ]\n",
      " [  5.916912  ]\n",
      " [  3.3235357 ]\n",
      " [  5.7080355 ]\n",
      " [  4.7743473 ]\n",
      " [  6.4100633 ]\n",
      " [  5.2725873 ]\n",
      " [  3.2046707 ]\n",
      " [  5.919631  ]\n",
      " [  5.1803656 ]\n",
      " [  6.446301  ]\n",
      " [  5.614757  ]\n",
      " [  2.9023087 ]\n",
      " [  5.5805254 ]\n",
      " [  5.3345838 ]\n",
      " [  3.0312715 ]\n",
      " [  6.2002807 ]\n",
      " [-12.62406   ]\n",
      " [  4.8936977 ]\n",
      " [  5.570632  ]\n",
      " [  6.062438  ]\n",
      " [  5.2876606 ]\n",
      " [  5.786396  ]\n",
      " [  6.299057  ]\n",
      " [  5.9155955 ]\n",
      " [  2.821558  ]\n",
      " [  6.538802  ]\n",
      " [  4.747223  ]\n",
      " [  6.117157  ]\n",
      " [  3.2708955 ]\n",
      " [  2.9731395 ]\n",
      " [  6.6215124 ]\n",
      " [  5.8693485 ]\n",
      " [  6.1028733 ]\n",
      " [  6.618039  ]\n",
      " [  5.4325495 ]\n",
      " [  5.05936   ]\n",
      " [  5.7453203 ]\n",
      " [  5.718306  ]\n",
      " [  5.839346  ]\n",
      " [  2.9169786 ]\n",
      " [  5.4450126 ]\n",
      " [  5.1425295 ]\n",
      " [  6.3830347 ]\n",
      " [  4.2736883 ]\n",
      " [  5.1692038 ]\n",
      " [  5.0318317 ]\n",
      " [  4.504178  ]\n",
      " [  5.5297804 ]\n",
      " [  5.3814297 ]\n",
      " [  2.7519958 ]\n",
      " [  5.5768676 ]\n",
      " [  5.053084  ]\n",
      " [  5.758492  ]\n",
      " [  4.905702  ]\n",
      " [  5.061266  ]\n",
      " [  4.230957  ]\n",
      " [  3.9792519 ]\n",
      " [  5.379287  ]\n",
      " [  5.5319505 ]\n",
      " [  4.8213716 ]\n",
      " [  2.8836012 ]\n",
      " [  2.7997377 ]\n",
      " [  6.0485945 ]\n",
      " [  5.930399  ]\n",
      " [  6.088415  ]\n",
      " [  2.931388  ]\n",
      " [  5.603244  ]\n",
      " [  3.3642454 ]\n",
      " [  3.068678  ]\n",
      " [  3.0143075 ]\n",
      " [  2.7848902 ]\n",
      " [  6.0736322 ]\n",
      " [  6.027726  ]\n",
      " [  6.0303783 ]\n",
      " [  6.3074994 ]\n",
      " [  6.301737  ]\n",
      " [  2.8859663 ]\n",
      " [  5.2327733 ]\n",
      " [  6.2726464 ]\n",
      " [  6.373108  ]\n",
      " [  5.739561  ]\n",
      " [  5.2084603 ]\n",
      " [  3.1922078 ]\n",
      " [  5.2662435 ]\n",
      " [  5.5311275 ]\n",
      " [  4.6991053 ]\n",
      " [  5.6190734 ]\n",
      " [  5.593521  ]\n",
      " [  5.0564065 ]\n",
      " [  5.1082993 ]\n",
      " [  2.9258008 ]\n",
      " [  5.2433567 ]\n",
      " [  5.5934796 ]\n",
      " [  5.0603633 ]\n",
      " [  5.7588806 ]\n",
      " [  5.77788   ]\n",
      " [  4.015301  ]\n",
      " [  2.7749982 ]\n",
      " [  2.7339907 ]\n",
      " [  6.0055294 ]\n",
      " [  4.8558936 ]\n",
      " [  2.4527657 ]\n",
      " [  3.0847173 ]\n",
      " [  1.685821  ]\n",
      " [  2.829707  ]\n",
      " [  5.9261284 ]\n",
      " [  5.772438  ]\n",
      " [  4.123278  ]\n",
      " [  5.5422688 ]\n",
      " [  5.2026415 ]\n",
      " [  2.984035  ]\n",
      " [  5.0428762 ]\n",
      " [  2.9202166 ]\n",
      " [  5.8491416 ]\n",
      " [  6.3676066 ]\n",
      " [  6.195953  ]\n",
      " [  5.4173713 ]\n",
      " [  6.1702566 ]\n",
      " [  5.6057353 ]\n",
      " [  5.353643  ]\n",
      " [  2.7087555 ]\n",
      " [  5.987645  ]\n",
      " [  5.92786   ]\n",
      " [  6.3576407 ]\n",
      " [  5.476746  ]\n",
      " [  2.8684783 ]\n",
      " [  2.6505342 ]\n",
      " [  5.240904  ]\n",
      " [  4.9823065 ]\n",
      " [  5.3543077 ]\n",
      " [  5.6091967 ]\n",
      " [  5.171835  ]\n",
      " [  2.8312624 ]\n",
      " [  5.2162843 ]\n",
      " [  4.678827  ]\n",
      " [  5.48696   ]\n",
      " [  5.0365667 ]\n",
      " [  5.489542  ]\n",
      " [  6.0070577 ]\n",
      " [  3.224523  ]\n",
      " [  5.5933437 ]\n",
      " [  4.3037357 ]\n",
      " [  5.2167754 ]\n",
      " [  5.9416423 ]\n",
      " [  5.0697575 ]\n",
      " [  2.8752313 ]\n",
      " [  2.9896986 ]\n",
      " [  2.932127  ]\n",
      " [  4.4113164 ]\n",
      " [  6.2802143 ]\n",
      " [  5.3887258 ]\n",
      " [  2.9886916 ]\n",
      " [  2.9222832 ]\n",
      " [  5.484358  ]\n",
      " [  4.809055  ]\n",
      " [  6.0157223 ]\n",
      " [  5.8781614 ]\n",
      " [  5.068404  ]\n",
      " [  6.2407827 ]\n",
      " [  5.6935496 ]\n",
      " [  5.244559  ]\n",
      " [  5.4163265 ]\n",
      " [  3.6986349 ]\n",
      " [  4.8721156 ]\n",
      " [  6.195688  ]\n",
      " [  2.8199573 ]\n",
      " [  5.381157  ]\n",
      " [  4.002183  ]\n",
      " [  6.1199613 ]\n",
      " [  2.8906333 ]\n",
      " [  4.844284  ]\n",
      " [  5.926767  ]\n",
      " [  5.1541123 ]\n",
      " [  6.007797  ]\n",
      " [  5.5157123 ]\n",
      " [  5.448285  ]\n",
      " [  2.8567812 ]\n",
      " [  2.9213963 ]\n",
      " [  5.6924906 ]\n",
      " [  4.5914607 ]\n",
      " [  5.1398544 ]\n",
      " [  6.05888   ]\n",
      " [ -0.66274977]\n",
      " [  4.926826  ]\n",
      " [  5.1108847 ]\n",
      " [  5.8848557 ]\n",
      " [  5.8648705 ]\n",
      " [  2.459856  ]\n",
      " [  4.5316844 ]\n",
      " [  2.852011  ]\n",
      " [  5.9218836 ]\n",
      " [  4.8105674 ]\n",
      " [  2.8702402 ]\n",
      " [  3.0364814 ]\n",
      " [  4.19516   ]\n",
      " [  6.0967717 ]\n",
      " [  5.375633  ]\n",
      " [  6.6671023 ]\n",
      " [  5.341358  ]\n",
      " [  3.7055988 ]\n",
      " [  5.991905  ]\n",
      " [  4.911429  ]\n",
      " [  2.9031045 ]\n",
      " [  5.3629866 ]\n",
      " [  4.5300426 ]\n",
      " [  2.934745  ]\n",
      " [  5.6097927 ]\n",
      " [  3.2446795 ]\n",
      " [  6.1043825 ]\n",
      " [  6.28839   ]\n",
      " [  6.077134  ]\n",
      " [  4.816997  ]\n",
      " [  5.46393   ]\n",
      " [  5.079527  ]\n",
      " [  6.283948  ]\n",
      " [  5.223827  ]\n",
      " [  5.3033104 ]\n",
      " [  5.8690405 ]\n",
      " [  5.6138897 ]\n",
      " [  2.8432388 ]\n",
      " [  4.517029  ]\n",
      " [  2.8917465 ]\n",
      " [  2.7394023 ]\n",
      " [  3.1134179 ]\n",
      " [  5.401031  ]\n",
      " [  5.8909545 ]\n",
      " [  5.94998   ]\n",
      " [  5.5881224 ]\n",
      " [  5.1742206 ]\n",
      " [  2.9218678 ]\n",
      " [  2.9426835 ]\n",
      " [  6.2036448 ]\n",
      " [  2.7957575 ]\n",
      " [  5.561625  ]\n",
      " [  4.610731  ]\n",
      " [  3.010626  ]\n",
      " [  5.6914163 ]\n",
      " [  5.838352  ]\n",
      " [  4.1185875 ]\n",
      " [  2.7716384 ]\n",
      " [  6.457602  ]\n",
      " [  2.9111881 ]\n",
      " [  2.8984323 ]\n",
      " [  2.8711188 ]\n",
      " [  5.5440197 ]\n",
      " [  5.6027246 ]\n",
      " [  2.8423386 ]\n",
      " [  6.13332   ]\n",
      " [  5.9603243 ]\n",
      " [  6.478298  ]\n",
      " [  3.194983  ]\n",
      " [  5.635004  ]\n",
      " [  5.352471  ]\n",
      " [  6.3554792 ]\n",
      " [  5.237638  ]\n",
      " [  4.3709636 ]\n",
      " [  5.9945173 ]\n",
      " [  3.164956  ]\n",
      " [  5.695013  ]\n",
      " [  5.853451  ]\n",
      " [  5.3899174 ]\n",
      " [  6.0241976 ]\n",
      " [  6.0930977 ]\n",
      " [  3.1171372 ]\n",
      " [  5.6690693 ]\n",
      " [  4.950375  ]\n",
      " [  5.883172  ]\n",
      " [  6.563098  ]\n",
      " [  5.3333263 ]\n",
      " [  5.370181  ]\n",
      " [  6.2452183 ]\n",
      " [  5.47678   ]\n",
      " [  4.800628  ]\n",
      " [  5.509046  ]\n",
      " [  6.269265  ]\n",
      " [  5.6738157 ]\n",
      " [  2.5983896 ]\n",
      " [  5.7532043 ]\n",
      " [  3.0144057 ]\n",
      " [  5.8259435 ]\n",
      " [  5.068796  ]\n",
      " [  5.911996  ]\n",
      " [  5.718031  ]\n",
      " [  4.99498   ]\n",
      " [  5.5490646 ]\n",
      " [  5.489543  ]\n",
      " [  6.1943917 ]\n",
      " [  5.773624  ]\n",
      " [  6.2434845 ]\n",
      " [  6.1778936 ]\n",
      " [  6.6100926 ]\n",
      " [ -3.844633  ]\n",
      " [  4.3755555 ]\n",
      " [  6.413844  ]\n",
      " [  5.5110807 ]\n",
      " [  5.8144703 ]\n",
      " [  6.016112  ]\n",
      " [  6.2729635 ]\n",
      " [  2.9622884 ]\n",
      " [  2.8557112 ]\n",
      " [  6.1226444 ]\n",
      " [  4.792013  ]\n",
      " [  2.6359668 ]\n",
      " [  5.7309937 ]\n",
      " [  2.6572227 ]]\n"
     ]
    }
   ],
   "source": [
    "ypr = prediction(X_test_Scale, W, b).numpy()\n",
    "print(ypr)"
   ]
  },
  {
   "cell_type": "markdown",
   "metadata": {
    "colab_type": "text",
    "id": "YJRBuqXhOB7_"
   },
   "source": [
    "## Classification using tf.Keras\n",
    "\n",
    "In this exercise, we will build a Deep Neural Network using tf.Keras. We will use Iris Dataset for this exercise."
   ]
  },
  {
   "cell_type": "markdown",
   "metadata": {
    "colab_type": "text",
    "id": "sb7Epo0VOB58"
   },
   "source": [
    "### Load tensorflow if not done already"
   ]
  },
  {
   "cell_type": "code",
   "execution_count": 21,
   "metadata": {},
   "outputs": [],
   "source": [
    "from keras.models import Sequential\n",
    "from keras.layers import Dense\n",
    "from sklearn.preprocessing import LabelEncoder"
   ]
  },
  {
   "cell_type": "markdown",
   "metadata": {
    "colab_type": "text",
    "id": "O0g6lorycihf"
   },
   "source": [
    "### Load the given Iris data using pandas (Iris.csv)"
   ]
  },
  {
   "cell_type": "code",
   "execution_count": 22,
   "metadata": {
    "colab": {},
    "colab_type": "code",
    "id": "6xFvb5sRcihg"
   },
   "outputs": [],
   "source": [
    "iris_df = pd.read_csv('Iris.csv')"
   ]
  },
  {
   "cell_type": "code",
   "execution_count": 23,
   "metadata": {},
   "outputs": [],
   "source": [
    "iris_df.drop('Id',axis=1,inplace=True)"
   ]
  },
  {
   "cell_type": "code",
   "execution_count": 24,
   "metadata": {},
   "outputs": [
    {
     "data": {
      "text/html": [
       "<div>\n",
       "<style scoped>\n",
       "    .dataframe tbody tr th:only-of-type {\n",
       "        vertical-align: middle;\n",
       "    }\n",
       "\n",
       "    .dataframe tbody tr th {\n",
       "        vertical-align: top;\n",
       "    }\n",
       "\n",
       "    .dataframe thead th {\n",
       "        text-align: right;\n",
       "    }\n",
       "</style>\n",
       "<table border=\"1\" class=\"dataframe\">\n",
       "  <thead>\n",
       "    <tr style=\"text-align: right;\">\n",
       "      <th></th>\n",
       "      <th>SepalLengthCm</th>\n",
       "      <th>SepalWidthCm</th>\n",
       "      <th>PetalLengthCm</th>\n",
       "      <th>PetalWidthCm</th>\n",
       "      <th>Species</th>\n",
       "    </tr>\n",
       "  </thead>\n",
       "  <tbody>\n",
       "    <tr>\n",
       "      <th>0</th>\n",
       "      <td>5.1</td>\n",
       "      <td>3.5</td>\n",
       "      <td>1.4</td>\n",
       "      <td>0.2</td>\n",
       "      <td>Iris-setosa</td>\n",
       "    </tr>\n",
       "    <tr>\n",
       "      <th>1</th>\n",
       "      <td>4.9</td>\n",
       "      <td>3.0</td>\n",
       "      <td>1.4</td>\n",
       "      <td>0.2</td>\n",
       "      <td>Iris-setosa</td>\n",
       "    </tr>\n",
       "    <tr>\n",
       "      <th>2</th>\n",
       "      <td>4.7</td>\n",
       "      <td>3.2</td>\n",
       "      <td>1.3</td>\n",
       "      <td>0.2</td>\n",
       "      <td>Iris-setosa</td>\n",
       "    </tr>\n",
       "    <tr>\n",
       "      <th>3</th>\n",
       "      <td>4.6</td>\n",
       "      <td>3.1</td>\n",
       "      <td>1.5</td>\n",
       "      <td>0.2</td>\n",
       "      <td>Iris-setosa</td>\n",
       "    </tr>\n",
       "    <tr>\n",
       "      <th>4</th>\n",
       "      <td>5.0</td>\n",
       "      <td>3.6</td>\n",
       "      <td>1.4</td>\n",
       "      <td>0.2</td>\n",
       "      <td>Iris-setosa</td>\n",
       "    </tr>\n",
       "  </tbody>\n",
       "</table>\n",
       "</div>"
      ],
      "text/plain": [
       "   SepalLengthCm  SepalWidthCm  PetalLengthCm  PetalWidthCm      Species\n",
       "0            5.1           3.5            1.4           0.2  Iris-setosa\n",
       "1            4.9           3.0            1.4           0.2  Iris-setosa\n",
       "2            4.7           3.2            1.3           0.2  Iris-setosa\n",
       "3            4.6           3.1            1.5           0.2  Iris-setosa\n",
       "4            5.0           3.6            1.4           0.2  Iris-setosa"
      ]
     },
     "execution_count": 24,
     "metadata": {},
     "output_type": "execute_result"
    }
   ],
   "source": [
    "iris_df.head()"
   ]
  },
  {
   "cell_type": "markdown",
   "metadata": {
    "colab_type": "text",
    "id": "SAB--Qdwcihm"
   },
   "source": [
    "### Target set has different categories. So, Label encode them. And convert into one-hot vectors using get_dummies in pandas."
   ]
  },
  {
   "cell_type": "code",
   "execution_count": 25,
   "metadata": {
    "colab": {},
    "colab_type": "code",
    "id": "IJr5dYnocihm"
   },
   "outputs": [],
   "source": [
    "le = LabelEncoder()\n",
    "le.fit(iris_df['Species'])\n",
    "iris_df['Species'] = le.transform(iris_df['Species'])"
   ]
  },
  {
   "cell_type": "code",
   "execution_count": 26,
   "metadata": {},
   "outputs": [],
   "source": [
    "iris_df[['out1','out2','out3']] = pd.get_dummies(iris_df['Species'])"
   ]
  },
  {
   "cell_type": "code",
   "execution_count": 27,
   "metadata": {},
   "outputs": [],
   "source": [
    "iris_df.drop('Species',axis=1,inplace=True)"
   ]
  },
  {
   "cell_type": "code",
   "execution_count": 28,
   "metadata": {},
   "outputs": [
    {
     "data": {
      "text/html": [
       "<div>\n",
       "<style scoped>\n",
       "    .dataframe tbody tr th:only-of-type {\n",
       "        vertical-align: middle;\n",
       "    }\n",
       "\n",
       "    .dataframe tbody tr th {\n",
       "        vertical-align: top;\n",
       "    }\n",
       "\n",
       "    .dataframe thead th {\n",
       "        text-align: right;\n",
       "    }\n",
       "</style>\n",
       "<table border=\"1\" class=\"dataframe\">\n",
       "  <thead>\n",
       "    <tr style=\"text-align: right;\">\n",
       "      <th></th>\n",
       "      <th>SepalLengthCm</th>\n",
       "      <th>SepalWidthCm</th>\n",
       "      <th>PetalLengthCm</th>\n",
       "      <th>PetalWidthCm</th>\n",
       "      <th>out1</th>\n",
       "      <th>out2</th>\n",
       "      <th>out3</th>\n",
       "    </tr>\n",
       "  </thead>\n",
       "  <tbody>\n",
       "    <tr>\n",
       "      <th>0</th>\n",
       "      <td>5.1</td>\n",
       "      <td>3.5</td>\n",
       "      <td>1.4</td>\n",
       "      <td>0.2</td>\n",
       "      <td>1</td>\n",
       "      <td>0</td>\n",
       "      <td>0</td>\n",
       "    </tr>\n",
       "    <tr>\n",
       "      <th>1</th>\n",
       "      <td>4.9</td>\n",
       "      <td>3.0</td>\n",
       "      <td>1.4</td>\n",
       "      <td>0.2</td>\n",
       "      <td>1</td>\n",
       "      <td>0</td>\n",
       "      <td>0</td>\n",
       "    </tr>\n",
       "    <tr>\n",
       "      <th>2</th>\n",
       "      <td>4.7</td>\n",
       "      <td>3.2</td>\n",
       "      <td>1.3</td>\n",
       "      <td>0.2</td>\n",
       "      <td>1</td>\n",
       "      <td>0</td>\n",
       "      <td>0</td>\n",
       "    </tr>\n",
       "    <tr>\n",
       "      <th>3</th>\n",
       "      <td>4.6</td>\n",
       "      <td>3.1</td>\n",
       "      <td>1.5</td>\n",
       "      <td>0.2</td>\n",
       "      <td>1</td>\n",
       "      <td>0</td>\n",
       "      <td>0</td>\n",
       "    </tr>\n",
       "    <tr>\n",
       "      <th>4</th>\n",
       "      <td>5.0</td>\n",
       "      <td>3.6</td>\n",
       "      <td>1.4</td>\n",
       "      <td>0.2</td>\n",
       "      <td>1</td>\n",
       "      <td>0</td>\n",
       "      <td>0</td>\n",
       "    </tr>\n",
       "  </tbody>\n",
       "</table>\n",
       "</div>"
      ],
      "text/plain": [
       "   SepalLengthCm  SepalWidthCm  PetalLengthCm  PetalWidthCm  out1  out2  out3\n",
       "0            5.1           3.5            1.4           0.2     1     0     0\n",
       "1            4.9           3.0            1.4           0.2     1     0     0\n",
       "2            4.7           3.2            1.3           0.2     1     0     0\n",
       "3            4.6           3.1            1.5           0.2     1     0     0\n",
       "4            5.0           3.6            1.4           0.2     1     0     0"
      ]
     },
     "execution_count": 28,
     "metadata": {},
     "output_type": "execute_result"
    }
   ],
   "source": [
    "iris_df.head()"
   ]
  },
  {
   "cell_type": "markdown",
   "metadata": {
    "colab_type": "text",
    "id": "D95nY5ILcihj"
   },
   "source": [
    "### Splitting the data into feature set and target set"
   ]
  },
  {
   "cell_type": "code",
   "execution_count": 29,
   "metadata": {
    "colab": {},
    "colab_type": "code",
    "id": "RyMQoLMucihj"
   },
   "outputs": [],
   "source": [
    "X = iris_df.iloc[:,0:-3]"
   ]
  },
  {
   "cell_type": "code",
   "execution_count": 30,
   "metadata": {},
   "outputs": [],
   "source": [
    "Y = iris_df.iloc[:,-3:]"
   ]
  },
  {
   "cell_type": "code",
   "execution_count": 31,
   "metadata": {},
   "outputs": [
    {
     "data": {
      "text/html": [
       "<div>\n",
       "<style scoped>\n",
       "    .dataframe tbody tr th:only-of-type {\n",
       "        vertical-align: middle;\n",
       "    }\n",
       "\n",
       "    .dataframe tbody tr th {\n",
       "        vertical-align: top;\n",
       "    }\n",
       "\n",
       "    .dataframe thead th {\n",
       "        text-align: right;\n",
       "    }\n",
       "</style>\n",
       "<table border=\"1\" class=\"dataframe\">\n",
       "  <thead>\n",
       "    <tr style=\"text-align: right;\">\n",
       "      <th></th>\n",
       "      <th>SepalLengthCm</th>\n",
       "      <th>SepalWidthCm</th>\n",
       "      <th>PetalLengthCm</th>\n",
       "      <th>PetalWidthCm</th>\n",
       "    </tr>\n",
       "  </thead>\n",
       "  <tbody>\n",
       "    <tr>\n",
       "      <th>0</th>\n",
       "      <td>5.1</td>\n",
       "      <td>3.5</td>\n",
       "      <td>1.4</td>\n",
       "      <td>0.2</td>\n",
       "    </tr>\n",
       "    <tr>\n",
       "      <th>1</th>\n",
       "      <td>4.9</td>\n",
       "      <td>3.0</td>\n",
       "      <td>1.4</td>\n",
       "      <td>0.2</td>\n",
       "    </tr>\n",
       "    <tr>\n",
       "      <th>2</th>\n",
       "      <td>4.7</td>\n",
       "      <td>3.2</td>\n",
       "      <td>1.3</td>\n",
       "      <td>0.2</td>\n",
       "    </tr>\n",
       "    <tr>\n",
       "      <th>3</th>\n",
       "      <td>4.6</td>\n",
       "      <td>3.1</td>\n",
       "      <td>1.5</td>\n",
       "      <td>0.2</td>\n",
       "    </tr>\n",
       "    <tr>\n",
       "      <th>4</th>\n",
       "      <td>5.0</td>\n",
       "      <td>3.6</td>\n",
       "      <td>1.4</td>\n",
       "      <td>0.2</td>\n",
       "    </tr>\n",
       "  </tbody>\n",
       "</table>\n",
       "</div>"
      ],
      "text/plain": [
       "   SepalLengthCm  SepalWidthCm  PetalLengthCm  PetalWidthCm\n",
       "0            5.1           3.5            1.4           0.2\n",
       "1            4.9           3.0            1.4           0.2\n",
       "2            4.7           3.2            1.3           0.2\n",
       "3            4.6           3.1            1.5           0.2\n",
       "4            5.0           3.6            1.4           0.2"
      ]
     },
     "execution_count": 31,
     "metadata": {},
     "output_type": "execute_result"
    }
   ],
   "source": [
    "X.head()"
   ]
  },
  {
   "cell_type": "code",
   "execution_count": 32,
   "metadata": {},
   "outputs": [
    {
     "data": {
      "text/html": [
       "<div>\n",
       "<style scoped>\n",
       "    .dataframe tbody tr th:only-of-type {\n",
       "        vertical-align: middle;\n",
       "    }\n",
       "\n",
       "    .dataframe tbody tr th {\n",
       "        vertical-align: top;\n",
       "    }\n",
       "\n",
       "    .dataframe thead th {\n",
       "        text-align: right;\n",
       "    }\n",
       "</style>\n",
       "<table border=\"1\" class=\"dataframe\">\n",
       "  <thead>\n",
       "    <tr style=\"text-align: right;\">\n",
       "      <th></th>\n",
       "      <th>out1</th>\n",
       "      <th>out2</th>\n",
       "      <th>out3</th>\n",
       "    </tr>\n",
       "  </thead>\n",
       "  <tbody>\n",
       "    <tr>\n",
       "      <th>0</th>\n",
       "      <td>1</td>\n",
       "      <td>0</td>\n",
       "      <td>0</td>\n",
       "    </tr>\n",
       "    <tr>\n",
       "      <th>1</th>\n",
       "      <td>1</td>\n",
       "      <td>0</td>\n",
       "      <td>0</td>\n",
       "    </tr>\n",
       "    <tr>\n",
       "      <th>2</th>\n",
       "      <td>1</td>\n",
       "      <td>0</td>\n",
       "      <td>0</td>\n",
       "    </tr>\n",
       "    <tr>\n",
       "      <th>3</th>\n",
       "      <td>1</td>\n",
       "      <td>0</td>\n",
       "      <td>0</td>\n",
       "    </tr>\n",
       "    <tr>\n",
       "      <th>4</th>\n",
       "      <td>1</td>\n",
       "      <td>0</td>\n",
       "      <td>0</td>\n",
       "    </tr>\n",
       "  </tbody>\n",
       "</table>\n",
       "</div>"
      ],
      "text/plain": [
       "   out1  out2  out3\n",
       "0     1     0     0\n",
       "1     1     0     0\n",
       "2     1     0     0\n",
       "3     1     0     0\n",
       "4     1     0     0"
      ]
     },
     "execution_count": 32,
     "metadata": {},
     "output_type": "execute_result"
    }
   ],
   "source": [
    "Y.head()"
   ]
  },
  {
   "cell_type": "markdown",
   "metadata": {
    "colab_type": "text",
    "id": "ERq9GOKKciho"
   },
   "source": [
    "### Divide the dataset into Training and test (70:30)"
   ]
  },
  {
   "cell_type": "code",
   "execution_count": 33,
   "metadata": {
    "colab": {},
    "colab_type": "code",
    "id": "gKGvUWahcihp"
   },
   "outputs": [],
   "source": [
    "X_train, X_test, y_train, y_test = train_test_split(X, Y, test_size=0.30, random_state=7)"
   ]
  },
  {
   "cell_type": "code",
   "execution_count": null,
   "metadata": {},
   "outputs": [],
   "source": []
  },
  {
   "cell_type": "markdown",
   "metadata": {
    "colab_type": "text",
    "id": "b22qpC5xcihr"
   },
   "source": [
    "###  Building Model in tf.keras\n",
    "\n",
    "Build a Linear Classifier model  <br>\n",
    "1.  Use Dense Layer  with input shape of 4 (according to the feature set) and number of outputs set to 3<br> \n",
    "2. Apply Softmax on Dense Layer outputs <br>\n",
    "3. Use SGD as Optimizer\n",
    "4. Use categorical_crossentropy as loss function "
   ]
  },
  {
   "cell_type": "code",
   "execution_count": 36,
   "metadata": {
    "colab": {},
    "colab_type": "code",
    "id": "Hov_UFnUciht"
   },
   "outputs": [],
   "source": [
    "# create model\n",
    "model = Sequential()\n",
    "model.add(Dense(12, input_dim=4, activation='relu'))\n",
    "#model.add(Dense(8, activation='relu'))\n",
    "model.add(Dense(3, activation='softmax'))\n",
    "# Compile model\n",
    "model.compile(loss='categorical_crossentropy', optimizer='sgd', metrics=['accuracy'])"
   ]
  },
  {
   "cell_type": "markdown",
   "metadata": {
    "colab_type": "text",
    "id": "T5FdzqIKcihw"
   },
   "source": [
    "### Model Training "
   ]
  },
  {
   "cell_type": "code",
   "execution_count": 39,
   "metadata": {
    "colab": {},
    "colab_type": "code",
    "id": "4qLEdHPscihx"
   },
   "outputs": [
    {
     "name": "stdout",
     "output_type": "stream",
     "text": [
      "Epoch 1/150\n",
      "105/105 [==============================] - 0s 190us/step - loss: 0.0825 - acc: 0.9714\n",
      "Epoch 2/150\n",
      "105/105 [==============================] - 0s 114us/step - loss: 0.0791 - acc: 0.9810\n",
      "Epoch 3/150\n",
      "105/105 [==============================] - 0s 76us/step - loss: 0.0845 - acc: 0.9810\n",
      "Epoch 4/150\n",
      "105/105 [==============================] - 0s 86us/step - loss: 0.0790 - acc: 0.9810\n",
      "Epoch 5/150\n",
      "105/105 [==============================] - 0s 124us/step - loss: 0.0854 - acc: 0.9714\n",
      "Epoch 6/150\n",
      "105/105 [==============================] - 0s 105us/step - loss: 0.1113 - acc: 0.9333\n",
      "Epoch 7/150\n",
      "105/105 [==============================] - 0s 114us/step - loss: 0.0857 - acc: 0.9810\n",
      "Epoch 8/150\n",
      "105/105 [==============================] - 0s 105us/step - loss: 0.0822 - acc: 0.9714\n",
      "Epoch 9/150\n",
      "105/105 [==============================] - 0s 114us/step - loss: 0.0834 - acc: 0.9714\n",
      "Epoch 10/150\n",
      "105/105 [==============================] - 0s 114us/step - loss: 0.0858 - acc: 0.9714\n",
      "Epoch 11/150\n",
      "105/105 [==============================] - 0s 105us/step - loss: 0.0878 - acc: 0.9714\n",
      "Epoch 12/150\n",
      "105/105 [==============================] - 0s 86us/step - loss: 0.0854 - acc: 0.9714\n",
      "Epoch 13/150\n",
      "105/105 [==============================] - 0s 95us/step - loss: 0.0943 - acc: 0.9429\n",
      "Epoch 14/150\n",
      "105/105 [==============================] - 0s 114us/step - loss: 0.0932 - acc: 0.9714\n",
      "Epoch 15/150\n",
      "105/105 [==============================] - 0s 76us/step - loss: 0.0786 - acc: 0.9619\n",
      "Epoch 16/150\n",
      "105/105 [==============================] - 0s 105us/step - loss: 0.0807 - acc: 0.9810\n",
      "Epoch 17/150\n",
      "105/105 [==============================] - 0s 76us/step - loss: 0.0799 - acc: 0.9810\n",
      "Epoch 18/150\n",
      "105/105 [==============================] - 0s 95us/step - loss: 0.0864 - acc: 0.9619\n",
      "Epoch 19/150\n",
      "105/105 [==============================] - 0s 105us/step - loss: 0.0805 - acc: 0.9714\n",
      "Epoch 20/150\n",
      "105/105 [==============================] - 0s 114us/step - loss: 0.0813 - acc: 0.9810\n",
      "Epoch 21/150\n",
      "105/105 [==============================] - 0s 86us/step - loss: 0.0781 - acc: 0.9714\n",
      "Epoch 22/150\n",
      "105/105 [==============================] - 0s 114us/step - loss: 0.0820 - acc: 0.9714\n",
      "Epoch 23/150\n",
      "105/105 [==============================] - 0s 114us/step - loss: 0.0780 - acc: 0.9810\n",
      "Epoch 24/150\n",
      "105/105 [==============================] - 0s 86us/step - loss: 0.0796 - acc: 0.9810\n",
      "Epoch 25/150\n",
      "105/105 [==============================] - 0s 114us/step - loss: 0.0826 - acc: 0.9714\n",
      "Epoch 26/150\n",
      "105/105 [==============================] - 0s 95us/step - loss: 0.0772 - acc: 0.9810\n",
      "Epoch 27/150\n",
      "105/105 [==============================] - 0s 124us/step - loss: 0.0837 - acc: 0.9810\n",
      "Epoch 28/150\n",
      "105/105 [==============================] - 0s 124us/step - loss: 0.0814 - acc: 0.9810\n",
      "Epoch 29/150\n",
      "105/105 [==============================] - 0s 133us/step - loss: 0.0830 - acc: 0.9810\n",
      "Epoch 30/150\n",
      "105/105 [==============================] - 0s 133us/step - loss: 0.0854 - acc: 0.9619\n",
      "Epoch 31/150\n",
      "105/105 [==============================] - 0s 105us/step - loss: 0.0811 - acc: 0.9714\n",
      "Epoch 32/150\n",
      "105/105 [==============================] - 0s 124us/step - loss: 0.0781 - acc: 0.9810\n",
      "Epoch 33/150\n",
      "105/105 [==============================] - 0s 133us/step - loss: 0.0768 - acc: 0.9714\n",
      "Epoch 34/150\n",
      "105/105 [==============================] - 0s 114us/step - loss: 0.0815 - acc: 0.9810\n",
      "Epoch 35/150\n",
      "105/105 [==============================] - 0s 114us/step - loss: 0.0845 - acc: 0.9619\n",
      "Epoch 36/150\n",
      "105/105 [==============================] - 0s 114us/step - loss: 0.0823 - acc: 0.9714\n",
      "Epoch 37/150\n",
      "105/105 [==============================] - 0s 114us/step - loss: 0.0859 - acc: 0.9714\n",
      "Epoch 38/150\n",
      "105/105 [==============================] - 0s 124us/step - loss: 0.0802 - acc: 0.9810\n",
      "Epoch 39/150\n",
      "105/105 [==============================] - 0s 105us/step - loss: 0.0856 - acc: 0.9810\n",
      "Epoch 40/150\n",
      "105/105 [==============================] - 0s 133us/step - loss: 0.0772 - acc: 0.9810\n",
      "Epoch 41/150\n",
      "105/105 [==============================] - 0s 105us/step - loss: 0.0864 - acc: 0.9714\n",
      "Epoch 42/150\n",
      "105/105 [==============================] - 0s 124us/step - loss: 0.0784 - acc: 0.9810\n",
      "Epoch 43/150\n",
      "105/105 [==============================] - 0s 105us/step - loss: 0.0794 - acc: 0.9810\n",
      "Epoch 44/150\n",
      "105/105 [==============================] - 0s 124us/step - loss: 0.0880 - acc: 0.9714\n",
      "Epoch 45/150\n",
      "105/105 [==============================] - 0s 105us/step - loss: 0.0778 - acc: 0.9714\n",
      "Epoch 46/150\n",
      "105/105 [==============================] - 0s 124us/step - loss: 0.0748 - acc: 0.9810\n",
      "Epoch 47/150\n",
      "105/105 [==============================] - 0s 105us/step - loss: 0.0709 - acc: 0.9810\n",
      "Epoch 48/150\n",
      "105/105 [==============================] - 0s 133us/step - loss: 0.0857 - acc: 0.9524\n",
      "Epoch 49/150\n",
      "105/105 [==============================] - 0s 114us/step - loss: 0.0808 - acc: 0.9810\n",
      "Epoch 50/150\n",
      "105/105 [==============================] - 0s 133us/step - loss: 0.0772 - acc: 0.9714\n",
      "Epoch 51/150\n",
      "105/105 [==============================] - 0s 114us/step - loss: 0.0753 - acc: 0.9810\n",
      "Epoch 52/150\n",
      "105/105 [==============================] - 0s 105us/step - loss: 0.0820 - acc: 0.9810\n",
      "Epoch 53/150\n",
      "105/105 [==============================] - 0s 105us/step - loss: 0.0805 - acc: 0.9714\n",
      "Epoch 54/150\n",
      "105/105 [==============================] - 0s 114us/step - loss: 0.0831 - acc: 0.9714\n",
      "Epoch 55/150\n",
      "105/105 [==============================] - 0s 133us/step - loss: 0.0853 - acc: 0.9810\n",
      "Epoch 56/150\n",
      "105/105 [==============================] - 0s 105us/step - loss: 0.0753 - acc: 0.9810\n",
      "Epoch 57/150\n",
      "105/105 [==============================] - 0s 95us/step - loss: 0.0790 - acc: 0.9810\n",
      "Epoch 58/150\n",
      "105/105 [==============================] - 0s 114us/step - loss: 0.0799 - acc: 0.9810\n",
      "Epoch 59/150\n",
      "105/105 [==============================] - 0s 105us/step - loss: 0.0759 - acc: 0.9714\n",
      "Epoch 60/150\n",
      "105/105 [==============================] - 0s 105us/step - loss: 0.0769 - acc: 0.9810\n",
      "Epoch 61/150\n",
      "105/105 [==============================] - 0s 76us/step - loss: 0.0799 - acc: 0.9619\n",
      "Epoch 62/150\n",
      "105/105 [==============================] - 0s 105us/step - loss: 0.0751 - acc: 0.9714\n",
      "Epoch 63/150\n",
      "105/105 [==============================] - 0s 95us/step - loss: 0.0786 - acc: 0.9810\n",
      "Epoch 64/150\n",
      "105/105 [==============================] - 0s 114us/step - loss: 0.0768 - acc: 0.9714\n",
      "Epoch 65/150\n",
      "105/105 [==============================] - 0s 86us/step - loss: 0.0763 - acc: 0.9810\n",
      "Epoch 66/150\n",
      "105/105 [==============================] - 0s 86us/step - loss: 0.0815 - acc: 0.9714\n",
      "Epoch 67/150\n",
      "105/105 [==============================] - 0s 95us/step - loss: 0.0756 - acc: 0.9714\n",
      "Epoch 68/150\n",
      "105/105 [==============================] - 0s 105us/step - loss: 0.0743 - acc: 0.9714\n",
      "Epoch 69/150\n",
      "105/105 [==============================] - 0s 114us/step - loss: 0.0763 - acc: 0.9810\n",
      "Epoch 70/150\n",
      "105/105 [==============================] - 0s 76us/step - loss: 0.0790 - acc: 0.9714\n",
      "Epoch 71/150\n",
      "105/105 [==============================] - 0s 105us/step - loss: 0.0755 - acc: 0.9810\n",
      "Epoch 72/150\n",
      "105/105 [==============================] - 0s 76us/step - loss: 0.0789 - acc: 0.9810\n",
      "Epoch 73/150\n",
      "105/105 [==============================] - 0s 95us/step - loss: 0.0754 - acc: 0.9810\n",
      "Epoch 74/150\n",
      "105/105 [==============================] - 0s 95us/step - loss: 0.0889 - acc: 0.9714\n",
      "Epoch 75/150\n",
      "105/105 [==============================] - 0s 95us/step - loss: 0.0723 - acc: 0.9810\n",
      "Epoch 76/150\n",
      "105/105 [==============================] - 0s 105us/step - loss: 0.0711 - acc: 0.9810\n",
      "Epoch 77/150\n",
      "105/105 [==============================] - 0s 86us/step - loss: 0.0750 - acc: 0.9619\n",
      "Epoch 78/150\n",
      "105/105 [==============================] - 0s 95us/step - loss: 0.0765 - acc: 0.9810\n",
      "Epoch 79/150\n",
      "105/105 [==============================] - 0s 95us/step - loss: 0.0750 - acc: 0.9810\n",
      "Epoch 80/150\n",
      "105/105 [==============================] - 0s 86us/step - loss: 0.0798 - acc: 0.9714\n",
      "Epoch 81/150\n",
      "105/105 [==============================] - 0s 95us/step - loss: 0.0886 - acc: 0.9619\n",
      "Epoch 82/150\n",
      "105/105 [==============================] - 0s 86us/step - loss: 0.0765 - acc: 0.9714\n",
      "Epoch 83/150\n",
      "105/105 [==============================] - 0s 105us/step - loss: 0.0762 - acc: 0.9810\n",
      "Epoch 84/150\n"
     ]
    },
    {
     "name": "stdout",
     "output_type": "stream",
     "text": [
      "105/105 [==============================] - 0s 86us/step - loss: 0.0753 - acc: 0.9714\n",
      "Epoch 85/150\n",
      "105/105 [==============================] - 0s 105us/step - loss: 0.0702 - acc: 0.9810\n",
      "Epoch 86/150\n",
      "105/105 [==============================] - 0s 95us/step - loss: 0.0815 - acc: 0.9619\n",
      "Epoch 87/150\n",
      "105/105 [==============================] - 0s 76us/step - loss: 0.0721 - acc: 0.9810\n",
      "Epoch 88/150\n",
      "105/105 [==============================] - 0s 86us/step - loss: 0.0731 - acc: 0.9714\n",
      "Epoch 89/150\n",
      "105/105 [==============================] - 0s 105us/step - loss: 0.0848 - acc: 0.9714\n",
      "Epoch 90/150\n",
      "105/105 [==============================] - 0s 105us/step - loss: 0.0746 - acc: 0.9619\n",
      "Epoch 91/150\n",
      "105/105 [==============================] - 0s 114us/step - loss: 0.0771 - acc: 0.9810\n",
      "Epoch 92/150\n",
      "105/105 [==============================] - 0s 105us/step - loss: 0.0801 - acc: 0.9810\n",
      "Epoch 93/150\n",
      "105/105 [==============================] - 0s 105us/step - loss: 0.0839 - acc: 0.9714\n",
      "Epoch 94/150\n",
      "105/105 [==============================] - 0s 114us/step - loss: 0.0697 - acc: 0.9905\n",
      "Epoch 95/150\n",
      "105/105 [==============================] - 0s 86us/step - loss: 0.0726 - acc: 0.9905\n",
      "Epoch 96/150\n",
      "105/105 [==============================] - 0s 105us/step - loss: 0.0756 - acc: 0.9714\n",
      "Epoch 97/150\n",
      "105/105 [==============================] - 0s 105us/step - loss: 0.0767 - acc: 0.9619\n",
      "Epoch 98/150\n",
      "105/105 [==============================] - 0s 95us/step - loss: 0.0738 - acc: 0.9810\n",
      "Epoch 99/150\n",
      "105/105 [==============================] - 0s 95us/step - loss: 0.0747 - acc: 0.9810\n",
      "Epoch 100/150\n",
      "105/105 [==============================] - 0s 114us/step - loss: 0.0775 - acc: 0.9714\n",
      "Epoch 101/150\n",
      "105/105 [==============================] - 0s 95us/step - loss: 0.0731 - acc: 0.9810\n",
      "Epoch 102/150\n",
      "105/105 [==============================] - 0s 86us/step - loss: 0.0753 - acc: 0.9714\n",
      "Epoch 103/150\n",
      "105/105 [==============================] - 0s 105us/step - loss: 0.0800 - acc: 0.9714\n",
      "Epoch 104/150\n",
      "105/105 [==============================] - 0s 95us/step - loss: 0.0786 - acc: 0.9619\n",
      "Epoch 105/150\n",
      "105/105 [==============================] - 0s 86us/step - loss: 0.0782 - acc: 0.9810\n",
      "Epoch 106/150\n",
      "105/105 [==============================] - 0s 105us/step - loss: 0.0807 - acc: 0.9714\n",
      "Epoch 107/150\n",
      "105/105 [==============================] - 0s 105us/step - loss: 0.0703 - acc: 0.9810\n",
      "Epoch 108/150\n",
      "105/105 [==============================] - 0s 76us/step - loss: 0.0717 - acc: 0.9810\n",
      "Epoch 109/150\n",
      "105/105 [==============================] - 0s 114us/step - loss: 0.0805 - acc: 0.9714\n",
      "Epoch 110/150\n",
      "105/105 [==============================] - 0s 105us/step - loss: 0.0753 - acc: 0.9810\n",
      "Epoch 111/150\n",
      "105/105 [==============================] - 0s 86us/step - loss: 0.0750 - acc: 0.9714\n",
      "Epoch 112/150\n",
      "105/105 [==============================] - 0s 114us/step - loss: 0.0682 - acc: 0.9810\n",
      "Epoch 113/150\n",
      "105/105 [==============================] - 0s 114us/step - loss: 0.0933 - acc: 0.9524\n",
      "Epoch 114/150\n",
      "105/105 [==============================] - 0s 76us/step - loss: 0.0738 - acc: 0.9905\n",
      "Epoch 115/150\n",
      "105/105 [==============================] - 0s 105us/step - loss: 0.0716 - acc: 0.9810\n",
      "Epoch 116/150\n",
      "105/105 [==============================] - 0s 114us/step - loss: 0.0699 - acc: 0.9810\n",
      "Epoch 117/150\n",
      "105/105 [==============================] - 0s 86us/step - loss: 0.0718 - acc: 0.9619\n",
      "Epoch 118/150\n",
      "105/105 [==============================] - 0s 105us/step - loss: 0.0710 - acc: 0.9810\n",
      "Epoch 119/150\n",
      "105/105 [==============================] - 0s 86us/step - loss: 0.0687 - acc: 0.9810\n",
      "Epoch 120/150\n",
      "105/105 [==============================] - 0s 105us/step - loss: 0.0805 - acc: 0.9619\n",
      "Epoch 121/150\n",
      "105/105 [==============================] - 0s 86us/step - loss: 0.0891 - acc: 0.9714\n",
      "Epoch 122/150\n",
      "105/105 [==============================] - 0s 95us/step - loss: 0.0761 - acc: 0.9810\n",
      "Epoch 123/150\n",
      "105/105 [==============================] - 0s 105us/step - loss: 0.0921 - acc: 0.9619\n",
      "Epoch 124/150\n",
      "105/105 [==============================] - 0s 86us/step - loss: 0.0711 - acc: 0.9810\n",
      "Epoch 125/150\n",
      "105/105 [==============================] - 0s 105us/step - loss: 0.0781 - acc: 0.9810\n",
      "Epoch 126/150\n",
      "105/105 [==============================] - 0s 86us/step - loss: 0.0712 - acc: 0.9810\n",
      "Epoch 127/150\n",
      "105/105 [==============================] - 0s 105us/step - loss: 0.0779 - acc: 0.9810\n",
      "Epoch 128/150\n",
      "105/105 [==============================] - 0s 95us/step - loss: 0.0795 - acc: 0.9714\n",
      "Epoch 129/150\n",
      "105/105 [==============================] - 0s 114us/step - loss: 0.0778 - acc: 0.9714\n",
      "Epoch 130/150\n",
      "105/105 [==============================] - 0s 86us/step - loss: 0.0724 - acc: 0.9905\n",
      "Epoch 131/150\n",
      "105/105 [==============================] - 0s 86us/step - loss: 0.0725 - acc: 0.9810\n",
      "Epoch 132/150\n",
      "105/105 [==============================] - 0s 105us/step - loss: 0.0739 - acc: 0.9810\n",
      "Epoch 133/150\n",
      "105/105 [==============================] - 0s 76us/step - loss: 0.0699 - acc: 0.9905\n",
      "Epoch 134/150\n",
      "105/105 [==============================] - 0s 114us/step - loss: 0.0689 - acc: 0.9810\n",
      "Epoch 135/150\n",
      "105/105 [==============================] - 0s 86us/step - loss: 0.0674 - acc: 0.9810\n",
      "Epoch 136/150\n",
      "105/105 [==============================] - 0s 105us/step - loss: 0.0821 - acc: 0.9619\n",
      "Epoch 137/150\n",
      "105/105 [==============================] - 0s 86us/step - loss: 0.0745 - acc: 0.9810\n",
      "Epoch 138/150\n",
      "105/105 [==============================] - 0s 105us/step - loss: 0.0715 - acc: 0.9714\n",
      "Epoch 139/150\n",
      "105/105 [==============================] - 0s 76us/step - loss: 0.0709 - acc: 0.9810\n",
      "Epoch 140/150\n",
      "105/105 [==============================] - 0s 105us/step - loss: 0.0800 - acc: 0.9714\n",
      "Epoch 141/150\n",
      "105/105 [==============================] - 0s 76us/step - loss: 0.0666 - acc: 0.9905\n",
      "Epoch 142/150\n",
      "105/105 [==============================] - 0s 95us/step - loss: 0.0762 - acc: 0.9714\n",
      "Epoch 143/150\n",
      "105/105 [==============================] - 0s 105us/step - loss: 0.0697 - acc: 0.9810\n",
      "Epoch 144/150\n",
      "105/105 [==============================] - 0s 76us/step - loss: 0.0873 - acc: 0.9619\n",
      "Epoch 145/150\n",
      "105/105 [==============================] - 0s 105us/step - loss: 0.0723 - acc: 0.9810\n",
      "Epoch 146/150\n",
      "105/105 [==============================] - 0s 105us/step - loss: 0.0742 - acc: 0.9714\n",
      "Epoch 147/150\n",
      "105/105 [==============================] - 0s 114us/step - loss: 0.0772 - acc: 0.9714\n",
      "Epoch 148/150\n",
      "105/105 [==============================] - 0s 86us/step - loss: 0.0706 - acc: 0.9810\n",
      "Epoch 149/150\n",
      "105/105 [==============================] - 0s 105us/step - loss: 0.0740 - acc: 0.9905\n",
      "Epoch 150/150\n",
      "105/105 [==============================] - 0s 76us/step - loss: 0.0703 - acc: 0.9905\n"
     ]
    },
    {
     "data": {
      "text/plain": [
       "<keras.callbacks.History at 0x1ce6f2b0>"
      ]
     },
     "execution_count": 39,
     "metadata": {},
     "output_type": "execute_result"
    }
   ],
   "source": [
    "model.fit(X_train, y_train, epochs=150, batch_size=10)"
   ]
  },
  {
   "cell_type": "markdown",
   "metadata": {
    "colab_type": "text",
    "id": "y-SgSSdRcih5"
   },
   "source": [
    "### Model Prediction"
   ]
  },
  {
   "cell_type": "code",
   "execution_count": 46,
   "metadata": {},
   "outputs": [],
   "source": [
    "from sklearn import metrics"
   ]
  },
  {
   "cell_type": "code",
   "execution_count": 59,
   "metadata": {
    "colab": {},
    "colab_type": "code",
    "id": "GBgKZkhkcih6"
   },
   "outputs": [],
   "source": [
    "y_predict=model.predict_classes(X_test)"
   ]
  },
  {
   "cell_type": "code",
   "execution_count": 60,
   "metadata": {},
   "outputs": [
    {
     "data": {
      "text/plain": [
       "array([2, 1, 0, 1, 2, 0, 1, 1, 0, 1, 1, 1, 0, 2, 0, 1, 2, 2, 0, 0, 1, 2,\n",
       "       1, 2, 2, 1, 1, 1, 2, 2, 2, 1, 0, 2, 1, 0, 0, 0, 0, 2, 2, 1, 2, 2,\n",
       "       1], dtype=int64)"
      ]
     },
     "execution_count": 60,
     "metadata": {},
     "output_type": "execute_result"
    }
   ],
   "source": [
    "y_predict"
   ]
  },
  {
   "cell_type": "markdown",
   "metadata": {
    "colab_type": "text",
    "id": "P32ASP1Vjt0a"
   },
   "source": [
    "### Save the Model"
   ]
  },
  {
   "cell_type": "code",
   "execution_count": 61,
   "metadata": {
    "colab": {},
    "colab_type": "code",
    "id": "n8rd0jjAjyTR"
   },
   "outputs": [],
   "source": [
    "model.save('iris_model.h5')"
   ]
  },
  {
   "cell_type": "markdown",
   "metadata": {
    "colab_type": "text",
    "id": "XiipRpe7rbVh"
   },
   "source": [
    "### Build and Train a Deep Neural network with 2 hidden layer  - Optional - For Practice\n",
    "\n",
    "Does it perform better than Linear Classifier? What could be the reason for difference in performance?"
   ]
  },
  {
   "cell_type": "code",
   "execution_count": 62,
   "metadata": {
    "colab": {},
    "colab_type": "code",
    "id": "v5Du3lubr4sA"
   },
   "outputs": [],
   "source": [
    "# create model\n",
    "model = Sequential()\n",
    "model.add(Dense(12, input_dim=4, activation='relu'))\n",
    "model.add(Dense(8, activation='relu'))\n",
    "model.add(Dense(3, activation='softmax'))\n",
    "# Compile model\n",
    "model.compile(loss='categorical_crossentropy', optimizer='sgd', metrics=['accuracy'])"
   ]
  },
  {
   "cell_type": "code",
   "execution_count": 63,
   "metadata": {},
   "outputs": [
    {
     "name": "stdout",
     "output_type": "stream",
     "text": [
      "Epoch 1/150\n",
      "45/45 [==============================] - 0s 4ms/step - loss: 1.0342 - acc: 0.5111\n",
      "Epoch 2/150\n",
      "45/45 [==============================] - 0s 133us/step - loss: 0.8251 - acc: 0.5778\n",
      "Epoch 3/150\n",
      "45/45 [==============================] - 0s 222us/step - loss: 0.7680 - acc: 0.5333\n",
      "Epoch 4/150\n",
      "45/45 [==============================] - 0s 133us/step - loss: 0.7466 - acc: 0.5556\n",
      "Epoch 5/150\n",
      "45/45 [==============================] - 0s 200us/step - loss: 0.6995 - acc: 0.7111\n",
      "Epoch 6/150\n",
      "45/45 [==============================] - 0s 133us/step - loss: 0.7176 - acc: 0.6000\n",
      "Epoch 7/150\n",
      "45/45 [==============================] - 0s 200us/step - loss: 0.6700 - acc: 0.6222\n",
      "Epoch 8/150\n",
      "45/45 [==============================] - 0s 156us/step - loss: 0.6813 - acc: 0.6000\n",
      "Epoch 9/150\n",
      "45/45 [==============================] - 0s 200us/step - loss: 0.6932 - acc: 0.6667\n",
      "Epoch 10/150\n",
      "45/45 [==============================] - 0s 156us/step - loss: 0.6033 - acc: 0.7778\n",
      "Epoch 11/150\n",
      "45/45 [==============================] - 0s 156us/step - loss: 0.6321 - acc: 0.6222\n",
      "Epoch 12/150\n",
      "45/45 [==============================] - 0s 133us/step - loss: 0.5913 - acc: 0.6222\n",
      "Epoch 13/150\n",
      "45/45 [==============================] - 0s 133us/step - loss: 0.6562 - acc: 0.6000\n",
      "Epoch 14/150\n",
      "45/45 [==============================] - 0s 178us/step - loss: 0.6332 - acc: 0.6444\n",
      "Epoch 15/150\n",
      "45/45 [==============================] - 0s 133us/step - loss: 0.6506 - acc: 0.5111\n",
      "Epoch 16/150\n",
      "45/45 [==============================] - 0s 178us/step - loss: 0.5441 - acc: 0.7111\n",
      "Epoch 17/150\n",
      "45/45 [==============================] - 0s 178us/step - loss: 0.5666 - acc: 0.6889\n",
      "Epoch 18/150\n",
      "45/45 [==============================] - 0s 133us/step - loss: 0.5322 - acc: 0.8000\n",
      "Epoch 19/150\n",
      "45/45 [==============================] - 0s 222us/step - loss: 0.5028 - acc: 0.7778\n",
      "Epoch 20/150\n",
      "45/45 [==============================] - 0s 178us/step - loss: 0.5315 - acc: 0.7111\n",
      "Epoch 21/150\n",
      "45/45 [==============================] - 0s 178us/step - loss: 0.5511 - acc: 0.6222\n",
      "Epoch 22/150\n",
      "45/45 [==============================] - 0s 156us/step - loss: 0.5180 - acc: 0.7556\n",
      "Epoch 23/150\n",
      "45/45 [==============================] - 0s 111us/step - loss: 0.5261 - acc: 0.7333\n",
      "Epoch 24/150\n",
      "45/45 [==============================] - 0s 133us/step - loss: 0.5048 - acc: 0.7111\n",
      "Epoch 25/150\n",
      "45/45 [==============================] - 0s 111us/step - loss: 0.4858 - acc: 0.7111\n",
      "Epoch 26/150\n",
      "45/45 [==============================] - 0s 89us/step - loss: 0.4908 - acc: 0.8222\n",
      "Epoch 27/150\n",
      "45/45 [==============================] - 0s 178us/step - loss: 0.4896 - acc: 0.8000\n",
      "Epoch 28/150\n",
      "45/45 [==============================] - 0s 156us/step - loss: 0.4700 - acc: 0.7333\n",
      "Epoch 29/150\n",
      "45/45 [==============================] - 0s 133us/step - loss: 0.5221 - acc: 0.6889\n",
      "Epoch 30/150\n",
      "45/45 [==============================] - 0s 133us/step - loss: 0.4448 - acc: 0.8444\n",
      "Epoch 31/150\n",
      "45/45 [==============================] - 0s 133us/step - loss: 0.4472 - acc: 0.8000\n",
      "Epoch 32/150\n",
      "45/45 [==============================] - 0s 111us/step - loss: 0.4442 - acc: 0.8667\n",
      "Epoch 33/150\n",
      "45/45 [==============================] - 0s 111us/step - loss: 0.4458 - acc: 0.8000\n",
      "Epoch 34/150\n",
      "45/45 [==============================] - 0s 133us/step - loss: 0.5243 - acc: 0.6444\n",
      "Epoch 35/150\n",
      "45/45 [==============================] - 0s 111us/step - loss: 0.4644 - acc: 0.8222\n",
      "Epoch 36/150\n",
      "45/45 [==============================] - 0s 133us/step - loss: 0.4991 - acc: 0.6667\n",
      "Epoch 37/150\n",
      "45/45 [==============================] - 0s 156us/step - loss: 0.4250 - acc: 0.8222\n",
      "Epoch 38/150\n",
      "45/45 [==============================] - 0s 111us/step - loss: 0.4156 - acc: 0.8889\n",
      "Epoch 39/150\n",
      "45/45 [==============================] - 0s 111us/step - loss: 0.4714 - acc: 0.7333\n",
      "Epoch 40/150\n",
      "45/45 [==============================] - 0s 111us/step - loss: 0.4534 - acc: 0.6889\n",
      "Epoch 41/150\n",
      "45/45 [==============================] - 0s 156us/step - loss: 0.4095 - acc: 0.8000\n",
      "Epoch 42/150\n",
      "45/45 [==============================] - 0s 89us/step - loss: 0.3950 - acc: 0.9111\n",
      "Epoch 43/150\n",
      "45/45 [==============================] - 0s 89us/step - loss: 0.4467 - acc: 0.7556\n",
      "Epoch 44/150\n",
      "45/45 [==============================] - 0s 156us/step - loss: 0.4265 - acc: 0.8444\n",
      "Epoch 45/150\n",
      "45/45 [==============================] - 0s 156us/step - loss: 0.4067 - acc: 0.8444\n",
      "Epoch 46/150\n",
      "45/45 [==============================] - 0s 156us/step - loss: 0.4371 - acc: 0.8667\n",
      "Epoch 47/150\n",
      "45/45 [==============================] - 0s 178us/step - loss: 0.3716 - acc: 0.8667\n",
      "Epoch 48/150\n",
      "45/45 [==============================] - 0s 133us/step - loss: 0.4354 - acc: 0.7333\n",
      "Epoch 49/150\n",
      "45/45 [==============================] - 0s 133us/step - loss: 0.3802 - acc: 0.7778\n",
      "Epoch 50/150\n",
      "45/45 [==============================] - 0s 156us/step - loss: 0.3819 - acc: 0.9111\n",
      "Epoch 51/150\n",
      "45/45 [==============================] - 0s 200us/step - loss: 0.4327 - acc: 0.7778\n",
      "Epoch 52/150\n",
      "45/45 [==============================] - 0s 133us/step - loss: 0.4859 - acc: 0.6889\n",
      "Epoch 53/150\n",
      "45/45 [==============================] - 0s 133us/step - loss: 0.3763 - acc: 0.8444\n",
      "Epoch 54/150\n",
      "45/45 [==============================] - 0s 200us/step - loss: 0.3373 - acc: 0.9333\n",
      "Epoch 55/150\n",
      "45/45 [==============================] - 0s 133us/step - loss: 0.3918 - acc: 0.8444\n",
      "Epoch 56/150\n",
      "45/45 [==============================] - 0s 111us/step - loss: 0.3501 - acc: 0.9111\n",
      "Epoch 57/150\n",
      "45/45 [==============================] - 0s 133us/step - loss: 0.3401 - acc: 0.9556\n",
      "Epoch 58/150\n",
      "45/45 [==============================] - 0s 200us/step - loss: 0.3355 - acc: 0.9333\n",
      "Epoch 59/150\n",
      "45/45 [==============================] - 0s 156us/step - loss: 0.3239 - acc: 0.9333\n",
      "Epoch 60/150\n",
      "45/45 [==============================] - 0s 111us/step - loss: 0.3304 - acc: 0.8889\n",
      "Epoch 61/150\n",
      "45/45 [==============================] - 0s 156us/step - loss: 0.3109 - acc: 0.9333\n",
      "Epoch 62/150\n",
      "45/45 [==============================] - 0s 133us/step - loss: 0.3299 - acc: 0.8667\n",
      "Epoch 63/150\n",
      "45/45 [==============================] - 0s 200us/step - loss: 0.3130 - acc: 0.8889\n",
      "Epoch 64/150\n",
      "45/45 [==============================] - 0s 200us/step - loss: 0.3159 - acc: 0.8889\n",
      "Epoch 65/150\n",
      "45/45 [==============================] - 0s 133us/step - loss: 0.3160 - acc: 0.8667\n",
      "Epoch 66/150\n",
      "45/45 [==============================] - 0s 111us/step - loss: 0.3227 - acc: 0.8667\n",
      "Epoch 67/150\n",
      "45/45 [==============================] - 0s 156us/step - loss: 0.2840 - acc: 0.9333\n",
      "Epoch 68/150\n",
      "45/45 [==============================] - 0s 178us/step - loss: 0.2978 - acc: 0.9778\n",
      "Epoch 69/150\n",
      "45/45 [==============================] - 0s 178us/step - loss: 0.3081 - acc: 0.9333\n",
      "Epoch 70/150\n",
      "45/45 [==============================] - 0s 156us/step - loss: 0.3016 - acc: 0.9111\n",
      "Epoch 71/150\n",
      "45/45 [==============================] - 0s 156us/step - loss: 0.2877 - acc: 0.9333\n",
      "Epoch 72/150\n",
      "45/45 [==============================] - 0s 200us/step - loss: 0.2895 - acc: 0.9333\n",
      "Epoch 73/150\n",
      "45/45 [==============================] - 0s 178us/step - loss: 0.3703 - acc: 0.7778\n",
      "Epoch 74/150\n",
      "45/45 [==============================] - 0s 156us/step - loss: 0.3309 - acc: 0.8444\n",
      "Epoch 75/150\n",
      "45/45 [==============================] - 0s 156us/step - loss: 0.3784 - acc: 0.8000\n",
      "Epoch 76/150\n",
      "45/45 [==============================] - 0s 178us/step - loss: 0.3489 - acc: 0.8444\n",
      "Epoch 77/150\n",
      "45/45 [==============================] - 0s 200us/step - loss: 0.2907 - acc: 0.8667\n",
      "Epoch 78/150\n",
      "45/45 [==============================] - 0s 133us/step - loss: 0.3807 - acc: 0.8000\n",
      "Epoch 79/150\n",
      "45/45 [==============================] - 0s 133us/step - loss: 0.3464 - acc: 0.8222\n",
      "Epoch 80/150\n",
      "45/45 [==============================] - 0s 156us/step - loss: 0.2563 - acc: 0.9333\n",
      "Epoch 81/150\n",
      "45/45 [==============================] - 0s 156us/step - loss: 0.2652 - acc: 0.9556\n",
      "Epoch 82/150\n",
      "45/45 [==============================] - 0s 244us/step - loss: 0.2666 - acc: 0.9111\n",
      "Epoch 83/150\n",
      "45/45 [==============================] - 0s 156us/step - loss: 0.2607 - acc: 0.9111\n",
      "Epoch 84/150\n",
      "45/45 [==============================] - 0s 156us/step - loss: 0.3122 - acc: 0.8444\n",
      "Epoch 85/150\n"
     ]
    },
    {
     "name": "stdout",
     "output_type": "stream",
     "text": [
      "45/45 [==============================] - 0s 178us/step - loss: 0.2973 - acc: 0.9111\n",
      "Epoch 86/150\n",
      "45/45 [==============================] - 0s 178us/step - loss: 0.2791 - acc: 0.9111\n",
      "Epoch 87/150\n",
      "45/45 [==============================] - 0s 111us/step - loss: 0.2490 - acc: 0.9333\n",
      "Epoch 88/150\n",
      "45/45 [==============================] - 0s 156us/step - loss: 0.2575 - acc: 0.9333\n",
      "Epoch 89/150\n",
      "45/45 [==============================] - 0s 156us/step - loss: 0.2553 - acc: 0.9333\n",
      "Epoch 90/150\n",
      "45/45 [==============================] - 0s 200us/step - loss: 0.2503 - acc: 0.9111\n",
      "Epoch 91/150\n",
      "45/45 [==============================] - 0s 156us/step - loss: 0.2366 - acc: 0.9111\n",
      "Epoch 92/150\n",
      "45/45 [==============================] - 0s 156us/step - loss: 0.2171 - acc: 0.9778\n",
      "Epoch 93/150\n",
      "45/45 [==============================] - 0s 244us/step - loss: 0.2395 - acc: 0.9111\n",
      "Epoch 94/150\n",
      "45/45 [==============================] - 0s 156us/step - loss: 0.2223 - acc: 0.9333\n",
      "Epoch 95/150\n",
      "45/45 [==============================] - 0s 222us/step - loss: 0.2369 - acc: 0.9778\n",
      "Epoch 96/150\n",
      "45/45 [==============================] - 0s 156us/step - loss: 0.2607 - acc: 0.9333\n",
      "Epoch 97/150\n",
      "45/45 [==============================] - 0s 178us/step - loss: 0.2352 - acc: 0.8889\n",
      "Epoch 98/150\n",
      "45/45 [==============================] - 0s 156us/step - loss: 0.2159 - acc: 0.9778\n",
      "Epoch 99/150\n",
      "45/45 [==============================] - 0s 178us/step - loss: 0.2252 - acc: 0.9778\n",
      "Epoch 100/150\n",
      "45/45 [==============================] - 0s 178us/step - loss: 0.2564 - acc: 0.8667\n",
      "Epoch 101/150\n",
      "45/45 [==============================] - 0s 178us/step - loss: 0.2569 - acc: 0.8667\n",
      "Epoch 102/150\n",
      "45/45 [==============================] - 0s 178us/step - loss: 0.2249 - acc: 0.9556\n",
      "Epoch 103/150\n",
      "45/45 [==============================] - 0s 178us/step - loss: 0.2076 - acc: 0.9333\n",
      "Epoch 104/150\n",
      "45/45 [==============================] - 0s 178us/step - loss: 0.2089 - acc: 0.9333\n",
      "Epoch 105/150\n",
      "45/45 [==============================] - 0s 156us/step - loss: 0.2118 - acc: 0.9111\n",
      "Epoch 106/150\n",
      "45/45 [==============================] - 0s 156us/step - loss: 0.1953 - acc: 0.9556\n",
      "Epoch 107/150\n",
      "45/45 [==============================] - 0s 156us/step - loss: 0.2504 - acc: 0.9111\n",
      "Epoch 108/150\n",
      "45/45 [==============================] - 0s 178us/step - loss: 0.1999 - acc: 0.9333\n",
      "Epoch 109/150\n",
      "45/45 [==============================] - 0s 178us/step - loss: 0.2050 - acc: 0.9556\n",
      "Epoch 110/150\n",
      "45/45 [==============================] - 0s 156us/step - loss: 0.2032 - acc: 0.9556\n",
      "Epoch 111/150\n",
      "45/45 [==============================] - 0s 178us/step - loss: 0.2352 - acc: 0.9333\n",
      "Epoch 112/150\n",
      "45/45 [==============================] - 0s 133us/step - loss: 0.2964 - acc: 0.8667\n",
      "Epoch 113/150\n",
      "45/45 [==============================] - 0s 200us/step - loss: 0.1936 - acc: 0.9556\n",
      "Epoch 114/150\n",
      "45/45 [==============================] - 0s 111us/step - loss: 0.1834 - acc: 0.9556\n",
      "Epoch 115/150\n",
      "45/45 [==============================] - 0s 156us/step - loss: 0.3596 - acc: 0.8000\n",
      "Epoch 116/150\n",
      "45/45 [==============================] - 0s 156us/step - loss: 0.2038 - acc: 0.9556\n",
      "Epoch 117/150\n",
      "45/45 [==============================] - 0s 156us/step - loss: 0.1811 - acc: 0.9556\n",
      "Epoch 118/150\n",
      "45/45 [==============================] - 0s 178us/step - loss: 0.2015 - acc: 0.9556\n",
      "Epoch 119/150\n",
      "45/45 [==============================] - 0s 156us/step - loss: 0.1832 - acc: 0.9556\n",
      "Epoch 120/150\n",
      "45/45 [==============================] - 0s 133us/step - loss: 0.2006 - acc: 0.9333\n",
      "Epoch 121/150\n",
      "45/45 [==============================] - 0s 156us/step - loss: 0.1932 - acc: 0.9556\n",
      "Epoch 122/150\n",
      "45/45 [==============================] - 0s 178us/step - loss: 0.2702 - acc: 0.8889\n",
      "Epoch 123/150\n",
      "45/45 [==============================] - 0s 133us/step - loss: 0.1948 - acc: 0.9556\n",
      "Epoch 124/150\n",
      "45/45 [==============================] - 0s 200us/step - loss: 0.1639 - acc: 0.9556\n",
      "Epoch 125/150\n",
      "45/45 [==============================] - 0s 111us/step - loss: 0.1948 - acc: 0.9333\n",
      "Epoch 126/150\n",
      "45/45 [==============================] - 0s 156us/step - loss: 0.1970 - acc: 0.9556\n",
      "Epoch 127/150\n",
      "45/45 [==============================] - 0s 133us/step - loss: 0.1772 - acc: 0.9333\n",
      "Epoch 128/150\n",
      "45/45 [==============================] - 0s 200us/step - loss: 0.1563 - acc: 1.0000\n",
      "Epoch 129/150\n",
      "45/45 [==============================] - 0s 133us/step - loss: 0.1485 - acc: 1.0000\n",
      "Epoch 130/150\n",
      "45/45 [==============================] - 0s 133us/step - loss: 0.1561 - acc: 0.9778\n",
      "Epoch 131/150\n",
      "45/45 [==============================] - 0s 200us/step - loss: 0.1579 - acc: 0.9778\n",
      "Epoch 132/150\n",
      "45/45 [==============================] - 0s 156us/step - loss: 0.2235 - acc: 0.9111\n",
      "Epoch 133/150\n",
      "45/45 [==============================] - 0s 133us/step - loss: 0.1782 - acc: 0.9111\n",
      "Epoch 134/150\n",
      "45/45 [==============================] - 0s 178us/step - loss: 0.1656 - acc: 0.9556\n",
      "Epoch 135/150\n",
      "45/45 [==============================] - 0s 133us/step - loss: 0.1621 - acc: 0.9333\n",
      "Epoch 136/150\n",
      "45/45 [==============================] - 0s 133us/step - loss: 0.1551 - acc: 0.9778\n",
      "Epoch 137/150\n",
      "45/45 [==============================] - 0s 178us/step - loss: 0.1855 - acc: 0.9556\n",
      "Epoch 138/150\n",
      "45/45 [==============================] - 0s 133us/step - loss: 0.1756 - acc: 0.8889\n",
      "Epoch 139/150\n",
      "45/45 [==============================] - 0s 133us/step - loss: 0.1586 - acc: 0.9333\n",
      "Epoch 140/150\n",
      "45/45 [==============================] - 0s 200us/step - loss: 0.1488 - acc: 0.9556\n",
      "Epoch 141/150\n",
      "45/45 [==============================] - 0s 156us/step - loss: 0.1817 - acc: 0.9333\n",
      "Epoch 142/150\n",
      "45/45 [==============================] - 0s 133us/step - loss: 0.1858 - acc: 0.9333\n",
      "Epoch 143/150\n",
      "45/45 [==============================] - 0s 178us/step - loss: 0.1482 - acc: 0.9778\n",
      "Epoch 144/150\n",
      "45/45 [==============================] - 0s 133us/step - loss: 0.1418 - acc: 0.9778\n",
      "Epoch 145/150\n",
      "45/45 [==============================] - 0s 156us/step - loss: 0.1445 - acc: 0.9333\n",
      "Epoch 146/150\n",
      "45/45 [==============================] - 0s 133us/step - loss: 0.1680 - acc: 0.9556\n",
      "Epoch 147/150\n",
      "45/45 [==============================] - 0s 200us/step - loss: 0.1553 - acc: 0.9778\n",
      "Epoch 148/150\n",
      "45/45 [==============================] - 0s 133us/step - loss: 0.1365 - acc: 1.0000\n",
      "Epoch 149/150\n",
      "45/45 [==============================] - 0s 156us/step - loss: 0.1473 - acc: 0.9333\n",
      "Epoch 150/150\n",
      "45/45 [==============================] - 0s 200us/step - loss: 0.1314 - acc: 0.9778\n"
     ]
    },
    {
     "data": {
      "text/plain": [
       "<keras.callbacks.History at 0x1d926fd0>"
      ]
     },
     "execution_count": 63,
     "metadata": {},
     "output_type": "execute_result"
    }
   ],
   "source": [
    "model.fit(X_test, y_test, epochs=150, batch_size=10)"
   ]
  },
  {
   "cell_type": "code",
   "execution_count": 64,
   "metadata": {},
   "outputs": [],
   "source": [
    "y_predict=model.predict_classes(X_test)"
   ]
  },
  {
   "cell_type": "code",
   "execution_count": 65,
   "metadata": {},
   "outputs": [
    {
     "data": {
      "text/plain": [
       "array([2, 1, 0, 1, 2, 0, 1, 1, 0, 1, 1, 1, 0, 2, 0, 1, 2, 2, 0, 0, 1, 2,\n",
       "       1, 2, 2, 2, 1, 1, 2, 2, 2, 1, 0, 2, 1, 0, 0, 0, 0, 2, 2, 1, 2, 2,\n",
       "       1], dtype=int64)"
      ]
     },
     "execution_count": 65,
     "metadata": {},
     "output_type": "execute_result"
    }
   ],
   "source": [
    "y_predict"
   ]
  }
 ],
 "metadata": {
  "colab": {
   "name": "3. R6_InternalLab_AIML_Share_Prices-Eager Execution.ipynb",
   "provenance": [],
   "version": "0.3.2"
  },
  "kernelspec": {
   "display_name": "Python 3",
   "language": "python",
   "name": "python3"
  },
  "language_info": {
   "codemirror_mode": {
    "name": "ipython",
    "version": 3
   },
   "file_extension": ".py",
   "mimetype": "text/x-python",
   "name": "python",
   "nbconvert_exporter": "python",
   "pygments_lexer": "ipython3",
   "version": "3.7.0"
  }
 },
 "nbformat": 4,
 "nbformat_minor": 1
}
