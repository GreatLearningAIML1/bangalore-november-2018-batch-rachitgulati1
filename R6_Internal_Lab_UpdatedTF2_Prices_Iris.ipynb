{
 "cells": [
  {
   "cell_type": "markdown",
   "metadata": {
    "colab_type": "text",
    "id": "84Q8JfvaeZZ6"
   },
   "source": [
    "## Linear Classifier in TensorFlow \n",
    "Using Low Level API in Eager Execution mode"
   ]
  },
  {
   "cell_type": "markdown",
   "metadata": {
    "colab_type": "text",
    "id": "sb7Epo0VOB58"
   },
   "source": [
    "### Load tensorflow"
   ]
  },
  {
   "cell_type": "code",
   "execution_count": 93,
   "metadata": {
    "colab": {},
    "colab_type": "code",
    "id": "fHpCNRv1OB5-"
   },
   "outputs": [],
   "source": [
    "import tensorflow as tf"
   ]
  },
  {
   "cell_type": "code",
   "execution_count": 94,
   "metadata": {},
   "outputs": [],
   "source": [
    "tf.reset_default_graph()"
   ]
  },
  {
   "cell_type": "code",
   "execution_count": 95,
   "metadata": {
    "colab": {},
    "colab_type": "code",
    "id": "Mjtb-EMcm5K0"
   },
   "outputs": [],
   "source": [
    "#Enable Eager Execution if using tensflow version < 2.0\n",
    "#From tensorflow v2.0 onwards, Eager Execution will be enabled by default\n"
   ]
  },
  {
   "cell_type": "markdown",
   "metadata": {
    "colab_type": "text",
    "id": "DxJDmJqqOB6K",
    "slideshow": {
     "slide_type": "slide"
    }
   },
   "source": [
    "### Collect Data"
   ]
  },
  {
   "cell_type": "code",
   "execution_count": 96,
   "metadata": {
    "colab": {},
    "colab_type": "code",
    "id": "KiObW4V4SIOz"
   },
   "outputs": [],
   "source": [
    "import pandas as pd"
   ]
  },
  {
   "cell_type": "code",
   "execution_count": 97,
   "metadata": {
    "colab": {},
    "colab_type": "code",
    "id": "B4yQKMiJOB6R"
   },
   "outputs": [],
   "source": [
    "data = pd.read_csv('prices.csv')"
   ]
  },
  {
   "cell_type": "markdown",
   "metadata": {
    "colab_type": "text",
    "id": "fgkX6SEqOB6W"
   },
   "source": [
    "### Check all columns in the dataset"
   ]
  },
  {
   "cell_type": "code",
   "execution_count": 98,
   "metadata": {
    "colab": {},
    "colab_type": "code",
    "id": "7K8pWsNQOB6X"
   },
   "outputs": [
    {
     "data": {
      "text/plain": [
       "Index(['date', 'symbol', 'open', 'close', 'low', 'high', 'volume'], dtype='object')"
      ]
     },
     "execution_count": 98,
     "metadata": {},
     "output_type": "execute_result"
    }
   ],
   "source": [
    "data.columns\n"
   ]
  },
  {
   "cell_type": "markdown",
   "metadata": {
    "colab_type": "text",
    "id": "7dU6X7MpOB6c"
   },
   "source": [
    "### Drop columns `date` and  `symbol`"
   ]
  },
  {
   "cell_type": "code",
   "execution_count": 99,
   "metadata": {
    "colab": {},
    "colab_type": "code",
    "id": "lh_6spSKOB6e"
   },
   "outputs": [],
   "source": [
    "data.drop(columns=['date','symbol'],inplace=True)"
   ]
  },
  {
   "cell_type": "code",
   "execution_count": 100,
   "metadata": {
    "colab": {},
    "colab_type": "code",
    "id": "xlwbUgTwOB6i",
    "outputId": "56bad82a-f271-415a-e0d6-cbe1c4290743"
   },
   "outputs": [
    {
     "data": {
      "text/html": [
       "<div>\n",
       "<style scoped>\n",
       "    .dataframe tbody tr th:only-of-type {\n",
       "        vertical-align: middle;\n",
       "    }\n",
       "\n",
       "    .dataframe tbody tr th {\n",
       "        vertical-align: top;\n",
       "    }\n",
       "\n",
       "    .dataframe thead th {\n",
       "        text-align: right;\n",
       "    }\n",
       "</style>\n",
       "<table border=\"1\" class=\"dataframe\">\n",
       "  <thead>\n",
       "    <tr style=\"text-align: right;\">\n",
       "      <th></th>\n",
       "      <th>open</th>\n",
       "      <th>close</th>\n",
       "      <th>low</th>\n",
       "      <th>high</th>\n",
       "      <th>volume</th>\n",
       "    </tr>\n",
       "  </thead>\n",
       "  <tbody>\n",
       "    <tr>\n",
       "      <th>0</th>\n",
       "      <td>123.430000</td>\n",
       "      <td>125.839996</td>\n",
       "      <td>122.309998</td>\n",
       "      <td>126.250000</td>\n",
       "      <td>2163600.0</td>\n",
       "    </tr>\n",
       "    <tr>\n",
       "      <th>1</th>\n",
       "      <td>125.239998</td>\n",
       "      <td>119.980003</td>\n",
       "      <td>119.940002</td>\n",
       "      <td>125.540001</td>\n",
       "      <td>2386400.0</td>\n",
       "    </tr>\n",
       "    <tr>\n",
       "      <th>2</th>\n",
       "      <td>116.379997</td>\n",
       "      <td>114.949997</td>\n",
       "      <td>114.930000</td>\n",
       "      <td>119.739998</td>\n",
       "      <td>2489500.0</td>\n",
       "    </tr>\n",
       "    <tr>\n",
       "      <th>3</th>\n",
       "      <td>115.480003</td>\n",
       "      <td>116.620003</td>\n",
       "      <td>113.500000</td>\n",
       "      <td>117.440002</td>\n",
       "      <td>2006300.0</td>\n",
       "    </tr>\n",
       "    <tr>\n",
       "      <th>4</th>\n",
       "      <td>117.010002</td>\n",
       "      <td>114.970001</td>\n",
       "      <td>114.089996</td>\n",
       "      <td>117.330002</td>\n",
       "      <td>1408600.0</td>\n",
       "    </tr>\n",
       "  </tbody>\n",
       "</table>\n",
       "</div>"
      ],
      "text/plain": [
       "         open       close         low        high     volume\n",
       "0  123.430000  125.839996  122.309998  126.250000  2163600.0\n",
       "1  125.239998  119.980003  119.940002  125.540001  2386400.0\n",
       "2  116.379997  114.949997  114.930000  119.739998  2489500.0\n",
       "3  115.480003  116.620003  113.500000  117.440002  2006300.0\n",
       "4  117.010002  114.970001  114.089996  117.330002  1408600.0"
      ]
     },
     "execution_count": 100,
     "metadata": {},
     "output_type": "execute_result"
    }
   ],
   "source": [
    "data.head()"
   ]
  },
  {
   "cell_type": "markdown",
   "metadata": {
    "colab_type": "text",
    "id": "3DBv3WWYOB6q"
   },
   "source": [
    "### Consider only first 1000 rows in the dataset for building feature set and target set\n",
    "Target 'Volume' has very high values. Divide 'Volume' by 1000,000"
   ]
  },
  {
   "cell_type": "code",
   "execution_count": 101,
   "metadata": {
    "colab": {},
    "colab_type": "code",
    "id": "Z_hG9rGBOB6s"
   },
   "outputs": [
    {
     "data": {
      "text/plain": [
       "(851264, 5)"
      ]
     },
     "execution_count": 101,
     "metadata": {},
     "output_type": "execute_result"
    }
   ],
   "source": [
    "data.shape"
   ]
  },
  {
   "cell_type": "code",
   "execution_count": 102,
   "metadata": {},
   "outputs": [],
   "source": [
    "data=data.head(n=1000)"
   ]
  },
  {
   "cell_type": "code",
   "execution_count": 103,
   "metadata": {},
   "outputs": [
    {
     "name": "stdout",
     "output_type": "stream",
     "text": [
      "<class 'pandas.core.frame.DataFrame'>\n",
      "RangeIndex: 1000 entries, 0 to 999\n",
      "Data columns (total 5 columns):\n",
      "open      1000 non-null float64\n",
      "close     1000 non-null float64\n",
      "low       1000 non-null float64\n",
      "high      1000 non-null float64\n",
      "volume    1000 non-null float64\n",
      "dtypes: float64(5)\n",
      "memory usage: 39.1 KB\n"
     ]
    }
   ],
   "source": [
    "data.info()"
   ]
  },
  {
   "cell_type": "code",
   "execution_count": 104,
   "metadata": {},
   "outputs": [],
   "source": [
    "data.volume=data.volume/1000000"
   ]
  },
  {
   "cell_type": "code",
   "execution_count": 105,
   "metadata": {},
   "outputs": [
    {
     "data": {
      "text/html": [
       "<div>\n",
       "<style scoped>\n",
       "    .dataframe tbody tr th:only-of-type {\n",
       "        vertical-align: middle;\n",
       "    }\n",
       "\n",
       "    .dataframe tbody tr th {\n",
       "        vertical-align: top;\n",
       "    }\n",
       "\n",
       "    .dataframe thead th {\n",
       "        text-align: right;\n",
       "    }\n",
       "</style>\n",
       "<table border=\"1\" class=\"dataframe\">\n",
       "  <thead>\n",
       "    <tr style=\"text-align: right;\">\n",
       "      <th></th>\n",
       "      <th>open</th>\n",
       "      <th>close</th>\n",
       "      <th>low</th>\n",
       "      <th>high</th>\n",
       "      <th>volume</th>\n",
       "    </tr>\n",
       "  </thead>\n",
       "  <tbody>\n",
       "    <tr>\n",
       "      <th>0</th>\n",
       "      <td>123.430000</td>\n",
       "      <td>125.839996</td>\n",
       "      <td>122.309998</td>\n",
       "      <td>126.250000</td>\n",
       "      <td>2.1636</td>\n",
       "    </tr>\n",
       "    <tr>\n",
       "      <th>1</th>\n",
       "      <td>125.239998</td>\n",
       "      <td>119.980003</td>\n",
       "      <td>119.940002</td>\n",
       "      <td>125.540001</td>\n",
       "      <td>2.3864</td>\n",
       "    </tr>\n",
       "    <tr>\n",
       "      <th>2</th>\n",
       "      <td>116.379997</td>\n",
       "      <td>114.949997</td>\n",
       "      <td>114.930000</td>\n",
       "      <td>119.739998</td>\n",
       "      <td>2.4895</td>\n",
       "    </tr>\n",
       "    <tr>\n",
       "      <th>3</th>\n",
       "      <td>115.480003</td>\n",
       "      <td>116.620003</td>\n",
       "      <td>113.500000</td>\n",
       "      <td>117.440002</td>\n",
       "      <td>2.0063</td>\n",
       "    </tr>\n",
       "    <tr>\n",
       "      <th>4</th>\n",
       "      <td>117.010002</td>\n",
       "      <td>114.970001</td>\n",
       "      <td>114.089996</td>\n",
       "      <td>117.330002</td>\n",
       "      <td>1.4086</td>\n",
       "    </tr>\n",
       "  </tbody>\n",
       "</table>\n",
       "</div>"
      ],
      "text/plain": [
       "         open       close         low        high  volume\n",
       "0  123.430000  125.839996  122.309998  126.250000  2.1636\n",
       "1  125.239998  119.980003  119.940002  125.540001  2.3864\n",
       "2  116.379997  114.949997  114.930000  119.739998  2.4895\n",
       "3  115.480003  116.620003  113.500000  117.440002  2.0063\n",
       "4  117.010002  114.970001  114.089996  117.330002  1.4086"
      ]
     },
     "execution_count": 105,
     "metadata": {},
     "output_type": "execute_result"
    }
   ],
   "source": [
    "data.head()"
   ]
  },
  {
   "cell_type": "code",
   "execution_count": 106,
   "metadata": {},
   "outputs": [],
   "source": [
    "X=data[[\"open\",\"close\",\"low\",\"high\"]]\n",
    "Y=data[[\"volume\"]]"
   ]
  },
  {
   "cell_type": "markdown",
   "metadata": {
    "colab_type": "text",
    "id": "M3UaApqYOB6x"
   },
   "source": [
    "### Divide the data into train and test sets"
   ]
  },
  {
   "cell_type": "code",
   "execution_count": 107,
   "metadata": {
    "colab": {},
    "colab_type": "code",
    "id": "4LE4U8lTdQJq"
   },
   "outputs": [],
   "source": [
    "from sklearn.model_selection import train_test_split"
   ]
  },
  {
   "cell_type": "code",
   "execution_count": 108,
   "metadata": {},
   "outputs": [],
   "source": [
    "x_train,x_test,y_train,y_test=train_test_split(X,Y,test_size=0.3)"
   ]
  },
  {
   "cell_type": "code",
   "execution_count": 109,
   "metadata": {},
   "outputs": [],
   "source": [
    "import numpy as np\n",
    "x_train=np.asarray(x_train)"
   ]
  },
  {
   "cell_type": "code",
   "execution_count": 110,
   "metadata": {},
   "outputs": [],
   "source": [
    "x_test=np.asarray(x_test)\n",
    "y_train=np.asarray(y_train)\n",
    "y_test=np.asarray(y_test)\n"
   ]
  },
  {
   "cell_type": "markdown",
   "metadata": {
    "colab_type": "text",
    "id": "oYK-aUuLbrz2"
   },
   "source": [
    "#### Convert Training and Test Data to numpy float32 arrays\n"
   ]
  },
  {
   "cell_type": "markdown",
   "metadata": {
    "colab_type": "text",
    "id": "im1ZegbDdKgv"
   },
   "source": [
    "### Normalize the data\n",
    "You can use Normalizer from sklearn.preprocessing"
   ]
  },
  {
   "cell_type": "code",
   "execution_count": 118,
   "metadata": {
    "colab": {},
    "colab_type": "code",
    "id": "2EkKAy7fOB6y"
   },
   "outputs": [],
   "source": [
    "#Input features\n",
    "x = tf.placeholder(shape=[None,4],dtype=tf.float32, name='x-input')\n",
    "\n",
    "#Normalize the data\n",
    "x_n = tf.nn.l2_normalize(x,1)\n",
    "\n",
    "#Actual Prices\n",
    "y_ = tf.placeholder(shape=[700,1],dtype=tf.float32, name='y-input')"
   ]
  },
  {
   "cell_type": "markdown",
   "metadata": {
    "colab_type": "text",
    "id": "v6vE4eYCOB62",
    "slideshow": {
     "slide_type": "slide"
    }
   },
   "source": [
    "## Building the Model in tensorflow"
   ]
  },
  {
   "cell_type": "markdown",
   "metadata": {
    "colab_type": "text",
    "id": "297_qja4OB7A",
    "slideshow": {
     "slide_type": "slide"
    }
   },
   "source": [
    "1.Define Weights and Bias, use tf.zeros to initialize weights and Bias"
   ]
  },
  {
   "cell_type": "code",
   "execution_count": 119,
   "metadata": {
    "colab": {},
    "colab_type": "code",
    "id": "L205qPeQOB7B"
   },
   "outputs": [],
   "source": [
    "W = tf.Variable(tf.zeros(shape=[4,1]), name=\"Weights\")\n",
    "b = tf.Variable(tf.zeros(shape=[1]),name=\"Bias\")"
   ]
  },
  {
   "cell_type": "markdown",
   "metadata": {
    "colab_type": "text",
    "id": "HgtWA-UIOB7F",
    "slideshow": {
     "slide_type": "slide"
    }
   },
   "source": [
    "2.Define a function to calculate prediction"
   ]
  },
  {
   "cell_type": "code",
   "execution_count": 120,
   "metadata": {
    "colab": {},
    "colab_type": "code",
    "id": "JveGlx25OB7H"
   },
   "outputs": [],
   "source": [
    "#We will use normalized data\n",
    "y = tf.add(tf.matmul(x_n,W),b,name='output')\n"
   ]
  },
  {
   "cell_type": "markdown",
   "metadata": {
    "colab_type": "text",
    "id": "TL1hIwf_OB7M",
    "slideshow": {
     "slide_type": "slide"
    }
   },
   "source": [
    "3.Loss (Cost) Function [Mean square error]"
   ]
  },
  {
   "cell_type": "code",
   "execution_count": 121,
   "metadata": {
    "colab": {},
    "colab_type": "code",
    "id": "8VSWPiGXOB7P"
   },
   "outputs": [],
   "source": [
    "loss = tf.reduce_mean(tf.square(y-y_),name='Loss')"
   ]
  },
  {
   "cell_type": "markdown",
   "metadata": {
    "colab_type": "text",
    "id": "jzG85FUlOB7U",
    "slideshow": {
     "slide_type": "slide"
    }
   },
   "source": [
    "4.Function to train the Model\n",
    "\n",
    "1.   Record all the mathematical steps to calculate Loss\n",
    "2.   Calculate Gradients of Loss w.r.t weights and bias\n",
    "3.   Update Weights and Bias based on gradients and learning rate to minimize loss"
   ]
  },
  {
   "cell_type": "code",
   "execution_count": 122,
   "metadata": {
    "colab": {},
    "colab_type": "code",
    "id": "cj802w-3OB7X"
   },
   "outputs": [],
   "source": [
    "train_op = tf.train.GradientDescentOptimizer(0.03).minimize(loss)"
   ]
  },
  {
   "cell_type": "markdown",
   "metadata": {
    "colab_type": "text",
    "id": "xSypb_u8OB7e",
    "slideshow": {
     "slide_type": "slide"
    }
   },
   "source": [
    "## Train the model for 100 epochs \n",
    "1. Observe the training loss at every iteration\n",
    "2. Observe Test loss at every 5th iteration"
   ]
  },
  {
   "cell_type": "code",
   "execution_count": 123,
   "metadata": {
    "colab": {},
    "colab_type": "code",
    "id": "DVvgj7eQOB7f"
   },
   "outputs": [],
   "source": [
    "#Lets start graph Execution\n",
    "sess = tf.Session()\n",
    "\n",
    "# variables need to be initialized before we can use them\n",
    "sess.run(tf.global_variables_initializer())\n",
    "\n",
    "#how many times data need to be shown to model\n",
    "training_epochs = 100"
   ]
  },
  {
   "cell_type": "code",
   "execution_count": 128,
   "metadata": {},
   "outputs": [
    {
     "name": "stdout",
     "output_type": "stream",
     "text": [
      "Training loss at step:  0  is  217.2106\n",
      "Training loss at step:  1  is  217.21059\n",
      "Training loss at step:  2  is  217.21054\n",
      "Training loss at step:  3  is  217.21054\n",
      "Training loss at step:  4  is  217.21046\n",
      "Training loss at step:  5  is  217.21045\n",
      "Training loss at step:  6  is  217.2104\n",
      "Training loss at step:  7  is  217.2104\n",
      "Training loss at step:  8  is  217.21036\n",
      "Training loss at step:  9  is  217.21031\n",
      "Training loss at step:  10  is  217.21031\n",
      "Training loss at step:  11  is  217.21027\n",
      "Training loss at step:  12  is  217.21022\n",
      "Training loss at step:  13  is  217.2102\n",
      "Training loss at step:  14  is  217.21017\n",
      "Training loss at step:  15  is  217.21013\n",
      "Training loss at step:  16  is  217.21008\n",
      "Training loss at step:  17  is  217.21007\n",
      "Training loss at step:  18  is  217.21004\n",
      "Training loss at step:  19  is  217.21\n",
      "Training loss at step:  20  is  217.20996\n",
      "Training loss at step:  21  is  217.20992\n",
      "Training loss at step:  22  is  217.20992\n",
      "Training loss at step:  23  is  217.20987\n",
      "Training loss at step:  24  is  217.2098\n",
      "Training loss at step:  25  is  217.20978\n",
      "Training loss at step:  26  is  217.20975\n",
      "Training loss at step:  27  is  217.20973\n",
      "Training loss at step:  28  is  217.20969\n",
      "Training loss at step:  29  is  217.20964\n",
      "Training loss at step:  30  is  217.20964\n",
      "Training loss at step:  31  is  217.2096\n",
      "Training loss at step:  32  is  217.20955\n",
      "Training loss at step:  33  is  217.2095\n",
      "Training loss at step:  34  is  217.20949\n",
      "Training loss at step:  35  is  217.20946\n",
      "Training loss at step:  36  is  217.2094\n",
      "Training loss at step:  37  is  217.20938\n",
      "Training loss at step:  38  is  217.20935\n",
      "Training loss at step:  39  is  217.20934\n",
      "Training loss at step:  40  is  217.20929\n",
      "Training loss at step:  41  is  217.20924\n",
      "Training loss at step:  42  is  217.2092\n",
      "Training loss at step:  43  is  217.20917\n",
      "Training loss at step:  44  is  217.20915\n",
      "Training loss at step:  45  is  217.20914\n",
      "Training loss at step:  46  is  217.20909\n",
      "Training loss at step:  47  is  217.20906\n",
      "Training loss at step:  48  is  217.20901\n",
      "Training loss at step:  49  is  217.20897\n",
      "Training loss at step:  50  is  217.20897\n",
      "Training loss at step:  51  is  217.20892\n",
      "Training loss at step:  52  is  217.20888\n",
      "Training loss at step:  53  is  217.20886\n",
      "Training loss at step:  54  is  217.20882\n",
      "Training loss at step:  55  is  217.2088\n",
      "Training loss at step:  56  is  217.20876\n",
      "Training loss at step:  57  is  217.20872\n",
      "Training loss at step:  58  is  217.20866\n",
      "Training loss at step:  59  is  217.20866\n",
      "Training loss at step:  60  is  217.20863\n",
      "Training loss at step:  61  is  217.20859\n",
      "Training loss at step:  62  is  217.20854\n",
      "Training loss at step:  63  is  217.20853\n",
      "Training loss at step:  64  is  217.20848\n",
      "Training loss at step:  65  is  217.20847\n",
      "Training loss at step:  66  is  217.20844\n",
      "Training loss at step:  67  is  217.20839\n",
      "Training loss at step:  68  is  217.20834\n",
      "Training loss at step:  69  is  217.20834\n",
      "Training loss at step:  70  is  217.2083\n",
      "Training loss at step:  71  is  217.20825\n",
      "Training loss at step:  72  is  217.20824\n",
      "Training loss at step:  73  is  217.20819\n",
      "Training loss at step:  74  is  217.20818\n",
      "Training loss at step:  75  is  217.20815\n",
      "Training loss at step:  76  is  217.20813\n",
      "Training loss at step:  77  is  217.20808\n",
      "Training loss at step:  78  is  217.20805\n",
      "Training loss at step:  79  is  217.20804\n",
      "Training loss at step:  80  is  217.20801\n",
      "Training loss at step:  81  is  217.20796\n",
      "Training loss at step:  82  is  217.20795\n",
      "Training loss at step:  83  is  217.2079\n",
      "Training loss at step:  84  is  217.20786\n",
      "Training loss at step:  85  is  217.20786\n",
      "Training loss at step:  86  is  217.20781\n",
      "Training loss at step:  87  is  217.2078\n",
      "Training loss at step:  88  is  217.20776\n",
      "Training loss at step:  89  is  217.20772\n",
      "Training loss at step:  90  is  217.20767\n",
      "Training loss at step:  91  is  217.20766\n",
      "Training loss at step:  92  is  217.20763\n",
      "Training loss at step:  93  is  217.2076\n",
      "Training loss at step:  94  is  217.20757\n",
      "Training loss at step:  95  is  217.20752\n",
      "Training loss at step:  96  is  217.20746\n",
      "Training loss at step:  97  is  217.20746\n",
      "Training loss at step:  98  is  217.20743\n",
      "Training loss at step:  99  is  217.20738\n"
     ]
    }
   ],
   "source": [
    "for epoch in range(training_epochs):\n",
    "            \n",
    "    #Calculate train_op and loss\n",
    "    _, train_loss = sess.run([train_op,loss],feed_dict={x:x_train, y_:y_train})\n",
    "    \n",
    "    if epoch % 1 == 0:\n",
    "        print ('Training loss at step: ', epoch, ' is ', train_loss)"
   ]
  },
  {
   "cell_type": "markdown",
   "metadata": {
    "colab_type": "text",
    "id": "DOL2ncA1OB7q"
   },
   "source": [
    "### Get the shapes and values of W and b"
   ]
  },
  {
   "cell_type": "code",
   "execution_count": 126,
   "metadata": {
    "colab": {},
    "colab_type": "code",
    "id": "ZGvtyTeuOB7r"
   },
   "outputs": [
    {
     "data": {
      "text/plain": [
       "<tf.Variable 'Weights_1:0' shape=(4, 1) dtype=float32_ref>"
      ]
     },
     "execution_count": 126,
     "metadata": {},
     "output_type": "execute_result"
    }
   ],
   "source": [
    "W"
   ]
  },
  {
   "cell_type": "code",
   "execution_count": 127,
   "metadata": {
    "colab": {},
    "colab_type": "code",
    "id": "vhDtOv5UOB7x"
   },
   "outputs": [
    {
     "data": {
      "text/plain": [
       "<tf.Variable 'Bias_1:0' shape=(1,) dtype=float32_ref>"
      ]
     },
     "execution_count": 127,
     "metadata": {},
     "output_type": "execute_result"
    }
   ],
   "source": [
    "b"
   ]
  },
  {
   "cell_type": "markdown",
   "metadata": {
    "colab_type": "text",
    "id": "ERq9GOKKciho"
   },
   "source": [
    "### Model Prediction on 1st Examples in Test Dataset"
   ]
  },
  {
   "cell_type": "code",
   "execution_count": null,
   "metadata": {
    "colab": {},
    "colab_type": "code",
    "id": "gKGvUWahcihp"
   },
   "outputs": [],
   "source": []
  },
  {
   "cell_type": "markdown",
   "metadata": {
    "colab_type": "text",
    "id": "YJRBuqXhOB7_"
   },
   "source": [
    "## Classification using tf.Keras\n",
    "\n",
    "In this exercise, we will build a Deep Neural Network using tf.Keras. We will use Iris Dataset for this exercise."
   ]
  },
  {
   "cell_type": "markdown",
   "metadata": {
    "colab_type": "text",
    "id": "sb7Epo0VOB58"
   },
   "source": [
    "### Load tensorflow if not done already"
   ]
  },
  {
   "cell_type": "markdown",
   "metadata": {
    "colab_type": "text",
    "id": "O0g6lorycihf"
   },
   "source": [
    "### Load the given Iris data using pandas (Iris.csv)"
   ]
  },
  {
   "cell_type": "code",
   "execution_count": 15,
   "metadata": {
    "colab": {},
    "colab_type": "code",
    "id": "6xFvb5sRcihg"
   },
   "outputs": [],
   "source": [
    "df=pd.read_csv(\"Iris.csv\")"
   ]
  },
  {
   "cell_type": "markdown",
   "metadata": {
    "colab_type": "text",
    "id": "SAB--Qdwcihm"
   },
   "source": [
    "### Target set has different categories. So, Label encode them. And convert into one-hot vectors using get_dummies in pandas."
   ]
  },
  {
   "cell_type": "code",
   "execution_count": 16,
   "metadata": {
    "colab": {},
    "colab_type": "code",
    "id": "IJr5dYnocihm"
   },
   "outputs": [
    {
     "data": {
      "text/html": [
       "<div>\n",
       "<style scoped>\n",
       "    .dataframe tbody tr th:only-of-type {\n",
       "        vertical-align: middle;\n",
       "    }\n",
       "\n",
       "    .dataframe tbody tr th {\n",
       "        vertical-align: top;\n",
       "    }\n",
       "\n",
       "    .dataframe thead th {\n",
       "        text-align: right;\n",
       "    }\n",
       "</style>\n",
       "<table border=\"1\" class=\"dataframe\">\n",
       "  <thead>\n",
       "    <tr style=\"text-align: right;\">\n",
       "      <th></th>\n",
       "      <th>Id</th>\n",
       "      <th>SepalLengthCm</th>\n",
       "      <th>SepalWidthCm</th>\n",
       "      <th>PetalLengthCm</th>\n",
       "      <th>PetalWidthCm</th>\n",
       "      <th>Species</th>\n",
       "    </tr>\n",
       "  </thead>\n",
       "  <tbody>\n",
       "    <tr>\n",
       "      <th>0</th>\n",
       "      <td>1</td>\n",
       "      <td>5.1</td>\n",
       "      <td>3.5</td>\n",
       "      <td>1.4</td>\n",
       "      <td>0.2</td>\n",
       "      <td>Iris-setosa</td>\n",
       "    </tr>\n",
       "    <tr>\n",
       "      <th>1</th>\n",
       "      <td>2</td>\n",
       "      <td>4.9</td>\n",
       "      <td>3.0</td>\n",
       "      <td>1.4</td>\n",
       "      <td>0.2</td>\n",
       "      <td>Iris-setosa</td>\n",
       "    </tr>\n",
       "    <tr>\n",
       "      <th>2</th>\n",
       "      <td>3</td>\n",
       "      <td>4.7</td>\n",
       "      <td>3.2</td>\n",
       "      <td>1.3</td>\n",
       "      <td>0.2</td>\n",
       "      <td>Iris-setosa</td>\n",
       "    </tr>\n",
       "    <tr>\n",
       "      <th>3</th>\n",
       "      <td>4</td>\n",
       "      <td>4.6</td>\n",
       "      <td>3.1</td>\n",
       "      <td>1.5</td>\n",
       "      <td>0.2</td>\n",
       "      <td>Iris-setosa</td>\n",
       "    </tr>\n",
       "    <tr>\n",
       "      <th>4</th>\n",
       "      <td>5</td>\n",
       "      <td>5.0</td>\n",
       "      <td>3.6</td>\n",
       "      <td>1.4</td>\n",
       "      <td>0.2</td>\n",
       "      <td>Iris-setosa</td>\n",
       "    </tr>\n",
       "  </tbody>\n",
       "</table>\n",
       "</div>"
      ],
      "text/plain": [
       "   Id  SepalLengthCm  SepalWidthCm  PetalLengthCm  PetalWidthCm      Species\n",
       "0   1            5.1           3.5            1.4           0.2  Iris-setosa\n",
       "1   2            4.9           3.0            1.4           0.2  Iris-setosa\n",
       "2   3            4.7           3.2            1.3           0.2  Iris-setosa\n",
       "3   4            4.6           3.1            1.5           0.2  Iris-setosa\n",
       "4   5            5.0           3.6            1.4           0.2  Iris-setosa"
      ]
     },
     "execution_count": 16,
     "metadata": {},
     "output_type": "execute_result"
    }
   ],
   "source": [
    "df.head()"
   ]
  },
  {
   "cell_type": "code",
   "execution_count": 17,
   "metadata": {},
   "outputs": [],
   "source": [
    "df_h=pd.get_dummies(df.Species)"
   ]
  },
  {
   "cell_type": "code",
   "execution_count": 18,
   "metadata": {},
   "outputs": [],
   "source": [
    "df=pd.concat([df,df_h],axis=1)"
   ]
  },
  {
   "cell_type": "code",
   "execution_count": 19,
   "metadata": {},
   "outputs": [],
   "source": [
    "df.drop(columns=\"Species\",axis=1,inplace=True)"
   ]
  },
  {
   "cell_type": "code",
   "execution_count": 20,
   "metadata": {},
   "outputs": [
    {
     "data": {
      "text/html": [
       "<div>\n",
       "<style scoped>\n",
       "    .dataframe tbody tr th:only-of-type {\n",
       "        vertical-align: middle;\n",
       "    }\n",
       "\n",
       "    .dataframe tbody tr th {\n",
       "        vertical-align: top;\n",
       "    }\n",
       "\n",
       "    .dataframe thead th {\n",
       "        text-align: right;\n",
       "    }\n",
       "</style>\n",
       "<table border=\"1\" class=\"dataframe\">\n",
       "  <thead>\n",
       "    <tr style=\"text-align: right;\">\n",
       "      <th></th>\n",
       "      <th>Id</th>\n",
       "      <th>SepalLengthCm</th>\n",
       "      <th>SepalWidthCm</th>\n",
       "      <th>PetalLengthCm</th>\n",
       "      <th>PetalWidthCm</th>\n",
       "      <th>Iris-setosa</th>\n",
       "      <th>Iris-versicolor</th>\n",
       "      <th>Iris-virginica</th>\n",
       "    </tr>\n",
       "  </thead>\n",
       "  <tbody>\n",
       "    <tr>\n",
       "      <th>0</th>\n",
       "      <td>1</td>\n",
       "      <td>5.1</td>\n",
       "      <td>3.5</td>\n",
       "      <td>1.4</td>\n",
       "      <td>0.2</td>\n",
       "      <td>1</td>\n",
       "      <td>0</td>\n",
       "      <td>0</td>\n",
       "    </tr>\n",
       "  </tbody>\n",
       "</table>\n",
       "</div>"
      ],
      "text/plain": [
       "   Id  SepalLengthCm  SepalWidthCm  PetalLengthCm  PetalWidthCm  Iris-setosa  \\\n",
       "0   1            5.1           3.5            1.4           0.2            1   \n",
       "\n",
       "   Iris-versicolor  Iris-virginica  \n",
       "0                0               0  "
      ]
     },
     "execution_count": 20,
     "metadata": {},
     "output_type": "execute_result"
    }
   ],
   "source": [
    "df.head(n=1)"
   ]
  },
  {
   "cell_type": "markdown",
   "metadata": {
    "colab_type": "text",
    "id": "D95nY5ILcihj"
   },
   "source": [
    "### Splitting the data into feature set and target set"
   ]
  },
  {
   "cell_type": "code",
   "execution_count": 21,
   "metadata": {
    "colab": {},
    "colab_type": "code",
    "id": "RyMQoLMucihj"
   },
   "outputs": [
    {
     "name": "stderr",
     "output_type": "stream",
     "text": [
      "Using TensorFlow backend.\n"
     ]
    }
   ],
   "source": [
    "from keras.models import Sequential\n",
    "from keras.layers import Dense"
   ]
  },
  {
   "cell_type": "code",
   "execution_count": 23,
   "metadata": {},
   "outputs": [],
   "source": [
    "X=df[[\"SepalLengthCm\",\"SepalWidthCm\",\"PetalLengthCm\",\"PetalWidthCm\"]]"
   ]
  },
  {
   "cell_type": "code",
   "execution_count": 24,
   "metadata": {},
   "outputs": [],
   "source": [
    "Y=df[[\"Iris-setosa\",\"Iris-versicolor\",\"Iris-virginica\"]]"
   ]
  },
  {
   "cell_type": "markdown",
   "metadata": {
    "colab_type": "text",
    "id": "ERq9GOKKciho"
   },
   "source": [
    "### Divide the dataset into Training and test (70:30)"
   ]
  },
  {
   "cell_type": "code",
   "execution_count": 25,
   "metadata": {
    "colab": {},
    "colab_type": "code",
    "id": "gKGvUWahcihp"
   },
   "outputs": [],
   "source": [
    "from sklearn.model_selection import train_test_split\n"
   ]
  },
  {
   "cell_type": "code",
   "execution_count": 31,
   "metadata": {},
   "outputs": [
    {
     "name": "stdout",
     "output_type": "stream",
     "text": [
      "(105, 4)\n",
      "(105, 3)\n"
     ]
    }
   ],
   "source": [
    "x_train,x_test,y_train,y_test=train_test_split(X,Y,test_size=0.3)\n",
    "print(x_train.shape)\n",
    "print(y_train.shape)"
   ]
  },
  {
   "cell_type": "markdown",
   "metadata": {
    "colab_type": "text",
    "id": "b22qpC5xcihr"
   },
   "source": [
    "###  Building Model in tf.keras\n",
    "\n",
    "Build a Linear Classifier model  <br>\n",
    "1.  Use Dense Layer  with input shape of 4 (according to the feature set) and number of outputs set to 3<br> \n",
    "2. Apply Softmax on Dense Layer outputs <br>\n",
    "3. Use SGD as Optimizer\n",
    "4. Use categorical_crossentropy as loss function "
   ]
  },
  {
   "cell_type": "code",
   "execution_count": 54,
   "metadata": {
    "colab": {},
    "colab_type": "code",
    "id": "Hov_UFnUciht"
   },
   "outputs": [],
   "source": [
    "model=Sequential()\n",
    "model.add(Dense(64, input_dim=4, activation='relu'))\n",
    "model.add(Dense(3, activation='sigmoid'))\n",
    "#Model compilation\n",
    "model.compile(loss='categorical_crossentropy', optimizer='SGD', metrics=['accuracy'])"
   ]
  },
  {
   "cell_type": "markdown",
   "metadata": {
    "colab_type": "text",
    "id": "T5FdzqIKcihw"
   },
   "source": [
    "### Model Training "
   ]
  },
  {
   "cell_type": "code",
   "execution_count": 55,
   "metadata": {
    "colab": {},
    "colab_type": "code",
    "id": "4qLEdHPscihx"
   },
   "outputs": [
    {
     "name": "stdout",
     "output_type": "stream",
     "text": [
      "Epoch 1/150\n",
      "105/105 [==============================] - 1s 9ms/step - loss: 0.9866 - acc: 0.2667\n",
      "Epoch 2/150\n",
      "105/105 [==============================] - 0s 2ms/step - loss: 0.8527 - acc: 0.5143\n",
      "Epoch 3/150\n",
      "105/105 [==============================] - 0s 2ms/step - loss: 0.7083 - acc: 0.6952\n",
      "Epoch 4/150\n",
      "105/105 [==============================] - 0s 2ms/step - loss: 0.5711 - acc: 0.7429\n",
      "Epoch 5/150\n",
      "105/105 [==============================] - ETA: 0s - loss: 0.5225 - acc: 0.730 - 0s 2ms/step - loss: 0.5192 - acc: 0.7333\n",
      "Epoch 6/150\n",
      "105/105 [==============================] - 0s 2ms/step - loss: 0.4662 - acc: 0.7714\n",
      "Epoch 7/150\n",
      "105/105 [==============================] - 0s 2ms/step - loss: 0.4354 - acc: 0.7524\n",
      "Epoch 8/150\n",
      "105/105 [==============================] - 0s 2ms/step - loss: 0.4166 - acc: 0.8095\n",
      "Epoch 9/150\n",
      "105/105 [==============================] - 0s 2ms/step - loss: 0.3620 - acc: 0.8095\n",
      "Epoch 10/150\n",
      "105/105 [==============================] - 0s 2ms/step - loss: 0.3231 - acc: 0.8571\n",
      "Epoch 11/150\n",
      "105/105 [==============================] - 0s 2ms/step - loss: 0.3349 - acc: 0.8571\n",
      "Epoch 12/150\n",
      "105/105 [==============================] - 0s 2ms/step - loss: 0.2829 - acc: 0.8571\n",
      "Epoch 13/150\n",
      "105/105 [==============================] - 0s 2ms/step - loss: 0.2649 - acc: 0.9143\n",
      "Epoch 14/150\n",
      "105/105 [==============================] - 0s 2ms/step - loss: 0.2408 - acc: 0.9143\n",
      "Epoch 15/150\n",
      "105/105 [==============================] - 0s 2ms/step - loss: 0.2582 - acc: 0.8667\n",
      "Epoch 16/150\n",
      "105/105 [==============================] - 0s 2ms/step - loss: 0.2215 - acc: 0.9238\n",
      "Epoch 17/150\n",
      "105/105 [==============================] - 0s 2ms/step - loss: 0.2410 - acc: 0.8762\n",
      "Epoch 18/150\n",
      "105/105 [==============================] - 0s 2ms/step - loss: 0.2307 - acc: 0.9333\n",
      "Epoch 19/150\n",
      "105/105 [==============================] - 0s 2ms/step - loss: 0.2042 - acc: 0.9238\n",
      "Epoch 20/150\n",
      "105/105 [==============================] - 0s 2ms/step - loss: 0.1801 - acc: 0.9429\n",
      "Epoch 21/150\n",
      "105/105 [==============================] - 0s 2ms/step - loss: 0.1879 - acc: 0.9048\n",
      "Epoch 22/150\n",
      "105/105 [==============================] - 0s 2ms/step - loss: 0.1995 - acc: 0.9238\n",
      "Epoch 23/150\n",
      "105/105 [==============================] - 0s 2ms/step - loss: 0.1690 - acc: 0.9333\n",
      "Epoch 24/150\n",
      "105/105 [==============================] - 0s 2ms/step - loss: 0.1640 - acc: 0.9524\n",
      "Epoch 25/150\n",
      "105/105 [==============================] - 0s 2ms/step - loss: 0.1475 - acc: 0.9714A: 0s - loss: 0.0652 - acc: 1.\n",
      "Epoch 26/150\n",
      "105/105 [==============================] - 0s 2ms/step - loss: 0.2112 - acc: 0.9143\n",
      "Epoch 27/150\n",
      "105/105 [==============================] - 0s 2ms/step - loss: 0.1972 - acc: 0.8952A: 0s - loss: 0.2104 - acc: 0.89\n",
      "Epoch 28/150\n",
      "105/105 [==============================] - 0s 2ms/step - loss: 0.1713 - acc: 0.9429\n",
      "Epoch 29/150\n",
      "105/105 [==============================] - 0s 1ms/step - loss: 0.1306 - acc: 0.9333\n",
      "Epoch 30/150\n",
      "105/105 [==============================] - 0s 2ms/step - loss: 0.1399 - acc: 0.9619\n",
      "Epoch 31/150\n",
      "105/105 [==============================] - 0s 2ms/step - loss: 0.1599 - acc: 0.9619\n",
      "Epoch 32/150\n",
      "105/105 [==============================] - 0s 1ms/step - loss: 0.1629 - acc: 0.9524\n",
      "Epoch 33/150\n",
      "105/105 [==============================] - 0s 2ms/step - loss: 0.1189 - acc: 0.9524\n",
      "Epoch 34/150\n",
      "105/105 [==============================] - 0s 2ms/step - loss: 0.1491 - acc: 0.9524\n",
      "Epoch 35/150\n",
      "105/105 [==============================] - 0s 1ms/step - loss: 0.1343 - acc: 0.9524\n",
      "Epoch 36/150\n",
      "105/105 [==============================] - 0s 1ms/step - loss: 0.1453 - acc: 0.9238\n",
      "Epoch 37/150\n",
      "105/105 [==============================] - 0s 1ms/step - loss: 0.1206 - acc: 0.9524\n",
      "Epoch 38/150\n",
      "105/105 [==============================] - 0s 2ms/step - loss: 0.1920 - acc: 0.9143\n",
      "Epoch 39/150\n",
      "105/105 [==============================] - 0s 2ms/step - loss: 0.1411 - acc: 0.9524\n",
      "Epoch 40/150\n",
      "105/105 [==============================] - 0s 2ms/step - loss: 0.1366 - acc: 0.9429\n",
      "Epoch 41/150\n",
      "105/105 [==============================] - 0s 1ms/step - loss: 0.1885 - acc: 0.9143\n",
      "Epoch 42/150\n",
      "105/105 [==============================] - 0s 1ms/step - loss: 0.1611 - acc: 0.9429\n",
      "Epoch 43/150\n",
      "105/105 [==============================] - 0s 2ms/step - loss: 0.1338 - acc: 0.9619\n",
      "Epoch 44/150\n",
      "105/105 [==============================] - 0s 2ms/step - loss: 0.1504 - acc: 0.9429\n",
      "Epoch 45/150\n",
      "105/105 [==============================] - 0s 2ms/step - loss: 0.1264 - acc: 0.9429\n",
      "Epoch 46/150\n",
      "105/105 [==============================] - 0s 2ms/step - loss: 0.1117 - acc: 0.9714\n",
      "Epoch 47/150\n",
      "105/105 [==============================] - 0s 1ms/step - loss: 0.1481 - acc: 0.9524\n",
      "Epoch 48/150\n",
      "105/105 [==============================] - 0s 2ms/step - loss: 0.1235 - acc: 0.9429\n",
      "Epoch 49/150\n",
      "105/105 [==============================] - 0s 1ms/step - loss: 0.1588 - acc: 0.9429\n",
      "Epoch 50/150\n",
      "105/105 [==============================] - 0s 2ms/step - loss: 0.1041 - acc: 0.9714\n",
      "Epoch 51/150\n",
      "105/105 [==============================] - 0s 1ms/step - loss: 0.1091 - acc: 0.9714\n",
      "Epoch 52/150\n",
      "105/105 [==============================] - ETA: 0s - loss: 0.0962 - acc: 0.973 - 0s 1ms/step - loss: 0.1353 - acc: 0.9524\n",
      "Epoch 53/150\n",
      "105/105 [==============================] - 0s 2ms/step - loss: 0.1614 - acc: 0.9333\n",
      "Epoch 54/150\n",
      "105/105 [==============================] - 0s 1ms/step - loss: 0.1259 - acc: 0.9429\n",
      "Epoch 55/150\n",
      "105/105 [==============================] - 0s 1ms/step - loss: 0.1496 - acc: 0.9429\n",
      "Epoch 56/150\n",
      "105/105 [==============================] - 0s 2ms/step - loss: 0.0749 - acc: 0.9905\n",
      "Epoch 57/150\n",
      "105/105 [==============================] - 0s 1ms/step - loss: 0.1551 - acc: 0.9619\n",
      "Epoch 58/150\n",
      "105/105 [==============================] - 0s 1ms/step - loss: 0.1289 - acc: 0.9524\n",
      "Epoch 59/150\n",
      "105/105 [==============================] - 0s 1ms/step - loss: 0.1610 - acc: 0.9333\n",
      "Epoch 60/150\n",
      "105/105 [==============================] - 0s 1ms/step - loss: 0.1404 - acc: 0.9333\n",
      "Epoch 61/150\n",
      "105/105 [==============================] - 0s 2ms/step - loss: 0.1325 - acc: 0.9619\n",
      "Epoch 62/150\n",
      "105/105 [==============================] - 0s 1ms/step - loss: 0.1484 - acc: 0.9429\n",
      "Epoch 63/150\n",
      "105/105 [==============================] - 0s 2ms/step - loss: 0.1440 - acc: 0.9333\n",
      "Epoch 64/150\n",
      "105/105 [==============================] - 0s 2ms/step - loss: 0.1075 - acc: 0.9619\n",
      "Epoch 65/150\n",
      "105/105 [==============================] - 0s 1ms/step - loss: 0.1104 - acc: 0.9714\n",
      "Epoch 66/150\n",
      "105/105 [==============================] - 0s 1ms/step - loss: 0.0943 - acc: 0.9619\n",
      "Epoch 67/150\n",
      "105/105 [==============================] - 0s 1ms/step - loss: 0.1605 - acc: 0.9048\n",
      "Epoch 68/150\n",
      "105/105 [==============================] - 0s 1ms/step - loss: 0.1114 - acc: 0.9619\n",
      "Epoch 69/150\n",
      "105/105 [==============================] - 0s 1ms/step - loss: 0.1278 - acc: 0.9524\n",
      "Epoch 70/150\n",
      "105/105 [==============================] - 0s 1ms/step - loss: 0.1527 - acc: 0.9429\n",
      "Epoch 71/150\n",
      "105/105 [==============================] - 0s 1ms/step - loss: 0.1394 - acc: 0.9429\n",
      "Epoch 72/150\n",
      "105/105 [==============================] - 0s 1ms/step - loss: 0.1183 - acc: 0.9429\n",
      "Epoch 73/150\n",
      "105/105 [==============================] - 0s 2ms/step - loss: 0.1208 - acc: 0.9429\n",
      "Epoch 74/150\n",
      "105/105 [==============================] - 0s 1ms/step - loss: 0.0866 - acc: 0.9714\n",
      "Epoch 75/150\n",
      "105/105 [==============================] - 0s 1ms/step - loss: 0.1119 - acc: 0.9810\n",
      "Epoch 76/150\n",
      "105/105 [==============================] - ETA: 0s - loss: 0.0498 - acc: 0.986 - 0s 1ms/step - loss: 0.1002 - acc: 0.9619\n",
      "Epoch 77/150\n",
      "105/105 [==============================] - 0s 1ms/step - loss: 0.1235 - acc: 0.9524\n",
      "Epoch 78/150\n",
      "105/105 [==============================] - ETA: 0s - loss: 0.1459 - acc: 0.948 - 0s 1ms/step - loss: 0.1182 - acc: 0.9619\n",
      "Epoch 79/150\n",
      "105/105 [==============================] - 0s 1ms/step - loss: 0.1098 - acc: 0.9524\n",
      "Epoch 80/150\n",
      "105/105 [==============================] - 0s 2ms/step - loss: 0.1126 - acc: 0.9619\n",
      "Epoch 81/150\n",
      "105/105 [==============================] - 0s 2ms/step - loss: 0.1316 - acc: 0.9333\n",
      "Epoch 82/150\n",
      "105/105 [==============================] - 0s 1ms/step - loss: 0.1301 - acc: 0.9524\n",
      "Epoch 83/150\n"
     ]
    },
    {
     "name": "stdout",
     "output_type": "stream",
     "text": [
      "105/105 [==============================] - 0s 2ms/step - loss: 0.1458 - acc: 0.9333A: 0s - loss: 0.0925 - acc: 0.973\n",
      "Epoch 84/150\n",
      "105/105 [==============================] - 0s 2ms/step - loss: 0.1089 - acc: 0.9619\n",
      "Epoch 85/150\n",
      "105/105 [==============================] - 0s 2ms/step - loss: 0.1027 - acc: 0.9619\n",
      "Epoch 86/150\n",
      "105/105 [==============================] - 0s 2ms/step - loss: 0.1445 - acc: 0.9333\n",
      "Epoch 87/150\n",
      "105/105 [==============================] - 0s 2ms/step - loss: 0.1566 - acc: 0.9238\n",
      "Epoch 88/150\n",
      "105/105 [==============================] - 0s 2ms/step - loss: 0.1177 - acc: 0.9429\n",
      "Epoch 89/150\n",
      "105/105 [==============================] - 0s 2ms/step - loss: 0.1131 - acc: 0.9619\n",
      "Epoch 90/150\n",
      "105/105 [==============================] - 0s 2ms/step - loss: 0.1445 - acc: 0.9524A: 0s - loss: 0.1570 - acc: 0.945\n",
      "Epoch 91/150\n",
      "105/105 [==============================] - 0s 2ms/step - loss: 0.0953 - acc: 0.9619\n",
      "Epoch 92/150\n",
      "105/105 [==============================] - 0s 2ms/step - loss: 0.1400 - acc: 0.9524\n",
      "Epoch 93/150\n",
      "105/105 [==============================] - 0s 2ms/step - loss: 0.1132 - acc: 0.9714\n",
      "Epoch 94/150\n",
      "105/105 [==============================] - 0s 2ms/step - loss: 0.1117 - acc: 0.9619\n",
      "Epoch 95/150\n",
      "105/105 [==============================] - 0s 2ms/step - loss: 0.1358 - acc: 0.9619\n",
      "Epoch 96/150\n",
      "105/105 [==============================] - 0s 2ms/step - loss: 0.1167 - acc: 0.9524\n",
      "Epoch 97/150\n",
      "105/105 [==============================] - 0s 2ms/step - loss: 0.1005 - acc: 0.9714\n",
      "Epoch 98/150\n",
      "105/105 [==============================] - 0s 2ms/step - loss: 0.0838 - acc: 0.9810\n",
      "Epoch 99/150\n",
      "105/105 [==============================] - 0s 1ms/step - loss: 0.0949 - acc: 0.9429\n",
      "Epoch 100/150\n",
      "105/105 [==============================] - 0s 2ms/step - loss: 0.1182 - acc: 0.9429\n",
      "Epoch 101/150\n",
      "105/105 [==============================] - 0s 2ms/step - loss: 0.1178 - acc: 0.9524\n",
      "Epoch 102/150\n",
      "105/105 [==============================] - 0s 2ms/step - loss: 0.1102 - acc: 0.9714\n",
      "Epoch 103/150\n",
      "105/105 [==============================] - 0s 2ms/step - loss: 0.1166 - acc: 0.9429\n",
      "Epoch 104/150\n",
      "105/105 [==============================] - 0s 2ms/step - loss: 0.0656 - acc: 0.9714\n",
      "Epoch 105/150\n",
      "105/105 [==============================] - 0s 2ms/step - loss: 0.0884 - acc: 0.9619\n",
      "Epoch 106/150\n",
      "105/105 [==============================] - 0s 2ms/step - loss: 0.1160 - acc: 0.9619\n",
      "Epoch 107/150\n",
      "105/105 [==============================] - 0s 2ms/step - loss: 0.1399 - acc: 0.9429\n",
      "Epoch 108/150\n",
      "105/105 [==============================] - 0s 2ms/step - loss: 0.1085 - acc: 0.9714\n",
      "Epoch 109/150\n",
      "105/105 [==============================] - 0s 2ms/step - loss: 0.1003 - acc: 0.9619\n",
      "Epoch 110/150\n",
      "105/105 [==============================] - 0s 1ms/step - loss: 0.0987 - acc: 0.9810\n",
      "Epoch 111/150\n",
      "105/105 [==============================] - 0s 2ms/step - loss: 0.0932 - acc: 0.9524\n",
      "Epoch 112/150\n",
      "105/105 [==============================] - 0s 2ms/step - loss: 0.0973 - acc: 0.9619\n",
      "Epoch 113/150\n",
      "105/105 [==============================] - 0s 1ms/step - loss: 0.0995 - acc: 0.9714\n",
      "Epoch 114/150\n",
      "105/105 [==============================] - 0s 2ms/step - loss: 0.1386 - acc: 0.9333 ETA: 0s - loss: 0.1439 - acc: 0.930\n",
      "Epoch 115/150\n",
      "105/105 [==============================] - 0s 2ms/step - loss: 0.1028 - acc: 0.9524\n",
      "Epoch 116/150\n",
      "105/105 [==============================] - 0s 2ms/step - loss: 0.0827 - acc: 0.9905\n",
      "Epoch 117/150\n",
      "105/105 [==============================] - 0s 2ms/step - loss: 0.0676 - acc: 0.9714\n",
      "Epoch 118/150\n",
      "105/105 [==============================] - 0s 2ms/step - loss: 0.1593 - acc: 0.9524\n",
      "Epoch 119/150\n",
      "105/105 [==============================] - 0s 2ms/step - loss: 0.0981 - acc: 0.9619\n",
      "Epoch 120/150\n",
      "105/105 [==============================] - 0s 1ms/step - loss: 0.0921 - acc: 0.9810\n",
      "Epoch 121/150\n",
      "105/105 [==============================] - 0s 2ms/step - loss: 0.1227 - acc: 0.9619\n",
      "Epoch 122/150\n",
      "105/105 [==============================] - 0s 2ms/step - loss: 0.1203 - acc: 0.9429\n",
      "Epoch 123/150\n",
      "105/105 [==============================] - 0s 2ms/step - loss: 0.1428 - acc: 0.9524\n",
      "Epoch 124/150\n",
      "105/105 [==============================] - 0s 1ms/step - loss: 0.0930 - acc: 0.9524\n",
      "Epoch 125/150\n",
      "105/105 [==============================] - 0s 2ms/step - loss: 0.0636 - acc: 0.9905\n",
      "Epoch 126/150\n",
      "105/105 [==============================] - 0s 2ms/step - loss: 0.1270 - acc: 0.9429A: 0s - loss: 0.1185 - acc: 0.95\n",
      "Epoch 127/150\n",
      "105/105 [==============================] - 0s 2ms/step - loss: 0.1040 - acc: 0.9810\n",
      "Epoch 128/150\n",
      "105/105 [==============================] - 0s 1ms/step - loss: 0.0910 - acc: 0.9619\n",
      "Epoch 129/150\n",
      "105/105 [==============================] - 0s 2ms/step - loss: 0.1087 - acc: 0.9619\n",
      "Epoch 130/150\n",
      "105/105 [==============================] - 0s 1ms/step - loss: 0.0975 - acc: 0.9524\n",
      "Epoch 131/150\n",
      "105/105 [==============================] - 0s 1ms/step - loss: 0.1039 - acc: 0.9524\n",
      "Epoch 132/150\n",
      "105/105 [==============================] - 0s 2ms/step - loss: 0.1098 - acc: 0.9524\n",
      "Epoch 133/150\n",
      "105/105 [==============================] - 0s 2ms/step - loss: 0.0901 - acc: 0.9619\n",
      "Epoch 134/150\n",
      "105/105 [==============================] - 0s 1ms/step - loss: 0.1197 - acc: 0.9619\n",
      "Epoch 135/150\n",
      "105/105 [==============================] - 0s 2ms/step - loss: 0.1097 - acc: 0.9429\n",
      "Epoch 136/150\n",
      "105/105 [==============================] - 0s 1ms/step - loss: 0.0908 - acc: 0.9810\n",
      "Epoch 137/150\n",
      "105/105 [==============================] - 0s 2ms/step - loss: 0.0888 - acc: 0.9619\n",
      "Epoch 138/150\n",
      "105/105 [==============================] - 0s 1ms/step - loss: 0.0725 - acc: 0.9905\n",
      "Epoch 139/150\n",
      "105/105 [==============================] - 0s 1ms/step - loss: 0.1021 - acc: 0.9714\n",
      "Epoch 140/150\n",
      "105/105 [==============================] - 0s 1ms/step - loss: 0.0896 - acc: 0.9714\n",
      "Epoch 141/150\n",
      "105/105 [==============================] - 0s 1ms/step - loss: 0.1126 - acc: 0.9429\n",
      "Epoch 142/150\n",
      "105/105 [==============================] - 0s 1ms/step - loss: 0.0923 - acc: 0.9524\n",
      "Epoch 143/150\n",
      "105/105 [==============================] - 0s 1ms/step - loss: 0.0657 - acc: 0.9714\n",
      "Epoch 144/150\n",
      "105/105 [==============================] - 0s 1ms/step - loss: 0.1226 - acc: 0.9619\n",
      "Epoch 145/150\n",
      "105/105 [==============================] - 0s 1ms/step - loss: 0.1049 - acc: 0.9714\n",
      "Epoch 146/150\n",
      "105/105 [==============================] - 0s 1ms/step - loss: 0.1184 - acc: 0.9524\n",
      "Epoch 147/150\n",
      "105/105 [==============================] - ETA: 0s - loss: 0.1248 - acc: 0.942 - 0s 2ms/step - loss: 0.1215 - acc: 0.9429\n",
      "Epoch 148/150\n",
      "105/105 [==============================] - 0s 1ms/step - loss: 0.0933 - acc: 0.9619\n",
      "Epoch 149/150\n",
      "105/105 [==============================] - 0s 2ms/step - loss: 0.0827 - acc: 0.9714\n",
      "Epoch 150/150\n",
      "105/105 [==============================] - 0s 1ms/step - loss: 0.0725 - acc: 0.9714\n"
     ]
    },
    {
     "data": {
      "text/plain": [
       "<keras.callbacks.History at 0x1c81b685828>"
      ]
     },
     "execution_count": 55,
     "metadata": {},
     "output_type": "execute_result"
    }
   ],
   "source": [
    "# Fit the model\n",
    "model.fit(x_train, y_train, epochs=150, batch_size=1)"
   ]
  },
  {
   "cell_type": "markdown",
   "metadata": {
    "colab_type": "text",
    "id": "y-SgSSdRcih5"
   },
   "source": [
    "### Model Prediction"
   ]
  },
  {
   "cell_type": "code",
   "execution_count": 43,
   "metadata": {
    "colab": {},
    "colab_type": "code",
    "id": "GBgKZkhkcih6"
   },
   "outputs": [
    {
     "name": "stdout",
     "output_type": "stream",
     "text": [
      "105/105 [==============================] - 0s 991us/step\n"
     ]
    },
    {
     "data": {
      "text/plain": [
       "98.09523809523809"
      ]
     },
     "execution_count": 43,
     "metadata": {},
     "output_type": "execute_result"
    }
   ],
   "source": [
    "# evaluate the model\n",
    "#Checking the model on the training data\n",
    "scores = model.evaluate(x_train, y_train)\n",
    "scores[1]*100"
   ]
  },
  {
   "cell_type": "code",
   "execution_count": 44,
   "metadata": {},
   "outputs": [
    {
     "name": "stdout",
     "output_type": "stream",
     "text": [
      "45/45 [==============================] - 0s 81us/step\n"
     ]
    },
    {
     "data": {
      "text/plain": [
       "97.77777791023254"
      ]
     },
     "execution_count": 44,
     "metadata": {},
     "output_type": "execute_result"
    }
   ],
   "source": [
    "#Testing the model on the test data to see what is the achived accuracy value\n",
    "scores = model.evaluate(x_test, y_test)\n",
    "scores[1]*100"
   ]
  },
  {
   "cell_type": "markdown",
   "metadata": {
    "colab_type": "text",
    "id": "P32ASP1Vjt0a"
   },
   "source": [
    "### Save the Model"
   ]
  },
  {
   "cell_type": "code",
   "execution_count": 36,
   "metadata": {
    "colab": {},
    "colab_type": "code",
    "id": "n8rd0jjAjyTR"
   },
   "outputs": [],
   "source": [
    "#Model has been successfully saved at the path where the Jupyter notebook is there\n",
    "model.save(\"model.h5\")"
   ]
  },
  {
   "cell_type": "markdown",
   "metadata": {
    "colab_type": "text",
    "id": "XiipRpe7rbVh"
   },
   "source": [
    "### Build and Train a Deep Neural network with 2 hidden layer  - Optional - For Practice\n",
    "\n",
    "Does it perform better than Linear Classifier? What could be the reason for difference in performance?"
   ]
  },
  {
   "cell_type": "code",
   "execution_count": 45,
   "metadata": {
    "colab": {},
    "colab_type": "code",
    "id": "v5Du3lubr4sA"
   },
   "outputs": [],
   "source": [
    "#Trying the model with 2 layers\n"
   ]
  },
  {
   "cell_type": "code",
   "execution_count": 50,
   "metadata": {},
   "outputs": [],
   "source": [
    "model=Sequential()\n",
    "model.add(Dense(64, input_dim=4, activation='relu'))\n",
    "model.add(Dense(64,activation='relu'))\n",
    "model.add(Dense(3, activation='sigmoid'))\n",
    "#Model compilation\n",
    "model.compile(loss='categorical_crossentropy', optimizer='adam', metrics=['accuracy'])"
   ]
  },
  {
   "cell_type": "code",
   "execution_count": 51,
   "metadata": {},
   "outputs": [
    {
     "name": "stdout",
     "output_type": "stream",
     "text": [
      "Epoch 1/150\n",
      "105/105 [==============================] - 1s 12ms/step - loss: 0.8583 - acc: 0.6381\n",
      "Epoch 2/150\n",
      "105/105 [==============================] - 0s 2ms/step - loss: 0.5068 - acc: 0.7810\n",
      "Epoch 3/150\n",
      "105/105 [==============================] - 0s 2ms/step - loss: 0.4138 - acc: 0.7524\n",
      "Epoch 4/150\n",
      "105/105 [==============================] - 0s 2ms/step - loss: 0.3076 - acc: 0.9333\n",
      "Epoch 5/150\n",
      "105/105 [==============================] - 0s 2ms/step - loss: 0.2771 - acc: 0.9048\n",
      "Epoch 6/150\n",
      "105/105 [==============================] - 0s 2ms/step - loss: 0.2423 - acc: 0.9238A: 0s - loss: 0.2417 - acc: 0.927\n",
      "Epoch 7/150\n",
      "105/105 [==============================] - 0s 2ms/step - loss: 0.1779 - acc: 0.9714\n",
      "Epoch 8/150\n",
      "105/105 [==============================] - 0s 2ms/step - loss: 0.1691 - acc: 0.9238\n",
      "Epoch 9/150\n",
      "105/105 [==============================] - 0s 2ms/step - loss: 0.1376 - acc: 0.9714\n",
      "Epoch 10/150\n",
      "105/105 [==============================] - 0s 2ms/step - loss: 0.1838 - acc: 0.9524\n",
      "Epoch 11/150\n",
      "105/105 [==============================] - 0s 2ms/step - loss: 0.1415 - acc: 0.9619\n",
      "Epoch 12/150\n",
      "105/105 [==============================] - 0s 2ms/step - loss: 0.1496 - acc: 0.9429\n",
      "Epoch 13/150\n",
      "105/105 [==============================] - 0s 2ms/step - loss: 0.1044 - acc: 0.9714\n",
      "Epoch 14/150\n",
      "105/105 [==============================] - 0s 2ms/step - loss: 0.1129 - acc: 0.9714\n",
      "Epoch 15/150\n",
      "105/105 [==============================] - 0s 2ms/step - loss: 0.1037 - acc: 0.9810\n",
      "Epoch 16/150\n",
      "105/105 [==============================] - 0s 2ms/step - loss: 0.1191 - acc: 0.9524\n",
      "Epoch 17/150\n",
      "105/105 [==============================] - 0s 2ms/step - loss: 0.1232 - acc: 0.9619\n",
      "Epoch 18/150\n",
      "105/105 [==============================] - 0s 2ms/step - loss: 0.1259 - acc: 0.9524\n",
      "Epoch 19/150\n",
      "105/105 [==============================] - 0s 2ms/step - loss: 0.1253 - acc: 0.9524\n",
      "Epoch 20/150\n",
      "105/105 [==============================] - 0s 2ms/step - loss: 0.1137 - acc: 0.9524\n",
      "Epoch 21/150\n",
      "105/105 [==============================] - 0s 2ms/step - loss: 0.0934 - acc: 0.9810\n",
      "Epoch 22/150\n",
      "105/105 [==============================] - 0s 2ms/step - loss: 0.0943 - acc: 0.9714\n",
      "Epoch 23/150\n",
      "105/105 [==============================] - 0s 2ms/step - loss: 0.0935 - acc: 0.9619\n",
      "Epoch 24/150\n",
      "105/105 [==============================] - 0s 2ms/step - loss: 0.1097 - acc: 0.9619\n",
      "Epoch 25/150\n",
      "105/105 [==============================] - 0s 2ms/step - loss: 0.0902 - acc: 0.9619\n",
      "Epoch 26/150\n",
      "105/105 [==============================] - 0s 2ms/step - loss: 0.1453 - acc: 0.9524\n",
      "Epoch 27/150\n",
      "105/105 [==============================] - 0s 2ms/step - loss: 0.1141 - acc: 0.9524\n",
      "Epoch 28/150\n",
      "105/105 [==============================] - 0s 2ms/step - loss: 0.0919 - acc: 0.9619\n",
      "Epoch 29/150\n",
      "105/105 [==============================] - 0s 2ms/step - loss: 0.0958 - acc: 0.9714\n",
      "Epoch 30/150\n",
      "105/105 [==============================] - 0s 2ms/step - loss: 0.0952 - acc: 0.9619\n",
      "Epoch 31/150\n",
      "105/105 [==============================] - 0s 2ms/step - loss: 0.1202 - acc: 0.9524\n",
      "Epoch 32/150\n",
      "105/105 [==============================] - 0s 2ms/step - loss: 0.1041 - acc: 0.9619\n",
      "Epoch 33/150\n",
      "105/105 [==============================] - 0s 2ms/step - loss: 0.0817 - acc: 0.9714\n",
      "Epoch 34/150\n",
      "105/105 [==============================] - 0s 2ms/step - loss: 0.1129 - acc: 0.9619\n",
      "Epoch 35/150\n",
      "105/105 [==============================] - 0s 2ms/step - loss: 0.0854 - acc: 0.9714\n",
      "Epoch 36/150\n",
      "105/105 [==============================] - 0s 2ms/step - loss: 0.1320 - acc: 0.9429\n",
      "Epoch 37/150\n",
      "105/105 [==============================] - 0s 2ms/step - loss: 0.0936 - acc: 0.9619\n",
      "Epoch 38/150\n",
      "105/105 [==============================] - 0s 2ms/step - loss: 0.0968 - acc: 0.9619\n",
      "Epoch 39/150\n",
      "105/105 [==============================] - 0s 2ms/step - loss: 0.0964 - acc: 0.9619\n",
      "Epoch 40/150\n",
      "105/105 [==============================] - 0s 2ms/step - loss: 0.0960 - acc: 0.9429\n",
      "Epoch 41/150\n",
      "105/105 [==============================] - 0s 2ms/step - loss: 0.1020 - acc: 0.9429\n",
      "Epoch 42/150\n",
      "105/105 [==============================] - 0s 2ms/step - loss: 0.0921 - acc: 0.9714\n",
      "Epoch 43/150\n",
      "105/105 [==============================] - 0s 2ms/step - loss: 0.0881 - acc: 0.9714\n",
      "Epoch 44/150\n",
      "105/105 [==============================] - 0s 2ms/step - loss: 0.1097 - acc: 0.9619\n",
      "Epoch 45/150\n",
      "105/105 [==============================] - 0s 2ms/step - loss: 0.0808 - acc: 0.9714\n",
      "Epoch 46/150\n",
      "105/105 [==============================] - 0s 2ms/step - loss: 0.0967 - acc: 0.9619\n",
      "Epoch 47/150\n",
      "105/105 [==============================] - 0s 1ms/step - loss: 0.1054 - acc: 0.9429\n",
      "Epoch 48/150\n",
      "105/105 [==============================] - 0s 2ms/step - loss: 0.0686 - acc: 0.9714\n",
      "Epoch 49/150\n",
      "105/105 [==============================] - 0s 2ms/step - loss: 0.0806 - acc: 0.9619\n",
      "Epoch 50/150\n",
      "105/105 [==============================] - 0s 2ms/step - loss: 0.0626 - acc: 0.9714\n",
      "Epoch 51/150\n",
      "105/105 [==============================] - 0s 2ms/step - loss: 0.1188 - acc: 0.9619\n",
      "Epoch 52/150\n",
      "105/105 [==============================] - 0s 2ms/step - loss: 0.0905 - acc: 0.9619\n",
      "Epoch 53/150\n",
      "105/105 [==============================] - 0s 2ms/step - loss: 0.0888 - acc: 0.9714\n",
      "Epoch 54/150\n",
      "105/105 [==============================] - 0s 1ms/step - loss: 0.0914 - acc: 0.9714\n",
      "Epoch 55/150\n",
      "105/105 [==============================] - 0s 2ms/step - loss: 0.0802 - acc: 0.9524\n",
      "Epoch 56/150\n",
      "105/105 [==============================] - 0s 2ms/step - loss: 0.1041 - acc: 0.9524\n",
      "Epoch 57/150\n",
      "105/105 [==============================] - 0s 2ms/step - loss: 0.0823 - acc: 0.9619\n",
      "Epoch 58/150\n",
      "105/105 [==============================] - 0s 2ms/step - loss: 0.0681 - acc: 0.9810\n",
      "Epoch 59/150\n",
      "105/105 [==============================] - 0s 2ms/step - loss: 0.1378 - acc: 0.9429\n",
      "Epoch 60/150\n",
      "105/105 [==============================] - 0s 2ms/step - loss: 0.1050 - acc: 0.9619\n",
      "Epoch 61/150\n",
      "105/105 [==============================] - 0s 2ms/step - loss: 0.0952 - acc: 0.9429\n",
      "Epoch 62/150\n",
      "105/105 [==============================] - 0s 2ms/step - loss: 0.1018 - acc: 0.9714\n",
      "Epoch 63/150\n",
      "105/105 [==============================] - 0s 2ms/step - loss: 0.0883 - acc: 0.9524\n",
      "Epoch 64/150\n",
      "105/105 [==============================] - 0s 2ms/step - loss: 0.0917 - acc: 0.9714\n",
      "Epoch 65/150\n",
      "105/105 [==============================] - 0s 2ms/step - loss: 0.0903 - acc: 0.9429\n",
      "Epoch 66/150\n",
      "105/105 [==============================] - 0s 2ms/step - loss: 0.1002 - acc: 0.9429\n",
      "Epoch 67/150\n",
      "105/105 [==============================] - 0s 2ms/step - loss: 0.0960 - acc: 0.9429\n",
      "Epoch 68/150\n",
      "105/105 [==============================] - 0s 2ms/step - loss: 0.0850 - acc: 0.9524\n",
      "Epoch 69/150\n",
      "105/105 [==============================] - 0s 2ms/step - loss: 0.0844 - acc: 0.9619\n",
      "Epoch 70/150\n",
      "105/105 [==============================] - 0s 2ms/step - loss: 0.0737 - acc: 0.9810\n",
      "Epoch 71/150\n",
      "105/105 [==============================] - 0s 2ms/step - loss: 0.0883 - acc: 0.9524\n",
      "Epoch 72/150\n",
      "105/105 [==============================] - 0s 2ms/step - loss: 0.0904 - acc: 0.9619\n",
      "Epoch 73/150\n",
      "105/105 [==============================] - 0s 2ms/step - loss: 0.0978 - acc: 0.9619\n",
      "Epoch 74/150\n",
      "105/105 [==============================] - 0s 2ms/step - loss: 0.0758 - acc: 0.9619\n",
      "Epoch 75/150\n",
      "105/105 [==============================] - 0s 2ms/step - loss: 0.0792 - acc: 0.9714\n",
      "Epoch 76/150\n",
      "105/105 [==============================] - 0s 2ms/step - loss: 0.0909 - acc: 0.9524\n",
      "Epoch 77/150\n",
      "105/105 [==============================] - 0s 2ms/step - loss: 0.1089 - acc: 0.9619\n",
      "Epoch 78/150\n",
      "105/105 [==============================] - 0s 2ms/step - loss: 0.0819 - acc: 0.9619\n",
      "Epoch 79/150\n",
      "105/105 [==============================] - 0s 2ms/step - loss: 0.0821 - acc: 0.9714\n",
      "Epoch 80/150\n",
      "105/105 [==============================] - 0s 2ms/step - loss: 0.0722 - acc: 0.9810\n",
      "Epoch 81/150\n",
      "105/105 [==============================] - 0s 2ms/step - loss: 0.0764 - acc: 0.9619\n",
      "Epoch 82/150\n",
      "105/105 [==============================] - 0s 2ms/step - loss: 0.0700 - acc: 0.9714\n",
      "Epoch 83/150\n",
      "105/105 [==============================] - 0s 2ms/step - loss: 0.0704 - acc: 0.9714\n",
      "Epoch 84/150\n",
      "105/105 [==============================] - 0s 2ms/step - loss: 0.0840 - acc: 0.9619\n",
      "Epoch 85/150\n"
     ]
    },
    {
     "name": "stdout",
     "output_type": "stream",
     "text": [
      "105/105 [==============================] - 0s 2ms/step - loss: 0.0778 - acc: 0.9714\n",
      "Epoch 86/150\n",
      "105/105 [==============================] - 0s 2ms/step - loss: 0.0690 - acc: 0.9714\n",
      "Epoch 87/150\n",
      "105/105 [==============================] - 0s 2ms/step - loss: 0.0639 - acc: 0.9810\n",
      "Epoch 88/150\n",
      "105/105 [==============================] - 0s 2ms/step - loss: 0.0954 - acc: 0.9619\n",
      "Epoch 89/150\n",
      "105/105 [==============================] - 0s 2ms/step - loss: 0.0735 - acc: 0.9714\n",
      "Epoch 90/150\n",
      "105/105 [==============================] - 0s 2ms/step - loss: 0.0824 - acc: 0.9714\n",
      "Epoch 91/150\n",
      "105/105 [==============================] - 0s 2ms/step - loss: 0.0751 - acc: 0.9619\n",
      "Epoch 92/150\n",
      "105/105 [==============================] - 0s 2ms/step - loss: 0.0788 - acc: 0.9714\n",
      "Epoch 93/150\n",
      "105/105 [==============================] - 0s 2ms/step - loss: 0.0815 - acc: 0.9619\n",
      "Epoch 94/150\n",
      "105/105 [==============================] - 0s 2ms/step - loss: 0.0675 - acc: 0.9810\n",
      "Epoch 95/150\n",
      "105/105 [==============================] - 0s 2ms/step - loss: 0.0965 - acc: 0.9619\n",
      "Epoch 96/150\n",
      "105/105 [==============================] - 0s 2ms/step - loss: 0.1243 - acc: 0.9714\n",
      "Epoch 97/150\n",
      "105/105 [==============================] - 0s 2ms/step - loss: 0.0804 - acc: 0.9619\n",
      "Epoch 98/150\n",
      "105/105 [==============================] - 0s 2ms/step - loss: 0.0903 - acc: 0.9619\n",
      "Epoch 99/150\n",
      "105/105 [==============================] - 0s 2ms/step - loss: 0.0837 - acc: 0.9714\n",
      "Epoch 100/150\n",
      "105/105 [==============================] - 0s 2ms/step - loss: 0.0943 - acc: 0.9429\n",
      "Epoch 101/150\n",
      "105/105 [==============================] - 0s 2ms/step - loss: 0.0702 - acc: 0.9714\n",
      "Epoch 102/150\n",
      "105/105 [==============================] - 0s 2ms/step - loss: 0.0750 - acc: 0.9810\n",
      "Epoch 103/150\n",
      "105/105 [==============================] - 0s 2ms/step - loss: 0.0875 - acc: 0.9619\n",
      "Epoch 104/150\n",
      "105/105 [==============================] - 0s 2ms/step - loss: 0.0998 - acc: 0.9619\n",
      "Epoch 105/150\n",
      "105/105 [==============================] - 0s 3ms/step - loss: 0.0775 - acc: 0.9524\n",
      "Epoch 106/150\n",
      "105/105 [==============================] - 0s 2ms/step - loss: 0.0803 - acc: 0.9714\n",
      "Epoch 107/150\n",
      "105/105 [==============================] - 0s 2ms/step - loss: 0.0827 - acc: 0.9714\n",
      "Epoch 108/150\n",
      "105/105 [==============================] - 0s 2ms/step - loss: 0.0813 - acc: 0.9524\n",
      "Epoch 109/150\n",
      "105/105 [==============================] - 0s 2ms/step - loss: 0.0712 - acc: 0.9619\n",
      "Epoch 110/150\n",
      "105/105 [==============================] - 0s 2ms/step - loss: 0.0617 - acc: 0.9905\n",
      "Epoch 111/150\n",
      "105/105 [==============================] - 0s 2ms/step - loss: 0.0651 - acc: 0.9810\n",
      "Epoch 112/150\n",
      "105/105 [==============================] - 0s 2ms/step - loss: 0.0718 - acc: 0.9714\n",
      "Epoch 113/150\n",
      "105/105 [==============================] - 0s 2ms/step - loss: 0.0852 - acc: 0.9619\n",
      "Epoch 114/150\n",
      "105/105 [==============================] - 0s 2ms/step - loss: 0.0789 - acc: 0.9619\n",
      "Epoch 115/150\n",
      "105/105 [==============================] - 0s 2ms/step - loss: 0.0765 - acc: 0.9714\n",
      "Epoch 116/150\n",
      "105/105 [==============================] - 0s 2ms/step - loss: 0.0806 - acc: 0.9714\n",
      "Epoch 117/150\n",
      "105/105 [==============================] - 0s 2ms/step - loss: 0.0780 - acc: 0.9619\n",
      "Epoch 118/150\n",
      "105/105 [==============================] - 0s 2ms/step - loss: 0.0694 - acc: 0.9714\n",
      "Epoch 119/150\n",
      "105/105 [==============================] - 0s 2ms/step - loss: 0.0794 - acc: 0.9619\n",
      "Epoch 120/150\n",
      "105/105 [==============================] - 0s 2ms/step - loss: 0.0697 - acc: 0.9810\n",
      "Epoch 121/150\n",
      "105/105 [==============================] - 0s 2ms/step - loss: 0.0620 - acc: 0.9905\n",
      "Epoch 122/150\n",
      "105/105 [==============================] - 0s 2ms/step - loss: 0.0923 - acc: 0.9714\n",
      "Epoch 123/150\n",
      "105/105 [==============================] - 0s 2ms/step - loss: 0.1027 - acc: 0.9714\n",
      "Epoch 124/150\n",
      "105/105 [==============================] - 0s 2ms/step - loss: 0.0649 - acc: 0.9714\n",
      "Epoch 125/150\n",
      "105/105 [==============================] - 0s 2ms/step - loss: 0.0928 - acc: 0.9524\n",
      "Epoch 126/150\n",
      "105/105 [==============================] - 0s 2ms/step - loss: 0.0620 - acc: 0.9810\n",
      "Epoch 127/150\n",
      "105/105 [==============================] - 0s 2ms/step - loss: 0.0661 - acc: 0.9810\n",
      "Epoch 128/150\n",
      "105/105 [==============================] - 0s 2ms/step - loss: 0.0678 - acc: 0.9714\n",
      "Epoch 129/150\n",
      "105/105 [==============================] - 0s 2ms/step - loss: 0.0737 - acc: 0.9619\n",
      "Epoch 130/150\n",
      "105/105 [==============================] - 0s 2ms/step - loss: 0.0768 - acc: 0.9619\n",
      "Epoch 131/150\n",
      "105/105 [==============================] - 0s 2ms/step - loss: 0.0985 - acc: 0.9524\n",
      "Epoch 132/150\n",
      "105/105 [==============================] - 0s 2ms/step - loss: 0.0632 - acc: 0.9810\n",
      "Epoch 133/150\n",
      "105/105 [==============================] - 0s 2ms/step - loss: 0.0807 - acc: 0.9619\n",
      "Epoch 134/150\n",
      "105/105 [==============================] - 0s 2ms/step - loss: 0.0785 - acc: 0.9619\n",
      "Epoch 135/150\n",
      "105/105 [==============================] - 0s 2ms/step - loss: 0.0697 - acc: 0.9810\n",
      "Epoch 136/150\n",
      "105/105 [==============================] - 0s 2ms/step - loss: 0.0833 - acc: 0.9810\n",
      "Epoch 137/150\n",
      "105/105 [==============================] - 0s 2ms/step - loss: 0.0806 - acc: 0.9714\n",
      "Epoch 138/150\n",
      "105/105 [==============================] - 0s 2ms/step - loss: 0.0637 - acc: 0.9714\n",
      "Epoch 139/150\n",
      "105/105 [==============================] - 0s 2ms/step - loss: 0.0776 - acc: 0.9810\n",
      "Epoch 140/150\n",
      "105/105 [==============================] - 0s 2ms/step - loss: 0.0671 - acc: 0.9714\n",
      "Epoch 141/150\n",
      "105/105 [==============================] - 0s 2ms/step - loss: 0.0624 - acc: 0.9810\n",
      "Epoch 142/150\n",
      "105/105 [==============================] - 0s 2ms/step - loss: 0.0939 - acc: 0.9524\n",
      "Epoch 143/150\n",
      "105/105 [==============================] - 0s 2ms/step - loss: 0.0856 - acc: 0.9524\n",
      "Epoch 144/150\n",
      "105/105 [==============================] - 0s 2ms/step - loss: 0.0759 - acc: 0.9619\n",
      "Epoch 145/150\n",
      "105/105 [==============================] - 0s 2ms/step - loss: 0.0802 - acc: 0.9714\n",
      "Epoch 146/150\n",
      "105/105 [==============================] - 0s 2ms/step - loss: 0.1079 - acc: 0.9429\n",
      "Epoch 147/150\n",
      "105/105 [==============================] - 0s 2ms/step - loss: 0.0774 - acc: 0.9714\n",
      "Epoch 148/150\n",
      "105/105 [==============================] - 0s 2ms/step - loss: 0.0768 - acc: 0.9714\n",
      "Epoch 149/150\n",
      "105/105 [==============================] - 0s 2ms/step - loss: 0.0907 - acc: 0.9714\n",
      "Epoch 150/150\n",
      "105/105 [==============================] - 0s 2ms/step - loss: 0.0720 - acc: 0.9619\n"
     ]
    },
    {
     "data": {
      "text/plain": [
       "<keras.callbacks.History at 0x1c81b698d30>"
      ]
     },
     "execution_count": 51,
     "metadata": {},
     "output_type": "execute_result"
    }
   ],
   "source": [
    "# Fit the model\n",
    "model.fit(x_train, y_train, epochs=150, batch_size=1)"
   ]
  },
  {
   "cell_type": "code",
   "execution_count": 52,
   "metadata": {},
   "outputs": [
    {
     "name": "stdout",
     "output_type": "stream",
     "text": [
      "105/105 [==============================] - 0s 2ms/step\n"
     ]
    },
    {
     "data": {
      "text/plain": [
       "96.19047630400884"
      ]
     },
     "execution_count": 52,
     "metadata": {},
     "output_type": "execute_result"
    }
   ],
   "source": [
    "# evaluate the model\n",
    "#Checking the model on the training data\n",
    "scores = model.evaluate(x_train, y_train)\n",
    "scores[1]*100"
   ]
  },
  {
   "cell_type": "code",
   "execution_count": 53,
   "metadata": {},
   "outputs": [
    {
     "name": "stdout",
     "output_type": "stream",
     "text": [
      "45/45 [==============================] - 0s 109us/step\n"
     ]
    },
    {
     "data": {
      "text/plain": [
       "95.55555568801032"
      ]
     },
     "execution_count": 53,
     "metadata": {},
     "output_type": "execute_result"
    }
   ],
   "source": [
    "#Testing the model on the test data to see what is the achived accuracy value\n",
    "scores = model.evaluate(x_test, y_test)\n",
    "scores[1]*100"
   ]
  },
  {
   "cell_type": "code",
   "execution_count": null,
   "metadata": {},
   "outputs": [],
   "source": []
  }
 ],
 "metadata": {
  "colab": {
   "name": "3. R6_InternalLab_AIML_Share_Prices-Eager Execution.ipynb",
   "provenance": [],
   "version": "0.3.2"
  },
  "kernelspec": {
   "display_name": "Python 3",
   "language": "python",
   "name": "python3"
  },
  "language_info": {
   "codemirror_mode": {
    "name": "ipython",
    "version": 3
   },
   "file_extension": ".py",
   "mimetype": "text/x-python",
   "name": "python",
   "nbconvert_exporter": "python",
   "pygments_lexer": "ipython3",
   "version": "3.7.0"
  }
 },
 "nbformat": 4,
 "nbformat_minor": 1
}
