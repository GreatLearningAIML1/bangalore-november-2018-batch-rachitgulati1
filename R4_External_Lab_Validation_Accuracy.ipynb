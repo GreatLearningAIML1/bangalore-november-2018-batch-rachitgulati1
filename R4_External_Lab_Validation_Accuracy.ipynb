{
 "cells": [
  {
   "cell_type": "code",
   "execution_count": 1,
   "metadata": {
    "colab": {},
    "colab_type": "code",
    "id": "Y3vvEXP1_0og"
   },
   "outputs": [],
   "source": [
    "# Import important library\n",
    "import numpy as np\n",
    "import pandas as pd\n",
    "import matplotlib.pyplot as plt\n",
    "import seaborn as sns\n",
    "%matplotlib inline\n",
    "import warnings\n",
    "warnings.filterwarnings('ignore')"
   ]
  },
  {
   "cell_type": "markdown",
   "metadata": {
    "colab_type": "text",
    "id": "7O83uMqA_0ol"
   },
   "source": [
    "### Read the input file and check the data dimension"
   ]
  },
  {
   "cell_type": "code",
   "execution_count": 2,
   "metadata": {
    "colab": {},
    "colab_type": "code",
    "id": "1brbOfG_Enzy"
   },
   "outputs": [],
   "source": [
    "df=pd.read_csv(\"german_credit_data.csv\")"
   ]
  },
  {
   "cell_type": "code",
   "execution_count": 3,
   "metadata": {},
   "outputs": [
    {
     "data": {
      "text/html": [
       "<div>\n",
       "<style scoped>\n",
       "    .dataframe tbody tr th:only-of-type {\n",
       "        vertical-align: middle;\n",
       "    }\n",
       "\n",
       "    .dataframe tbody tr th {\n",
       "        vertical-align: top;\n",
       "    }\n",
       "\n",
       "    .dataframe thead th {\n",
       "        text-align: right;\n",
       "    }\n",
       "</style>\n",
       "<table border=\"1\" class=\"dataframe\">\n",
       "  <thead>\n",
       "    <tr style=\"text-align: right;\">\n",
       "      <th></th>\n",
       "      <th>default</th>\n",
       "      <th>Age</th>\n",
       "      <th>Sex</th>\n",
       "      <th>Job</th>\n",
       "      <th>Housing</th>\n",
       "      <th>Saving accounts</th>\n",
       "      <th>Checking account</th>\n",
       "      <th>Credit amount</th>\n",
       "      <th>Duration</th>\n",
       "      <th>Purpose</th>\n",
       "    </tr>\n",
       "  </thead>\n",
       "  <tbody>\n",
       "    <tr>\n",
       "      <th>0</th>\n",
       "      <td>0</td>\n",
       "      <td>67</td>\n",
       "      <td>male</td>\n",
       "      <td>2</td>\n",
       "      <td>own</td>\n",
       "      <td>NaN</td>\n",
       "      <td>little</td>\n",
       "      <td>1169</td>\n",
       "      <td>6</td>\n",
       "      <td>radio/TV</td>\n",
       "    </tr>\n",
       "    <tr>\n",
       "      <th>1</th>\n",
       "      <td>1</td>\n",
       "      <td>22</td>\n",
       "      <td>female</td>\n",
       "      <td>2</td>\n",
       "      <td>own</td>\n",
       "      <td>little</td>\n",
       "      <td>moderate</td>\n",
       "      <td>5951</td>\n",
       "      <td>48</td>\n",
       "      <td>radio/TV</td>\n",
       "    </tr>\n",
       "    <tr>\n",
       "      <th>2</th>\n",
       "      <td>0</td>\n",
       "      <td>49</td>\n",
       "      <td>male</td>\n",
       "      <td>1</td>\n",
       "      <td>own</td>\n",
       "      <td>little</td>\n",
       "      <td>NaN</td>\n",
       "      <td>2096</td>\n",
       "      <td>12</td>\n",
       "      <td>education</td>\n",
       "    </tr>\n",
       "    <tr>\n",
       "      <th>3</th>\n",
       "      <td>0</td>\n",
       "      <td>45</td>\n",
       "      <td>male</td>\n",
       "      <td>2</td>\n",
       "      <td>free</td>\n",
       "      <td>little</td>\n",
       "      <td>little</td>\n",
       "      <td>7882</td>\n",
       "      <td>42</td>\n",
       "      <td>furniture/equipment</td>\n",
       "    </tr>\n",
       "    <tr>\n",
       "      <th>4</th>\n",
       "      <td>1</td>\n",
       "      <td>53</td>\n",
       "      <td>male</td>\n",
       "      <td>2</td>\n",
       "      <td>free</td>\n",
       "      <td>little</td>\n",
       "      <td>little</td>\n",
       "      <td>4870</td>\n",
       "      <td>24</td>\n",
       "      <td>car</td>\n",
       "    </tr>\n",
       "  </tbody>\n",
       "</table>\n",
       "</div>"
      ],
      "text/plain": [
       "   default  Age     Sex  Job Housing Saving accounts Checking account  \\\n",
       "0        0   67    male    2     own             NaN           little   \n",
       "1        1   22  female    2     own          little         moderate   \n",
       "2        0   49    male    1     own          little              NaN   \n",
       "3        0   45    male    2    free          little           little   \n",
       "4        1   53    male    2    free          little           little   \n",
       "\n",
       "   Credit amount  Duration              Purpose  \n",
       "0           1169         6             radio/TV  \n",
       "1           5951        48             radio/TV  \n",
       "2           2096        12            education  \n",
       "3           7882        42  furniture/equipment  \n",
       "4           4870        24                  car  "
      ]
     },
     "execution_count": 3,
     "metadata": {},
     "output_type": "execute_result"
    }
   ],
   "source": [
    "df.head()"
   ]
  },
  {
   "cell_type": "code",
   "execution_count": 4,
   "metadata": {},
   "outputs": [
    {
     "name": "stdout",
     "output_type": "stream",
     "text": [
      "<class 'pandas.core.frame.DataFrame'>\n",
      "RangeIndex: 1000 entries, 0 to 999\n",
      "Data columns (total 10 columns):\n",
      "default             1000 non-null int64\n",
      "Age                 1000 non-null int64\n",
      "Sex                 1000 non-null object\n",
      "Job                 1000 non-null int64\n",
      "Housing             1000 non-null object\n",
      "Saving accounts     817 non-null object\n",
      "Checking account    606 non-null object\n",
      "Credit amount       1000 non-null int64\n",
      "Duration            1000 non-null int64\n",
      "Purpose             1000 non-null object\n",
      "dtypes: int64(5), object(5)\n",
      "memory usage: 78.2+ KB\n"
     ]
    }
   ],
   "source": [
    "df.info()"
   ]
  },
  {
   "cell_type": "code",
   "execution_count": 5,
   "metadata": {
    "colab": {},
    "colab_type": "code",
    "id": "EC9Oup3w_0on",
    "outputId": "08aa9a88-57df-4c19-ee40-7335b11c8b0d"
   },
   "outputs": [],
   "source": [
    "# You can access from https://www.kaggle.com/uciml/german-credit\n",
    "#Read input file and understand the data\n",
    "# \"default\" is my dependent variable"
   ]
  },
  {
   "cell_type": "markdown",
   "metadata": {
    "colab_type": "text",
    "id": "ASgoNlMB_0ov"
   },
   "source": [
    "### Q1 Randomly select 50% data for this use case( 1 Marks)\n",
    "###### Hint: Use train_test_split"
   ]
  },
  {
   "cell_type": "code",
   "execution_count": 6,
   "metadata": {
    "colab": {},
    "colab_type": "code",
    "id": "_LGo1xnK_0ow"
   },
   "outputs": [],
   "source": [
    "from sklearn.model_selection import train_test_split\n",
    "x_ind=df.drop(labels=\"default\",axis=1)\n",
    "y_dep=df[[\"default\"]]"
   ]
  },
  {
   "cell_type": "code",
   "execution_count": 7,
   "metadata": {
    "colab": {},
    "colab_type": "code",
    "id": "gKaiZis__0o0"
   },
   "outputs": [],
   "source": [
    "# Lets build a Ensemble model but need to modify the dataset first\n"
   ]
  },
  {
   "cell_type": "markdown",
   "metadata": {
    "colab_type": "text",
    "id": "utYEGBER_0o4"
   },
   "source": [
    "### Q2.Prepare the model data by converting non-numeric to dummy ( 1 Marks)\n",
    "##### Hint: Use get_dummies"
   ]
  },
  {
   "cell_type": "code",
   "execution_count": 8,
   "metadata": {
    "colab": {},
    "colab_type": "code",
    "id": "wjyTJcA6_0o6",
    "outputId": "e6bf7e9d-5732-4836-c0bb-fe03ba34683e"
   },
   "outputs": [],
   "source": [
    "# Print Shape of model data"
   ]
  },
  {
   "cell_type": "code",
   "execution_count": 9,
   "metadata": {},
   "outputs": [],
   "source": [
    "df1=pd.get_dummies(df[[\"Sex\",\"Housing\",\"Saving accounts\",\"Checking account\",\"Purpose\"]])"
   ]
  },
  {
   "cell_type": "code",
   "execution_count": 10,
   "metadata": {},
   "outputs": [],
   "source": [
    "frames=[df,df1]"
   ]
  },
  {
   "cell_type": "code",
   "execution_count": 11,
   "metadata": {},
   "outputs": [],
   "source": [
    "df_f=pd.concat(frames,axis=1)"
   ]
  },
  {
   "cell_type": "code",
   "execution_count": 12,
   "metadata": {},
   "outputs": [
    {
     "name": "stdout",
     "output_type": "stream",
     "text": [
      "<class 'pandas.core.frame.DataFrame'>\n",
      "RangeIndex: 1000 entries, 0 to 999\n",
      "Data columns (total 30 columns):\n",
      "default                        1000 non-null int64\n",
      "Age                            1000 non-null int64\n",
      "Sex                            1000 non-null object\n",
      "Job                            1000 non-null int64\n",
      "Housing                        1000 non-null object\n",
      "Saving accounts                817 non-null object\n",
      "Checking account               606 non-null object\n",
      "Credit amount                  1000 non-null int64\n",
      "Duration                       1000 non-null int64\n",
      "Purpose                        1000 non-null object\n",
      "Sex_female                     1000 non-null uint8\n",
      "Sex_male                       1000 non-null uint8\n",
      "Housing_free                   1000 non-null uint8\n",
      "Housing_own                    1000 non-null uint8\n",
      "Housing_rent                   1000 non-null uint8\n",
      "Saving accounts_little         1000 non-null uint8\n",
      "Saving accounts_moderate       1000 non-null uint8\n",
      "Saving accounts_quite rich     1000 non-null uint8\n",
      "Saving accounts_rich           1000 non-null uint8\n",
      "Checking account_little        1000 non-null uint8\n",
      "Checking account_moderate      1000 non-null uint8\n",
      "Checking account_rich          1000 non-null uint8\n",
      "Purpose_business               1000 non-null uint8\n",
      "Purpose_car                    1000 non-null uint8\n",
      "Purpose_domestic appliances    1000 non-null uint8\n",
      "Purpose_education              1000 non-null uint8\n",
      "Purpose_furniture/equipment    1000 non-null uint8\n",
      "Purpose_radio/TV               1000 non-null uint8\n",
      "Purpose_repairs                1000 non-null uint8\n",
      "Purpose_vacation/others        1000 non-null uint8\n",
      "dtypes: int64(5), object(5), uint8(20)\n",
      "memory usage: 97.7+ KB\n"
     ]
    }
   ],
   "source": [
    "df_f.info()\n"
   ]
  },
  {
   "cell_type": "markdown",
   "metadata": {
    "colab_type": "text",
    "id": "ytl4nlUW_0pA"
   },
   "source": [
    "### Check for highly correlated variables but don't required any treatment for this use case"
   ]
  },
  {
   "cell_type": "code",
   "execution_count": 13,
   "metadata": {
    "colab": {},
    "colab_type": "code",
    "id": "0W02DKRx_0pA"
   },
   "outputs": [
    {
     "data": {
      "text/html": [
       "<div>\n",
       "<style scoped>\n",
       "    .dataframe tbody tr th:only-of-type {\n",
       "        vertical-align: middle;\n",
       "    }\n",
       "\n",
       "    .dataframe tbody tr th {\n",
       "        vertical-align: top;\n",
       "    }\n",
       "\n",
       "    .dataframe thead th {\n",
       "        text-align: right;\n",
       "    }\n",
       "</style>\n",
       "<table border=\"1\" class=\"dataframe\">\n",
       "  <thead>\n",
       "    <tr style=\"text-align: right;\">\n",
       "      <th></th>\n",
       "      <th>default</th>\n",
       "      <th>Age</th>\n",
       "      <th>Job</th>\n",
       "      <th>Credit amount</th>\n",
       "      <th>Duration</th>\n",
       "    </tr>\n",
       "  </thead>\n",
       "  <tbody>\n",
       "    <tr>\n",
       "      <th>default</th>\n",
       "      <td>1.000000</td>\n",
       "      <td>-0.091127</td>\n",
       "      <td>0.032735</td>\n",
       "      <td>0.154739</td>\n",
       "      <td>0.214927</td>\n",
       "    </tr>\n",
       "    <tr>\n",
       "      <th>Age</th>\n",
       "      <td>-0.091127</td>\n",
       "      <td>1.000000</td>\n",
       "      <td>0.015673</td>\n",
       "      <td>0.032716</td>\n",
       "      <td>-0.036136</td>\n",
       "    </tr>\n",
       "    <tr>\n",
       "      <th>Job</th>\n",
       "      <td>0.032735</td>\n",
       "      <td>0.015673</td>\n",
       "      <td>1.000000</td>\n",
       "      <td>0.285385</td>\n",
       "      <td>0.210910</td>\n",
       "    </tr>\n",
       "    <tr>\n",
       "      <th>Credit amount</th>\n",
       "      <td>0.154739</td>\n",
       "      <td>0.032716</td>\n",
       "      <td>0.285385</td>\n",
       "      <td>1.000000</td>\n",
       "      <td>0.624984</td>\n",
       "    </tr>\n",
       "    <tr>\n",
       "      <th>Duration</th>\n",
       "      <td>0.214927</td>\n",
       "      <td>-0.036136</td>\n",
       "      <td>0.210910</td>\n",
       "      <td>0.624984</td>\n",
       "      <td>1.000000</td>\n",
       "    </tr>\n",
       "  </tbody>\n",
       "</table>\n",
       "</div>"
      ],
      "text/plain": [
       "                default       Age       Job  Credit amount  Duration\n",
       "default        1.000000 -0.091127  0.032735       0.154739  0.214927\n",
       "Age           -0.091127  1.000000  0.015673       0.032716 -0.036136\n",
       "Job            0.032735  0.015673  1.000000       0.285385  0.210910\n",
       "Credit amount  0.154739  0.032716  0.285385       1.000000  0.624984\n",
       "Duration       0.214927 -0.036136  0.210910       0.624984  1.000000"
      ]
     },
     "execution_count": 13,
     "metadata": {},
     "output_type": "execute_result"
    }
   ],
   "source": [
    "df.corr()"
   ]
  },
  {
   "cell_type": "code",
   "execution_count": 14,
   "metadata": {},
   "outputs": [
    {
     "data": {
      "text/plain": [
       "<seaborn.axisgrid.PairGrid at 0x1c55bf819b0>"
      ]
     },
     "execution_count": 14,
     "metadata": {},
     "output_type": "execute_result"
    },
    {
     "data": {
      "image/png": "[encoded data removed]",
      "text/plain": [
       "<Figure size 900x900 with 30 Axes>"
      ]
     },
     "metadata": {
      "needs_background": "light"
     },
     "output_type": "display_data"
    }
   ],
   "source": [
    "import seaborn as sns\n",
    "sns.pairplot(df,diag_kind='kde')"
   ]
  },
  {
   "cell_type": "markdown",
   "metadata": {
    "colab_type": "text",
    "id": "jeI1_7is_0pG"
   },
   "source": [
    "### Drop the original variables which are converted to dummy"
   ]
  },
  {
   "cell_type": "code",
   "execution_count": 15,
   "metadata": {
    "colab": {},
    "colab_type": "code",
    "id": "LYeShbCO_0pI"
   },
   "outputs": [],
   "source": [
    "df_f=df_f.drop(labels=[\"Sex\",\"Housing\",\"Saving accounts\",\"Checking account\",\"Purpose\"],axis=1)"
   ]
  },
  {
   "cell_type": "code",
   "execution_count": 16,
   "metadata": {},
   "outputs": [],
   "source": [
    "df_f.to_excel(\"check1.xlsx\")"
   ]
  },
  {
   "cell_type": "markdown",
   "metadata": {
    "colab_type": "text",
    "id": "XLtFcI1m_0pQ"
   },
   "source": [
    "### Q3 Split Train/Test data 70:30 ratio( 1 Marks)\n",
    "##### Hint:from sklearn.model_selection import train_test_split"
   ]
  },
  {
   "cell_type": "code",
   "execution_count": 17,
   "metadata": {
    "colab": {},
    "colab_type": "code",
    "id": "pHxXKL92_0pS"
   },
   "outputs": [],
   "source": [
    "x_ind=df_f.drop(labels=\"default\",axis=1)\n",
    "y_dep=df_f[[\"default\"]]"
   ]
  },
  {
   "cell_type": "code",
   "execution_count": 18,
   "metadata": {},
   "outputs": [],
   "source": [
    "x_train,x_test,y_train,y_test=train_test_split(x_ind,y_dep,test_size=0.30)"
   ]
  },
  {
   "cell_type": "markdown",
   "metadata": {
    "colab_type": "text",
    "id": "wWTpd4Ng_0pW"
   },
   "source": [
    "### Q4 Build Random Forest Model( 1 Marks)\n",
    "#### Hint:from sklearn.ensemble import RandomForestClassifier using n_jobs=2,n_estimators=500,criterion=\"entropy\",random_state=9999"
   ]
  },
  {
   "cell_type": "code",
   "execution_count": 19,
   "metadata": {
    "colab": {},
    "colab_type": "code",
    "id": "AHX5tgQm_0pY"
   },
   "outputs": [],
   "source": [
    "from sklearn.ensemble import RandomForestClassifier\n",
    "Rf_model=RandomForestClassifier(n_estimators=500,criterion=\"entropy\",max_depth=3,random_state=9999)"
   ]
  },
  {
   "cell_type": "code",
   "execution_count": 20,
   "metadata": {},
   "outputs": [
    {
     "data": {
      "text/plain": [
       "RandomForestClassifier(bootstrap=True, class_weight=None, criterion='entropy',\n",
       "            max_depth=3, max_features='auto', max_leaf_nodes=None,\n",
       "            min_impurity_decrease=0.0, min_impurity_split=None,\n",
       "            min_samples_leaf=1, min_samples_split=2,\n",
       "            min_weight_fraction_leaf=0.0, n_estimators=500, n_jobs=None,\n",
       "            oob_score=False, random_state=9999, verbose=0,\n",
       "            warm_start=False)"
      ]
     },
     "execution_count": 20,
     "metadata": {},
     "output_type": "execute_result"
    }
   ],
   "source": [
    "Rf_model.fit(x_train,y_train)"
   ]
  },
  {
   "cell_type": "markdown",
   "metadata": {
    "colab_type": "text",
    "id": "LuQwgG7T_0pa"
   },
   "source": [
    "### Q5 Calculate Confusion Matrix and Accuracy score (1 Marks)\n",
    "##### Hint: Use confusion_matrix and accuracy_score"
   ]
  },
  {
   "cell_type": "code",
   "execution_count": 21,
   "metadata": {
    "colab": {},
    "colab_type": "code",
    "id": "YgczdMEB_0pc"
   },
   "outputs": [],
   "source": [
    "y_pred=Rf_model.predict(x_test)"
   ]
  },
  {
   "cell_type": "code",
   "execution_count": 22,
   "metadata": {},
   "outputs": [
    {
     "name": "stdout",
     "output_type": "stream",
     "text": [
      "0.7433333333333333\n"
     ]
    }
   ],
   "source": [
    "from sklearn import metrics\n",
    "Rf_acc=metrics.accuracy_score(y_test,y_pred)\n",
    "print(Rf_acc)"
   ]
  },
  {
   "cell_type": "markdown",
   "metadata": {
    "colab_type": "text",
    "id": "x2wDGYcC_0pf"
   },
   "source": [
    "### Q6 Show the list of the features importance( 1 Marks)"
   ]
  },
  {
   "cell_type": "code",
   "execution_count": 23,
   "metadata": {
    "colab": {},
    "colab_type": "code",
    "id": "bEWKBXX8_0ph"
   },
   "outputs": [
    {
     "name": "stdout",
     "output_type": "stream",
     "text": [
      "              precision    recall  f1-score   support\n",
      "\n",
      "           0       0.74      0.99      0.85       219\n",
      "           1       0.75      0.07      0.13        81\n",
      "\n",
      "   micro avg       0.74      0.74      0.74       300\n",
      "   macro avg       0.75      0.53      0.49       300\n",
      "weighted avg       0.74      0.74      0.66       300\n",
      "\n"
     ]
    }
   ],
   "source": [
    "Rf_cr=metrics.classification_report(y_test , y_pred)\n",
    "print(Rf_cr)"
   ]
  },
  {
   "cell_type": "markdown",
   "metadata": {
    "colab_type": "text",
    "id": "U7VnUE71_0pk"
   },
   "source": [
    "### Q7 K-fold cross-validation( 2 Marks)\n",
    "##### k-fold cross validation( without stratification)\n",
    "##### Usually k is set as 10-20 in practical settings, depends on data set size"
   ]
  },
  {
   "cell_type": "code",
   "execution_count": 24,
   "metadata": {
    "colab": {},
    "colab_type": "code",
    "id": "Pf6rIo-c_0pm"
   },
   "outputs": [],
   "source": [
    "from sklearn.model_selection import KFold\n",
    "from sklearn.model_selection import cross_val_score"
   ]
  },
  {
   "cell_type": "code",
   "execution_count": 25,
   "metadata": {
    "colab": {},
    "colab_type": "code",
    "id": "SLIiX3BP_0pp"
   },
   "outputs": [],
   "source": [
    "# Use below values\n",
    "num_folds = 10\n",
    "seed = 77"
   ]
  },
  {
   "cell_type": "code",
   "execution_count": 26,
   "metadata": {
    "colab": {},
    "colab_type": "code",
    "id": "lDyCh_OG_0pt"
   },
   "outputs": [],
   "source": [
    "#Validate the Random Forest model build above using k fold"
   ]
  },
  {
   "cell_type": "code",
   "execution_count": 33,
   "metadata": {
    "colab": {},
    "colab_type": "code",
    "id": "fvxAgXik_0p0"
   },
   "outputs": [
    {
     "name": "stdout",
     "output_type": "stream",
     "text": [
      "RandomForest: 0.709000 (0.034554)\n"
     ]
    }
   ],
   "source": [
    "from sklearn import model_selection\n",
    "models = []\n",
    "models.append(('RandomForest', Rf_model))\n",
    "results = []\n",
    "names = []\n",
    "scoring = 'accuracy'\n",
    "for name, model in models:\n",
    "\tkfold = model_selection.KFold(n_splits=5,random_state=2)\n",
    "\tcv_results = model_selection.cross_val_score(model, x_ind, y_dep, cv=kfold, scoring=scoring)\n",
    "\tresults.append(cv_results)\n",
    "\tnames.append(name)\n",
    "\tmsg = \"%s: %f (%f)\" % (name, cv_results.mean(), cv_results.std())\n",
    "\tprint(msg)"
   ]
  },
  {
   "cell_type": "code",
   "execution_count": 27,
   "metadata": {
    "colab": {},
    "colab_type": "code",
    "id": "6r8p73dT_0p6"
   },
   "outputs": [],
   "source": [
    "#Calculate Mean score"
   ]
  },
  {
   "cell_type": "code",
   "execution_count": null,
   "metadata": {
    "colab": {},
    "colab_type": "code",
    "id": "qtGEiGuu_0qA"
   },
   "outputs": [],
   "source": [
    "#Calculate above=70%"
   ]
  },
  {
   "cell_type": "code",
   "execution_count": 28,
   "metadata": {
    "colab": {},
    "colab_type": "code",
    "id": "Rr132f7H_0qD"
   },
   "outputs": [],
   "source": [
    "# Calculate score standard deviation using std()"
   ]
  },
  {
   "cell_type": "code",
   "execution_count": null,
   "metadata": {
    "colab": {},
    "colab_type": "code",
    "id": "44JxPbHG_0qH"
   },
   "outputs": [],
   "source": [
    "#Done above(0.034554)"
   ]
  },
  {
   "cell_type": "markdown",
   "metadata": {
    "colab_type": "text",
    "id": "kB0x5yLs_0qM"
   },
   "source": [
    "# Q8 Print the confusion matrix( 1 Marks)"
   ]
  },
  {
   "cell_type": "code",
   "execution_count": 34,
   "metadata": {
    "colab": {},
    "colab_type": "code",
    "id": "WiS5l8Cn_0qO"
   },
   "outputs": [
    {
     "name": "stdout",
     "output_type": "stream",
     "text": [
      "[[217   2]\n",
      " [ 75   6]]\n"
     ]
    }
   ],
   "source": [
    "cm=metrics.confusion_matrix(y_test,y_pred)\n",
    "print(cm)"
   ]
  },
  {
   "cell_type": "markdown",
   "metadata": {
    "colab_type": "text",
    "id": "uMLxrkNg_0qR"
   },
   "source": [
    "# Q9.Classification accuracy: \n",
    "percentage of correct predictions and Calculate sensitivity (or True Positive Rate or Recall) and Precision.\n",
    "( 1 Marks)"
   ]
  },
  {
   "cell_type": "code",
   "execution_count": 35,
   "metadata": {
    "colab": {},
    "colab_type": "code",
    "id": "QUG5Y_li_0qT"
   },
   "outputs": [
    {
     "name": "stdout",
     "output_type": "stream",
     "text": [
      "              precision    recall  f1-score   support\n",
      "\n",
      "           0       0.74      0.99      0.85       219\n",
      "           1       0.75      0.07      0.13        81\n",
      "\n",
      "   micro avg       0.74      0.74      0.74       300\n",
      "   macro avg       0.75      0.53      0.49       300\n",
      "weighted avg       0.74      0.74      0.66       300\n",
      "\n"
     ]
    }
   ],
   "source": [
    "Rf_cr=metrics.classification_report(y_test , y_pred)\n",
    "print(Rf_cr)"
   ]
  },
  {
   "cell_type": "markdown",
   "metadata": {
    "colab_type": "text",
    "id": "IlPEO3pO_0qa"
   },
   "source": [
    "# Q10.Plot Receiver Operating Characteristic (ROC) Curves( 1 Marks)"
   ]
  },
  {
   "cell_type": "code",
   "execution_count": 29,
   "metadata": {
    "colab": {},
    "colab_type": "code",
    "id": "YGyM8Uh4_0qb"
   },
   "outputs": [],
   "source": [
    "#Hint: Use roc_curve"
   ]
  },
  {
   "cell_type": "code",
   "execution_count": 36,
   "metadata": {
    "colab": {},
    "colab_type": "code",
    "id": "ZCJ-wYLX_0qo"
   },
   "outputs": [],
   "source": [
    "from sklearn.metrics import roc_curve, auc"
   ]
  },
  {
   "cell_type": "code",
   "execution_count": 37,
   "metadata": {},
   "outputs": [
    {
     "name": "stdout",
     "output_type": "stream",
     "text": [
      "Area Under the curve 0.5324708269913749\n"
     ]
    },
    {
     "data": {
      "image/png": "[encoded data removed]",
      "text/plain": [
       "<Figure size 432x288 with 1 Axes>"
      ]
     },
     "metadata": {
      "needs_background": "light"
     },
     "output_type": "display_data"
    }
   ],
   "source": [
    "fpr,tpr, _ = roc_curve(y_test,y_pred)\n",
    "roc_auc = auc(fpr, tpr)\n",
    "\n",
    "print('Area Under the curve',roc_auc)\n",
    "plt.figure()\n",
    "plt.plot(fpr, tpr)\n",
    "plt.xlim([0.0, 1.0])\n",
    "plt.ylim([0.0, 1.0])\n",
    "plt.xlabel('False Positive Rate')\n",
    "plt.ylabel('True Positive Rate')\n",
    "plt.title('Receiver operating characteristic')\n",
    "plt.show()"
   ]
  },
  {
   "cell_type": "markdown",
   "metadata": {
    "colab_type": "text",
    "id": "annGF0Bh_0qr"
   },
   "source": [
    "ROC curve can help you to choose a threshold that balances sensitivity and specificity in a way that makes sense for your particular context"
   ]
  },
  {
   "cell_type": "markdown",
   "metadata": {
    "colab_type": "text",
    "id": "rE4Qbbh5_0qt"
   },
   "source": [
    "# Q11. Calculate AUC(the percentage of the ROC plot that is underneath the curve) - optional"
   ]
  },
  {
   "cell_type": "code",
   "execution_count": null,
   "metadata": {
    "colab": {},
    "colab_type": "code",
    "id": "8nwRSPz4_0qu"
   },
   "outputs": [],
   "source": [
    "#Done"
   ]
  },
  {
   "cell_type": "markdown",
   "metadata": {
    "colab_type": "text",
    "id": "BZ43LYtQ_0q9"
   },
   "source": [
    "### Bootstrapping ( Bonus)\n",
    "##### Given a dataset of size n, a bootstrap sample is created by sampling n instances uniformly from the data (with/without replacement)\n",
    "##### Create a model with each bootstrap sample and validate it with the test set\n",
    "##### Final result is calculated by averaging the accuracy of models"
   ]
  },
  {
   "cell_type": "code",
   "execution_count": 30,
   "metadata": {
    "colab": {},
    "colab_type": "code",
    "id": "8KwXPTNE_0q9"
   },
   "outputs": [],
   "source": [
    "# Number of iterations for bootstrapping\n",
    "bootstrap_iteration = 10\n",
    "accuracy = []"
   ]
  },
  {
   "cell_type": "code",
   "execution_count": 39,
   "metadata": {
    "colab": {},
    "colab_type": "code",
    "id": "rVQTCij9_0rA"
   },
   "outputs": [
    {
     "data": {
      "text/plain": [
       "BaggingClassifier(base_estimator=RandomForestClassifier(bootstrap=True, class_weight=None, criterion='entropy',\n",
       "            max_depth=3, max_features='auto', max_leaf_nodes=None,\n",
       "            min_impurity_decrease=0.0, min_impurity_split=None,\n",
       "            min_samples_leaf=1, min_samples_split=2,\n",
       "            min_weight_fraction_leaf=0.0, n_estimators=500, n_jobs=None,\n",
       "            oob_score=False, random_state=9999, verbose=0,\n",
       "            warm_start=False),\n",
       "         bootstrap=True, bootstrap_features=False, max_features=1.0,\n",
       "         max_samples=1.0, n_estimators=51, n_jobs=None, oob_score=False,\n",
       "         random_state=None, verbose=0, warm_start=False)"
      ]
     },
     "execution_count": 39,
     "metadata": {},
     "output_type": "execute_result"
    }
   ],
   "source": [
    "from sklearn.ensemble import BaggingClassifier\n",
    "\n",
    "bgcl = BaggingClassifier(base_estimator=Rf_model,n_estimators=51)\n",
    "bgcl.fit(x_train,y_train)"
   ]
  },
  {
   "cell_type": "code",
   "execution_count": 40,
   "metadata": {
    "colab": {},
    "colab_type": "code",
    "id": "lRtfc6p7_0rD",
    "outputId": "6b6e9b14-0652-4550-83e0-7bb2ca3f0481"
   },
   "outputs": [
    {
     "data": {
      "text/plain": [
       "array([0, 0, 0, 0, 0, 0, 0, 0, 0, 0, 0, 0, 0, 0, 0, 0, 0, 0, 0, 0, 0, 0,\n",
       "       0, 0, 0, 0, 0, 0, 1, 0, 0, 0, 0, 0, 0, 0, 1, 0, 0, 0, 0, 0, 0, 0,\n",
       "       0, 0, 0, 0, 0, 0, 0, 0, 1, 0, 0, 0, 0, 0, 0, 0, 0, 0, 0, 0, 0, 0,\n",
       "       0, 0, 0, 0, 0, 0, 0, 0, 0, 0, 0, 0, 0, 0, 0, 0, 0, 0, 0, 0, 0, 0,\n",
       "       0, 0, 0, 0, 0, 0, 0, 0, 0, 0, 0, 0, 0, 0, 0, 0, 0, 0, 0, 0, 0, 0,\n",
       "       0, 0, 0, 0, 0, 0, 0, 0, 0, 0, 0, 0, 0, 0, 0, 0, 0, 0, 0, 0, 0, 0,\n",
       "       0, 0, 0, 0, 0, 0, 0, 0, 0, 0, 0, 0, 0, 0, 0, 0, 0, 0, 0, 0, 0, 0,\n",
       "       0, 0, 0, 0, 0, 0, 0, 0, 0, 0, 0, 0, 0, 0, 0, 0, 0, 0, 0, 0, 0, 0,\n",
       "       0, 0, 0, 0, 0, 0, 0, 0, 0, 0, 0, 1, 1, 0, 0, 0, 0, 0, 0, 0, 0, 0,\n",
       "       0, 0, 0, 0, 0, 0, 0, 0, 0, 0, 0, 0, 0, 0, 0, 0, 0, 0, 0, 0, 1, 0,\n",
       "       0, 0, 0, 0, 0, 0, 0, 0, 0, 0, 0, 0, 0, 0, 0, 0, 0, 0, 0, 0, 0, 0,\n",
       "       0, 0, 0, 0, 0, 0, 0, 0, 0, 0, 0, 0, 0, 0, 0, 0, 0, 0, 0, 0, 0, 0,\n",
       "       0, 0, 0, 0, 0, 0, 0, 0, 0, 0, 0, 0, 0, 0, 0, 0, 0, 0, 0, 0, 0, 0,\n",
       "       0, 0, 0, 0, 0, 0, 0, 0, 0, 0, 0, 0, 0, 0], dtype=int64)"
      ]
     },
     "execution_count": 40,
     "metadata": {},
     "output_type": "execute_result"
    }
   ],
   "source": [
    "y_pred2 = bgcl.predict(x_test)\n",
    "y_pred2"
   ]
  },
  {
   "cell_type": "code",
   "execution_count": 41,
   "metadata": {
    "colab": {},
    "colab_type": "code",
    "id": "7ItbXIpd_0rH"
   },
   "outputs": [
    {
     "data": {
      "text/plain": [
       "74.33333333333333"
      ]
     },
     "execution_count": 41,
     "metadata": {},
     "output_type": "execute_result"
    }
   ],
   "source": [
    "acc=metrics.accuracy_score(y_test,y_pred)\n",
    "acc*100"
   ]
  }
 ],
 "metadata": {
  "colab": {
   "name": "R4_External_Lab_Validation_Accuracy.ipynb",
   "provenance": [],
   "version": "0.3.2"
  },
  "kernelspec": {
   "display_name": "Python 3",
   "language": "python",
   "name": "python3"
  },
  "language_info": {
   "codemirror_mode": {
    "name": "ipython",
    "version": 3
   },
   "file_extension": ".py",
   "mimetype": "text/x-python",
   "name": "python",
   "nbconvert_exporter": "python",
   "pygments_lexer": "ipython3",
   "version": "3.7.0"
  }
 },
 "nbformat": 4,
 "nbformat_minor": 1
}
