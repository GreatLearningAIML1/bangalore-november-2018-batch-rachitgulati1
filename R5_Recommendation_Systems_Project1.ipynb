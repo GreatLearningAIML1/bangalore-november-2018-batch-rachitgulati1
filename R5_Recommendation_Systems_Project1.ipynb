{
 "cells": [
  {
   "cell_type": "code",
   "execution_count": 2,
   "metadata": {},
   "outputs": [],
   "source": [
    "import pandas as pd\n",
    "import numpy as np"
   ]
  },
  {
   "cell_type": "code",
   "execution_count": 152,
   "metadata": {},
   "outputs": [],
   "source": [
    "df=pd.read_csv(\"Data_r.csv\")"
   ]
  },
  {
   "cell_type": "code",
   "execution_count": 153,
   "metadata": {},
   "outputs": [
    {
     "data": {
      "text/html": [
       "<div>\n",
       "<style scoped>\n",
       "    .dataframe tbody tr th:only-of-type {\n",
       "        vertical-align: middle;\n",
       "    }\n",
       "\n",
       "    .dataframe tbody tr th {\n",
       "        vertical-align: top;\n",
       "    }\n",
       "\n",
       "    .dataframe thead th {\n",
       "        text-align: right;\n",
       "    }\n",
       "</style>\n",
       "<table border=\"1\" class=\"dataframe\">\n",
       "  <thead>\n",
       "    <tr style=\"text-align: right;\">\n",
       "      <th></th>\n",
       "      <th>AKM1MP6P0OYPR</th>\n",
       "      <th>0132793040</th>\n",
       "      <th>5.0</th>\n",
       "      <th>1365811200</th>\n",
       "    </tr>\n",
       "  </thead>\n",
       "  <tbody>\n",
       "    <tr>\n",
       "      <th>0</th>\n",
       "      <td>A2CX7LUOHB2NDG</td>\n",
       "      <td>0321732944</td>\n",
       "      <td>5.0</td>\n",
       "      <td>1341100800</td>\n",
       "    </tr>\n",
       "    <tr>\n",
       "      <th>1</th>\n",
       "      <td>A2NWSAGRHCP8N5</td>\n",
       "      <td>0439886341</td>\n",
       "      <td>1.0</td>\n",
       "      <td>1367193600</td>\n",
       "    </tr>\n",
       "  </tbody>\n",
       "</table>\n",
       "</div>"
      ],
      "text/plain": [
       "    AKM1MP6P0OYPR  0132793040  5.0  1365811200\n",
       "0  A2CX7LUOHB2NDG  0321732944  5.0  1341100800\n",
       "1  A2NWSAGRHCP8N5  0439886341  1.0  1367193600"
      ]
     },
     "execution_count": 153,
     "metadata": {},
     "output_type": "execute_result"
    }
   ],
   "source": [
    "df.head(n=2)"
   ]
  },
  {
   "cell_type": "code",
   "execution_count": 154,
   "metadata": {},
   "outputs": [
    {
     "data": {
      "text/plain": [
       "(7824481, 4)"
      ]
     },
     "execution_count": 154,
     "metadata": {},
     "output_type": "execute_result"
    }
   ],
   "source": [
    "df.shape"
   ]
  },
  {
   "cell_type": "code",
   "execution_count": 155,
   "metadata": {},
   "outputs": [
    {
     "data": {
      "text/plain": [
       "AKM1MP6P0OYPR     object\n",
       "0132793040        object\n",
       "5.0              float64\n",
       "1365811200         int64\n",
       "dtype: object"
      ]
     },
     "execution_count": 155,
     "metadata": {},
     "output_type": "execute_result"
    }
   ],
   "source": [
    "df.dtypes"
   ]
  },
  {
   "cell_type": "code",
   "execution_count": 156,
   "metadata": {},
   "outputs": [],
   "source": [
    "df.columns=[\"User_ID\",\"Product_ID\",\"ratings\",\"Timestamp\"]"
   ]
  },
  {
   "cell_type": "code",
   "execution_count": 157,
   "metadata": {},
   "outputs": [
    {
     "data": {
      "text/html": [
       "<div>\n",
       "<style scoped>\n",
       "    .dataframe tbody tr th:only-of-type {\n",
       "        vertical-align: middle;\n",
       "    }\n",
       "\n",
       "    .dataframe tbody tr th {\n",
       "        vertical-align: top;\n",
       "    }\n",
       "\n",
       "    .dataframe thead th {\n",
       "        text-align: right;\n",
       "    }\n",
       "</style>\n",
       "<table border=\"1\" class=\"dataframe\">\n",
       "  <thead>\n",
       "    <tr style=\"text-align: right;\">\n",
       "      <th></th>\n",
       "      <th>User_ID</th>\n",
       "      <th>Product_ID</th>\n",
       "      <th>ratings</th>\n",
       "      <th>Timestamp</th>\n",
       "    </tr>\n",
       "  </thead>\n",
       "  <tbody>\n",
       "    <tr>\n",
       "      <th>0</th>\n",
       "      <td>A2CX7LUOHB2NDG</td>\n",
       "      <td>0321732944</td>\n",
       "      <td>5.0</td>\n",
       "      <td>1341100800</td>\n",
       "    </tr>\n",
       "  </tbody>\n",
       "</table>\n",
       "</div>"
      ],
      "text/plain": [
       "          User_ID  Product_ID  ratings   Timestamp\n",
       "0  A2CX7LUOHB2NDG  0321732944      5.0  1341100800"
      ]
     },
     "execution_count": 157,
     "metadata": {},
     "output_type": "execute_result"
    }
   ],
   "source": [
    "df.head(n=1)"
   ]
  },
  {
   "cell_type": "code",
   "execution_count": 158,
   "metadata": {},
   "outputs": [],
   "source": [
    "df.drop(columns=\"Timestamp\",inplace=True)"
   ]
  },
  {
   "cell_type": "code",
   "execution_count": 159,
   "metadata": {},
   "outputs": [
    {
     "data": {
      "text/html": [
       "<div>\n",
       "<style scoped>\n",
       "    .dataframe tbody tr th:only-of-type {\n",
       "        vertical-align: middle;\n",
       "    }\n",
       "\n",
       "    .dataframe tbody tr th {\n",
       "        vertical-align: top;\n",
       "    }\n",
       "\n",
       "    .dataframe thead th {\n",
       "        text-align: right;\n",
       "    }\n",
       "</style>\n",
       "<table border=\"1\" class=\"dataframe\">\n",
       "  <thead>\n",
       "    <tr style=\"text-align: right;\">\n",
       "      <th></th>\n",
       "      <th>User_ID</th>\n",
       "      <th>Product_ID</th>\n",
       "      <th>ratings</th>\n",
       "    </tr>\n",
       "  </thead>\n",
       "  <tbody>\n",
       "    <tr>\n",
       "      <th>0</th>\n",
       "      <td>A2CX7LUOHB2NDG</td>\n",
       "      <td>0321732944</td>\n",
       "      <td>5.0</td>\n",
       "    </tr>\n",
       "  </tbody>\n",
       "</table>\n",
       "</div>"
      ],
      "text/plain": [
       "          User_ID  Product_ID  ratings\n",
       "0  A2CX7LUOHB2NDG  0321732944      5.0"
      ]
     },
     "execution_count": 159,
     "metadata": {},
     "output_type": "execute_result"
    }
   ],
   "source": [
    "df.head(n=1)"
   ]
  },
  {
   "cell_type": "code",
   "execution_count": 160,
   "metadata": {},
   "outputs": [
    {
     "name": "stdout",
     "output_type": "stream",
     "text": [
      "<class 'pandas.core.frame.DataFrame'>\n",
      "RangeIndex: 7824481 entries, 0 to 7824480\n",
      "Data columns (total 3 columns):\n",
      "User_ID       object\n",
      "Product_ID    object\n",
      "ratings       float64\n",
      "dtypes: float64(1), object(2)\n",
      "memory usage: 179.1+ MB\n"
     ]
    }
   ],
   "source": [
    "df.info()"
   ]
  },
  {
   "cell_type": "code",
   "execution_count": 161,
   "metadata": {},
   "outputs": [
    {
     "data": {
      "text/plain": [
       "array([[<matplotlib.axes._subplots.AxesSubplot object at 0x00000115080A5390>]],\n",
       "      dtype=object)"
      ]
     },
     "execution_count": 161,
     "metadata": {},
     "output_type": "execute_result"
    },
    {
     "data": {
      "image/png": "[encoded data removed]",
      "text/plain": [
       "<Figure size 432x288 with 1 Axes>"
      ]
     },
     "metadata": {
      "needs_background": "light"
     },
     "output_type": "display_data"
    }
   ],
   "source": [
    "df.hist()"
   ]
  },
  {
   "cell_type": "code",
   "execution_count": 162,
   "metadata": {},
   "outputs": [],
   "source": [
    "#Seeing the above histogram, we can see that the max people have the ratings in the range of\n",
    "#4.5 to 5"
   ]
  },
  {
   "cell_type": "code",
   "execution_count": null,
   "metadata": {},
   "outputs": [],
   "source": []
  },
  {
   "cell_type": "code",
   "execution_count": 163,
   "metadata": {},
   "outputs": [
    {
     "data": {
      "text/html": [
       "<div>\n",
       "<style scoped>\n",
       "    .dataframe tbody tr th:only-of-type {\n",
       "        vertical-align: middle;\n",
       "    }\n",
       "\n",
       "    .dataframe tbody tr th {\n",
       "        vertical-align: top;\n",
       "    }\n",
       "\n",
       "    .dataframe thead th {\n",
       "        text-align: right;\n",
       "    }\n",
       "</style>\n",
       "<table border=\"1\" class=\"dataframe\">\n",
       "  <thead>\n",
       "    <tr style=\"text-align: right;\">\n",
       "      <th></th>\n",
       "      <th>User_ID</th>\n",
       "      <th>Product_ID</th>\n",
       "      <th>ratings</th>\n",
       "    </tr>\n",
       "  </thead>\n",
       "  <tbody>\n",
       "    <tr>\n",
       "      <th>0</th>\n",
       "      <td>A2CX7LUOHB2NDG</td>\n",
       "      <td>0321732944</td>\n",
       "      <td>5.0</td>\n",
       "    </tr>\n",
       "    <tr>\n",
       "      <th>1</th>\n",
       "      <td>A2NWSAGRHCP8N5</td>\n",
       "      <td>0439886341</td>\n",
       "      <td>1.0</td>\n",
       "    </tr>\n",
       "    <tr>\n",
       "      <th>2</th>\n",
       "      <td>A2WNBOD3WNDNKT</td>\n",
       "      <td>0439886341</td>\n",
       "      <td>3.0</td>\n",
       "    </tr>\n",
       "    <tr>\n",
       "      <th>3</th>\n",
       "      <td>A1GI0U4ZRJA8WN</td>\n",
       "      <td>0439886341</td>\n",
       "      <td>1.0</td>\n",
       "    </tr>\n",
       "    <tr>\n",
       "      <th>4</th>\n",
       "      <td>A1QGNMC6O1VW39</td>\n",
       "      <td>0511189877</td>\n",
       "      <td>5.0</td>\n",
       "    </tr>\n",
       "  </tbody>\n",
       "</table>\n",
       "</div>"
      ],
      "text/plain": [
       "          User_ID  Product_ID  ratings\n",
       "0  A2CX7LUOHB2NDG  0321732944      5.0\n",
       "1  A2NWSAGRHCP8N5  0439886341      1.0\n",
       "2  A2WNBOD3WNDNKT  0439886341      3.0\n",
       "3  A1GI0U4ZRJA8WN  0439886341      1.0\n",
       "4  A1QGNMC6O1VW39  0511189877      5.0"
      ]
     },
     "execution_count": 163,
     "metadata": {},
     "output_type": "execute_result"
    }
   ],
   "source": [
    "df.head()"
   ]
  },
  {
   "cell_type": "code",
   "execution_count": 164,
   "metadata": {},
   "outputs": [
    {
     "data": {
      "text/html": [
       "<div>\n",
       "<style scoped>\n",
       "    .dataframe tbody tr th:only-of-type {\n",
       "        vertical-align: middle;\n",
       "    }\n",
       "\n",
       "    .dataframe tbody tr th {\n",
       "        vertical-align: top;\n",
       "    }\n",
       "\n",
       "    .dataframe thead th {\n",
       "        text-align: right;\n",
       "    }\n",
       "</style>\n",
       "<table border=\"1\" class=\"dataframe\">\n",
       "  <thead>\n",
       "    <tr style=\"text-align: right;\">\n",
       "      <th></th>\n",
       "      <th></th>\n",
       "      <th>ratings</th>\n",
       "    </tr>\n",
       "    <tr>\n",
       "      <th>User_ID</th>\n",
       "      <th>Product_ID</th>\n",
       "      <th></th>\n",
       "    </tr>\n",
       "  </thead>\n",
       "  <tbody>\n",
       "    <tr>\n",
       "      <th>AZZZY1W55XHZR</th>\n",
       "      <th>B001GS8G1U</th>\n",
       "      <td>4.0</td>\n",
       "    </tr>\n",
       "    <tr>\n",
       "      <th>AZZZWXXUPZ1F3</th>\n",
       "      <th>B0016CFZQ0</th>\n",
       "      <td>5.0</td>\n",
       "    </tr>\n",
       "    <tr>\n",
       "      <th>AZZZSIK7NFFVP</th>\n",
       "      <th>B009FU8BR0</th>\n",
       "      <td>5.0</td>\n",
       "    </tr>\n",
       "    <tr>\n",
       "      <th rowspan=\"2\" valign=\"top\">AZZZRS1YZ8HVP</th>\n",
       "      <th>B00DR0PDNE</th>\n",
       "      <td>4.0</td>\n",
       "    </tr>\n",
       "    <tr>\n",
       "      <th>B001CJOLBW</th>\n",
       "      <td>4.0</td>\n",
       "    </tr>\n",
       "    <tr>\n",
       "      <th rowspan=\"3\" valign=\"top\">AZZZOVIBXHGDR</th>\n",
       "      <th>B002RS4HVQ</th>\n",
       "      <td>4.0</td>\n",
       "    </tr>\n",
       "    <tr>\n",
       "      <th>B000JK7FMW</th>\n",
       "      <td>5.0</td>\n",
       "    </tr>\n",
       "    <tr>\n",
       "      <th>B0002BEXNM</th>\n",
       "      <td>1.0</td>\n",
       "    </tr>\n",
       "    <tr>\n",
       "      <th>AZZZMSZI9LKE6</th>\n",
       "      <th>B004D61ACE</th>\n",
       "      <td>4.0</td>\n",
       "    </tr>\n",
       "    <tr>\n",
       "      <th>AZZZM2FO19RUO</th>\n",
       "      <th>B005CG01BA</th>\n",
       "      <td>4.0</td>\n",
       "    </tr>\n",
       "    <tr>\n",
       "      <th>AZZZJXM9GW3C5</th>\n",
       "      <th>B000FGEC94</th>\n",
       "      <td>5.0</td>\n",
       "    </tr>\n",
       "    <tr>\n",
       "      <th rowspan=\"2\" valign=\"top\">AZZZEWADNFNUM</th>\n",
       "      <th>B00004Y7ZP</th>\n",
       "      <td>5.0</td>\n",
       "    </tr>\n",
       "    <tr>\n",
       "      <th>B00004RG6K</th>\n",
       "      <td>2.0</td>\n",
       "    </tr>\n",
       "    <tr>\n",
       "      <th>AZZZDSAJ757Z4</th>\n",
       "      <th>B007KXI2R8</th>\n",
       "      <td>4.0</td>\n",
       "    </tr>\n",
       "    <tr>\n",
       "      <th>AZZZBMD2MDOQR</th>\n",
       "      <th>B00009R6VD</th>\n",
       "      <td>4.0</td>\n",
       "    </tr>\n",
       "    <tr>\n",
       "      <th>AZZZBHHLU1CMM</th>\n",
       "      <th>B0015ASM2W</th>\n",
       "      <td>4.0</td>\n",
       "    </tr>\n",
       "    <tr>\n",
       "      <th>AZZZBEVIZYROM</th>\n",
       "      <th>B007IL4ROE</th>\n",
       "      <td>5.0</td>\n",
       "    </tr>\n",
       "    <tr>\n",
       "      <th>AZZZ9NB3TEH8F</th>\n",
       "      <th>B0058W2EKE</th>\n",
       "      <td>2.0</td>\n",
       "    </tr>\n",
       "    <tr>\n",
       "      <th>AZZZ3LGTCGUZF</th>\n",
       "      <th>B004M8SBCK</th>\n",
       "      <td>5.0</td>\n",
       "    </tr>\n",
       "    <tr>\n",
       "      <th>AZZYYPNQ2ZYH6</th>\n",
       "      <th>B00GHGMCN4</th>\n",
       "      <td>5.0</td>\n",
       "    </tr>\n",
       "    <tr>\n",
       "      <th rowspan=\"2\" valign=\"top\">AZZYYC8OX8ELM</th>\n",
       "      <th>B002B4P788</th>\n",
       "      <td>5.0</td>\n",
       "    </tr>\n",
       "    <tr>\n",
       "      <th>B001O9EUSO</th>\n",
       "      <td>5.0</td>\n",
       "    </tr>\n",
       "    <tr>\n",
       "      <th>AZZYXVW7BAJVD</th>\n",
       "      <th>B000F763NG</th>\n",
       "      <td>5.0</td>\n",
       "    </tr>\n",
       "    <tr>\n",
       "      <th>AZZYWDOD33FFE</th>\n",
       "      <th>B000067RC4</th>\n",
       "      <td>1.0</td>\n",
       "    </tr>\n",
       "    <tr>\n",
       "      <th>AZZYW8JCAHAQY</th>\n",
       "      <th>B004HD5EXO</th>\n",
       "      <td>1.0</td>\n",
       "    </tr>\n",
       "    <tr>\n",
       "      <th rowspan=\"5\" valign=\"top\">AZZYW4YOE1B6E</th>\n",
       "      <th>B00IP1MQNK</th>\n",
       "      <td>4.0</td>\n",
       "    </tr>\n",
       "    <tr>\n",
       "      <th>B00FZHCR04</th>\n",
       "      <td>5.0</td>\n",
       "    </tr>\n",
       "    <tr>\n",
       "      <th>B00E952W3A</th>\n",
       "      <td>4.0</td>\n",
       "    </tr>\n",
       "    <tr>\n",
       "      <th>B00E8HIN78</th>\n",
       "      <td>5.0</td>\n",
       "    </tr>\n",
       "    <tr>\n",
       "      <th>B00BP5MB56</th>\n",
       "      <td>3.0</td>\n",
       "    </tr>\n",
       "    <tr>\n",
       "      <th>...</th>\n",
       "      <th>...</th>\n",
       "      <td>...</td>\n",
       "    </tr>\n",
       "    <tr>\n",
       "      <th>A00033481VZEEGYXEN32T</th>\n",
       "      <th>B00B14E4V0</th>\n",
       "      <td>1.0</td>\n",
       "    </tr>\n",
       "    <tr>\n",
       "      <th>A00029825UMZ6N0ETLHY</th>\n",
       "      <th>B00GU0VN4G</th>\n",
       "      <td>5.0</td>\n",
       "    </tr>\n",
       "    <tr>\n",
       "      <th>A000294826HEMAY5L3K1H</th>\n",
       "      <th>B005SNXIHG</th>\n",
       "      <td>5.0</td>\n",
       "    </tr>\n",
       "    <tr>\n",
       "      <th>A00029263J863WSR0TDRS</th>\n",
       "      <th>B00BZZJ7Q2</th>\n",
       "      <td>4.0</td>\n",
       "    </tr>\n",
       "    <tr>\n",
       "      <th>A00028781NF0U7YEN9U19</th>\n",
       "      <th>B00F5NB7JK</th>\n",
       "      <td>5.0</td>\n",
       "    </tr>\n",
       "    <tr>\n",
       "      <th>A00027561NC7JTXEP3EOD</th>\n",
       "      <th>B004QHI3ZW</th>\n",
       "      <td>1.0</td>\n",
       "    </tr>\n",
       "    <tr>\n",
       "      <th>A00027081JC8NE8X6TD5</th>\n",
       "      <th>B003U8ENTI</th>\n",
       "      <td>5.0</td>\n",
       "    </tr>\n",
       "    <tr>\n",
       "      <th>A0002550196XWX0PEOZND</th>\n",
       "      <th>B00IDYBJBE</th>\n",
       "      <td>3.0</td>\n",
       "    </tr>\n",
       "    <tr>\n",
       "      <th>A0002032ZFQKDVHYKGWR</th>\n",
       "      <th>B003ISY34U</th>\n",
       "      <td>5.0</td>\n",
       "    </tr>\n",
       "    <tr>\n",
       "      <th>A0002012T7HVDB2EF4RH</th>\n",
       "      <th>B005MM4HDC</th>\n",
       "      <td>4.0</td>\n",
       "    </tr>\n",
       "    <tr>\n",
       "      <th>A00019466UY2KR1IPXQN</th>\n",
       "      <th>B003QAHKCW</th>\n",
       "      <td>4.0</td>\n",
       "    </tr>\n",
       "    <tr>\n",
       "      <th rowspan=\"2\" valign=\"top\">A000187635I595IAVSQLH</th>\n",
       "      <th>B006LEYQK4</th>\n",
       "      <td>5.0</td>\n",
       "    </tr>\n",
       "    <tr>\n",
       "      <th>B003EO1H7E</th>\n",
       "      <td>5.0</td>\n",
       "    </tr>\n",
       "    <tr>\n",
       "      <th>A000186437REL8X2RW8UW</th>\n",
       "      <th>B007X26T3A</th>\n",
       "      <td>4.0</td>\n",
       "    </tr>\n",
       "    <tr>\n",
       "      <th rowspan=\"2\" valign=\"top\">A00018041RRVMCICCAP79</th>\n",
       "      <th>B005ERKYI2</th>\n",
       "      <td>5.0</td>\n",
       "    </tr>\n",
       "    <tr>\n",
       "      <th>B004EIJXES</th>\n",
       "      <td>5.0</td>\n",
       "    </tr>\n",
       "    <tr>\n",
       "      <th rowspan=\"4\" valign=\"top\">A0001528BGUBOEVR6T5U</th>\n",
       "      <th>B008O5BIWW</th>\n",
       "      <td>5.0</td>\n",
       "    </tr>\n",
       "    <tr>\n",
       "      <th>B007DJTBVK</th>\n",
       "      <td>3.0</td>\n",
       "    </tr>\n",
       "    <tr>\n",
       "      <th>B005XU7OL0</th>\n",
       "      <td>5.0</td>\n",
       "    </tr>\n",
       "    <tr>\n",
       "      <th>B0055Q2VNI</th>\n",
       "      <td>5.0</td>\n",
       "    </tr>\n",
       "    <tr>\n",
       "      <th>A00015228CUPGPF957DS</th>\n",
       "      <th>B00474ORI6</th>\n",
       "      <td>1.0</td>\n",
       "    </tr>\n",
       "    <tr>\n",
       "      <th>A00015222LZ55IJSVL5IX</th>\n",
       "      <th>B001MSVPM6</th>\n",
       "      <td>1.0</td>\n",
       "    </tr>\n",
       "    <tr>\n",
       "      <th>A000145014WOTZJ5NSKOR</th>\n",
       "      <th>B00F3L19KQ</th>\n",
       "      <td>5.0</td>\n",
       "    </tr>\n",
       "    <tr>\n",
       "      <th>A00014061C2IZNE0YEILY</th>\n",
       "      <th>B00EKSG8JU</th>\n",
       "      <td>4.0</td>\n",
       "    </tr>\n",
       "    <tr>\n",
       "      <th>A00010809P09NUU6ZP6H</th>\n",
       "      <th>B002SSM5AU</th>\n",
       "      <td>5.0</td>\n",
       "    </tr>\n",
       "    <tr>\n",
       "      <th>A00009661LC9LQPGKJ24G</th>\n",
       "      <th>B004GWQBWY</th>\n",
       "      <td>5.0</td>\n",
       "    </tr>\n",
       "    <tr>\n",
       "      <th>A00009182QVLSWIGHLS1B</th>\n",
       "      <th>B009SXR7WE</th>\n",
       "      <td>5.0</td>\n",
       "    </tr>\n",
       "    <tr>\n",
       "      <th rowspan=\"2\" valign=\"top\">A000063614T1OE0BUSKUT</th>\n",
       "      <th>B00432ZSHG</th>\n",
       "      <td>5.0</td>\n",
       "    </tr>\n",
       "    <tr>\n",
       "      <th>B00419ZT3E</th>\n",
       "      <td>5.0</td>\n",
       "    </tr>\n",
       "    <tr>\n",
       "      <th>A00000262KYZUE4J55XGL</th>\n",
       "      <th>B003UYU16G</th>\n",
       "      <td>5.0</td>\n",
       "    </tr>\n",
       "  </tbody>\n",
       "</table>\n",
       "<p>7824481 rows × 1 columns</p>\n",
       "</div>"
      ],
      "text/plain": [
       "                                  ratings\n",
       "User_ID               Product_ID         \n",
       "AZZZY1W55XHZR         B001GS8G1U      4.0\n",
       "AZZZWXXUPZ1F3         B0016CFZQ0      5.0\n",
       "AZZZSIK7NFFVP         B009FU8BR0      5.0\n",
       "AZZZRS1YZ8HVP         B00DR0PDNE      4.0\n",
       "                      B001CJOLBW      4.0\n",
       "AZZZOVIBXHGDR         B002RS4HVQ      4.0\n",
       "                      B000JK7FMW      5.0\n",
       "                      B0002BEXNM      1.0\n",
       "AZZZMSZI9LKE6         B004D61ACE      4.0\n",
       "AZZZM2FO19RUO         B005CG01BA      4.0\n",
       "AZZZJXM9GW3C5         B000FGEC94      5.0\n",
       "AZZZEWADNFNUM         B00004Y7ZP      5.0\n",
       "                      B00004RG6K      2.0\n",
       "AZZZDSAJ757Z4         B007KXI2R8      4.0\n",
       "AZZZBMD2MDOQR         B00009R6VD      4.0\n",
       "AZZZBHHLU1CMM         B0015ASM2W      4.0\n",
       "AZZZBEVIZYROM         B007IL4ROE      5.0\n",
       "AZZZ9NB3TEH8F         B0058W2EKE      2.0\n",
       "AZZZ3LGTCGUZF         B004M8SBCK      5.0\n",
       "AZZYYPNQ2ZYH6         B00GHGMCN4      5.0\n",
       "AZZYYC8OX8ELM         B002B4P788      5.0\n",
       "                      B001O9EUSO      5.0\n",
       "AZZYXVW7BAJVD         B000F763NG      5.0\n",
       "AZZYWDOD33FFE         B000067RC4      1.0\n",
       "AZZYW8JCAHAQY         B004HD5EXO      1.0\n",
       "AZZYW4YOE1B6E         B00IP1MQNK      4.0\n",
       "                      B00FZHCR04      5.0\n",
       "                      B00E952W3A      4.0\n",
       "                      B00E8HIN78      5.0\n",
       "                      B00BP5MB56      3.0\n",
       "...                                   ...\n",
       "A00033481VZEEGYXEN32T B00B14E4V0      1.0\n",
       "A00029825UMZ6N0ETLHY  B00GU0VN4G      5.0\n",
       "A000294826HEMAY5L3K1H B005SNXIHG      5.0\n",
       "A00029263J863WSR0TDRS B00BZZJ7Q2      4.0\n",
       "A00028781NF0U7YEN9U19 B00F5NB7JK      5.0\n",
       "A00027561NC7JTXEP3EOD B004QHI3ZW      1.0\n",
       "A00027081JC8NE8X6TD5  B003U8ENTI      5.0\n",
       "A0002550196XWX0PEOZND B00IDYBJBE      3.0\n",
       "A0002032ZFQKDVHYKGWR  B003ISY34U      5.0\n",
       "A0002012T7HVDB2EF4RH  B005MM4HDC      4.0\n",
       "A00019466UY2KR1IPXQN  B003QAHKCW      4.0\n",
       "A000187635I595IAVSQLH B006LEYQK4      5.0\n",
       "                      B003EO1H7E      5.0\n",
       "A000186437REL8X2RW8UW B007X26T3A      4.0\n",
       "A00018041RRVMCICCAP79 B005ERKYI2      5.0\n",
       "                      B004EIJXES      5.0\n",
       "A0001528BGUBOEVR6T5U  B008O5BIWW      5.0\n",
       "                      B007DJTBVK      3.0\n",
       "                      B005XU7OL0      5.0\n",
       "                      B0055Q2VNI      5.0\n",
       "A00015228CUPGPF957DS  B00474ORI6      1.0\n",
       "A00015222LZ55IJSVL5IX B001MSVPM6      1.0\n",
       "A000145014WOTZJ5NSKOR B00F3L19KQ      5.0\n",
       "A00014061C2IZNE0YEILY B00EKSG8JU      4.0\n",
       "A00010809P09NUU6ZP6H  B002SSM5AU      5.0\n",
       "A00009661LC9LQPGKJ24G B004GWQBWY      5.0\n",
       "A00009182QVLSWIGHLS1B B009SXR7WE      5.0\n",
       "A000063614T1OE0BUSKUT B00432ZSHG      5.0\n",
       "                      B00419ZT3E      5.0\n",
       "A00000262KYZUE4J55XGL B003UYU16G      5.0\n",
       "\n",
       "[7824481 rows x 1 columns]"
      ]
     },
     "execution_count": 164,
     "metadata": {},
     "output_type": "execute_result"
    }
   ],
   "source": [
    "df.groupby(by=[\"User_ID\",\"Product_ID\"]).sum()[::-1]"
   ]
  },
  {
   "cell_type": "code",
   "execution_count": 165,
   "metadata": {},
   "outputs": [],
   "source": [
    "df_g=df.groupby([\"User_ID\"]).agg({\"ratings\":\"sum\"}).reset_index()"
   ]
  },
  {
   "cell_type": "code",
   "execution_count": 166,
   "metadata": {},
   "outputs": [
    {
     "data": {
      "text/html": [
       "<div>\n",
       "<style scoped>\n",
       "    .dataframe tbody tr th:only-of-type {\n",
       "        vertical-align: middle;\n",
       "    }\n",
       "\n",
       "    .dataframe tbody tr th {\n",
       "        vertical-align: top;\n",
       "    }\n",
       "\n",
       "    .dataframe thead th {\n",
       "        text-align: right;\n",
       "    }\n",
       "</style>\n",
       "<table border=\"1\" class=\"dataframe\">\n",
       "  <thead>\n",
       "    <tr style=\"text-align: right;\">\n",
       "      <th></th>\n",
       "      <th>User_ID</th>\n",
       "      <th>ratings</th>\n",
       "    </tr>\n",
       "  </thead>\n",
       "  <tbody>\n",
       "    <tr>\n",
       "      <th>0</th>\n",
       "      <td>A00000262KYZUE4J55XGL</td>\n",
       "      <td>5.0</td>\n",
       "    </tr>\n",
       "    <tr>\n",
       "      <th>1</th>\n",
       "      <td>A000063614T1OE0BUSKUT</td>\n",
       "      <td>10.0</td>\n",
       "    </tr>\n",
       "    <tr>\n",
       "      <th>2</th>\n",
       "      <td>A00009182QVLSWIGHLS1B</td>\n",
       "      <td>5.0</td>\n",
       "    </tr>\n",
       "    <tr>\n",
       "      <th>3</th>\n",
       "      <td>A00009661LC9LQPGKJ24G</td>\n",
       "      <td>5.0</td>\n",
       "    </tr>\n",
       "    <tr>\n",
       "      <th>4</th>\n",
       "      <td>A00010809P09NUU6ZP6H</td>\n",
       "      <td>5.0</td>\n",
       "    </tr>\n",
       "  </tbody>\n",
       "</table>\n",
       "</div>"
      ],
      "text/plain": [
       "                 User_ID  ratings\n",
       "0  A00000262KYZUE4J55XGL      5.0\n",
       "1  A000063614T1OE0BUSKUT     10.0\n",
       "2  A00009182QVLSWIGHLS1B      5.0\n",
       "3  A00009661LC9LQPGKJ24G      5.0\n",
       "4   A00010809P09NUU6ZP6H      5.0"
      ]
     },
     "execution_count": 166,
     "metadata": {},
     "output_type": "execute_result"
    }
   ],
   "source": [
    "df_g.head()"
   ]
  },
  {
   "cell_type": "code",
   "execution_count": 167,
   "metadata": {},
   "outputs": [],
   "source": [
    "#We have applied a filter here where we are taking only those users who have 50+ ratings only\n",
    "df_f=(df_g[df_g[\"ratings\"]>50]).reset_index()"
   ]
  },
  {
   "cell_type": "code",
   "execution_count": 168,
   "metadata": {},
   "outputs": [
    {
     "data": {
      "text/plain": [
       "(39410, 3)"
      ]
     },
     "execution_count": 168,
     "metadata": {},
     "output_type": "execute_result"
    }
   ],
   "source": [
    "df_f.shape"
   ]
  },
  {
   "cell_type": "code",
   "execution_count": 169,
   "metadata": {},
   "outputs": [],
   "source": [
    "df_f=df_f.drop(columns=[\"index\"])"
   ]
  },
  {
   "cell_type": "code",
   "execution_count": 170,
   "metadata": {},
   "outputs": [
    {
     "data": {
      "text/html": [
       "<div>\n",
       "<style scoped>\n",
       "    .dataframe tbody tr th:only-of-type {\n",
       "        vertical-align: middle;\n",
       "    }\n",
       "\n",
       "    .dataframe tbody tr th {\n",
       "        vertical-align: top;\n",
       "    }\n",
       "\n",
       "    .dataframe thead th {\n",
       "        text-align: right;\n",
       "    }\n",
       "</style>\n",
       "<table border=\"1\" class=\"dataframe\">\n",
       "  <thead>\n",
       "    <tr style=\"text-align: right;\">\n",
       "      <th></th>\n",
       "      <th>User_ID</th>\n",
       "      <th>ratings</th>\n",
       "    </tr>\n",
       "  </thead>\n",
       "  <tbody>\n",
       "    <tr>\n",
       "      <th>0</th>\n",
       "      <td>A0251761JI35FM4C8VK2</td>\n",
       "      <td>55.0</td>\n",
       "    </tr>\n",
       "  </tbody>\n",
       "</table>\n",
       "</div>"
      ],
      "text/plain": [
       "                User_ID  ratings\n",
       "0  A0251761JI35FM4C8VK2     55.0"
      ]
     },
     "execution_count": 170,
     "metadata": {},
     "output_type": "execute_result"
    }
   ],
   "source": [
    "df_f.head(n=1)"
   ]
  },
  {
   "cell_type": "code",
   "execution_count": 171,
   "metadata": {},
   "outputs": [],
   "source": [
    "df_t=df.drop(columns=\"ratings\")"
   ]
  },
  {
   "cell_type": "code",
   "execution_count": 172,
   "metadata": {},
   "outputs": [
    {
     "data": {
      "text/html": [
       "<div>\n",
       "<style scoped>\n",
       "    .dataframe tbody tr th:only-of-type {\n",
       "        vertical-align: middle;\n",
       "    }\n",
       "\n",
       "    .dataframe tbody tr th {\n",
       "        vertical-align: top;\n",
       "    }\n",
       "\n",
       "    .dataframe thead th {\n",
       "        text-align: right;\n",
       "    }\n",
       "</style>\n",
       "<table border=\"1\" class=\"dataframe\">\n",
       "  <thead>\n",
       "    <tr style=\"text-align: right;\">\n",
       "      <th></th>\n",
       "      <th>User_ID</th>\n",
       "      <th>Product_ID</th>\n",
       "    </tr>\n",
       "  </thead>\n",
       "  <tbody>\n",
       "    <tr>\n",
       "      <th>0</th>\n",
       "      <td>A2CX7LUOHB2NDG</td>\n",
       "      <td>0321732944</td>\n",
       "    </tr>\n",
       "  </tbody>\n",
       "</table>\n",
       "</div>"
      ],
      "text/plain": [
       "          User_ID  Product_ID\n",
       "0  A2CX7LUOHB2NDG  0321732944"
      ]
     },
     "execution_count": 172,
     "metadata": {},
     "output_type": "execute_result"
    }
   ],
   "source": [
    "df_t.head(n=1)"
   ]
  },
  {
   "cell_type": "code",
   "execution_count": 173,
   "metadata": {},
   "outputs": [],
   "source": [
    "#So we see a situation here wherein, we have one dataframe which contains only the User_ID and the ratings \n",
    "#which we have filtered to be above 50 and the other one that we have contains the master dataframe\n",
    "#which we initially had, so now we need to combine both of them to get a dataframe by Left join"
   ]
  },
  {
   "cell_type": "code",
   "execution_count": 174,
   "metadata": {},
   "outputs": [],
   "source": [
    "subset_df=df_f.merge(df_t, left_on='User_ID', right_on='User_ID', how='left')"
   ]
  },
  {
   "cell_type": "code",
   "execution_count": 175,
   "metadata": {},
   "outputs": [
    {
     "data": {
      "text/plain": [
       "(829553, 3)"
      ]
     },
     "execution_count": 175,
     "metadata": {},
     "output_type": "execute_result"
    }
   ],
   "source": [
    "subset_df.shape"
   ]
  },
  {
   "cell_type": "code",
   "execution_count": 176,
   "metadata": {},
   "outputs": [
    {
     "data": {
      "text/html": [
       "<div>\n",
       "<style scoped>\n",
       "    .dataframe tbody tr th:only-of-type {\n",
       "        vertical-align: middle;\n",
       "    }\n",
       "\n",
       "    .dataframe tbody tr th {\n",
       "        vertical-align: top;\n",
       "    }\n",
       "\n",
       "    .dataframe thead th {\n",
       "        text-align: right;\n",
       "    }\n",
       "</style>\n",
       "<table border=\"1\" class=\"dataframe\">\n",
       "  <thead>\n",
       "    <tr style=\"text-align: right;\">\n",
       "      <th></th>\n",
       "      <th>User_ID</th>\n",
       "      <th>ratings</th>\n",
       "      <th>Product_ID</th>\n",
       "    </tr>\n",
       "  </thead>\n",
       "  <tbody>\n",
       "    <tr>\n",
       "      <th>0</th>\n",
       "      <td>A0251761JI35FM4C8VK2</td>\n",
       "      <td>55.0</td>\n",
       "      <td>B0007MWE1E</td>\n",
       "    </tr>\n",
       "    <tr>\n",
       "      <th>1</th>\n",
       "      <td>A0251761JI35FM4C8VK2</td>\n",
       "      <td>55.0</td>\n",
       "      <td>B000I23TLC</td>\n",
       "    </tr>\n",
       "    <tr>\n",
       "      <th>2</th>\n",
       "      <td>A0251761JI35FM4C8VK2</td>\n",
       "      <td>55.0</td>\n",
       "      <td>B002HK8TE0</td>\n",
       "    </tr>\n",
       "    <tr>\n",
       "      <th>3</th>\n",
       "      <td>A0251761JI35FM4C8VK2</td>\n",
       "      <td>55.0</td>\n",
       "      <td>B002YIG9AQ</td>\n",
       "    </tr>\n",
       "    <tr>\n",
       "      <th>4</th>\n",
       "      <td>A0251761JI35FM4C8VK2</td>\n",
       "      <td>55.0</td>\n",
       "      <td>B0036Q7MV0</td>\n",
       "    </tr>\n",
       "  </tbody>\n",
       "</table>\n",
       "</div>"
      ],
      "text/plain": [
       "                User_ID  ratings  Product_ID\n",
       "0  A0251761JI35FM4C8VK2     55.0  B0007MWE1E\n",
       "1  A0251761JI35FM4C8VK2     55.0  B000I23TLC\n",
       "2  A0251761JI35FM4C8VK2     55.0  B002HK8TE0\n",
       "3  A0251761JI35FM4C8VK2     55.0  B002YIG9AQ\n",
       "4  A0251761JI35FM4C8VK2     55.0  B0036Q7MV0"
      ]
     },
     "execution_count": 176,
     "metadata": {},
     "output_type": "execute_result"
    }
   ],
   "source": [
    "subset_df.head()\n",
    "#We will notice here that all the users who have more than 50 ratings have only been \n",
    "#considered for this dataset as was mentioned in the problem statement "
   ]
  },
  {
   "cell_type": "code",
   "execution_count": 129,
   "metadata": {},
   "outputs": [],
   "source": [
    "#We have come down to 39410 users who have 50+ ratings for our further computation purposes but these\n",
    "#Users that we talk about might have multiple product ID's which makes the size less but still\n",
    "#to 829553 from 31394452"
   ]
  },
  {
   "cell_type": "code",
   "execution_count": 177,
   "metadata": {},
   "outputs": [],
   "source": [
    "from sklearn.model_selection import train_test_split"
   ]
  },
  {
   "cell_type": "code",
   "execution_count": 178,
   "metadata": {},
   "outputs": [],
   "source": [
    "ratings_train, ratings_test= train_test_split(subset_df, test_size = 0.30)\n"
   ]
  },
  {
   "cell_type": "code",
   "execution_count": 179,
   "metadata": {},
   "outputs": [
    {
     "data": {
      "text/plain": [
       "(580687, 3)"
      ]
     },
     "execution_count": 179,
     "metadata": {},
     "output_type": "execute_result"
    }
   ],
   "source": [
    "ratings_train.shape"
   ]
  },
  {
   "cell_type": "code",
   "execution_count": 180,
   "metadata": {},
   "outputs": [
    {
     "data": {
      "text/plain": [
       "(248866, 3)"
      ]
     },
     "execution_count": 180,
     "metadata": {},
     "output_type": "execute_result"
    }
   ],
   "source": [
    "ratings_test.shape"
   ]
  },
  {
   "cell_type": "code",
   "execution_count": 181,
   "metadata": {},
   "outputs": [],
   "source": [
    "#Building a Popularity Based Recommendation Systems"
   ]
  },
  {
   "cell_type": "code",
   "execution_count": 182,
   "metadata": {},
   "outputs": [],
   "source": [
    "import Recommenders as Recommenders"
   ]
  },
  {
   "cell_type": "code",
   "execution_count": 183,
   "metadata": {},
   "outputs": [],
   "source": [
    "pm = Recommenders.popularity_recommender_py()"
   ]
  },
  {
   "cell_type": "code",
   "execution_count": 184,
   "metadata": {},
   "outputs": [],
   "source": [
    "pm.create(ratings_train,\"User_ID\",\"Product_ID\")"
   ]
  },
  {
   "cell_type": "code",
   "execution_count": 185,
   "metadata": {},
   "outputs": [],
   "source": [
    "users = ratings_train['User_ID'].unique()"
   ]
  },
  {
   "cell_type": "code",
   "execution_count": 186,
   "metadata": {},
   "outputs": [
    {
     "data": {
      "text/html": [
       "<div>\n",
       "<style scoped>\n",
       "    .dataframe tbody tr th:only-of-type {\n",
       "        vertical-align: middle;\n",
       "    }\n",
       "\n",
       "    .dataframe tbody tr th {\n",
       "        vertical-align: top;\n",
       "    }\n",
       "\n",
       "    .dataframe thead th {\n",
       "        text-align: right;\n",
       "    }\n",
       "</style>\n",
       "<table border=\"1\" class=\"dataframe\">\n",
       "  <thead>\n",
       "    <tr style=\"text-align: right;\">\n",
       "      <th></th>\n",
       "      <th>user_id</th>\n",
       "      <th>Product_ID</th>\n",
       "      <th>ratings</th>\n",
       "      <th>Rank</th>\n",
       "    </tr>\n",
       "  </thead>\n",
       "  <tbody>\n",
       "    <tr>\n",
       "      <th>103342</th>\n",
       "      <td>AIO859V3PQNI2</td>\n",
       "      <td>B007WTAJTO</td>\n",
       "      <td>157897.0</td>\n",
       "      <td>1.0</td>\n",
       "    </tr>\n",
       "    <tr>\n",
       "      <th>61896</th>\n",
       "      <td>AIO859V3PQNI2</td>\n",
       "      <td>B003ES5ZUU</td>\n",
       "      <td>150329.0</td>\n",
       "      <td>2.0</td>\n",
       "    </tr>\n",
       "    <tr>\n",
       "      <th>36841</th>\n",
       "      <td>AIO859V3PQNI2</td>\n",
       "      <td>B0019EHU8G</td>\n",
       "      <td>98272.0</td>\n",
       "      <td>3.0</td>\n",
       "    </tr>\n",
       "    <tr>\n",
       "      <th>55561</th>\n",
       "      <td>AIO859V3PQNI2</td>\n",
       "      <td>B002WE6D44</td>\n",
       "      <td>92935.0</td>\n",
       "      <td>4.0</td>\n",
       "    </tr>\n",
       "    <tr>\n",
       "      <th>106017</th>\n",
       "      <td>AIO859V3PQNI2</td>\n",
       "      <td>B0088CJT4U</td>\n",
       "      <td>89384.0</td>\n",
       "      <td>5.0</td>\n",
       "    </tr>\n",
       "    <tr>\n",
       "      <th>55205</th>\n",
       "      <td>AIO859V3PQNI2</td>\n",
       "      <td>B002V88HFE</td>\n",
       "      <td>88289.0</td>\n",
       "      <td>6.0</td>\n",
       "    </tr>\n",
       "    <tr>\n",
       "      <th>127296</th>\n",
       "      <td>AIO859V3PQNI2</td>\n",
       "      <td>B00DR0PDNE</td>\n",
       "      <td>85949.0</td>\n",
       "      <td>7.0</td>\n",
       "    </tr>\n",
       "    <tr>\n",
       "      <th>114757</th>\n",
       "      <td>AIO859V3PQNI2</td>\n",
       "      <td>B009SYZ8OC</td>\n",
       "      <td>85589.0</td>\n",
       "      <td>8.0</td>\n",
       "    </tr>\n",
       "    <tr>\n",
       "      <th>11367</th>\n",
       "      <td>AIO859V3PQNI2</td>\n",
       "      <td>B0002L5R78</td>\n",
       "      <td>73723.0</td>\n",
       "      <td>9.0</td>\n",
       "    </tr>\n",
       "    <tr>\n",
       "      <th>69586</th>\n",
       "      <td>AIO859V3PQNI2</td>\n",
       "      <td>B0041Q38NU</td>\n",
       "      <td>72465.0</td>\n",
       "      <td>10.0</td>\n",
       "    </tr>\n",
       "  </tbody>\n",
       "</table>\n",
       "</div>"
      ],
      "text/plain": [
       "              user_id  Product_ID   ratings  Rank\n",
       "103342  AIO859V3PQNI2  B007WTAJTO  157897.0   1.0\n",
       "61896   AIO859V3PQNI2  B003ES5ZUU  150329.0   2.0\n",
       "36841   AIO859V3PQNI2  B0019EHU8G   98272.0   3.0\n",
       "55561   AIO859V3PQNI2  B002WE6D44   92935.0   4.0\n",
       "106017  AIO859V3PQNI2  B0088CJT4U   89384.0   5.0\n",
       "55205   AIO859V3PQNI2  B002V88HFE   88289.0   6.0\n",
       "127296  AIO859V3PQNI2  B00DR0PDNE   85949.0   7.0\n",
       "114757  AIO859V3PQNI2  B009SYZ8OC   85589.0   8.0\n",
       "11367   AIO859V3PQNI2  B0002L5R78   73723.0   9.0\n",
       "69586   AIO859V3PQNI2  B0041Q38NU   72465.0  10.0"
      ]
     },
     "execution_count": 186,
     "metadata": {},
     "output_type": "execute_result"
    }
   ],
   "source": [
    "user_id = users[20]\n",
    "pm.recommend(user_id)"
   ]
  },
  {
   "cell_type": "code",
   "execution_count": 187,
   "metadata": {},
   "outputs": [
    {
     "data": {
      "text/html": [
       "<div>\n",
       "<style scoped>\n",
       "    .dataframe tbody tr th:only-of-type {\n",
       "        vertical-align: middle;\n",
       "    }\n",
       "\n",
       "    .dataframe tbody tr th {\n",
       "        vertical-align: top;\n",
       "    }\n",
       "\n",
       "    .dataframe thead th {\n",
       "        text-align: right;\n",
       "    }\n",
       "</style>\n",
       "<table border=\"1\" class=\"dataframe\">\n",
       "  <thead>\n",
       "    <tr style=\"text-align: right;\">\n",
       "      <th></th>\n",
       "      <th>user_id</th>\n",
       "      <th>Product_ID</th>\n",
       "      <th>ratings</th>\n",
       "      <th>Rank</th>\n",
       "    </tr>\n",
       "  </thead>\n",
       "  <tbody>\n",
       "    <tr>\n",
       "      <th>103342</th>\n",
       "      <td>A1SY0RMLP947Q0</td>\n",
       "      <td>B007WTAJTO</td>\n",
       "      <td>157897.0</td>\n",
       "      <td>1.0</td>\n",
       "    </tr>\n",
       "    <tr>\n",
       "      <th>61896</th>\n",
       "      <td>A1SY0RMLP947Q0</td>\n",
       "      <td>B003ES5ZUU</td>\n",
       "      <td>150329.0</td>\n",
       "      <td>2.0</td>\n",
       "    </tr>\n",
       "    <tr>\n",
       "      <th>36841</th>\n",
       "      <td>A1SY0RMLP947Q0</td>\n",
       "      <td>B0019EHU8G</td>\n",
       "      <td>98272.0</td>\n",
       "      <td>3.0</td>\n",
       "    </tr>\n",
       "    <tr>\n",
       "      <th>55561</th>\n",
       "      <td>A1SY0RMLP947Q0</td>\n",
       "      <td>B002WE6D44</td>\n",
       "      <td>92935.0</td>\n",
       "      <td>4.0</td>\n",
       "    </tr>\n",
       "    <tr>\n",
       "      <th>106017</th>\n",
       "      <td>A1SY0RMLP947Q0</td>\n",
       "      <td>B0088CJT4U</td>\n",
       "      <td>89384.0</td>\n",
       "      <td>5.0</td>\n",
       "    </tr>\n",
       "    <tr>\n",
       "      <th>55205</th>\n",
       "      <td>A1SY0RMLP947Q0</td>\n",
       "      <td>B002V88HFE</td>\n",
       "      <td>88289.0</td>\n",
       "      <td>6.0</td>\n",
       "    </tr>\n",
       "    <tr>\n",
       "      <th>127296</th>\n",
       "      <td>A1SY0RMLP947Q0</td>\n",
       "      <td>B00DR0PDNE</td>\n",
       "      <td>85949.0</td>\n",
       "      <td>7.0</td>\n",
       "    </tr>\n",
       "    <tr>\n",
       "      <th>114757</th>\n",
       "      <td>A1SY0RMLP947Q0</td>\n",
       "      <td>B009SYZ8OC</td>\n",
       "      <td>85589.0</td>\n",
       "      <td>8.0</td>\n",
       "    </tr>\n",
       "    <tr>\n",
       "      <th>11367</th>\n",
       "      <td>A1SY0RMLP947Q0</td>\n",
       "      <td>B0002L5R78</td>\n",
       "      <td>73723.0</td>\n",
       "      <td>9.0</td>\n",
       "    </tr>\n",
       "    <tr>\n",
       "      <th>69586</th>\n",
       "      <td>A1SY0RMLP947Q0</td>\n",
       "      <td>B0041Q38NU</td>\n",
       "      <td>72465.0</td>\n",
       "      <td>10.0</td>\n",
       "    </tr>\n",
       "  </tbody>\n",
       "</table>\n",
       "</div>"
      ],
      "text/plain": [
       "               user_id  Product_ID   ratings  Rank\n",
       "103342  A1SY0RMLP947Q0  B007WTAJTO  157897.0   1.0\n",
       "61896   A1SY0RMLP947Q0  B003ES5ZUU  150329.0   2.0\n",
       "36841   A1SY0RMLP947Q0  B0019EHU8G   98272.0   3.0\n",
       "55561   A1SY0RMLP947Q0  B002WE6D44   92935.0   4.0\n",
       "106017  A1SY0RMLP947Q0  B0088CJT4U   89384.0   5.0\n",
       "55205   A1SY0RMLP947Q0  B002V88HFE   88289.0   6.0\n",
       "127296  A1SY0RMLP947Q0  B00DR0PDNE   85949.0   7.0\n",
       "114757  A1SY0RMLP947Q0  B009SYZ8OC   85589.0   8.0\n",
       "11367   A1SY0RMLP947Q0  B0002L5R78   73723.0   9.0\n",
       "69586   A1SY0RMLP947Q0  B0041Q38NU   72465.0  10.0"
      ]
     },
     "execution_count": 187,
     "metadata": {},
     "output_type": "execute_result"
    }
   ],
   "source": [
    "user_id = users[7]\n",
    "pm.recommend(user_id)"
   ]
  },
  {
   "cell_type": "code",
   "execution_count": 142,
   "metadata": {},
   "outputs": [],
   "source": [
    "#Build a collaborative Filtering Model"
   ]
  },
  {
   "cell_type": "code",
   "execution_count": 191,
   "metadata": {},
   "outputs": [
    {
     "data": {
      "text/html": [
       "<div>\n",
       "<style scoped>\n",
       "    .dataframe tbody tr th:only-of-type {\n",
       "        vertical-align: middle;\n",
       "    }\n",
       "\n",
       "    .dataframe tbody tr th {\n",
       "        vertical-align: top;\n",
       "    }\n",
       "\n",
       "    .dataframe thead th {\n",
       "        text-align: right;\n",
       "    }\n",
       "</style>\n",
       "<table border=\"1\" class=\"dataframe\">\n",
       "  <thead>\n",
       "    <tr style=\"text-align: right;\">\n",
       "      <th></th>\n",
       "      <th>User_ID</th>\n",
       "      <th>ratings</th>\n",
       "      <th>Product_ID</th>\n",
       "    </tr>\n",
       "  </thead>\n",
       "  <tbody>\n",
       "    <tr>\n",
       "      <th>0</th>\n",
       "      <td>A0251761JI35FM4C8VK2</td>\n",
       "      <td>55.0</td>\n",
       "      <td>B0007MWE1E</td>\n",
       "    </tr>\n",
       "    <tr>\n",
       "      <th>1</th>\n",
       "      <td>A0251761JI35FM4C8VK2</td>\n",
       "      <td>55.0</td>\n",
       "      <td>B000I23TLC</td>\n",
       "    </tr>\n",
       "    <tr>\n",
       "      <th>2</th>\n",
       "      <td>A0251761JI35FM4C8VK2</td>\n",
       "      <td>55.0</td>\n",
       "      <td>B002HK8TE0</td>\n",
       "    </tr>\n",
       "    <tr>\n",
       "      <th>3</th>\n",
       "      <td>A0251761JI35FM4C8VK2</td>\n",
       "      <td>55.0</td>\n",
       "      <td>B002YIG9AQ</td>\n",
       "    </tr>\n",
       "    <tr>\n",
       "      <th>4</th>\n",
       "      <td>A0251761JI35FM4C8VK2</td>\n",
       "      <td>55.0</td>\n",
       "      <td>B0036Q7MV0</td>\n",
       "    </tr>\n",
       "  </tbody>\n",
       "</table>\n",
       "</div>"
      ],
      "text/plain": [
       "                User_ID  ratings  Product_ID\n",
       "0  A0251761JI35FM4C8VK2     55.0  B0007MWE1E\n",
       "1  A0251761JI35FM4C8VK2     55.0  B000I23TLC\n",
       "2  A0251761JI35FM4C8VK2     55.0  B002HK8TE0\n",
       "3  A0251761JI35FM4C8VK2     55.0  B002YIG9AQ\n",
       "4  A0251761JI35FM4C8VK2     55.0  B0036Q7MV0"
      ]
     },
     "execution_count": 191,
     "metadata": {},
     "output_type": "execute_result"
    }
   ],
   "source": [
    "subset_df.head()"
   ]
  },
  {
   "cell_type": "code",
   "execution_count": 192,
   "metadata": {},
   "outputs": [],
   "source": [
    "subset_df=subset_df.set_index(\"User_ID\")"
   ]
  },
  {
   "cell_type": "code",
   "execution_count": 193,
   "metadata": {},
   "outputs": [
    {
     "data": {
      "text/html": [
       "<div>\n",
       "<style scoped>\n",
       "    .dataframe tbody tr th:only-of-type {\n",
       "        vertical-align: middle;\n",
       "    }\n",
       "\n",
       "    .dataframe tbody tr th {\n",
       "        vertical-align: top;\n",
       "    }\n",
       "\n",
       "    .dataframe thead th {\n",
       "        text-align: right;\n",
       "    }\n",
       "</style>\n",
       "<table border=\"1\" class=\"dataframe\">\n",
       "  <thead>\n",
       "    <tr style=\"text-align: right;\">\n",
       "      <th></th>\n",
       "      <th>ratings</th>\n",
       "      <th>Product_ID</th>\n",
       "    </tr>\n",
       "    <tr>\n",
       "      <th>User_ID</th>\n",
       "      <th></th>\n",
       "      <th></th>\n",
       "    </tr>\n",
       "  </thead>\n",
       "  <tbody>\n",
       "    <tr>\n",
       "      <th>A0251761JI35FM4C8VK2</th>\n",
       "      <td>55.0</td>\n",
       "      <td>B0007MWE1E</td>\n",
       "    </tr>\n",
       "    <tr>\n",
       "      <th>A0251761JI35FM4C8VK2</th>\n",
       "      <td>55.0</td>\n",
       "      <td>B000I23TLC</td>\n",
       "    </tr>\n",
       "  </tbody>\n",
       "</table>\n",
       "</div>"
      ],
      "text/plain": [
       "                      ratings  Product_ID\n",
       "User_ID                                  \n",
       "A0251761JI35FM4C8VK2     55.0  B0007MWE1E\n",
       "A0251761JI35FM4C8VK2     55.0  B000I23TLC"
      ]
     },
     "execution_count": 193,
     "metadata": {},
     "output_type": "execute_result"
    }
   ],
   "source": [
    "subset_df.head(n=2)"
   ]
  },
  {
   "cell_type": "code",
   "execution_count": 145,
   "metadata": {},
   "outputs": [],
   "source": [
    "subset_df.to_excel(\"Subset_Df.xlsx\")"
   ]
  },
  {
   "cell_type": "code",
   "execution_count": 197,
   "metadata": {},
   "outputs": [],
   "source": [
    "vc = df.User_ID.value_counts()"
   ]
  },
  {
   "cell_type": "code",
   "execution_count": 198,
   "metadata": {},
   "outputs": [],
   "source": [
    "vc_50 = vc[vc >= 50]"
   ]
  },
  {
   "cell_type": "code",
   "execution_count": 199,
   "metadata": {},
   "outputs": [],
   "source": [
    "users_with_more_ratings = vc_50.to_frame()"
   ]
  },
  {
   "cell_type": "code",
   "execution_count": 200,
   "metadata": {},
   "outputs": [],
   "source": [
    "users_with_more_ratings.reset_index(inplace=True)"
   ]
  },
  {
   "cell_type": "code",
   "execution_count": 202,
   "metadata": {},
   "outputs": [],
   "source": [
    "users_with_more_ratings.drop(labels='User_ID',axis=1,inplace=True)"
   ]
  },
  {
   "cell_type": "code",
   "execution_count": 204,
   "metadata": {},
   "outputs": [],
   "source": [
    "subset_df = df[df[\"User_ID\"].isin(users_with_more_ratings['index'].values)]"
   ]
  },
  {
   "cell_type": "code",
   "execution_count": 205,
   "metadata": {},
   "outputs": [
    {
     "data": {
      "text/plain": [
       "(125871, 3)"
      ]
     },
     "execution_count": 205,
     "metadata": {},
     "output_type": "execute_result"
    }
   ],
   "source": [
    "subset_df.shape"
   ]
  },
  {
   "cell_type": "code",
   "execution_count": 206,
   "metadata": {},
   "outputs": [],
   "source": [
    "from sklearn.model_selection import train_test_split"
   ]
  },
  {
   "cell_type": "code",
   "execution_count": 207,
   "metadata": {},
   "outputs": [],
   "source": [
    "ratings_train, ratings_test = train_test_split(subset_df, test_size=0.30, random_state=1)"
   ]
  },
  {
   "cell_type": "code",
   "execution_count": 208,
   "metadata": {},
   "outputs": [
    {
     "data": {
      "text/plain": [
       "(88109, 3)"
      ]
     },
     "execution_count": 208,
     "metadata": {},
     "output_type": "execute_result"
    }
   ],
   "source": [
    "ratings_train.shape"
   ]
  },
  {
   "cell_type": "code",
   "execution_count": 209,
   "metadata": {},
   "outputs": [
    {
     "data": {
      "text/plain": [
       "(37762, 3)"
      ]
     },
     "execution_count": 209,
     "metadata": {},
     "output_type": "execute_result"
    }
   ],
   "source": [
    "ratings_test.shape"
   ]
  },
  {
   "cell_type": "code",
   "execution_count": 210,
   "metadata": {},
   "outputs": [],
   "source": [
    "R_df = subset_df.pivot_table(index = 'User_ID', columns ='Product_ID', values = 'ratings').fillna(0)"
   ]
  },
  {
   "cell_type": "code",
   "execution_count": 211,
   "metadata": {},
   "outputs": [
    {
     "data": {
      "text/html": [
       "<div>\n",
       "<style scoped>\n",
       "    .dataframe tbody tr th:only-of-type {\n",
       "        vertical-align: middle;\n",
       "    }\n",
       "\n",
       "    .dataframe tbody tr th {\n",
       "        vertical-align: top;\n",
       "    }\n",
       "\n",
       "    .dataframe thead th {\n",
       "        text-align: right;\n",
       "    }\n",
       "</style>\n",
       "<table border=\"1\" class=\"dataframe\">\n",
       "  <thead>\n",
       "    <tr style=\"text-align: right;\">\n",
       "      <th>Product_ID</th>\n",
       "      <th>0594451647</th>\n",
       "      <th>0594481813</th>\n",
       "      <th>0970407998</th>\n",
       "      <th>0972683275</th>\n",
       "      <th>1400501466</th>\n",
       "      <th>1400501520</th>\n",
       "      <th>1400501776</th>\n",
       "      <th>1400532620</th>\n",
       "      <th>1400532655</th>\n",
       "      <th>140053271X</th>\n",
       "      <th>...</th>\n",
       "      <th>B00L5YZCCG</th>\n",
       "      <th>B00L8I6SFY</th>\n",
       "      <th>B00L8QCVL6</th>\n",
       "      <th>B00LA6T0LS</th>\n",
       "      <th>B00LBZ1Z7K</th>\n",
       "      <th>B00LED02VY</th>\n",
       "      <th>B00LGN7Y3G</th>\n",
       "      <th>B00LGQ6HL8</th>\n",
       "      <th>B00LI4ZZO8</th>\n",
       "      <th>B00LKG1MC8</th>\n",
       "    </tr>\n",
       "    <tr>\n",
       "      <th>User_ID</th>\n",
       "      <th></th>\n",
       "      <th></th>\n",
       "      <th></th>\n",
       "      <th></th>\n",
       "      <th></th>\n",
       "      <th></th>\n",
       "      <th></th>\n",
       "      <th></th>\n",
       "      <th></th>\n",
       "      <th></th>\n",
       "      <th></th>\n",
       "      <th></th>\n",
       "      <th></th>\n",
       "      <th></th>\n",
       "      <th></th>\n",
       "      <th></th>\n",
       "      <th></th>\n",
       "      <th></th>\n",
       "      <th></th>\n",
       "      <th></th>\n",
       "      <th></th>\n",
       "    </tr>\n",
       "  </thead>\n",
       "  <tbody>\n",
       "    <tr>\n",
       "      <th>A100UD67AHFODS</th>\n",
       "      <td>0.0</td>\n",
       "      <td>0.0</td>\n",
       "      <td>0.0</td>\n",
       "      <td>0.0</td>\n",
       "      <td>0.0</td>\n",
       "      <td>0.0</td>\n",
       "      <td>0.0</td>\n",
       "      <td>0.0</td>\n",
       "      <td>0.0</td>\n",
       "      <td>0.0</td>\n",
       "      <td>...</td>\n",
       "      <td>0.0</td>\n",
       "      <td>0.0</td>\n",
       "      <td>0.0</td>\n",
       "      <td>0.0</td>\n",
       "      <td>0.0</td>\n",
       "      <td>0.0</td>\n",
       "      <td>0.0</td>\n",
       "      <td>0.0</td>\n",
       "      <td>0.0</td>\n",
       "      <td>0.0</td>\n",
       "    </tr>\n",
       "    <tr>\n",
       "      <th>A100WO06OQR8BQ</th>\n",
       "      <td>0.0</td>\n",
       "      <td>0.0</td>\n",
       "      <td>0.0</td>\n",
       "      <td>0.0</td>\n",
       "      <td>0.0</td>\n",
       "      <td>0.0</td>\n",
       "      <td>0.0</td>\n",
       "      <td>0.0</td>\n",
       "      <td>0.0</td>\n",
       "      <td>0.0</td>\n",
       "      <td>...</td>\n",
       "      <td>0.0</td>\n",
       "      <td>0.0</td>\n",
       "      <td>0.0</td>\n",
       "      <td>0.0</td>\n",
       "      <td>0.0</td>\n",
       "      <td>0.0</td>\n",
       "      <td>0.0</td>\n",
       "      <td>0.0</td>\n",
       "      <td>0.0</td>\n",
       "      <td>0.0</td>\n",
       "    </tr>\n",
       "    <tr>\n",
       "      <th>A105S56ODHGJEK</th>\n",
       "      <td>0.0</td>\n",
       "      <td>0.0</td>\n",
       "      <td>0.0</td>\n",
       "      <td>0.0</td>\n",
       "      <td>0.0</td>\n",
       "      <td>0.0</td>\n",
       "      <td>0.0</td>\n",
       "      <td>0.0</td>\n",
       "      <td>0.0</td>\n",
       "      <td>0.0</td>\n",
       "      <td>...</td>\n",
       "      <td>0.0</td>\n",
       "      <td>0.0</td>\n",
       "      <td>0.0</td>\n",
       "      <td>0.0</td>\n",
       "      <td>0.0</td>\n",
       "      <td>0.0</td>\n",
       "      <td>0.0</td>\n",
       "      <td>0.0</td>\n",
       "      <td>0.0</td>\n",
       "      <td>0.0</td>\n",
       "    </tr>\n",
       "    <tr>\n",
       "      <th>A105TOJ6LTVMBG</th>\n",
       "      <td>0.0</td>\n",
       "      <td>0.0</td>\n",
       "      <td>0.0</td>\n",
       "      <td>0.0</td>\n",
       "      <td>0.0</td>\n",
       "      <td>0.0</td>\n",
       "      <td>0.0</td>\n",
       "      <td>0.0</td>\n",
       "      <td>0.0</td>\n",
       "      <td>0.0</td>\n",
       "      <td>...</td>\n",
       "      <td>0.0</td>\n",
       "      <td>0.0</td>\n",
       "      <td>0.0</td>\n",
       "      <td>0.0</td>\n",
       "      <td>0.0</td>\n",
       "      <td>0.0</td>\n",
       "      <td>0.0</td>\n",
       "      <td>0.0</td>\n",
       "      <td>0.0</td>\n",
       "      <td>0.0</td>\n",
       "    </tr>\n",
       "    <tr>\n",
       "      <th>A10AFVU66A79Y1</th>\n",
       "      <td>0.0</td>\n",
       "      <td>0.0</td>\n",
       "      <td>0.0</td>\n",
       "      <td>0.0</td>\n",
       "      <td>0.0</td>\n",
       "      <td>0.0</td>\n",
       "      <td>0.0</td>\n",
       "      <td>0.0</td>\n",
       "      <td>0.0</td>\n",
       "      <td>0.0</td>\n",
       "      <td>...</td>\n",
       "      <td>0.0</td>\n",
       "      <td>0.0</td>\n",
       "      <td>0.0</td>\n",
       "      <td>0.0</td>\n",
       "      <td>0.0</td>\n",
       "      <td>0.0</td>\n",
       "      <td>0.0</td>\n",
       "      <td>0.0</td>\n",
       "      <td>0.0</td>\n",
       "      <td>0.0</td>\n",
       "    </tr>\n",
       "  </tbody>\n",
       "</table>\n",
       "<p>5 rows × 48190 columns</p>\n",
       "</div>"
      ],
      "text/plain": [
       "Product_ID      0594451647  0594481813  0970407998  0972683275  1400501466  \\\n",
       "User_ID                                                                      \n",
       "A100UD67AHFODS         0.0         0.0         0.0         0.0         0.0   \n",
       "A100WO06OQR8BQ         0.0         0.0         0.0         0.0         0.0   \n",
       "A105S56ODHGJEK         0.0         0.0         0.0         0.0         0.0   \n",
       "A105TOJ6LTVMBG         0.0         0.0         0.0         0.0         0.0   \n",
       "A10AFVU66A79Y1         0.0         0.0         0.0         0.0         0.0   \n",
       "\n",
       "Product_ID      1400501520  1400501776  1400532620  1400532655  140053271X  \\\n",
       "User_ID                                                                      \n",
       "A100UD67AHFODS         0.0         0.0         0.0         0.0         0.0   \n",
       "A100WO06OQR8BQ         0.0         0.0         0.0         0.0         0.0   \n",
       "A105S56ODHGJEK         0.0         0.0         0.0         0.0         0.0   \n",
       "A105TOJ6LTVMBG         0.0         0.0         0.0         0.0         0.0   \n",
       "A10AFVU66A79Y1         0.0         0.0         0.0         0.0         0.0   \n",
       "\n",
       "Product_ID         ...      B00L5YZCCG  B00L8I6SFY  B00L8QCVL6  B00LA6T0LS  \\\n",
       "User_ID            ...                                                       \n",
       "A100UD67AHFODS     ...             0.0         0.0         0.0         0.0   \n",
       "A100WO06OQR8BQ     ...             0.0         0.0         0.0         0.0   \n",
       "A105S56ODHGJEK     ...             0.0         0.0         0.0         0.0   \n",
       "A105TOJ6LTVMBG     ...             0.0         0.0         0.0         0.0   \n",
       "A10AFVU66A79Y1     ...             0.0         0.0         0.0         0.0   \n",
       "\n",
       "Product_ID      B00LBZ1Z7K  B00LED02VY  B00LGN7Y3G  B00LGQ6HL8  B00LI4ZZO8  \\\n",
       "User_ID                                                                      \n",
       "A100UD67AHFODS         0.0         0.0         0.0         0.0         0.0   \n",
       "A100WO06OQR8BQ         0.0         0.0         0.0         0.0         0.0   \n",
       "A105S56ODHGJEK         0.0         0.0         0.0         0.0         0.0   \n",
       "A105TOJ6LTVMBG         0.0         0.0         0.0         0.0         0.0   \n",
       "A10AFVU66A79Y1         0.0         0.0         0.0         0.0         0.0   \n",
       "\n",
       "Product_ID      B00LKG1MC8  \n",
       "User_ID                     \n",
       "A100UD67AHFODS         0.0  \n",
       "A100WO06OQR8BQ         0.0  \n",
       "A105S56ODHGJEK         0.0  \n",
       "A105TOJ6LTVMBG         0.0  \n",
       "A10AFVU66A79Y1         0.0  \n",
       "\n",
       "[5 rows x 48190 columns]"
      ]
     },
     "execution_count": 211,
     "metadata": {},
     "output_type": "execute_result"
    }
   ],
   "source": [
    "R_df.head()"
   ]
  },
  {
   "cell_type": "code",
   "execution_count": 212,
   "metadata": {},
   "outputs": [],
   "source": [
    "from sklearn.metrics import pairwise_distances"
   ]
  },
  {
   "cell_type": "code",
   "execution_count": 213,
   "metadata": {},
   "outputs": [],
   "source": [
    "#get pearson similarities for ratings matrix M\n",
    "pearson_sim = 1-pairwise_distances(R_df, metric=\"correlation\")"
   ]
  },
  {
   "cell_type": "code",
   "execution_count": 214,
   "metadata": {},
   "outputs": [],
   "source": [
    "from sklearn.neighbors import NearestNeighbors"
   ]
  },
  {
   "cell_type": "code",
   "execution_count": 215,
   "metadata": {},
   "outputs": [],
   "source": [
    "import sklearn.metrics as metrics"
   ]
  },
  {
   "cell_type": "code",
   "execution_count": 216,
   "metadata": {},
   "outputs": [],
   "source": [
    "global k,metric\n",
    "k = 5\n",
    "metric = 'correlation'"
   ]
  },
  {
   "cell_type": "code",
   "execution_count": 217,
   "metadata": {},
   "outputs": [],
   "source": [
    "#This function finds k similar users given the user_id and ratings matrix M\n",
    "#Note that the similarities are same as obtained via using pairwise_distances\n",
    "def findksimilarusers(user_id, ratings, metric=metric, k=k):\n",
    "    similarities=[]\n",
    "    indices=[]\n",
    "    model_knn = NearestNeighbors(metric = metric, algorithm = 'brute') \n",
    "    model_knn.fit(ratings)\n",
    "\n",
    "    distances, indices = model_knn.kneighbors(ratings.iloc[user_id-1, :].values.reshape(1, -1), n_neighbors = k+1)\n",
    "    similarities = 1-distances.flatten()\n",
    "    print('\\n{} most similar users for User {}:\\n'.format(k,user_id))\n",
    "    for i in range(0, len(indices.flatten())):\n",
    "        if indices.flatten()[i]+1 == user_id:\n",
    "            continue;\n",
    "\n",
    "        else:\n",
    "            print('{}: User {}, with similarity of {}'.format(i, indices.flatten()[i]+1, similarities.flatten()[i]))\n",
    "            \n",
    "    return similarities,indices"
   ]
  },
  {
   "cell_type": "code",
   "execution_count": 218,
   "metadata": {},
   "outputs": [
    {
     "name": "stdout",
     "output_type": "stream",
     "text": [
      "\n",
      "5 most similar users for User 1:\n",
      "\n",
      "1: User 566, with similarity of 0.06457054959894326\n",
      "2: User 22, with similarity of 0.06264997188815746\n",
      "3: User 946, with similarity of 0.06139690396656583\n",
      "4: User 653, with similarity of 0.05386502562199447\n",
      "5: User 626, with similarity of 0.049918875315780764\n"
     ]
    }
   ],
   "source": [
    "similarities,indices = findksimilarusers(1,R_df)"
   ]
  },
  {
   "cell_type": "code",
   "execution_count": 219,
   "metadata": {},
   "outputs": [],
   "source": [
    "#This function predicts rating for specified user-item combination based on user-based approach\n",
    "def predict_userbased(user_id, item_id, ratings, similarities, indices,metric=metric, k=k):\n",
    "    prediction=0\n",
    "    mean_rating = ratings.iloc[user_id-1,:].mean() #to adjust for zero based indexing\n",
    "    sum_wt = np.sum(similarities)-1\n",
    "    product=1\n",
    "    wtd_sum = 0 \n",
    "    \n",
    "    for i in range(0, len(indices.flatten())):\n",
    "        if indices.flatten()[i]+1 == user_id:\n",
    "            continue;\n",
    "        else: \n",
    "            ratings_diff = ratings.iloc[indices.flatten()[i],item_id-1]-np.mean(ratings.iloc[indices.flatten()[i],:])\n",
    "            product = ratings_diff * (similarities[i])\n",
    "            wtd_sum = wtd_sum + product\n",
    "    \n",
    "    prediction = int(round(mean_rating + (wtd_sum/sum_wt)))\n",
    "    #print('\\nPredicted rating for user {} -> item {}: {}'.format(user_id,item_id,prediction))\n",
    "\n",
    "    return prediction"
   ]
  },
  {
   "cell_type": "code",
   "execution_count": 220,
   "metadata": {},
   "outputs": [
    {
     "data": {
      "text/plain": [
       "1"
      ]
     },
     "execution_count": 220,
     "metadata": {},
     "output_type": "execute_result"
    }
   ],
   "source": [
    "predict_userbased(1,48169,R_df,similarities,indices)"
   ]
  },
  {
   "cell_type": "code",
   "execution_count": 221,
   "metadata": {},
   "outputs": [],
   "source": [
    "users_list = R_df.index"
   ]
  },
  {
   "cell_type": "code",
   "execution_count": 222,
   "metadata": {},
   "outputs": [],
   "source": [
    "products_list = R_df.columns"
   ]
  },
  {
   "cell_type": "code",
   "execution_count": 223,
   "metadata": {},
   "outputs": [],
   "source": [
    "def recommend_products(user_id, ratings, N):\n",
    "    #Create an empty dataframe to store the predicted ratings\n",
    "    new_ratings = pd.DataFrame(columns=['pid','rating'],)\n",
    "    \n",
    "    #similar users based on cosine similarity\n",
    "    similarities, indices=findksimilarusers(user_id, ratings)\n",
    "    #reversed(range(len(products_list)-1))\n",
    "    for i in reversed(range(len(ratings.columns)-1)):\n",
    "        #print(i)\n",
    "        user_rating = ratings.iloc[user_id-1,i]\n",
    "        # if the user has already rated, ignore that product\n",
    "        if( user_rating != 0.0):\n",
    "            #print(i,user_rating)\n",
    "            continue\n",
    "        else:\n",
    "            prediction = predict_userbased(0,i,ratings,similarities, indices)\n",
    "            #print(i,prediction)\n",
    "            new_ratings = new_ratings.append({'pid':i,'rating':prediction}, ignore_index=True)\n",
    "    \n",
    "    new_ratings_sorted = new_ratings.sort_values(by=['rating'], ascending=False)\n",
    "    recomm = new_ratings_sorted['pid'].iloc[0:N,]\n",
    "    \n",
    "    return recomm.tolist()"
   ]
  },
  {
   "cell_type": "code",
   "execution_count": 224,
   "metadata": {},
   "outputs": [
    {
     "name": "stdout",
     "output_type": "stream",
     "text": [
      "\n",
      "5 most similar users for User 35:\n",
      "\n",
      "1: User 1443, with similarity of 0.05407614313858733\n",
      "2: User 1337, with similarity of 0.05311448965088128\n",
      "3: User 742, with similarity of 0.048246067655226654\n",
      "4: User 461, with similarity of 0.047633939984757845\n",
      "5: User 792, with similarity of 0.04745718450610448\n"
     ]
    }
   ],
   "source": [
    "#Top recommendations\n",
    "x = recommend_products(35, R_df, 10)"
   ]
  },
  {
   "cell_type": "code",
   "execution_count": 225,
   "metadata": {},
   "outputs": [
    {
     "data": {
      "text/plain": [
       "[2417, 26063, 5318, 9775, 22562, 13320, 11810, 16090, 29541, 18806]"
      ]
     },
     "execution_count": 225,
     "metadata": {},
     "output_type": "execute_result"
    }
   ],
   "source": [
    "x"
   ]
  },
  {
   "cell_type": "code",
   "execution_count": 226,
   "metadata": {},
   "outputs": [
    {
     "name": "stdout",
     "output_type": "stream",
     "text": [
      "B00007E7K1\n",
      "B003SQR4R0\n",
      "B0002L9IE6\n",
      "B000I202FI\n",
      "B002W3VLB0\n",
      "B000X0KHZK\n",
      "B000PTFDYO\n",
      "B001C6JA2A\n",
      "B004HRCUEQ\n",
      "B001SVNHIC\n"
     ]
    }
   ],
   "source": [
    "for i in (x):\n",
    "    print(products_list[i])"
   ]
  },
  {
   "cell_type": "code",
   "execution_count": 227,
   "metadata": {},
   "outputs": [],
   "source": [
    "import random"
   ]
  },
  {
   "cell_type": "code",
   "execution_count": 231,
   "metadata": {},
   "outputs": [],
   "source": [
    "#Create a test sample of users for use in calculating precision\n",
    "#and recall\n",
    "def create_user_test_sample(percentage, train_data, test_data):\n",
    "    #Find users common between training and test set\n",
    "    users_test_and_training = [*set(test_data['User_ID'].unique()).intersection(set(train_data['User_ID'].unique())),]\n",
    "    print(\"Length of user_test_and_training:%d\" % len(users_test_and_training))\n",
    "\n",
    "    #Take only random user_sample of users for evaluations\n",
    "    users_test_sample = remove_percentage(users_test_and_training, percentage)\n",
    "\n",
    "    print(\"Length of user sample:%d\" % len(users_test_sample))\n",
    "    return users_test_sample"
   ]
  },
  {
   "cell_type": "code",
   "execution_count": 232,
   "metadata": {},
   "outputs": [],
   "source": [
    "def remove_percentage(list_a, percentage):\n",
    "    k = int(len(list_a) * percentage)\n",
    "    random.seed(0)\n",
    "    indicies = random.sample(range(len(list_a)), k)\n",
    "    new_list = [list_a[i] for i in indicies]\n",
    "    \n",
    "    return new_list"
   ]
  },
  {
   "cell_type": "code",
   "execution_count": 233,
   "metadata": {},
   "outputs": [
    {
     "name": "stdout",
     "output_type": "stream",
     "text": [
      "Length of user_test_and_training:1540\n",
      "Length of user sample:15\n"
     ]
    }
   ],
   "source": [
    "users_test_sample = create_user_test_sample(0.01,ratings_train, ratings_test)"
   ]
  },
  {
   "cell_type": "code",
   "execution_count": 234,
   "metadata": {},
   "outputs": [],
   "source": [
    "pop_training_dict = dict()\n",
    "collab_training_dict = dict()\n",
    "test_dict = dict()"
   ]
  },
  {
   "cell_type": "code",
   "execution_count": 238,
   "metadata": {},
   "outputs": [],
   "source": [
    "#Method to generate recommendations for users in the user test sample\n",
    "def get_test_sample_recommendations_pop(train_data, test_data):\n",
    "\n",
    "    for user_id in users_test_sample:\n",
    "        #Get items for user_id from item similarity model\n",
    "        #print(\"Getting recommendations for user:%s\" % user_id)\n",
    "        user_sim_items = pm.recommend(user_id)\n",
    "        pop_training_dict[user_id] = [*(user_sim_items[\"Product_ID\"]),]\n",
    "    \n",
    "            #Get items for user_id from popularity model\n",
    "            #user_sim_items = self.model1.recommend(user_id)\n",
    "            #self.pm_training_dict[user_id] = list(user_sim_items[\"productId\"])\n",
    "    \n",
    "        #Get items for user_id from test_data\n",
    "        test_data_user = test_data[test_data['User_ID'] == user_id]\n",
    "        test_dict[user_id] = set(test_data_user['Product_ID'].unique() )\n",
    "        \n",
    "    return"
   ]
  },
  {
   "cell_type": "code",
   "execution_count": 239,
   "metadata": {},
   "outputs": [],
   "source": [
    "get_test_sample_recommendations_pop(ratings_train, ratings_test)"
   ]
  },
  {
   "cell_type": "code",
   "execution_count": 240,
   "metadata": {},
   "outputs": [],
   "source": [
    "def calculate_precision_recall(users_test_sample,test_dict,ism_training_dict):\n",
    "    #Create cutoff list for precision and recall calculation\n",
    "    cutoff_list = [*(range(1,11)),]\n",
    "\n",
    "\n",
    "    #For each distinct cutoff:\n",
    "    #    1. For each distinct user, calculate precision and recall.\n",
    "    #    2. Calculate average precision and recall.\n",
    "\n",
    "    ism_avg_precision_list = []\n",
    "    ism_avg_recall_list = []\n",
    "\n",
    "    num_users_sample = len(users_test_sample)\n",
    "    for N in cutoff_list:\n",
    "        ism_sum_precision = 0\n",
    "        ism_sum_recall = 0\n",
    "        ism_avg_precision = 0\n",
    "        ism_avg_recall = 0\n",
    "        \n",
    "        for user_id in users_test_sample:\n",
    "            ism_hitset = set(test_dict[user_id]).intersection(set(ism_training_dict[user_id][0:N]))\n",
    "            #pm_hitset = self.test_dict[user_id].intersection(set(self.pm_training_dict[user_id][0:N]))\n",
    "            testset = test_dict[user_id]\n",
    "        \n",
    "                #pm_sum_precision += float(len(pm_hitset))/float(N)\n",
    "                #pm_sum_recall += float(len(pm_hitset))/float(len(testset))\n",
    "\n",
    "            ism_sum_precision += float(len(ism_hitset))/float(len(testset))\n",
    "            ism_sum_recall += float(len(ism_hitset))/float(N)\n",
    "        \n",
    "        #pm_avg_precision = pm_sum_precision/float(num_users_sample)\n",
    "        #pm_avg_recall = pm_sum_recall/float(num_users_sample)\n",
    "    \n",
    "        ism_avg_precision = ism_sum_precision/float(num_users_sample)\n",
    "        ism_avg_recall = ism_sum_recall/float(num_users_sample)\n",
    "\n",
    "        ism_avg_precision_list.append(ism_avg_precision)\n",
    "        ism_avg_recall_list.append(ism_avg_recall)\n",
    "    \n",
    "        #pm_avg_precision_list.append(pm_avg_precision)\n",
    "        #pm_avg_recall_list.append(pm_avg_recall)\n",
    "            \n",
    "    return (ism_avg_precision_list, ism_avg_recall_list)"
   ]
  },
  {
   "cell_type": "code",
   "execution_count": 241,
   "metadata": {},
   "outputs": [],
   "source": [
    "(m1_avg_precision_list, m1_avg_recall_list) = calculate_precision_recall(users_test_sample,test_dict,pop_training_dict)"
   ]
  },
  {
   "cell_type": "code",
   "execution_count": 242,
   "metadata": {},
   "outputs": [],
   "source": [
    "#Method to generate recommendations for users in the user test sample\n",
    "def get_test_sample_recommendations_collab(train_data, test_data):\n",
    "\n",
    "    for user_id in users_loc_sample:\n",
    "        #Get items for user_id from item similarity model\n",
    "        #print(\"Getting recommendations for user:%s\" % user_id)\n",
    "        user_sim_items = recommend_products(user_id, train_data, 2)\n",
    "        collab_training_dict[user_id] = user_sim_items\n",
    "    \n",
    "            #Get items for user_id from popularity model\n",
    "            #user_sim_items = self.model1.recommend(user_id)\n",
    "            #self.pm_training_dict[user_id] = list(user_sim_items[\"productId\"])\n",
    "    \n",
    "        #Get items for user_id from test_data\n",
    "        test_sim_items = recommend_products(user_id, test_data, 2)\n",
    "        test_dict[user_id] = test_sim_items\n",
    "        \n",
    "    return"
   ]
  },
  {
   "cell_type": "code",
   "execution_count": 244,
   "metadata": {},
   "outputs": [],
   "source": [
    "#Evaluate Collab model\n",
    "# Create Training pivot\n",
    "Train_pivot = ratings_train.pivot_table(index = 'User_ID', columns ='Product_ID', values = 'ratings').fillna(0)\n",
    "\n",
    "# Create Test pivot\n",
    "Test_pivot = ratings_test.pivot_table(index = 'User_ID', columns ='Product_ID', values = 'ratings').fillna(0)"
   ]
  },
  {
   "cell_type": "code",
   "execution_count": 245,
   "metadata": {},
   "outputs": [],
   "source": [
    "users_loc_sample = [users_list.get_loc(user) for user in users_test_sample]"
   ]
  },
  {
   "cell_type": "code",
   "execution_count": 246,
   "metadata": {},
   "outputs": [
    {
     "data": {
      "text/plain": [
       "[340,\n",
       " 525,\n",
       " 521,\n",
       " 1182,\n",
       " 961,\n",
       " 1166,\n",
       " 203,\n",
       " 1513,\n",
       " 353,\n",
       " 673,\n",
       " 722,\n",
       " 1039,\n",
       " 623,\n",
       " 1270,\n",
       " 1473]"
      ]
     },
     "execution_count": 246,
     "metadata": {},
     "output_type": "execute_result"
    }
   ],
   "source": [
    "users_loc_sample"
   ]
  },
  {
   "cell_type": "code",
   "execution_count": 247,
   "metadata": {},
   "outputs": [
    {
     "name": "stdout",
     "output_type": "stream",
     "text": [
      "\n",
      "5 most similar users for User 340:\n",
      "\n",
      "1: User 63, with similarity of 0.050659698580844514\n",
      "2: User 814, with similarity of 0.04685528280512108\n",
      "3: User 1320, with similarity of 0.04682424210991776\n",
      "4: User 148, with similarity of 0.0382776644162216\n",
      "5: User 98, with similarity of 0.03640131817390613\n",
      "\n",
      "5 most similar users for User 340:\n",
      "\n",
      "1: User 1106, with similarity of 0.09942027346733995\n",
      "2: User 1232, with similarity of 0.09935649472360097\n",
      "3: User 1537, with similarity of 0.09380081567280452\n",
      "4: User 679, with similarity of 0.09073802836951872\n",
      "5: User 1484, with similarity of 0.07629691883103829\n",
      "\n",
      "5 most similar users for User 525:\n",
      "\n",
      "1: User 247, with similarity of 0.04060012438687377\n",
      "2: User 659, with similarity of 0.03432299210308698\n",
      "3: User 815, with similarity of 0.0323548978858933\n",
      "4: User 438, with similarity of 0.028962622347258327\n",
      "5: User 578, with similarity of 0.02490252321155839\n",
      "\n",
      "5 most similar users for User 525:\n",
      "\n",
      "1: User 209, with similarity of -0.000531787729815214\n",
      "2: User 133, with similarity of -0.0005510613314458901\n",
      "3: User 1176, with similarity of -0.0005598034623237602\n",
      "4: User 1539, with similarity of -0.0005695724005383429\n",
      "5: User 347, with similarity of -0.0006041089070352168\n",
      "\n",
      "5 most similar users for User 521:\n",
      "\n",
      "1: User 1246, with similarity of 0.04828508916945984\n",
      "2: User 228, with similarity of 0.04761334012364071\n",
      "3: User 631, with similarity of 0.04686035755196105\n",
      "4: User 1079, with similarity of 0.045083696924880456\n",
      "5: User 794, with similarity of 0.04444851221373469\n",
      "\n",
      "5 most similar users for User 521:\n",
      "\n",
      "1: User 887, with similarity of 0.07614793110508744\n",
      "2: User 852, with similarity of 0.07216648868564413\n",
      "3: User 186, with similarity of 0.06989405059263432\n",
      "4: User 494, with similarity of 0.06852076825443876\n",
      "5: User 1292, with similarity of 0.06164954089165908\n",
      "\n",
      "5 most similar users for User 1182:\n",
      "\n",
      "1: User 1436, with similarity of 0.08673411557530541\n",
      "2: User 1458, with similarity of 0.06970816789188328\n",
      "3: User 1480, with similarity of 0.06692925207924894\n",
      "4: User 1456, with similarity of 0.06547076517195272\n",
      "5: User 11, with similarity of 0.06306036055785569\n",
      "\n",
      "5 most similar users for User 1182:\n",
      "\n",
      "1: User 639, with similarity of 0.12015576725153854\n",
      "2: User 1125, with similarity of 0.08892301657180735\n",
      "3: User 1177, with similarity of 0.0802854627465337\n",
      "4: User 903, with similarity of 0.07864225901889621\n",
      "5: User 68, with similarity of 0.07583699538294231\n",
      "\n",
      "5 most similar users for User 961:\n",
      "\n",
      "1: User 1260, with similarity of 0.05463732742476568\n",
      "2: User 1209, with similarity of 0.0438947109970067\n",
      "3: User 1336, with similarity of 0.04387214088350344\n",
      "4: User 911, with similarity of 0.04138320710055943\n",
      "5: User 1060, with similarity of 0.03563328454093084\n",
      "\n",
      "5 most similar users for User 961:\n",
      "\n",
      "1: User 628, with similarity of 0.08735025885286218\n",
      "2: User 833, with similarity of 0.08068469074561158\n",
      "3: User 94, with similarity of 0.07408489305753463\n",
      "4: User 1479, with similarity of 0.07270830689362573\n",
      "5: User 684, with similarity of 0.06152496266403762\n",
      "\n",
      "5 most similar users for User 1166:\n",
      "\n",
      "1: User 266, with similarity of 0.0528664327159194\n",
      "2: User 1517, with similarity of 0.052482002758102886\n",
      "3: User 353, with similarity of 0.0516676188764712\n",
      "4: User 1218, with similarity of 0.05113255757987778\n",
      "5: User 779, with similarity of 0.04778752382122686\n",
      "\n",
      "5 most similar users for User 1166:\n",
      "\n",
      "1: User 1377, with similarity of 0.08060534871914049\n",
      "2: User 374, with similarity of 0.06885994026840803\n",
      "3: User 1237, with similarity of 0.06883667718506181\n",
      "4: User 526, with similarity of 0.05862171637951452\n",
      "5: User 1134, with similarity of 0.058046622690886784\n",
      "\n",
      "5 most similar users for User 203:\n",
      "\n",
      "1: User 141, with similarity of 0.09882477414249491\n",
      "2: User 962, with similarity of 0.09647435975070606\n",
      "3: User 623, with similarity of 0.09229556777178805\n",
      "4: User 562, with similarity of 0.09026672478293996\n",
      "5: User 3, with similarity of 0.0902223618564264\n",
      "\n",
      "5 most similar users for User 203:\n",
      "\n",
      "1: User 1137, with similarity of 0.0868527153976264\n",
      "2: User 997, with similarity of 0.0736720403804354\n",
      "3: User 1388, with similarity of 0.07026356560866542\n",
      "4: User 992, with similarity of 0.06868568414045806\n",
      "5: User 659, with similarity of 0.06225809777642244\n",
      "\n",
      "5 most similar users for User 1513:\n",
      "\n",
      "1: User 1429, with similarity of 0.08965094980372801\n",
      "2: User 1343, with similarity of 0.07310739604094196\n",
      "3: User 277, with similarity of 0.07053385726118311\n",
      "4: User 199, with similarity of 0.06782120506599332\n",
      "5: User 1516, with similarity of 0.06721997488096498\n",
      "\n",
      "5 most similar users for User 1513:\n",
      "\n",
      "1: User 339, with similarity of 0.08013494733883897\n",
      "2: User 809, with similarity of 0.07422231031712334\n",
      "3: User 1422, with similarity of 0.07399499248503072\n",
      "4: User 769, with similarity of 0.07107032701262861\n",
      "5: User 741, with similarity of 0.06891367450834007\n",
      "\n",
      "5 most similar users for User 353:\n",
      "\n",
      "1: User 1017, with similarity of 0.061329389692708514\n",
      "2: User 776, with similarity of 0.058682755049816016\n",
      "3: User 338, with similarity of 0.057780685825680855\n",
      "4: User 1030, with similarity of 0.057288998627914145\n",
      "5: User 1308, with similarity of 0.05685321337313953\n",
      "\n",
      "5 most similar users for User 353:\n",
      "\n",
      "1: User 1202, with similarity of 0.08824715990792487\n",
      "2: User 1138, with similarity of 0.08049077869464494\n",
      "3: User 1313, with similarity of 0.06787918316269359\n",
      "4: User 377, with similarity of 0.0614015991284268\n",
      "5: User 1262, with similarity of 0.04625548727402473\n",
      "\n",
      "5 most similar users for User 673:\n",
      "\n",
      "1: User 364, with similarity of 0.06186346151627309\n",
      "2: User 805, with similarity of 0.05601540448996656\n",
      "3: User 694, with similarity of 0.05529157832626985\n",
      "4: User 632, with similarity of 0.05122704162673841\n",
      "5: User 1263, with similarity of 0.04773974670060921\n",
      "\n",
      "5 most similar users for User 673:\n",
      "\n",
      "1: User 357, with similarity of 0.05792236005812035\n",
      "2: User 1518, with similarity of 0.056716468955561705\n",
      "3: User 596, with similarity of 0.05461790093740615\n",
      "4: User 872, with similarity of 0.03934905057372107\n",
      "5: User 1046, with similarity of 0.03517605655771838\n",
      "\n",
      "5 most similar users for User 722:\n",
      "\n",
      "1: User 1248, with similarity of 0.08960538692578213\n",
      "2: User 574, with similarity of 0.052970516771656984\n",
      "3: User 653, with similarity of 0.051648502151653175\n",
      "4: User 546, with similarity of 0.03576299125874638\n",
      "5: User 1498, with similarity of 0.03471331037351555\n",
      "\n",
      "5 most similar users for User 722:\n",
      "\n",
      "1: User 853, with similarity of 0.10166554064972488\n",
      "2: User 1075, with similarity of 0.07277010765540781\n",
      "3: User 281, with similarity of 0.06688556532263568\n",
      "4: User 725, with similarity of 0.05950168670809253\n",
      "5: User 290, with similarity of 0.059243112350577665\n",
      "\n",
      "5 most similar users for User 1039:\n",
      "\n",
      "1: User 1086, with similarity of 0.09588879068716749\n",
      "2: User 614, with similarity of 0.08476537632997405\n",
      "3: User 1122, with similarity of 0.07704335022824571\n",
      "4: User 92, with similarity of 0.07298125590575688\n",
      "5: User 1522, with similarity of 0.06785254416343234\n",
      "\n",
      "5 most similar users for User 1039:\n",
      "\n",
      "1: User 708, with similarity of 0.09755852834600276\n",
      "2: User 192, with similarity of 0.09699786821963663\n",
      "3: User 524, with similarity of 0.09113702188596373\n",
      "4: User 242, with similarity of 0.08660284366059912\n",
      "5: User 212, with similarity of 0.08137744193980656\n",
      "\n",
      "5 most similar users for User 623:\n",
      "\n",
      "1: User 1029, with similarity of 0.17288194934725198\n",
      "2: User 910, with similarity of 0.11556979536560408\n",
      "3: User 1399, with similarity of 0.10983829509004972\n",
      "4: User 370, with similarity of 0.10782804901539156\n",
      "5: User 58, with similarity of 0.10558137591963435\n",
      "\n",
      "5 most similar users for User 623:\n",
      "\n",
      "1: User 1267, with similarity of 0.09153251274032015\n",
      "2: User 323, with similarity of 0.07636516600587562\n",
      "3: User 479, with similarity of 0.07369841918160547\n",
      "4: User 1002, with similarity of 0.0730376404866242\n",
      "5: User 483, with similarity of 0.06695264174703974\n",
      "\n",
      "5 most similar users for User 1270:\n",
      "\n",
      "1: User 361, with similarity of 0.046079680567272074\n",
      "2: User 41, with similarity of 0.03878689495561993\n",
      "3: User 430, with similarity of 0.038071934308685496\n",
      "4: User 1131, with similarity of 0.03773575857930611\n",
      "5: User 786, with similarity of 0.036939336006932444\n",
      "\n",
      "5 most similar users for User 1270:\n",
      "\n",
      "1: User 853, with similarity of 0.0801147027807364\n",
      "2: User 426, with similarity of 0.06354559783055902\n",
      "3: User 488, with similarity of 0.06197484028991773\n",
      "4: User 476, with similarity of 0.0604704027193651\n",
      "5: User 29, with similarity of 0.055855665799042775\n"
     ]
    },
    {
     "name": "stdout",
     "output_type": "stream",
     "text": [
      "\n",
      "5 most similar users for User 1473:\n",
      "\n",
      "1: User 6, with similarity of 0.0928780059166101\n",
      "2: User 536, with similarity of 0.08510918848840832\n",
      "3: User 1432, with similarity of 0.07915284675150092\n",
      "4: User 1096, with similarity of 0.07269910436142646\n",
      "5: User 203, with similarity of 0.0704002271476507\n",
      "\n",
      "5 most similar users for User 1473:\n",
      "\n",
      "1: User 159, with similarity of 0.1067419276969368\n",
      "2: User 1128, with similarity of 0.08943746311201117\n",
      "3: User 1307, with similarity of 0.08749397259296754\n",
      "4: User 969, with similarity of 0.07833037255440867\n",
      "5: User 562, with similarity of 0.07825504584138854\n"
     ]
    }
   ],
   "source": [
    "k = 10\n",
    "get_test_sample_recommendations_collab(Train_pivot,Test_pivot)"
   ]
  },
  {
   "cell_type": "code",
   "execution_count": 248,
   "metadata": {},
   "outputs": [],
   "source": [
    "(m2_avg_precision_list, m2_avg_recall_list) = calculate_precision_recall(users_loc_sample,test_dict,collab_training_dict)"
   ]
  },
  {
   "cell_type": "code",
   "execution_count": 253,
   "metadata": {},
   "outputs": [],
   "source": [
    "import pylab as pl\n",
    "\n",
    "#Method to generate precision and recall curve\n",
    "def plot_precision_recall(m1_precision_list, m1_recall_list, m1_label, m2_precision_list, m2_recall_list, m2_label):\n",
    "    pl.clf()    \n",
    "    pl.plot(m1_recall_list, m1_precision_list, label=m1_label)\n",
    "    pl.plot(m2_recall_list, m2_precision_list, label=m2_label)\n",
    "    pl.xlabel('Recall')\n",
    "    pl.ylabel('Precision')\n",
    "    pl.ylim([0.0, 0.2])\n",
    "    pl.xlim([0.0, 0.2])\n",
    "    pl.title('Precision-Recall curve')\n",
    "    #pl.legend(loc=\"upper right\")\n",
    "    pl.legend(loc=9, bbox_to_anchor=(0.5, -0.2))\n",
    "    pl.show()"
   ]
  },
  {
   "cell_type": "code",
   "execution_count": 250,
   "metadata": {},
   "outputs": [
    {
     "name": "stdout",
     "output_type": "stream",
     "text": [
      "\n",
      "5 most similar users for User 573:\n",
      "\n",
      "1: User 1337, with similarity of 0.0565569315931973\n",
      "2: User 1510, with similarity of 0.05172300443255273\n",
      "3: User 1366, with similarity of 0.04291022478805395\n",
      "4: User 566, with similarity of 0.042150486584146996\n",
      "5: User 702, with similarity of 0.04136556032795624\n"
     ]
    }
   ],
   "source": [
    "top_5 = recommend_products(573, R_df, 5)"
   ]
  },
  {
   "cell_type": "code",
   "execution_count": 251,
   "metadata": {},
   "outputs": [
    {
     "name": "stdout",
     "output_type": "stream",
     "text": [
      "B002WE9T2W\n",
      "B008JLJCA6\n",
      "B001QUDIE8\n",
      "B005YXD4I8\n",
      "B00007E7L4\n"
     ]
    }
   ],
   "source": [
    "for p in top_5:\n",
    "    print(products_list[p])"
   ]
  },
  {
   "cell_type": "code",
   "execution_count": 252,
   "metadata": {},
   "outputs": [],
   "source": [
    "#Whatever model we choose, we are getting standard recommendations which does not sound \n",
    "#very good but we are saving on computation power"
   ]
  },
  {
   "cell_type": "code",
   "execution_count": null,
   "metadata": {},
   "outputs": [],
   "source": []
  },
  {
   "cell_type": "code",
   "execution_count": null,
   "metadata": {},
   "outputs": [],
   "source": []
  }
 ],
 "metadata": {
  "kernelspec": {
   "display_name": "Python 3",
   "language": "python",
   "name": "python3"
  },
  "language_info": {
   "codemirror_mode": {
    "name": "ipython",
    "version": 3
   },
   "file_extension": ".py",
   "mimetype": "text/x-python",
   "name": "python",
   "nbconvert_exporter": "python",
   "pygments_lexer": "ipython3",
   "version": "3.7.0"
  }
 },
 "nbformat": 4,
 "nbformat_minor": 2
}
